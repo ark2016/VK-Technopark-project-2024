{
 "cells": [
  {
   "cell_type": "markdown",
   "metadata": {},
   "source": [
    "#### Фишки по работе с кодом в формате строки"
   ]
  },
  {
   "cell_type": "markdown",
   "metadata": {},
   "source": [
    "Здесь рассматриваются инструменты по различным представлениям кода. Так, например, в исходной статье модели [UniXCoder](https://arxiv.org/pdf/2203.03850), специализированной на нескольких задачах по обработке кодовых последовательностей, описывается подход подачи комментария к коду и представления кода в формате AST (+ prefix токен в начале, характерирзующий Encoder/Decoder в зависимости от типа downstream задачи). \n",
    "\n",
    "*INPUT* = Prefix (task token) + Comment + Flatten AST\n",
    "\n",
    "В статьте отмечается преимущество подобного подхода в сравнении с базовыми подходами в codeBERT (с точки зрения метрик).\n",
    "\n",
    "Поэтому есть смысл подавать в сеть различные представления кода, чтобы модель смогла лучше выучивать не только семантические, но и структурные закономерности токенов, что важно при понимании текста кода. \n",
    "\n",
    "Поэтому рассмотрение подобных инструментов может быть полезным с точки зрения подготовки данных к обучению."
   ]
  },
  {
   "cell_type": "markdown",
   "metadata": {},
   "source": [
    "#### AST-tree"
   ]
  },
  {
   "cell_type": "markdown",
   "metadata": {},
   "source": [
    "*Абстрактное синтаксическое дерево (AST, Abstract Syntax Tree)* — это структура данных, которая представляет исходный код программы в виде дерева. Узлы дерева соответствуют конструкциям языка, таким как выражения, операторы, объявления переменных и т. д."
   ]
  },
  {
   "cell_type": "markdown",
   "metadata": {},
   "source": [
    "Пример для Python:"
   ]
  },
  {
   "cell_type": "code",
   "execution_count": 1,
   "metadata": {},
   "outputs": [
    {
     "name": "stdout",
     "output_type": "stream",
     "text": [
      "Module(\n",
      "    body=[\n",
      "        Assign(\n",
      "            targets=[\n",
      "                Name(id='x', ctx=Store())],\n",
      "            value=Constant(value=10)),\n",
      "        Assign(\n",
      "            targets=[\n",
      "                Name(id='y', ctx=Store())],\n",
      "            value=Constant(value=20)),\n",
      "        Assign(\n",
      "            targets=[\n",
      "                Name(id='z', ctx=Store())],\n",
      "            value=BinOp(\n",
      "                left=Name(id='x', ctx=Load()),\n",
      "                op=Add(),\n",
      "                right=Name(id='y', ctx=Load())))],\n",
      "    type_ignores=[])\n"
     ]
    }
   ],
   "source": [
    "import ast\n",
    "\n",
    "# Исходный код\n",
    "source_code = \"\"\"\n",
    "x = 10\n",
    "y = 20\n",
    "z = x + y\n",
    "\"\"\"\n",
    "\n",
    "# Парсим код в AST\n",
    "tree = ast.parse(source_code)\n",
    "\n",
    "# Выводим дерево\n",
    "print(ast.dump(tree, indent=4))\n"
   ]
  },
  {
   "cell_type": "markdown",
   "metadata": {},
   "source": [
    "Для C++ (сгенерировано с помощью chatGPT):"
   ]
  },
  {
   "cell_type": "markdown",
   "metadata": {},
   "source": [
    "```bash\n",
    "clang -Xclang -ast-dump -fsyntax-only code.cpp\n",
    "```\n",
    "```cpp\n",
    "int main() {\n",
    "    int x = 10;\n",
    "    int y = x + 5;\n",
    "    return y;\n",
    "}\n",
    "```\n",
    "```css\n",
    "TranslationUnitDecl\n",
    "|-FunctionDecl main\n",
    "    |-CompoundStmt\n",
    "        |-DeclStmt\n",
    "            |-VarDecl x\n",
    "        |-DeclStmt\n",
    "            |-VarDecl y\n",
    "        |-ReturnStmt\n",
    "```"
   ]
  },
  {
   "cell_type": "markdown",
   "metadata": {},
   "source": [
    "Для JavaScript и других языков аналогично есть подобные инструменты, позволяющие проводить анализ AST дерева для кода."
   ]
  },
  {
   "cell_type": "markdown",
   "metadata": {},
   "source": [
    "Рассмотрим элементы python-библиотек для анализа подобного кода:\n",
    "\n",
    "*Java*, например"
   ]
  },
  {
   "cell_type": "code",
   "execution_count": 10,
   "metadata": {},
   "outputs": [
    {
     "name": "stdout",
     "output_type": "stream",
     "text": [
      "CompilationUnit(imports=[], package=None, types=[ClassDeclaration(annotations=[], body=[MethodDeclaration(annotations=[], body=[LocalVariableDeclaration(annotations=[], declarators=[VariableDeclarator(dimensions=[], initializer=Literal(postfix_operators=[], prefix_operators=[], qualifier=None, selectors=[], value=10), name=x)], modifiers=set(), type=BasicType(dimensions=[], name=int))], documentation=None, modifiers={'public', 'static'}, name=main, parameters=[FormalParameter(annotations=[], modifiers=set(), name=args, type=ReferenceType(arguments=None, dimensions=[None], name=String, sub_type=None), varargs=False)], return_type=None, throws=None, type_parameters=None)], documentation=None, extends=None, implements=None, modifiers=set(), name=Example, type_parameters=None)])\n"
     ]
    }
   ],
   "source": [
    "import javalang\n",
    "\n",
    "# Пример Java-кода\n",
    "code = \"\"\"\n",
    "class Example {\n",
    "    public static void main(String[] args) {\n",
    "        int x = 10;\n",
    "    }\n",
    "}\n",
    "\"\"\"\n",
    "tree = javalang.parse.parse(code)\n",
    "print(tree)\n"
   ]
  },
  {
   "cell_type": "markdown",
   "metadata": {},
   "source": [
    "Встроенные python-методы есть не для всех ЯП, однако для имеющихся датасетов на Python и Java продемонстрированные библиотеки могут быть полезны для начального датасета и решения задачи.\n",
    "\n",
    "При наличии дополнительных датасетов (например, при наличии кода на C++) можно использовать встроенные методы рассматриваемых языков."
   ]
  },
  {
   "cell_type": "markdown",
   "metadata": {},
   "source": [
    "#### Универсальные парсер Tree-sitter"
   ]
  },
  {
   "cell_type": "markdown",
   "metadata": {},
   "source": [
    "*Tree-sitter* — это современный парсер для анализа синтаксических деревьев исходного кода. Он поддерживает множество языков программирования и позволяет работать с кодом на уровне структурированных синтаксических элементов. Tree-sitter быстро генерирует абстрактное синтаксическое дерево (AST) и предоставляет API для работы с ним."
   ]
  },
  {
   "cell_type": "markdown",
   "metadata": {},
   "source": [
    "Для Python:"
   ]
  },
  {
   "cell_type": "code",
   "execution_count": null,
   "metadata": {},
   "outputs": [
    {
     "name": "stdout",
     "output_type": "stream",
     "text": [
      "module [Point(row=0, column=0) - Point(row=0, column=24)]\n",
      "  function_definition [Point(row=0, column=0) - Point(row=0, column=24)]\n",
      "    def [Point(row=0, column=0) - Point(row=0, column=3)]\n",
      "    identifier [Point(row=0, column=4) - Point(row=0, column=7)]\n",
      "    parameters [Point(row=0, column=7) - Point(row=0, column=9)]\n",
      "      ( [Point(row=0, column=7) - Point(row=0, column=8)]\n",
      "      ) [Point(row=0, column=8) - Point(row=0, column=9)]\n",
      "    : [Point(row=0, column=9) - Point(row=0, column=10)]\n",
      "    ERROR [Point(row=0, column=11) - Point(row=0, column=13)]\n",
      "      identifier [Point(row=0, column=11) - Point(row=0, column=13)]\n",
      "    block [Point(row=0, column=14) - Point(row=0, column=24)]\n",
      "      expression_statement [Point(row=0, column=14) - Point(row=0, column=24)]\n",
      "        assignment [Point(row=0, column=14) - Point(row=0, column=24)]\n",
      "          identifier [Point(row=0, column=14) - Point(row=0, column=17)]\n",
      "          : [Point(row=0, column=17) - Point(row=0, column=18)]\n",
      "          type [Point(row=0, column=19) - Point(row=0, column=24)]\n",
      "            call [Point(row=0, column=19) - Point(row=0, column=24)]\n",
      "              identifier [Point(row=0, column=19) - Point(row=0, column=22)]\n",
      "              argument_list [Point(row=0, column=22) - Point(row=0, column=24)]\n",
      "                ( [Point(row=0, column=22) - Point(row=0, column=23)]\n",
      "                ) [Point(row=0, column=23) - Point(row=0, column=24)]\n"
     ]
    }
   ],
   "source": [
    "import tree_sitter_python as tspython\n",
    "from tree_sitter import Language, Parser\n",
    "\n",
    "PY_LANGUAGE = Language(tspython.language())\n",
    "parser = Parser(PY_LANGUAGE)\n",
    "\n",
    "tree = parser.parse(bytes(\"\"\"def foo():\tif bar:\tbaz()\"\"\", \"utf8\"))\n",
    "\n",
    "def traverse_tree(node, depth=0):\n",
    "    print(\"  \" * depth + f\"{node.type} [{node.start_point} - {node.end_point}]\")\n",
    "    for child in node.children:\n",
    "        traverse_tree(child, depth + 1)\n",
    "        \n",
    "traverse_tree(tree.root_node)"
   ]
  },
  {
   "cell_type": "markdown",
   "metadata": {},
   "source": [
    "Для C++ и других языков смотреть непостредственно внутри соответствующих им модулей"
   ]
  },
  {
   "cell_type": "markdown",
   "metadata": {},
   "source": [
    "#### FlowСhart для отображения структуры кода"
   ]
  },
  {
   "cell_type": "code",
   "execution_count": 4,
   "metadata": {},
   "outputs": [
    {
     "name": "stdout",
     "output_type": "stream",
     "text": [
      "st3=>start: start example\n",
      "io5=>inputoutput: input: x\n",
      "cond9=>condition: if (x > 0)\n",
      "sub13=>subroutine: print('Positive')\n",
      "sub20=>subroutine: print('Done')\n",
      "e22=>end: end example\n",
      "sub17=>subroutine: print('Non-positive')\n",
      "\n",
      "st3->io5\n",
      "io5->cond9\n",
      "cond9(yes)->sub13\n",
      "sub13->sub20\n",
      "sub20->e22\n",
      "cond9(no)->sub17\n",
      "sub17->sub20\n",
      "\n"
     ]
    }
   ],
   "source": [
    "from pyflowchart import Flowchart\n",
    "\n",
    "# Исходный код\n",
    "code = \"\"\"\n",
    "def example(x):\n",
    "    if x > 0:\n",
    "        print(\"Positive\")\n",
    "    else:\n",
    "        print(\"Non-positive\")\n",
    "    print(\"Done\")\n",
    "\"\"\"\n",
    "\n",
    "# Генерация блок-схемы\n",
    "fc = Flowchart.from_code(code)\n",
    "print(fc.flowchart())  # Вывод блок-схемы в формате flowchart.js\n"
   ]
  },
  {
   "cell_type": "markdown",
   "metadata": {},
   "source": [
    "Генерирует данные в формате .js, в целом интересная задумка, но есть проблемы с поддержкой на других языках программирования"
   ]
  },
  {
   "cell_type": "markdown",
   "metadata": {},
   "source": [
    "#### Резюме"
   ]
  },
  {
   "cell_type": "markdown",
   "metadata": {},
   "source": [
    "* Существуют методы разнообразного форматирования кода перед подачей в языковую модель, в том числе в виде python-библиотек и с поддержкой разных языков программирования\n",
    "\n",
    "* Требует более тщательного анализа и подбора архитектур в связи с разными форматами данных"
   ]
  },
  {
   "cell_type": "code",
   "execution_count": null,
   "metadata": {},
   "outputs": [],
   "source": []
  }
 ],
 "metadata": {
  "kernelspec": {
   "display_name": "Python 3",
   "language": "python",
   "name": "python3"
  },
  "language_info": {
   "codemirror_mode": {
    "name": "ipython",
    "version": 3
   },
   "file_extension": ".py",
   "mimetype": "text/x-python",
   "name": "python",
   "nbconvert_exporter": "python",
   "pygments_lexer": "ipython3",
   "version": "3.12.3"
  }
 },
 "nbformat": 4,
 "nbformat_minor": 2
}
