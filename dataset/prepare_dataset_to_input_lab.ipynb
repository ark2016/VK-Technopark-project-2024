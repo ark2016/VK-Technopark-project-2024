{
 "cells": [
  {
   "cell_type": "markdown",
   "metadata": {},
   "source": [
    "#### Подготовка датасета к input формату"
   ]
  },
  {
   "cell_type": "code",
   "execution_count": 54,
   "metadata": {},
   "outputs": [],
   "source": [
    "import warnings\n",
    "warnings.filterwarnings(\"ignore\")\n",
    "import re"
   ]
  },
  {
   "cell_type": "markdown",
   "metadata": {},
   "source": [
    "Импортируем написанный класс"
   ]
  },
  {
   "cell_type": "code",
   "execution_count": 55,
   "metadata": {},
   "outputs": [],
   "source": [
    "from create_dataset_m2t import input_json_path, Code2TestPrepareDataset"
   ]
  },
  {
   "cell_type": "markdown",
   "metadata": {},
   "source": [
    "Вызываем его инициализацию"
   ]
  },
  {
   "cell_type": "code",
   "execution_count": 56,
   "metadata": {},
   "outputs": [
    {
     "name": "stdout",
     "output_type": "stream",
     "text": [
      "Время инициализации датасета: 11.648 секунды\n"
     ]
    }
   ],
   "source": [
    "dataset_m2t = Code2TestPrepareDataset(input_json_path)"
   ]
  },
  {
   "cell_type": "markdown",
   "metadata": {},
   "source": [
    "Готовим датасет"
   ]
  },
  {
   "cell_type": "code",
   "execution_count": 57,
   "metadata": {},
   "outputs": [
    {
     "name": "stderr",
     "output_type": "stream",
     "text": [
      "100%|██████████| 281060/281060 [00:06<00:00, 46051.65it/s]\n"
     ]
    },
    {
     "name": "stdout",
     "output_type": "stream",
     "text": [
      "Время проверки формата запросов: 6.105 секунды\n"
     ]
    },
    {
     "name": "stderr",
     "output_type": "stream",
     "text": [
      "100%|██████████| 281060/281060 [00:05<00:00, 52776.93it/s]\n",
      "100%|██████████| 281060/281060 [00:00<00:00, 3961139.91it/s]\n",
      "100%|██████████| 281060/281060 [00:00<00:00, 3186471.55it/s]\n",
      "100%|██████████| 281060/281060 [00:00<00:00, 3087889.13it/s]\n",
      "100%|██████████| 281060/281060 [00:00<00:00, 3775343.74it/s]\n"
     ]
    },
    {
     "name": "stdout",
     "output_type": "stream",
     "text": [
      "Время извлечения глобальных признаков из текста кода: 5.675 секунды\n"
     ]
    },
    {
     "name": "stderr",
     "output_type": "stream",
     "text": [
      "100%|██████████| 281060/281060 [00:01<00:00, 208210.81it/s]\n",
      "100%|██████████| 281060/281060 [00:01<00:00, 208389.43it/s]\n",
      "100%|██████████| 281060/281060 [00:02<00:00, 109284.22it/s]\n",
      "100%|██████████| 281060/281060 [00:02<00:00, 111749.30it/s]\n",
      "100%|██████████| 281060/281060 [00:00<00:00, 365370.38it/s]\n",
      "100%|██████████| 281060/281060 [00:00<00:00, 369962.73it/s]\n"
     ]
    },
    {
     "name": "stdout",
     "output_type": "stream",
     "text": [
      "Время извлечения комментариев и описаний из текста кода: 9.335 секунды\n"
     ]
    },
    {
     "name": "stderr",
     "output_type": "stream",
     "text": [
      "100%|██████████| 281060/281060 [00:03<00:00, 84476.36it/s]\n",
      "100%|██████████| 281060/281060 [00:06<00:00, 40274.29it/s]\n",
      "100%|██████████| 281060/281060 [00:01<00:00, 155756.69it/s]\n",
      "100%|██████████| 281060/281060 [00:05<00:00, 48869.05it/s]\n"
     ]
    },
    {
     "name": "stdout",
     "output_type": "stream",
     "text": [
      "Время очистки текста кода: 17.924 секунды\n"
     ]
    },
    {
     "name": "stderr",
     "output_type": "stream",
     "text": [
      "100%|██████████| 281060/281060 [00:36<00:00, 7744.97it/s] \n",
      "100%|██████████| 281060/281060 [01:15<00:00, 3742.84it/s]\n",
      "100%|██████████| 281060/281060 [00:02<00:00, 116298.94it/s]"
     ]
    },
    {
     "name": "stdout",
     "output_type": "stream",
     "text": [
      "Время получения ast-деревьев на основе текста кода: 114.643 секунды\n",
      "Время подготовки датасета: 153.683 секунды\n"
     ]
    },
    {
     "name": "stderr",
     "output_type": "stream",
     "text": [
      "\n"
     ]
    }
   ],
   "source": [
    "dataset_m2t.prepare_dataset()"
   ]
  },
  {
   "cell_type": "markdown",
   "metadata": {},
   "source": [
    "Полученный датасет:"
   ]
  },
  {
   "cell_type": "code",
   "execution_count": 198,
   "metadata": {},
   "outputs": [],
   "source": [
    "dataset = dataset_m2t.get_dataset()"
   ]
  },
  {
   "cell_type": "code",
   "execution_count": 127,
   "metadata": {},
   "outputs": [
    {
     "data": {
      "text/html": [
       "<div>\n",
       "<style scoped>\n",
       "    .dataframe tbody tr th:only-of-type {\n",
       "        vertical-align: middle;\n",
       "    }\n",
       "\n",
       "    .dataframe tbody tr th {\n",
       "        vertical-align: top;\n",
       "    }\n",
       "\n",
       "    .dataframe thead th {\n",
       "        text-align: right;\n",
       "    }\n",
       "</style>\n",
       "<table border=\"1\" class=\"dataframe\">\n",
       "  <thead>\n",
       "    <tr style=\"text-align: right;\">\n",
       "      <th></th>\n",
       "      <th>id</th>\n",
       "      <th>query</th>\n",
       "      <th>response</th>\n",
       "      <th>code_features</th>\n",
       "      <th>LANG_TOKEN</th>\n",
       "      <th>focal_method</th>\n",
       "      <th>focal_cls</th>\n",
       "      <th>callee</th>\n",
       "      <th>focal_method_docs</th>\n",
       "      <th>focal_method_comments</th>\n",
       "      <th>focal_cls_docs</th>\n",
       "      <th>focal_cls_comments</th>\n",
       "      <th>callee_docs</th>\n",
       "      <th>callee_comments</th>\n",
       "      <th>focal_method_ast</th>\n",
       "      <th>focal_cls_ast</th>\n",
       "      <th>callee_ast</th>\n",
       "    </tr>\n",
       "  </thead>\n",
       "  <tbody>\n",
       "    <tr>\n",
       "      <th>0</th>\n",
       "      <td>1</td>\n",
       "      <td>You are a professional python software enginee...</td>\n",
       "      <td>from microdot import Microdot, Response, abort...</td>\n",
       "      <td>(python, ```python\\ndef get(self, key, default...</td>\n",
       "      <td>python</td>\n",
       "      <td>def get(self, key, default=None):\\n        kl ...</td>\n",
       "      <td>\\nclass NoCaseDict(dict):\\n    def get(self, k...</td>\n",
       "      <td>No callee examples provided.</td>\n",
       "      <td></td>\n",
       "      <td></td>\n",
       "      <td></td>\n",
       "      <td></td>\n",
       "      <td></td>\n",
       "      <td></td>\n",
       "      <td>Module(\\n    body=[\\n        FunctionDef(\\n   ...</td>\n",
       "      <td>Module(\\n    body=[\\n        ClassDef(\\n      ...</td>\n",
       "      <td>AST_TOKEN</td>\n",
       "    </tr>\n",
       "    <tr>\n",
       "      <th>1</th>\n",
       "      <td>2</td>\n",
       "      <td>You are a professional python software enginee...</td>\n",
       "      <td>from microdot import Microdot, Response, abort...</td>\n",
       "      <td>(python, ```python\\ndef get(self, url_pattern)...</td>\n",
       "      <td>python</td>\n",
       "      <td>def get(self, url_pattern):\\n        \"\"\"Decora...</td>\n",
       "      <td>\\nclass Microdot:\\n    def route(self, url_pat...</td>\n",
       "      <td>No callee examples provided.</td>\n",
       "      <td>Decorator that is used to register a function ...</td>\n",
       "      <td># ...</td>\n",
       "      <td>Decorator that is used to register a function ...</td>\n",
       "      <td># ...</td>\n",
       "      <td></td>\n",
       "      <td></td>\n",
       "      <td>Module(\\n    body=[\\n        FunctionDef(\\n   ...</td>\n",
       "      <td>Module(\\n    body=[\\n        ClassDef(\\n      ...</td>\n",
       "      <td>AST_TOKEN</td>\n",
       "    </tr>\n",
       "    <tr>\n",
       "      <th>2</th>\n",
       "      <td>3</td>\n",
       "      <td>You are a professional python software enginee...</td>\n",
       "      <td>from microdot import Microdot, Response, abort...</td>\n",
       "      <td>(python, ```python\\ndef post(self, url_pattern...</td>\n",
       "      <td>python</td>\n",
       "      <td>def post(self, url_pattern):\\n        \"\"\"Decor...</td>\n",
       "      <td>\\nclass Microdot:\\n    def route(self, url_pat...</td>\n",
       "      <td>No callee examples provided.</td>\n",
       "      <td>Decorator that is used to register a function ...</td>\n",
       "      <td># ...</td>\n",
       "      <td>Decorator that is used to register a function ...</td>\n",
       "      <td># ...</td>\n",
       "      <td></td>\n",
       "      <td></td>\n",
       "      <td>Module(\\n    body=[\\n        FunctionDef(\\n   ...</td>\n",
       "      <td>Module(\\n    body=[\\n        ClassDef(\\n      ...</td>\n",
       "      <td>AST_TOKEN</td>\n",
       "    </tr>\n",
       "    <tr>\n",
       "      <th>3</th>\n",
       "      <td>4</td>\n",
       "      <td>You are a professional python software enginee...</td>\n",
       "      <td>from microdot import Microdot, Response, abort...</td>\n",
       "      <td>(python, ```python\\ndef mount(self, subapp, ur...</td>\n",
       "      <td>python</td>\n",
       "      <td>def mount(self, subapp, url_prefix=''):\\n     ...</td>\n",
       "      <td>\\nclass Microdot:\\n    def mount(self, subapp,...</td>\n",
       "      <td>No callee examples provided.</td>\n",
       "      <td>Mount a sub-application, optionally under the ...</td>\n",
       "      <td></td>\n",
       "      <td>Mount a sub-application, optionally under the ...</td>\n",
       "      <td></td>\n",
       "      <td></td>\n",
       "      <td></td>\n",
       "      <td>Module(\\n    body=[\\n        FunctionDef(\\n   ...</td>\n",
       "      <td>Module(\\n    body=[\\n        ClassDef(\\n      ...</td>\n",
       "      <td>AST_TOKEN</td>\n",
       "    </tr>\n",
       "    <tr>\n",
       "      <th>4</th>\n",
       "      <td>5</td>\n",
       "      <td>You are a professional python software enginee...</td>\n",
       "      <td>from pyner.named_entity.corpus import bio2bioe...</td>\n",
       "      <td>(python, ```python\\ndef iob2bio(tags):\\n    pr...</td>\n",
       "      <td>python</td>\n",
       "      <td>def iob2bio(tags):\\n    processed_tags = []  #...</td>\n",
       "      <td>\\ndef split_tag(tag: str):\\n    \"\"\"\\n    Split...</td>\n",
       "      <td>No callee examples provided.</td>\n",
       "      <td></td>\n",
       "      <td># should be bio format\\n# case1. I-ORG I-ORG\\n...</td>\n",
       "      <td>\\n    Split tag into state and named entity ca...</td>\n",
       "      <td># should be bio format\\n# case1. I-ORG I-ORG\\n...</td>\n",
       "      <td></td>\n",
       "      <td></td>\n",
       "      <td>Module(\\n    body=[\\n        FunctionDef(\\n   ...</td>\n",
       "      <td>Module(\\n    body=[\\n        FunctionDef(\\n   ...</td>\n",
       "      <td>AST_TOKEN</td>\n",
       "    </tr>\n",
       "  </tbody>\n",
       "</table>\n",
       "</div>"
      ],
      "text/plain": [
       "   id                                              query  \\\n",
       "0   1  You are a professional python software enginee...   \n",
       "1   2  You are a professional python software enginee...   \n",
       "2   3  You are a professional python software enginee...   \n",
       "3   4  You are a professional python software enginee...   \n",
       "4   5  You are a professional python software enginee...   \n",
       "\n",
       "                                            response  \\\n",
       "0  from microdot import Microdot, Response, abort...   \n",
       "1  from microdot import Microdot, Response, abort...   \n",
       "2  from microdot import Microdot, Response, abort...   \n",
       "3  from microdot import Microdot, Response, abort...   \n",
       "4  from pyner.named_entity.corpus import bio2bioe...   \n",
       "\n",
       "                                       code_features LANG_TOKEN  \\\n",
       "0  (python, ```python\\ndef get(self, key, default...     python   \n",
       "1  (python, ```python\\ndef get(self, url_pattern)...     python   \n",
       "2  (python, ```python\\ndef post(self, url_pattern...     python   \n",
       "3  (python, ```python\\ndef mount(self, subapp, ur...     python   \n",
       "4  (python, ```python\\ndef iob2bio(tags):\\n    pr...     python   \n",
       "\n",
       "                                        focal_method  \\\n",
       "0  def get(self, key, default=None):\\n        kl ...   \n",
       "1  def get(self, url_pattern):\\n        \"\"\"Decora...   \n",
       "2  def post(self, url_pattern):\\n        \"\"\"Decor...   \n",
       "3  def mount(self, subapp, url_prefix=''):\\n     ...   \n",
       "4  def iob2bio(tags):\\n    processed_tags = []  #...   \n",
       "\n",
       "                                           focal_cls  \\\n",
       "0  \\nclass NoCaseDict(dict):\\n    def get(self, k...   \n",
       "1  \\nclass Microdot:\\n    def route(self, url_pat...   \n",
       "2  \\nclass Microdot:\\n    def route(self, url_pat...   \n",
       "3  \\nclass Microdot:\\n    def mount(self, subapp,...   \n",
       "4  \\ndef split_tag(tag: str):\\n    \"\"\"\\n    Split...   \n",
       "\n",
       "                         callee  \\\n",
       "0  No callee examples provided.   \n",
       "1  No callee examples provided.   \n",
       "2  No callee examples provided.   \n",
       "3  No callee examples provided.   \n",
       "4  No callee examples provided.   \n",
       "\n",
       "                                   focal_method_docs  \\\n",
       "0                                                      \n",
       "1  Decorator that is used to register a function ...   \n",
       "2  Decorator that is used to register a function ...   \n",
       "3  Mount a sub-application, optionally under the ...   \n",
       "4                                                      \n",
       "\n",
       "                               focal_method_comments  \\\n",
       "0                                                      \n",
       "1                                              # ...   \n",
       "2                                              # ...   \n",
       "3                                                      \n",
       "4  # should be bio format\\n# case1. I-ORG I-ORG\\n...   \n",
       "\n",
       "                                      focal_cls_docs  \\\n",
       "0                                                      \n",
       "1  Decorator that is used to register a function ...   \n",
       "2  Decorator that is used to register a function ...   \n",
       "3  Mount a sub-application, optionally under the ...   \n",
       "4  \\n    Split tag into state and named entity ca...   \n",
       "\n",
       "                                  focal_cls_comments callee_docs  \\\n",
       "0                                                                  \n",
       "1                                              # ...               \n",
       "2                                              # ...               \n",
       "3                                                                  \n",
       "4  # should be bio format\\n# case1. I-ORG I-ORG\\n...               \n",
       "\n",
       "  callee_comments                                   focal_method_ast  \\\n",
       "0                  Module(\\n    body=[\\n        FunctionDef(\\n   ...   \n",
       "1                  Module(\\n    body=[\\n        FunctionDef(\\n   ...   \n",
       "2                  Module(\\n    body=[\\n        FunctionDef(\\n   ...   \n",
       "3                  Module(\\n    body=[\\n        FunctionDef(\\n   ...   \n",
       "4                  Module(\\n    body=[\\n        FunctionDef(\\n   ...   \n",
       "\n",
       "                                       focal_cls_ast callee_ast  \n",
       "0  Module(\\n    body=[\\n        ClassDef(\\n      ...  AST_TOKEN  \n",
       "1  Module(\\n    body=[\\n        ClassDef(\\n      ...  AST_TOKEN  \n",
       "2  Module(\\n    body=[\\n        ClassDef(\\n      ...  AST_TOKEN  \n",
       "3  Module(\\n    body=[\\n        ClassDef(\\n      ...  AST_TOKEN  \n",
       "4  Module(\\n    body=[\\n        FunctionDef(\\n   ...  AST_TOKEN  "
      ]
     },
     "execution_count": 127,
     "metadata": {},
     "output_type": "execute_result"
    }
   ],
   "source": [
    "dataset.head()"
   ]
  },
  {
   "cell_type": "markdown",
   "metadata": {},
   "source": [
    "Исследуем количество calee, для которых не существует примеров вызовов функции"
   ]
  },
  {
   "cell_type": "code",
   "execution_count": 128,
   "metadata": {},
   "outputs": [
    {
     "name": "stdout",
     "output_type": "stream",
     "text": [
      "Количество callee без вызовов: 255967\n",
      "Количество пар всего: 281060\n",
      "Доля отсутсвия экземпляров вызовов: 0.911\n"
     ]
    }
   ],
   "source": [
    "print(f\"Количество callee без вызовов: {len(dataset[dataset['callee'] == 'No callee examples provided.'])}\")\n",
    "print(f\"Количество пар всего: {dataset.shape[0]}\")\n",
    "print(f\"Доля отсутсвия экземпляров вызовов: {len(dataset[dataset['callee'] == 'No callee examples provided.']) / dataset.shape[0]:.3f}\")"
   ]
  },
  {
   "cell_type": "markdown",
   "metadata": {},
   "source": [
    "Заметим, что почти 92% всех сэмплов не имеют в своем составе примеров вызова. \n",
    "\n",
    "Отсюда есть смысл выдвинуть следующий подход: необходимо включить имеющиеся примеры в состав каких-либо колонок или попросту убрать данную колонку. Вероятно, подобное смещение выборки засчет добавления дополнительной (что более важно, присущей небольшой части данных) информации может запутать модель. Поэтому на текцщем этапе решено отбросить данную колонку и поработать с остальными для генерации input формата данных"
   ]
  },
  {
   "cell_type": "markdown",
   "metadata": {},
   "source": [
    "Исследуем \"непустые\" значения в колонке callee:"
   ]
  },
  {
   "cell_type": "code",
   "execution_count": 129,
   "metadata": {},
   "outputs": [],
   "source": [
    "dataset = dataset.drop(columns=['callee', 'callee_docs', 'callee_comments', 'callee_ast'])"
   ]
  },
  {
   "cell_type": "markdown",
   "metadata": {},
   "source": [
    "Обновленный формат датасета:"
   ]
  },
  {
   "cell_type": "code",
   "execution_count": 130,
   "metadata": {},
   "outputs": [
    {
     "data": {
      "text/html": [
       "<div>\n",
       "<style scoped>\n",
       "    .dataframe tbody tr th:only-of-type {\n",
       "        vertical-align: middle;\n",
       "    }\n",
       "\n",
       "    .dataframe tbody tr th {\n",
       "        vertical-align: top;\n",
       "    }\n",
       "\n",
       "    .dataframe thead th {\n",
       "        text-align: right;\n",
       "    }\n",
       "</style>\n",
       "<table border=\"1\" class=\"dataframe\">\n",
       "  <thead>\n",
       "    <tr style=\"text-align: right;\">\n",
       "      <th></th>\n",
       "      <th>id</th>\n",
       "      <th>query</th>\n",
       "      <th>response</th>\n",
       "      <th>code_features</th>\n",
       "      <th>LANG_TOKEN</th>\n",
       "      <th>focal_method</th>\n",
       "      <th>focal_cls</th>\n",
       "      <th>focal_method_docs</th>\n",
       "      <th>focal_method_comments</th>\n",
       "      <th>focal_cls_docs</th>\n",
       "      <th>focal_cls_comments</th>\n",
       "      <th>focal_method_ast</th>\n",
       "      <th>focal_cls_ast</th>\n",
       "    </tr>\n",
       "  </thead>\n",
       "  <tbody>\n",
       "    <tr>\n",
       "      <th>0</th>\n",
       "      <td>1</td>\n",
       "      <td>You are a professional python software enginee...</td>\n",
       "      <td>from microdot import Microdot, Response, abort...</td>\n",
       "      <td>(python, ```python\\ndef get(self, key, default...</td>\n",
       "      <td>python</td>\n",
       "      <td>def get(self, key, default=None):\\n        kl ...</td>\n",
       "      <td>\\nclass NoCaseDict(dict):\\n    def get(self, k...</td>\n",
       "      <td></td>\n",
       "      <td></td>\n",
       "      <td></td>\n",
       "      <td></td>\n",
       "      <td>Module(\\n    body=[\\n        FunctionDef(\\n   ...</td>\n",
       "      <td>Module(\\n    body=[\\n        ClassDef(\\n      ...</td>\n",
       "    </tr>\n",
       "    <tr>\n",
       "      <th>1</th>\n",
       "      <td>2</td>\n",
       "      <td>You are a professional python software enginee...</td>\n",
       "      <td>from microdot import Microdot, Response, abort...</td>\n",
       "      <td>(python, ```python\\ndef get(self, url_pattern)...</td>\n",
       "      <td>python</td>\n",
       "      <td>def get(self, url_pattern):\\n        \"\"\"Decora...</td>\n",
       "      <td>\\nclass Microdot:\\n    def route(self, url_pat...</td>\n",
       "      <td>Decorator that is used to register a function ...</td>\n",
       "      <td># ...</td>\n",
       "      <td>Decorator that is used to register a function ...</td>\n",
       "      <td># ...</td>\n",
       "      <td>Module(\\n    body=[\\n        FunctionDef(\\n   ...</td>\n",
       "      <td>Module(\\n    body=[\\n        ClassDef(\\n      ...</td>\n",
       "    </tr>\n",
       "    <tr>\n",
       "      <th>2</th>\n",
       "      <td>3</td>\n",
       "      <td>You are a professional python software enginee...</td>\n",
       "      <td>from microdot import Microdot, Response, abort...</td>\n",
       "      <td>(python, ```python\\ndef post(self, url_pattern...</td>\n",
       "      <td>python</td>\n",
       "      <td>def post(self, url_pattern):\\n        \"\"\"Decor...</td>\n",
       "      <td>\\nclass Microdot:\\n    def route(self, url_pat...</td>\n",
       "      <td>Decorator that is used to register a function ...</td>\n",
       "      <td># ...</td>\n",
       "      <td>Decorator that is used to register a function ...</td>\n",
       "      <td># ...</td>\n",
       "      <td>Module(\\n    body=[\\n        FunctionDef(\\n   ...</td>\n",
       "      <td>Module(\\n    body=[\\n        ClassDef(\\n      ...</td>\n",
       "    </tr>\n",
       "    <tr>\n",
       "      <th>3</th>\n",
       "      <td>4</td>\n",
       "      <td>You are a professional python software enginee...</td>\n",
       "      <td>from microdot import Microdot, Response, abort...</td>\n",
       "      <td>(python, ```python\\ndef mount(self, subapp, ur...</td>\n",
       "      <td>python</td>\n",
       "      <td>def mount(self, subapp, url_prefix=''):\\n     ...</td>\n",
       "      <td>\\nclass Microdot:\\n    def mount(self, subapp,...</td>\n",
       "      <td>Mount a sub-application, optionally under the ...</td>\n",
       "      <td></td>\n",
       "      <td>Mount a sub-application, optionally under the ...</td>\n",
       "      <td></td>\n",
       "      <td>Module(\\n    body=[\\n        FunctionDef(\\n   ...</td>\n",
       "      <td>Module(\\n    body=[\\n        ClassDef(\\n      ...</td>\n",
       "    </tr>\n",
       "    <tr>\n",
       "      <th>4</th>\n",
       "      <td>5</td>\n",
       "      <td>You are a professional python software enginee...</td>\n",
       "      <td>from pyner.named_entity.corpus import bio2bioe...</td>\n",
       "      <td>(python, ```python\\ndef iob2bio(tags):\\n    pr...</td>\n",
       "      <td>python</td>\n",
       "      <td>def iob2bio(tags):\\n    processed_tags = []  #...</td>\n",
       "      <td>\\ndef split_tag(tag: str):\\n    \"\"\"\\n    Split...</td>\n",
       "      <td></td>\n",
       "      <td># should be bio format\\n# case1. I-ORG I-ORG\\n...</td>\n",
       "      <td>\\n    Split tag into state and named entity ca...</td>\n",
       "      <td># should be bio format\\n# case1. I-ORG I-ORG\\n...</td>\n",
       "      <td>Module(\\n    body=[\\n        FunctionDef(\\n   ...</td>\n",
       "      <td>Module(\\n    body=[\\n        FunctionDef(\\n   ...</td>\n",
       "    </tr>\n",
       "  </tbody>\n",
       "</table>\n",
       "</div>"
      ],
      "text/plain": [
       "   id                                              query  \\\n",
       "0   1  You are a professional python software enginee...   \n",
       "1   2  You are a professional python software enginee...   \n",
       "2   3  You are a professional python software enginee...   \n",
       "3   4  You are a professional python software enginee...   \n",
       "4   5  You are a professional python software enginee...   \n",
       "\n",
       "                                            response  \\\n",
       "0  from microdot import Microdot, Response, abort...   \n",
       "1  from microdot import Microdot, Response, abort...   \n",
       "2  from microdot import Microdot, Response, abort...   \n",
       "3  from microdot import Microdot, Response, abort...   \n",
       "4  from pyner.named_entity.corpus import bio2bioe...   \n",
       "\n",
       "                                       code_features LANG_TOKEN  \\\n",
       "0  (python, ```python\\ndef get(self, key, default...     python   \n",
       "1  (python, ```python\\ndef get(self, url_pattern)...     python   \n",
       "2  (python, ```python\\ndef post(self, url_pattern...     python   \n",
       "3  (python, ```python\\ndef mount(self, subapp, ur...     python   \n",
       "4  (python, ```python\\ndef iob2bio(tags):\\n    pr...     python   \n",
       "\n",
       "                                        focal_method  \\\n",
       "0  def get(self, key, default=None):\\n        kl ...   \n",
       "1  def get(self, url_pattern):\\n        \"\"\"Decora...   \n",
       "2  def post(self, url_pattern):\\n        \"\"\"Decor...   \n",
       "3  def mount(self, subapp, url_prefix=''):\\n     ...   \n",
       "4  def iob2bio(tags):\\n    processed_tags = []  #...   \n",
       "\n",
       "                                           focal_cls  \\\n",
       "0  \\nclass NoCaseDict(dict):\\n    def get(self, k...   \n",
       "1  \\nclass Microdot:\\n    def route(self, url_pat...   \n",
       "2  \\nclass Microdot:\\n    def route(self, url_pat...   \n",
       "3  \\nclass Microdot:\\n    def mount(self, subapp,...   \n",
       "4  \\ndef split_tag(tag: str):\\n    \"\"\"\\n    Split...   \n",
       "\n",
       "                                   focal_method_docs  \\\n",
       "0                                                      \n",
       "1  Decorator that is used to register a function ...   \n",
       "2  Decorator that is used to register a function ...   \n",
       "3  Mount a sub-application, optionally under the ...   \n",
       "4                                                      \n",
       "\n",
       "                               focal_method_comments  \\\n",
       "0                                                      \n",
       "1                                              # ...   \n",
       "2                                              # ...   \n",
       "3                                                      \n",
       "4  # should be bio format\\n# case1. I-ORG I-ORG\\n...   \n",
       "\n",
       "                                      focal_cls_docs  \\\n",
       "0                                                      \n",
       "1  Decorator that is used to register a function ...   \n",
       "2  Decorator that is used to register a function ...   \n",
       "3  Mount a sub-application, optionally under the ...   \n",
       "4  \\n    Split tag into state and named entity ca...   \n",
       "\n",
       "                                  focal_cls_comments  \\\n",
       "0                                                      \n",
       "1                                              # ...   \n",
       "2                                              # ...   \n",
       "3                                                      \n",
       "4  # should be bio format\\n# case1. I-ORG I-ORG\\n...   \n",
       "\n",
       "                                    focal_method_ast  \\\n",
       "0  Module(\\n    body=[\\n        FunctionDef(\\n   ...   \n",
       "1  Module(\\n    body=[\\n        FunctionDef(\\n   ...   \n",
       "2  Module(\\n    body=[\\n        FunctionDef(\\n   ...   \n",
       "3  Module(\\n    body=[\\n        FunctionDef(\\n   ...   \n",
       "4  Module(\\n    body=[\\n        FunctionDef(\\n   ...   \n",
       "\n",
       "                                       focal_cls_ast  \n",
       "0  Module(\\n    body=[\\n        ClassDef(\\n      ...  \n",
       "1  Module(\\n    body=[\\n        ClassDef(\\n      ...  \n",
       "2  Module(\\n    body=[\\n        ClassDef(\\n      ...  \n",
       "3  Module(\\n    body=[\\n        ClassDef(\\n      ...  \n",
       "4  Module(\\n    body=[\\n        FunctionDef(\\n   ...  "
      ]
     },
     "execution_count": 130,
     "metadata": {},
     "output_type": "execute_result"
    }
   ],
   "source": [
    "dataset.head()"
   ]
  },
  {
   "cell_type": "markdown",
   "metadata": {},
   "source": [
    "Далее исследуем наличие описаний и комментариев в рамках *focal_method*"
   ]
  },
  {
   "cell_type": "code",
   "execution_count": 131,
   "metadata": {},
   "outputs": [
    {
     "name": "stdout",
     "output_type": "stream",
     "text": [
      "Количество пустых строк в комментариях для focal_method: 206473\n",
      "Количество пустых строк в описаниях для focal_method: 92364\n",
      "Доля пустых строк в комментариях для focal_method: 0.735\n",
      "Доля пустых строк в описаниях для focal_method: 0.329\n"
     ]
    }
   ],
   "source": [
    "print(f\"Количество пустых строк в комментариях для focal_method: {len(dataset[dataset['focal_method_comments'] == ''])}\")\n",
    "print(f\"Количество пустых строк в описаниях для focal_method: {len(dataset[dataset['focal_method_docs'] == ''])}\")\n",
    "print(f\"Доля пустых строк в комментариях для focal_method: {len(dataset[dataset['focal_method_comments'] == ''])/dataset.shape[0]:.3f}\")\n",
    "print(f\"Доля пустых строк в описаниях для focal_method: {len(dataset[dataset['focal_method_docs'] == ''])/dataset.shape[0]:.3f}\")"
   ]
  },
  {
   "cell_type": "markdown",
   "metadata": {},
   "source": [
    "Доли не такие значительные для focal_method. Следовательно, необходимо объединить информацию об описаниях и комментариях, например, создав общий комментарий к коду на естественном языке, позволив модели обрабатывать и кодовую, и дополнительную, представленную на языке человека информацию (пусть, на английском языке). Имеющиеся пустые предстваления заменим на <MASK> токен (в какой-то степени регуляризация модели)"
   ]
  },
  {
   "cell_type": "code",
   "execution_count": 132,
   "metadata": {},
   "outputs": [
    {
     "name": "stdout",
     "output_type": "stream",
     "text": [
      "def get(self, url_pattern):\n",
      "        \"\"\"Decorator that is used to register a function as a ``GET`` request\n",
      "        handler for a given URL.\n",
      "\n",
      "        :param url_pattern: The URL pattern that will be compared against\n",
      "                            incoming requests.\n",
      "\n",
      "        This decorator can be used as an alias to the ``route`` decorator with\n",
      "        ``methods=['GET']``.\n",
      "\n",
      "        Example::\n",
      "\n",
      "            @app.get('/users/<int:id>')\n",
      "            def get_user(request, id):\n",
      "                # ...\n",
      "        \"\"\"\n",
      "        return self.route(url_pattern, methods=['GET'])\n",
      "\n"
     ]
    }
   ],
   "source": [
    "print(dataset['focal_method'].values[1])"
   ]
  },
  {
   "cell_type": "markdown",
   "metadata": {},
   "source": [
    "Из текста кода необходимо убрать все описания и комментарии"
   ]
  },
  {
   "cell_type": "code",
   "execution_count": 133,
   "metadata": {},
   "outputs": [
    {
     "name": "stderr",
     "output_type": "stream",
     "text": [
      "100%|██████████| 281060/281060 [00:01<00:00, 162363.59it/s]\n",
      "100%|██████████| 281060/281060 [00:00<00:00, 396408.10it/s]\n",
      "100%|██████████| 281060/281060 [00:00<00:00, 470404.12it/s]\n",
      "100%|██████████| 281060/281060 [00:00<00:00, 354765.31it/s]\n",
      "100%|██████████| 281060/281060 [00:02<00:00, 109307.73it/s]\n",
      "100%|██████████| 281060/281060 [00:00<00:00, 360333.90it/s]\n"
     ]
    }
   ],
   "source": [
    "def remove_docs(row, col_name, docs_col_name):\n",
    "    '''Функция удаления описания из указанной колонки'''\n",
    "    return row[col_name].replace(row[docs_col_name], '')\n",
    "\n",
    "def remove_three_quotes(row, col_name):\n",
    "    '''Функция удаления \"\"\"\"\"\" из указанной колонки'''\n",
    "    return row[col_name].replace('\"\"\"\"\"\"', '')\n",
    "\n",
    "def remove_three_quotes_v2(row, col_name):\n",
    "    '''Функция удаления \"\"\"\"\"\" из указанной колонки'''\n",
    "    return row[col_name].replace('''''''', '')\n",
    "\n",
    "def drop_ln(row, col_name):\n",
    "    '''Функция удаления \\n из указанной колонки'''\n",
    "    return row[col_name].replace('\\n', '')\n",
    "\n",
    "def drop_large_spaces(row, col_name):\n",
    "    '''Функция удаления длинных пробелов (\\t) из указанной колонки'''\n",
    "    cleaned_string = re.sub(r'\\s+', ' ', row[col_name])\n",
    "    return cleaned_string\n",
    "\n",
    "def remove_comment(row, col_name, comments_col_name):\n",
    "    '''Функция удаления комментариев из указанной колонки'''\n",
    "    return row[col_name].replace(row[comments_col_name], '')\n",
    "\n",
    "# Пример использования функций для колонки 'focal_method'\n",
    "dataset['focal_method'] = dataset.progress_apply(remove_docs, axis=1, args=('focal_method', 'focal_method_docs'))\n",
    "dataset['focal_method'] = dataset.progress_apply(remove_three_quotes, axis=1, args=('focal_method',))\n",
    "dataset['focal_method'] = dataset.progress_apply(remove_three_quotes_v2, axis=1, args=('focal_method',))\n",
    "dataset['focal_method'] = dataset.progress_apply(drop_ln, axis=1, args=('focal_method',))\n",
    "dataset['focal_method'] = dataset.progress_apply(drop_large_spaces, axis=1, args=('focal_method',))\n",
    "dataset['focal_method'] = dataset.progress_apply(remove_comment, axis=1, args=('focal_method', 'focal_method_comments'))"
   ]
  },
  {
   "cell_type": "code",
   "execution_count": 134,
   "metadata": {},
   "outputs": [
    {
     "name": "stdout",
     "output_type": "stream",
     "text": [
      "def get(self, url_pattern): return self.route(url_pattern, methods=['GET'])\n"
     ]
    }
   ],
   "source": [
    "print(dataset['focal_method'].values[1])"
   ]
  },
  {
   "cell_type": "markdown",
   "metadata": {},
   "source": [
    "Далее работаем над получением общего вида описаний и комментариев для *focal_method*"
   ]
  },
  {
   "cell_type": "code",
   "execution_count": 135,
   "metadata": {},
   "outputs": [
    {
     "name": "stderr",
     "output_type": "stream",
     "text": [
      "100%|██████████| 281060/281060 [00:01<00:00, 181071.32it/s]\n",
      "100%|██████████| 281060/281060 [00:00<00:00, 466557.78it/s]\n",
      "100%|██████████| 281060/281060 [00:01<00:00, 228621.94it/s]\n",
      "100%|██████████| 281060/281060 [00:01<00:00, 160254.44it/s]\n",
      "100%|██████████| 281060/281060 [00:00<00:00, 441543.88it/s]\n"
     ]
    }
   ],
   "source": [
    "def drop_hashtag_symbol(row, col_name):\n",
    "    '''Функция отбрасывает символ # для указанной колонки'''\n",
    "    return row[col_name].replace('#', '')\n",
    "\n",
    "def remove_non_language_symbols(row, col_name):\n",
    "    '''Функция удаления неалфавитных символов из указанной колонки'''\n",
    "    return re.sub(r'[^a-zA-Z0-9\\s]', '', row[col_name])\n",
    "\n",
    "def strip_text(row, col_name):\n",
    "    '''Функция удаления пробелов в начале и в конце строки для указанной колонки'''\n",
    "    return row[col_name].strip()\n",
    "\n",
    "# Пример использования функций для колонки 'focal_method_comments'\n",
    "dataset['focal_method_comments'] = dataset.progress_apply(drop_hashtag_symbol, axis=1, args=('focal_method_comments',))\n",
    "dataset['focal_method_comments'] = dataset.progress_apply(drop_ln, axis=1, args=('focal_method_comments',))\n",
    "dataset['focal_method_comments'] = dataset.progress_apply(drop_large_spaces, axis=1, args=('focal_method_comments',))\n",
    "dataset['focal_method_comments'] = dataset.progress_apply(remove_non_language_symbols, axis=1, args=('focal_method_comments',))\n",
    "dataset['focal_method_comments'] = dataset.progress_apply(strip_text, axis=1, args=('focal_method_comments',))\n"
   ]
  },
  {
   "cell_type": "markdown",
   "metadata": {},
   "source": [
    "Теперь мы можем создать общее представление естественного языка для нашей функции из focal_method"
   ]
  },
  {
   "cell_type": "code",
   "execution_count": 136,
   "metadata": {},
   "outputs": [
    {
     "name": "stderr",
     "output_type": "stream",
     "text": [
      "100%|██████████| 281060/281060 [00:01<00:00, 191043.43it/s]\n",
      "100%|██████████| 281060/281060 [00:01<00:00, 162746.62it/s]\n",
      "100%|██████████| 281060/281060 [00:00<00:00, 363234.62it/s]\n"
     ]
    }
   ],
   "source": [
    "def create_NL_code_representation(row, desc_col, comm_col):\n",
    "    '''Функция создания описания'''\n",
    "    result = \"DESCRIPTION_TOKEN: {} COMMENTS_TOKEN: {}\".format(row[desc_col], row[comm_col])\n",
    "    return result\n",
    "\n",
    "def replace_empty_info(row, info_col):\n",
    "    '''Функция для определения пустого описания'''\n",
    "    return row[info_col].replace(\"DESCRIPTION_TOKEN:  COMMENTS_TOKEN: \", \"INFO_TOKEN\")\n",
    "\n",
    "def replace_INFO_TOKEN_non_empty(row, info_col):\n",
    "    '''Функция замены INFO_TOKEN при условии не равенства строки INFO_TOKEN'''\n",
    "    if row[info_col] == 'INFO_TOKEN':\n",
    "        return 'INFO_TOKEN'\n",
    "    return row[info_col].replace('INFO_TOKEN', 'DESCRIPTION_TOKEN: ')\n",
    "\n",
    "# Пример использования функций для колонки 'focal_method_info'\n",
    "dataset['focal_method_info'] = dataset.progress_apply(\n",
    "    create_NL_code_representation, axis=1, args=('focal_method_docs', 'focal_method_comments')\n",
    ")\n",
    "dataset['focal_method_info'] = dataset.progress_apply(\n",
    "    replace_empty_info, axis=1, args=('focal_method_info',)\n",
    ")\n",
    "dataset['focal_method_info'] = dataset.progress_apply(\n",
    "    replace_INFO_TOKEN_non_empty, axis=1, args=('focal_method_info',)\n",
    ")"
   ]
  },
  {
   "cell_type": "code",
   "execution_count": 137,
   "metadata": {},
   "outputs": [
    {
     "name": "stderr",
     "output_type": "stream",
     "text": [
      "100%|██████████| 281060/281060 [00:00<00:00, 327593.40it/s]\n"
     ]
    }
   ],
   "source": [
    "dataset['focal_method_info'] = dataset.progress_apply(drop_ln, axis=1, args=('focal_method_info',))"
   ]
  },
  {
   "cell_type": "code",
   "execution_count": 138,
   "metadata": {},
   "outputs": [
    {
     "name": "stderr",
     "output_type": "stream",
     "text": [
      "100%|██████████| 281060/281060 [00:03<00:00, 71108.38it/s] \n"
     ]
    }
   ],
   "source": [
    "dataset['focal_method_info'] = dataset.progress_apply(drop_large_spaces, axis=1, args=('focal_method_info',))"
   ]
  },
  {
   "cell_type": "code",
   "execution_count": 141,
   "metadata": {},
   "outputs": [
    {
     "data": {
      "text/plain": [
       "'INFO_TOKEN'"
      ]
     },
     "execution_count": 141,
     "metadata": {},
     "output_type": "execute_result"
    }
   ],
   "source": [
    "dataset['focal_method_info'].values[0]"
   ]
  },
  {
   "cell_type": "code",
   "execution_count": 142,
   "metadata": {},
   "outputs": [
    {
     "data": {
      "text/html": [
       "<div>\n",
       "<style scoped>\n",
       "    .dataframe tbody tr th:only-of-type {\n",
       "        vertical-align: middle;\n",
       "    }\n",
       "\n",
       "    .dataframe tbody tr th {\n",
       "        vertical-align: top;\n",
       "    }\n",
       "\n",
       "    .dataframe thead th {\n",
       "        text-align: right;\n",
       "    }\n",
       "</style>\n",
       "<table border=\"1\" class=\"dataframe\">\n",
       "  <thead>\n",
       "    <tr style=\"text-align: right;\">\n",
       "      <th></th>\n",
       "      <th>id</th>\n",
       "      <th>query</th>\n",
       "      <th>response</th>\n",
       "      <th>code_features</th>\n",
       "      <th>LANG_TOKEN</th>\n",
       "      <th>focal_method</th>\n",
       "      <th>focal_cls</th>\n",
       "      <th>focal_method_docs</th>\n",
       "      <th>focal_method_comments</th>\n",
       "      <th>focal_cls_docs</th>\n",
       "      <th>focal_cls_comments</th>\n",
       "      <th>focal_method_ast</th>\n",
       "      <th>focal_cls_ast</th>\n",
       "      <th>focal_method_info</th>\n",
       "    </tr>\n",
       "  </thead>\n",
       "  <tbody>\n",
       "    <tr>\n",
       "      <th>0</th>\n",
       "      <td>1</td>\n",
       "      <td>You are a professional python software enginee...</td>\n",
       "      <td>from microdot import Microdot, Response, abort...</td>\n",
       "      <td>(python, ```python\\ndef get(self, key, default...</td>\n",
       "      <td>python</td>\n",
       "      <td>def get(self, key, default=None): kl = key.low...</td>\n",
       "      <td>\\nclass NoCaseDict(dict):\\n    def get(self, k...</td>\n",
       "      <td></td>\n",
       "      <td></td>\n",
       "      <td></td>\n",
       "      <td></td>\n",
       "      <td>Module(\\n    body=[\\n        FunctionDef(\\n   ...</td>\n",
       "      <td>Module(\\n    body=[\\n        ClassDef(\\n      ...</td>\n",
       "      <td>INFO_TOKEN</td>\n",
       "    </tr>\n",
       "    <tr>\n",
       "      <th>1</th>\n",
       "      <td>2</td>\n",
       "      <td>You are a professional python software enginee...</td>\n",
       "      <td>from microdot import Microdot, Response, abort...</td>\n",
       "      <td>(python, ```python\\ndef get(self, url_pattern)...</td>\n",
       "      <td>python</td>\n",
       "      <td>def get(self, url_pattern): return self.route(...</td>\n",
       "      <td>\\nclass Microdot:\\n    def route(self, url_pat...</td>\n",
       "      <td>Decorator that is used to register a function ...</td>\n",
       "      <td></td>\n",
       "      <td>Decorator that is used to register a function ...</td>\n",
       "      <td># ...</td>\n",
       "      <td>Module(\\n    body=[\\n        FunctionDef(\\n   ...</td>\n",
       "      <td>Module(\\n    body=[\\n        ClassDef(\\n      ...</td>\n",
       "      <td>DESCRIPTION_TOKEN: Decorator that is used to r...</td>\n",
       "    </tr>\n",
       "    <tr>\n",
       "      <th>2</th>\n",
       "      <td>3</td>\n",
       "      <td>You are a professional python software enginee...</td>\n",
       "      <td>from microdot import Microdot, Response, abort...</td>\n",
       "      <td>(python, ```python\\ndef post(self, url_pattern...</td>\n",
       "      <td>python</td>\n",
       "      <td>def post(self, url_pattern): return self.route...</td>\n",
       "      <td>\\nclass Microdot:\\n    def route(self, url_pat...</td>\n",
       "      <td>Decorator that is used to register a function ...</td>\n",
       "      <td></td>\n",
       "      <td>Decorator that is used to register a function ...</td>\n",
       "      <td># ...</td>\n",
       "      <td>Module(\\n    body=[\\n        FunctionDef(\\n   ...</td>\n",
       "      <td>Module(\\n    body=[\\n        ClassDef(\\n      ...</td>\n",
       "      <td>DESCRIPTION_TOKEN: Decorator that is used to r...</td>\n",
       "    </tr>\n",
       "    <tr>\n",
       "      <th>3</th>\n",
       "      <td>4</td>\n",
       "      <td>You are a professional python software enginee...</td>\n",
       "      <td>from microdot import Microdot, Response, abort...</td>\n",
       "      <td>(python, ```python\\ndef mount(self, subapp, ur...</td>\n",
       "      <td>python</td>\n",
       "      <td>def mount(self, subapp, url_prefix=''): for me...</td>\n",
       "      <td>\\nclass Microdot:\\n    def mount(self, subapp,...</td>\n",
       "      <td>Mount a sub-application, optionally under the ...</td>\n",
       "      <td></td>\n",
       "      <td>Mount a sub-application, optionally under the ...</td>\n",
       "      <td></td>\n",
       "      <td>Module(\\n    body=[\\n        FunctionDef(\\n   ...</td>\n",
       "      <td>Module(\\n    body=[\\n        ClassDef(\\n      ...</td>\n",
       "      <td>DESCRIPTION_TOKEN: Mount a sub-application, op...</td>\n",
       "    </tr>\n",
       "    <tr>\n",
       "      <th>4</th>\n",
       "      <td>5</td>\n",
       "      <td>You are a professional python software enginee...</td>\n",
       "      <td>from pyner.named_entity.corpus import bio2bioe...</td>\n",
       "      <td>(python, ```python\\ndef iob2bio(tags):\\n    pr...</td>\n",
       "      <td>python</td>\n",
       "      <td>def iob2bio(tags): processed_tags = [] # shoul...</td>\n",
       "      <td>\\ndef split_tag(tag: str):\\n    \"\"\"\\n    Split...</td>\n",
       "      <td></td>\n",
       "      <td>should be bio format case1 IORG IORG  case2 IO...</td>\n",
       "      <td>\\n    Split tag into state and named entity ca...</td>\n",
       "      <td># should be bio format\\n# case1. I-ORG I-ORG\\n...</td>\n",
       "      <td>Module(\\n    body=[\\n        FunctionDef(\\n   ...</td>\n",
       "      <td>Module(\\n    body=[\\n        FunctionDef(\\n   ...</td>\n",
       "      <td>DESCRIPTION_TOKEN: should be bio format case1 ...</td>\n",
       "    </tr>\n",
       "  </tbody>\n",
       "</table>\n",
       "</div>"
      ],
      "text/plain": [
       "   id                                              query  \\\n",
       "0   1  You are a professional python software enginee...   \n",
       "1   2  You are a professional python software enginee...   \n",
       "2   3  You are a professional python software enginee...   \n",
       "3   4  You are a professional python software enginee...   \n",
       "4   5  You are a professional python software enginee...   \n",
       "\n",
       "                                            response  \\\n",
       "0  from microdot import Microdot, Response, abort...   \n",
       "1  from microdot import Microdot, Response, abort...   \n",
       "2  from microdot import Microdot, Response, abort...   \n",
       "3  from microdot import Microdot, Response, abort...   \n",
       "4  from pyner.named_entity.corpus import bio2bioe...   \n",
       "\n",
       "                                       code_features LANG_TOKEN  \\\n",
       "0  (python, ```python\\ndef get(self, key, default...     python   \n",
       "1  (python, ```python\\ndef get(self, url_pattern)...     python   \n",
       "2  (python, ```python\\ndef post(self, url_pattern...     python   \n",
       "3  (python, ```python\\ndef mount(self, subapp, ur...     python   \n",
       "4  (python, ```python\\ndef iob2bio(tags):\\n    pr...     python   \n",
       "\n",
       "                                        focal_method  \\\n",
       "0  def get(self, key, default=None): kl = key.low...   \n",
       "1  def get(self, url_pattern): return self.route(...   \n",
       "2  def post(self, url_pattern): return self.route...   \n",
       "3  def mount(self, subapp, url_prefix=''): for me...   \n",
       "4  def iob2bio(tags): processed_tags = [] # shoul...   \n",
       "\n",
       "                                           focal_cls  \\\n",
       "0  \\nclass NoCaseDict(dict):\\n    def get(self, k...   \n",
       "1  \\nclass Microdot:\\n    def route(self, url_pat...   \n",
       "2  \\nclass Microdot:\\n    def route(self, url_pat...   \n",
       "3  \\nclass Microdot:\\n    def mount(self, subapp,...   \n",
       "4  \\ndef split_tag(tag: str):\\n    \"\"\"\\n    Split...   \n",
       "\n",
       "                                   focal_method_docs  \\\n",
       "0                                                      \n",
       "1  Decorator that is used to register a function ...   \n",
       "2  Decorator that is used to register a function ...   \n",
       "3  Mount a sub-application, optionally under the ...   \n",
       "4                                                      \n",
       "\n",
       "                               focal_method_comments  \\\n",
       "0                                                      \n",
       "1                                                      \n",
       "2                                                      \n",
       "3                                                      \n",
       "4  should be bio format case1 IORG IORG  case2 IO...   \n",
       "\n",
       "                                      focal_cls_docs  \\\n",
       "0                                                      \n",
       "1  Decorator that is used to register a function ...   \n",
       "2  Decorator that is used to register a function ...   \n",
       "3  Mount a sub-application, optionally under the ...   \n",
       "4  \\n    Split tag into state and named entity ca...   \n",
       "\n",
       "                                  focal_cls_comments  \\\n",
       "0                                                      \n",
       "1                                              # ...   \n",
       "2                                              # ...   \n",
       "3                                                      \n",
       "4  # should be bio format\\n# case1. I-ORG I-ORG\\n...   \n",
       "\n",
       "                                    focal_method_ast  \\\n",
       "0  Module(\\n    body=[\\n        FunctionDef(\\n   ...   \n",
       "1  Module(\\n    body=[\\n        FunctionDef(\\n   ...   \n",
       "2  Module(\\n    body=[\\n        FunctionDef(\\n   ...   \n",
       "3  Module(\\n    body=[\\n        FunctionDef(\\n   ...   \n",
       "4  Module(\\n    body=[\\n        FunctionDef(\\n   ...   \n",
       "\n",
       "                                       focal_cls_ast  \\\n",
       "0  Module(\\n    body=[\\n        ClassDef(\\n      ...   \n",
       "1  Module(\\n    body=[\\n        ClassDef(\\n      ...   \n",
       "2  Module(\\n    body=[\\n        ClassDef(\\n      ...   \n",
       "3  Module(\\n    body=[\\n        ClassDef(\\n      ...   \n",
       "4  Module(\\n    body=[\\n        FunctionDef(\\n   ...   \n",
       "\n",
       "                                   focal_method_info  \n",
       "0                                         INFO_TOKEN  \n",
       "1  DESCRIPTION_TOKEN: Decorator that is used to r...  \n",
       "2  DESCRIPTION_TOKEN: Decorator that is used to r...  \n",
       "3  DESCRIPTION_TOKEN: Mount a sub-application, op...  \n",
       "4  DESCRIPTION_TOKEN: should be bio format case1 ...  "
      ]
     },
     "execution_count": 142,
     "metadata": {},
     "output_type": "execute_result"
    }
   ],
   "source": [
    "dataset.head()"
   ]
  },
  {
   "cell_type": "markdown",
   "metadata": {},
   "source": [
    "Посмотрим на количество \"непустой\" информации о функции *focal_method*"
   ]
  },
  {
   "cell_type": "code",
   "execution_count": 143,
   "metadata": {},
   "outputs": [
    {
     "name": "stdout",
     "output_type": "stream",
     "text": [
      "Количество пустой информации о функциях из focal_method: 75586\n",
      "Доля пустой информации о функциях из focal_method: 0.269\n"
     ]
    }
   ],
   "source": [
    "print(f\"Количество пустой информации о функциях из focal_method: {len(dataset[dataset['focal_method_info'] == 'INFO_TOKEN'])}\")\n",
    "print(f\"Доля пустой информации о функциях из focal_method: {len(dataset[dataset['focal_method_info'] == 'INFO_TOKEN']) / dataset.shape[0]:.3f}\")"
   ]
  },
  {
   "cell_type": "markdown",
   "metadata": {},
   "source": [
    "Таким образом, доля комментариев с пустой информацией составляет примерно четверть. Поэтому сохраним информацию на естественном языке и будем использовать её при обучении модели"
   ]
  },
  {
   "cell_type": "markdown",
   "metadata": {},
   "source": [
    "Далее исследуем наличие ast-представлений для *focal_method*"
   ]
  },
  {
   "cell_type": "code",
   "execution_count": 144,
   "metadata": {},
   "outputs": [
    {
     "name": "stdout",
     "output_type": "stream",
     "text": [
      "Количество необработанных AST-представлений кода 602\n",
      "Доля необработанных AST-представлений кода 0.002\n"
     ]
    }
   ],
   "source": [
    "print(f\"Количество необработанных AST-представлений кода {len(dataset[dataset['focal_method_ast'] == 'AST_TOKEN'])}\")\n",
    "print(f\"Доля необработанных AST-представлений кода {len(dataset[dataset['focal_method_ast'] == 'AST_TOKEN']) / dataset.shape[0]:.3f}\")"
   ]
  },
  {
   "cell_type": "markdown",
   "metadata": {},
   "source": [
    "Таких предствалений немного, поэтому, чтобы не путать модель, отбросим эти представления:"
   ]
  },
  {
   "cell_type": "code",
   "execution_count": 145,
   "metadata": {},
   "outputs": [
    {
     "data": {
      "text/plain": [
       "(280458, 14)"
      ]
     },
     "execution_count": 145,
     "metadata": {},
     "output_type": "execute_result"
    }
   ],
   "source": [
    "dataset = dataset[dataset['focal_method_ast'] != 'AST_TOKEN']\n",
    "dataset.shape"
   ]
  },
  {
   "cell_type": "code",
   "execution_count": 147,
   "metadata": {},
   "outputs": [
    {
     "data": {
      "text/html": [
       "<div>\n",
       "<style scoped>\n",
       "    .dataframe tbody tr th:only-of-type {\n",
       "        vertical-align: middle;\n",
       "    }\n",
       "\n",
       "    .dataframe tbody tr th {\n",
       "        vertical-align: top;\n",
       "    }\n",
       "\n",
       "    .dataframe thead th {\n",
       "        text-align: right;\n",
       "    }\n",
       "</style>\n",
       "<table border=\"1\" class=\"dataframe\">\n",
       "  <thead>\n",
       "    <tr style=\"text-align: right;\">\n",
       "      <th></th>\n",
       "      <th>id</th>\n",
       "      <th>query</th>\n",
       "      <th>response</th>\n",
       "      <th>code_features</th>\n",
       "      <th>LANG_TOKEN</th>\n",
       "      <th>focal_method</th>\n",
       "      <th>focal_cls</th>\n",
       "      <th>focal_method_docs</th>\n",
       "      <th>focal_method_comments</th>\n",
       "      <th>focal_cls_docs</th>\n",
       "      <th>focal_cls_comments</th>\n",
       "      <th>focal_method_ast</th>\n",
       "      <th>focal_cls_ast</th>\n",
       "      <th>focal_method_info</th>\n",
       "    </tr>\n",
       "  </thead>\n",
       "  <tbody>\n",
       "    <tr>\n",
       "      <th>0</th>\n",
       "      <td>1</td>\n",
       "      <td>You are a professional python software enginee...</td>\n",
       "      <td>from microdot import Microdot, Response, abort...</td>\n",
       "      <td>(python, ```python\\ndef get(self, key, default...</td>\n",
       "      <td>python</td>\n",
       "      <td>def get(self, key, default=None): kl = key.low...</td>\n",
       "      <td>\\nclass NoCaseDict(dict):\\n    def get(self, k...</td>\n",
       "      <td></td>\n",
       "      <td></td>\n",
       "      <td></td>\n",
       "      <td></td>\n",
       "      <td>Module(\\n    body=[\\n        FunctionDef(\\n   ...</td>\n",
       "      <td>Module(\\n    body=[\\n        ClassDef(\\n      ...</td>\n",
       "      <td>INFO_TOKEN</td>\n",
       "    </tr>\n",
       "    <tr>\n",
       "      <th>1</th>\n",
       "      <td>2</td>\n",
       "      <td>You are a professional python software enginee...</td>\n",
       "      <td>from microdot import Microdot, Response, abort...</td>\n",
       "      <td>(python, ```python\\ndef get(self, url_pattern)...</td>\n",
       "      <td>python</td>\n",
       "      <td>def get(self, url_pattern): return self.route(...</td>\n",
       "      <td>\\nclass Microdot:\\n    def route(self, url_pat...</td>\n",
       "      <td>Decorator that is used to register a function ...</td>\n",
       "      <td></td>\n",
       "      <td>Decorator that is used to register a function ...</td>\n",
       "      <td># ...</td>\n",
       "      <td>Module(\\n    body=[\\n        FunctionDef(\\n   ...</td>\n",
       "      <td>Module(\\n    body=[\\n        ClassDef(\\n      ...</td>\n",
       "      <td>DESCRIPTION_TOKEN: Decorator that is used to r...</td>\n",
       "    </tr>\n",
       "    <tr>\n",
       "      <th>2</th>\n",
       "      <td>3</td>\n",
       "      <td>You are a professional python software enginee...</td>\n",
       "      <td>from microdot import Microdot, Response, abort...</td>\n",
       "      <td>(python, ```python\\ndef post(self, url_pattern...</td>\n",
       "      <td>python</td>\n",
       "      <td>def post(self, url_pattern): return self.route...</td>\n",
       "      <td>\\nclass Microdot:\\n    def route(self, url_pat...</td>\n",
       "      <td>Decorator that is used to register a function ...</td>\n",
       "      <td></td>\n",
       "      <td>Decorator that is used to register a function ...</td>\n",
       "      <td># ...</td>\n",
       "      <td>Module(\\n    body=[\\n        FunctionDef(\\n   ...</td>\n",
       "      <td>Module(\\n    body=[\\n        ClassDef(\\n      ...</td>\n",
       "      <td>DESCRIPTION_TOKEN: Decorator that is used to r...</td>\n",
       "    </tr>\n",
       "    <tr>\n",
       "      <th>3</th>\n",
       "      <td>4</td>\n",
       "      <td>You are a professional python software enginee...</td>\n",
       "      <td>from microdot import Microdot, Response, abort...</td>\n",
       "      <td>(python, ```python\\ndef mount(self, subapp, ur...</td>\n",
       "      <td>python</td>\n",
       "      <td>def mount(self, subapp, url_prefix=''): for me...</td>\n",
       "      <td>\\nclass Microdot:\\n    def mount(self, subapp,...</td>\n",
       "      <td>Mount a sub-application, optionally under the ...</td>\n",
       "      <td></td>\n",
       "      <td>Mount a sub-application, optionally under the ...</td>\n",
       "      <td></td>\n",
       "      <td>Module(\\n    body=[\\n        FunctionDef(\\n   ...</td>\n",
       "      <td>Module(\\n    body=[\\n        ClassDef(\\n      ...</td>\n",
       "      <td>DESCRIPTION_TOKEN: Mount a sub-application, op...</td>\n",
       "    </tr>\n",
       "    <tr>\n",
       "      <th>4</th>\n",
       "      <td>5</td>\n",
       "      <td>You are a professional python software enginee...</td>\n",
       "      <td>from pyner.named_entity.corpus import bio2bioe...</td>\n",
       "      <td>(python, ```python\\ndef iob2bio(tags):\\n    pr...</td>\n",
       "      <td>python</td>\n",
       "      <td>def iob2bio(tags): processed_tags = [] # shoul...</td>\n",
       "      <td>\\ndef split_tag(tag: str):\\n    \"\"\"\\n    Split...</td>\n",
       "      <td></td>\n",
       "      <td>should be bio format case1 IORG IORG  case2 IO...</td>\n",
       "      <td>\\n    Split tag into state and named entity ca...</td>\n",
       "      <td># should be bio format\\n# case1. I-ORG I-ORG\\n...</td>\n",
       "      <td>Module(\\n    body=[\\n        FunctionDef(\\n   ...</td>\n",
       "      <td>Module(\\n    body=[\\n        FunctionDef(\\n   ...</td>\n",
       "      <td>DESCRIPTION_TOKEN: should be bio format case1 ...</td>\n",
       "    </tr>\n",
       "  </tbody>\n",
       "</table>\n",
       "</div>"
      ],
      "text/plain": [
       "   id                                              query  \\\n",
       "0   1  You are a professional python software enginee...   \n",
       "1   2  You are a professional python software enginee...   \n",
       "2   3  You are a professional python software enginee...   \n",
       "3   4  You are a professional python software enginee...   \n",
       "4   5  You are a professional python software enginee...   \n",
       "\n",
       "                                            response  \\\n",
       "0  from microdot import Microdot, Response, abort...   \n",
       "1  from microdot import Microdot, Response, abort...   \n",
       "2  from microdot import Microdot, Response, abort...   \n",
       "3  from microdot import Microdot, Response, abort...   \n",
       "4  from pyner.named_entity.corpus import bio2bioe...   \n",
       "\n",
       "                                       code_features LANG_TOKEN  \\\n",
       "0  (python, ```python\\ndef get(self, key, default...     python   \n",
       "1  (python, ```python\\ndef get(self, url_pattern)...     python   \n",
       "2  (python, ```python\\ndef post(self, url_pattern...     python   \n",
       "3  (python, ```python\\ndef mount(self, subapp, ur...     python   \n",
       "4  (python, ```python\\ndef iob2bio(tags):\\n    pr...     python   \n",
       "\n",
       "                                        focal_method  \\\n",
       "0  def get(self, key, default=None): kl = key.low...   \n",
       "1  def get(self, url_pattern): return self.route(...   \n",
       "2  def post(self, url_pattern): return self.route...   \n",
       "3  def mount(self, subapp, url_prefix=''): for me...   \n",
       "4  def iob2bio(tags): processed_tags = [] # shoul...   \n",
       "\n",
       "                                           focal_cls  \\\n",
       "0  \\nclass NoCaseDict(dict):\\n    def get(self, k...   \n",
       "1  \\nclass Microdot:\\n    def route(self, url_pat...   \n",
       "2  \\nclass Microdot:\\n    def route(self, url_pat...   \n",
       "3  \\nclass Microdot:\\n    def mount(self, subapp,...   \n",
       "4  \\ndef split_tag(tag: str):\\n    \"\"\"\\n    Split...   \n",
       "\n",
       "                                   focal_method_docs  \\\n",
       "0                                                      \n",
       "1  Decorator that is used to register a function ...   \n",
       "2  Decorator that is used to register a function ...   \n",
       "3  Mount a sub-application, optionally under the ...   \n",
       "4                                                      \n",
       "\n",
       "                               focal_method_comments  \\\n",
       "0                                                      \n",
       "1                                                      \n",
       "2                                                      \n",
       "3                                                      \n",
       "4  should be bio format case1 IORG IORG  case2 IO...   \n",
       "\n",
       "                                      focal_cls_docs  \\\n",
       "0                                                      \n",
       "1  Decorator that is used to register a function ...   \n",
       "2  Decorator that is used to register a function ...   \n",
       "3  Mount a sub-application, optionally under the ...   \n",
       "4  \\n    Split tag into state and named entity ca...   \n",
       "\n",
       "                                  focal_cls_comments  \\\n",
       "0                                                      \n",
       "1                                              # ...   \n",
       "2                                              # ...   \n",
       "3                                                      \n",
       "4  # should be bio format\\n# case1. I-ORG I-ORG\\n...   \n",
       "\n",
       "                                    focal_method_ast  \\\n",
       "0  Module(\\n    body=[\\n        FunctionDef(\\n   ...   \n",
       "1  Module(\\n    body=[\\n        FunctionDef(\\n   ...   \n",
       "2  Module(\\n    body=[\\n        FunctionDef(\\n   ...   \n",
       "3  Module(\\n    body=[\\n        FunctionDef(\\n   ...   \n",
       "4  Module(\\n    body=[\\n        FunctionDef(\\n   ...   \n",
       "\n",
       "                                       focal_cls_ast  \\\n",
       "0  Module(\\n    body=[\\n        ClassDef(\\n      ...   \n",
       "1  Module(\\n    body=[\\n        ClassDef(\\n      ...   \n",
       "2  Module(\\n    body=[\\n        ClassDef(\\n      ...   \n",
       "3  Module(\\n    body=[\\n        ClassDef(\\n      ...   \n",
       "4  Module(\\n    body=[\\n        FunctionDef(\\n   ...   \n",
       "\n",
       "                                   focal_method_info  \n",
       "0                                         INFO_TOKEN  \n",
       "1  DESCRIPTION_TOKEN: Decorator that is used to r...  \n",
       "2  DESCRIPTION_TOKEN: Decorator that is used to r...  \n",
       "3  DESCRIPTION_TOKEN: Mount a sub-application, op...  \n",
       "4  DESCRIPTION_TOKEN: should be bio format case1 ...  "
      ]
     },
     "execution_count": 147,
     "metadata": {},
     "output_type": "execute_result"
    }
   ],
   "source": [
    "dataset.head()"
   ]
  },
  {
   "cell_type": "markdown",
   "metadata": {},
   "source": [
    "Уберем лишние пробелы и перенос строки для ast-представлений"
   ]
  },
  {
   "cell_type": "code",
   "execution_count": 148,
   "metadata": {},
   "outputs": [
    {
     "name": "stderr",
     "output_type": "stream",
     "text": [
      "100%|██████████| 280458/280458 [00:05<00:00, 46760.57it/s] \n",
      "100%|██████████| 280458/280458 [00:13<00:00, 21206.99it/s]\n"
     ]
    }
   ],
   "source": [
    "dataset['focal_method_ast'] = dataset.progress_apply(drop_ln, axis = 1, args = ['focal_method_ast'])\n",
    "dataset['focal_method_ast'] = dataset.progress_apply(drop_large_spaces, axis = 1, args = ['focal_method_ast'])"
   ]
  },
  {
   "cell_type": "code",
   "execution_count": 149,
   "metadata": {},
   "outputs": [
    {
     "name": "stdout",
     "output_type": "stream",
     "text": [
      "Module( body=[ FunctionDef( name='get', args=arguments( posonlyargs=[], args=[ arg(arg='self'), arg(arg='key'), arg(arg='default')], kwonlyargs=[], kw_defaults=[], defaults=[ Constant(value=None)]), body=[ Assign( targets=[ Name(id='kl', ctx=Store())], value=Call( func=Attribute( value=Name(id='key', ctx=Load()), attr='lower', ctx=Load()), args=[], keywords=[])), Return( value=Call( func=Attribute( value=Call( func=Name(id='super', ctx=Load()), args=[], keywords=[]), attr='get', ctx=Load()), args=[ Call( func=Attribute( value=Attribute( value=Name(id='self', ctx=Load()), attr='keymap', ctx=Load()), attr='get', ctx=Load()), args=[ Name(id='kl', ctx=Load()), Name(id='kl', ctx=Load())], keywords=[]), Name(id='default', ctx=Load())], keywords=[]))], decorator_list=[], type_params=[])], type_ignores=[])\n"
     ]
    }
   ],
   "source": [
    "print(dataset['focal_method_ast'].values[0])"
   ]
  },
  {
   "cell_type": "code",
   "execution_count": 150,
   "metadata": {},
   "outputs": [],
   "source": [
    "dataset = dataset.drop(columns=['focal_method_docs', \n",
    "                                'focal_method_comments'])"
   ]
  },
  {
   "cell_type": "code",
   "execution_count": 86,
   "metadata": {},
   "outputs": [
    {
     "data": {
      "text/html": [
       "<div>\n",
       "<style scoped>\n",
       "    .dataframe tbody tr th:only-of-type {\n",
       "        vertical-align: middle;\n",
       "    }\n",
       "\n",
       "    .dataframe tbody tr th {\n",
       "        vertical-align: top;\n",
       "    }\n",
       "\n",
       "    .dataframe thead th {\n",
       "        text-align: right;\n",
       "    }\n",
       "</style>\n",
       "<table border=\"1\" class=\"dataframe\">\n",
       "  <thead>\n",
       "    <tr style=\"text-align: right;\">\n",
       "      <th></th>\n",
       "      <th>id</th>\n",
       "      <th>query</th>\n",
       "      <th>response</th>\n",
       "      <th>code_features</th>\n",
       "      <th>LANG_TOKEN</th>\n",
       "      <th>focal_method</th>\n",
       "      <th>focal_cls</th>\n",
       "      <th>focal_cls_docs</th>\n",
       "      <th>focal_cls_comments</th>\n",
       "      <th>focal_method_ast</th>\n",
       "      <th>focal_cls_ast</th>\n",
       "      <th>focal_method_info</th>\n",
       "    </tr>\n",
       "  </thead>\n",
       "  <tbody>\n",
       "    <tr>\n",
       "      <th>0</th>\n",
       "      <td>1</td>\n",
       "      <td>You are a professional python software enginee...</td>\n",
       "      <td>from microdot import Microdot, Response, abort...</td>\n",
       "      <td>(python, ```python\\ndef get(self, key, default...</td>\n",
       "      <td>python</td>\n",
       "      <td>def get(self, key, default=None): kl = key.low...</td>\n",
       "      <td>\\nclass NoCaseDict(dict):\\n    def get(self, k...</td>\n",
       "      <td></td>\n",
       "      <td></td>\n",
       "      <td>Module( body=[ FunctionDef( name='get', args=a...</td>\n",
       "      <td>Module(\\n    body=[\\n        ClassDef(\\n      ...</td>\n",
       "      <td>INFO_TOKEN</td>\n",
       "    </tr>\n",
       "    <tr>\n",
       "      <th>1</th>\n",
       "      <td>2</td>\n",
       "      <td>You are a professional python software enginee...</td>\n",
       "      <td>from microdot import Microdot, Response, abort...</td>\n",
       "      <td>(python, ```python\\ndef get(self, url_pattern)...</td>\n",
       "      <td>python</td>\n",
       "      <td>def get(self, url_pattern): return self.route(...</td>\n",
       "      <td>\\nclass Microdot:\\n    def route(self, url_pat...</td>\n",
       "      <td>Decorator that is used to register a function ...</td>\n",
       "      <td># ...</td>\n",
       "      <td>Module( body=[ FunctionDef( name='get', args=a...</td>\n",
       "      <td>Module(\\n    body=[\\n        ClassDef(\\n      ...</td>\n",
       "      <td>DESCRIPTION_TOKEN: Decorator that is used to r...</td>\n",
       "    </tr>\n",
       "    <tr>\n",
       "      <th>2</th>\n",
       "      <td>3</td>\n",
       "      <td>You are a professional python software enginee...</td>\n",
       "      <td>from microdot import Microdot, Response, abort...</td>\n",
       "      <td>(python, ```python\\ndef post(self, url_pattern...</td>\n",
       "      <td>python</td>\n",
       "      <td>def post(self, url_pattern): return self.route...</td>\n",
       "      <td>\\nclass Microdot:\\n    def route(self, url_pat...</td>\n",
       "      <td>Decorator that is used to register a function ...</td>\n",
       "      <td># ...</td>\n",
       "      <td>Module( body=[ FunctionDef( name='post', args=...</td>\n",
       "      <td>Module(\\n    body=[\\n        ClassDef(\\n      ...</td>\n",
       "      <td>DESCRIPTION_TOKEN: Decorator that is used to r...</td>\n",
       "    </tr>\n",
       "    <tr>\n",
       "      <th>3</th>\n",
       "      <td>4</td>\n",
       "      <td>You are a professional python software enginee...</td>\n",
       "      <td>from microdot import Microdot, Response, abort...</td>\n",
       "      <td>(python, ```python\\ndef mount(self, subapp, ur...</td>\n",
       "      <td>python</td>\n",
       "      <td>def mount(self, subapp, url_prefix=''): for me...</td>\n",
       "      <td>\\nclass Microdot:\\n    def mount(self, subapp,...</td>\n",
       "      <td>Mount a sub-application, optionally under the ...</td>\n",
       "      <td></td>\n",
       "      <td>Module( body=[ FunctionDef( name='mount', args...</td>\n",
       "      <td>Module(\\n    body=[\\n        ClassDef(\\n      ...</td>\n",
       "      <td>DESCRIPTION_TOKEN: Mount a sub-application, op...</td>\n",
       "    </tr>\n",
       "    <tr>\n",
       "      <th>4</th>\n",
       "      <td>5</td>\n",
       "      <td>You are a professional python software enginee...</td>\n",
       "      <td>from pyner.named_entity.corpus import bio2bioe...</td>\n",
       "      <td>(python, ```python\\ndef iob2bio(tags):\\n    pr...</td>\n",
       "      <td>python</td>\n",
       "      <td>def iob2bio(tags): processed_tags = [] # shoul...</td>\n",
       "      <td>\\ndef split_tag(tag: str):\\n    \"\"\"\\n    Split...</td>\n",
       "      <td>\\n    Split tag into state and named entity ca...</td>\n",
       "      <td># should be bio format\\n# case1. I-ORG I-ORG\\n...</td>\n",
       "      <td>Module( body=[ FunctionDef( name='iob2bio', ar...</td>\n",
       "      <td>Module(\\n    body=[\\n        FunctionDef(\\n   ...</td>\n",
       "      <td>DESCRIPTION_TOKEN: # should be bio format\\n# c...</td>\n",
       "    </tr>\n",
       "  </tbody>\n",
       "</table>\n",
       "</div>"
      ],
      "text/plain": [
       "   id                                              query  \\\n",
       "0   1  You are a professional python software enginee...   \n",
       "1   2  You are a professional python software enginee...   \n",
       "2   3  You are a professional python software enginee...   \n",
       "3   4  You are a professional python software enginee...   \n",
       "4   5  You are a professional python software enginee...   \n",
       "\n",
       "                                            response  \\\n",
       "0  from microdot import Microdot, Response, abort...   \n",
       "1  from microdot import Microdot, Response, abort...   \n",
       "2  from microdot import Microdot, Response, abort...   \n",
       "3  from microdot import Microdot, Response, abort...   \n",
       "4  from pyner.named_entity.corpus import bio2bioe...   \n",
       "\n",
       "                                       code_features LANG_TOKEN  \\\n",
       "0  (python, ```python\\ndef get(self, key, default...     python   \n",
       "1  (python, ```python\\ndef get(self, url_pattern)...     python   \n",
       "2  (python, ```python\\ndef post(self, url_pattern...     python   \n",
       "3  (python, ```python\\ndef mount(self, subapp, ur...     python   \n",
       "4  (python, ```python\\ndef iob2bio(tags):\\n    pr...     python   \n",
       "\n",
       "                                        focal_method  \\\n",
       "0  def get(self, key, default=None): kl = key.low...   \n",
       "1  def get(self, url_pattern): return self.route(...   \n",
       "2  def post(self, url_pattern): return self.route...   \n",
       "3  def mount(self, subapp, url_prefix=''): for me...   \n",
       "4  def iob2bio(tags): processed_tags = [] # shoul...   \n",
       "\n",
       "                                           focal_cls  \\\n",
       "0  \\nclass NoCaseDict(dict):\\n    def get(self, k...   \n",
       "1  \\nclass Microdot:\\n    def route(self, url_pat...   \n",
       "2  \\nclass Microdot:\\n    def route(self, url_pat...   \n",
       "3  \\nclass Microdot:\\n    def mount(self, subapp,...   \n",
       "4  \\ndef split_tag(tag: str):\\n    \"\"\"\\n    Split...   \n",
       "\n",
       "                                      focal_cls_docs  \\\n",
       "0                                                      \n",
       "1  Decorator that is used to register a function ...   \n",
       "2  Decorator that is used to register a function ...   \n",
       "3  Mount a sub-application, optionally under the ...   \n",
       "4  \\n    Split tag into state and named entity ca...   \n",
       "\n",
       "                                  focal_cls_comments  \\\n",
       "0                                                      \n",
       "1                                              # ...   \n",
       "2                                              # ...   \n",
       "3                                                      \n",
       "4  # should be bio format\\n# case1. I-ORG I-ORG\\n...   \n",
       "\n",
       "                                    focal_method_ast  \\\n",
       "0  Module( body=[ FunctionDef( name='get', args=a...   \n",
       "1  Module( body=[ FunctionDef( name='get', args=a...   \n",
       "2  Module( body=[ FunctionDef( name='post', args=...   \n",
       "3  Module( body=[ FunctionDef( name='mount', args...   \n",
       "4  Module( body=[ FunctionDef( name='iob2bio', ar...   \n",
       "\n",
       "                                       focal_cls_ast  \\\n",
       "0  Module(\\n    body=[\\n        ClassDef(\\n      ...   \n",
       "1  Module(\\n    body=[\\n        ClassDef(\\n      ...   \n",
       "2  Module(\\n    body=[\\n        ClassDef(\\n      ...   \n",
       "3  Module(\\n    body=[\\n        ClassDef(\\n      ...   \n",
       "4  Module(\\n    body=[\\n        FunctionDef(\\n   ...   \n",
       "\n",
       "                                   focal_method_info  \n",
       "0                                         INFO_TOKEN  \n",
       "1  DESCRIPTION_TOKEN: Decorator that is used to r...  \n",
       "2  DESCRIPTION_TOKEN: Decorator that is used to r...  \n",
       "3  DESCRIPTION_TOKEN: Mount a sub-application, op...  \n",
       "4  DESCRIPTION_TOKEN: # should be bio format\\n# c...  "
      ]
     },
     "execution_count": 86,
     "metadata": {},
     "output_type": "execute_result"
    }
   ],
   "source": [
    "dataset.head()"
   ]
  },
  {
   "cell_type": "markdown",
   "metadata": {},
   "source": [
    "Далее необходимо сделать аналогичные действия и подготовить *focal_cls* к input формату"
   ]
  },
  {
   "cell_type": "code",
   "execution_count": 152,
   "metadata": {},
   "outputs": [
    {
     "name": "stdout",
     "output_type": "stream",
     "text": [
      "\n",
      "class Microdot:\n",
      "    def route(self, url_pattern, methods=None):\n",
      "        \"\"\"Decorator that is used to register a function as a request handler\n",
      "        for a given URL.\n",
      "        :param url_pattern: The URL pattern that will be compared against\n",
      "                            incoming requests.\n",
      "        :param methods: The list of HTTP methods to be handled by the\n",
      "                        decorated function. If omitted, only ``GET`` requests\n",
      "                        are handled.\n",
      "        The URL pattern can be a static path (for example, ``/users`` or\n",
      "        ``/api/invoices/search``) or a path with dynamic components enclosed\n",
      "        in ``<`` and ``>`` (for example, ``/users/<id>`` or\n",
      "        ``/invoices/<number>/products``). Dynamic path components can also\n",
      "        include a type prefix, separated from the name with a colon (for\n",
      "        example, ``/users/<int:id>``). The type can be ``string`` (the\n",
      "        default), ``int``, ``path`` or ``re:[regular-expression]``.\n",
      "        The first argument of the decorated function must be\n",
      "        the request object. Any path arguments that are specified in the URL\n",
      "        pattern are passed as keyword arguments. The return value of the\n",
      "        function must be a :class:`Response` instance, or the arguments to\n",
      "        be passed to this class.\n",
      "        Example::\n",
      "            @app.route('/')\n",
      "            def index(request):\n",
      "                return 'Hello, world!'\n",
      "        \"\"\"\n",
      "        def decorated(f):\n",
      "            self.url_map.append(\n",
      "                ([m.upper() for m in (methods or ['GET'])],\n",
      "                 URLPattern(url_pattern), f))\n",
      "            return f\n",
      "        return decorated\n",
      "    def get(self, url_pattern):\n",
      "        \"\"\"Decorator that is used to register a function as a ``GET`` request\n",
      "        handler for a given URL.\n",
      "        :param url_pattern: The URL pattern that will be compared against\n",
      "                            incoming requests.\n",
      "        This decorator can be used as an alias to the ``route`` decorator with\n",
      "        ``methods=['GET']``.\n",
      "        Example::\n",
      "            @app.get('/users/<int:id>')\n",
      "            def get_user(request, id):\n",
      "                # ...\n",
      "        \"\"\"\n",
      "        return self.route(url_pattern, methods=['GET'])\n",
      "\n"
     ]
    }
   ],
   "source": [
    "print(dataset['focal_cls'].values[1])"
   ]
  },
  {
   "cell_type": "code",
   "execution_count": 153,
   "metadata": {},
   "outputs": [
    {
     "name": "stderr",
     "output_type": "stream",
     "text": [
      "100%|██████████| 280458/280458 [00:01<00:00, 174535.86it/s]\n",
      "100%|██████████| 280458/280458 [00:00<00:00, 305070.55it/s]\n",
      "100%|██████████| 280458/280458 [00:00<00:00, 392268.75it/s]\n",
      "100%|██████████| 280458/280458 [00:00<00:00, 468489.70it/s]\n",
      "100%|██████████| 280458/280458 [00:01<00:00, 242543.17it/s]\n",
      "100%|██████████| 280458/280458 [00:04<00:00, 58230.15it/s]\n",
      "100%|██████████| 280458/280458 [00:00<00:00, 325196.94it/s]\n"
     ]
    }
   ],
   "source": [
    "def remove_triple_quotes_content(row, col_name):\n",
    "    '''Функция для удаления содержимого внутри тройных кавычек'''\n",
    "    # Регулярное выражение для поиска содержимого внутри тройных кавычек\n",
    "    pattern = re.compile(r'\"\"\".*?\"\"\"', re.DOTALL)\n",
    "    # Замена содержимого внутри тройных кавычек на пустую строку\n",
    "    return pattern.sub('', row[col_name])\n",
    "\n",
    "\n",
    "dataset['focal_cls'] = dataset.progress_apply(remove_triple_quotes_content, axis = 1, args = ['focal_cls'])\n",
    "dataset['focal_cls'] = dataset.progress_apply(remove_docs, axis=1, args=('focal_cls', 'focal_cls_docs'))\n",
    "dataset['focal_cls'] = dataset.progress_apply(remove_three_quotes, axis=1, args=('focal_cls',))\n",
    "dataset['focal_cls'] = dataset.progress_apply(remove_three_quotes_v2, axis=1, args=('focal_cls',))\n",
    "dataset['focal_cls'] = dataset.progress_apply(drop_ln, axis=1, args=('focal_cls',))\n",
    "dataset['focal_cls'] = dataset.progress_apply(drop_large_spaces, axis=1, args=('focal_cls',))\n",
    "dataset['focal_cls'] = dataset.progress_apply(remove_comment, axis=1, args=('focal_cls', 'focal_cls_comments'))"
   ]
  },
  {
   "cell_type": "code",
   "execution_count": 155,
   "metadata": {},
   "outputs": [
    {
     "name": "stdout",
     "output_type": "stream",
     "text": [
      "class Microdot: def route(self, url_pattern, methods=None): def decorated(f): self.url_map.append( ([m.upper() for m in (methods or ['GET'])], URLPattern(url_pattern), f)) return f return decorated def get(self, url_pattern): return self.route(url_pattern, methods=['GET'])\n"
     ]
    }
   ],
   "source": [
    "print(dataset['focal_cls'].values[1])"
   ]
  },
  {
   "cell_type": "markdown",
   "metadata": {},
   "source": [
    "Теперь необходимо заменить название функции внутри *focal_class*, соответствующее *focal_method* на специальный токен <FUNC_TOKEN>, чтобы не учитывать внутри него информацию о *focal_method*, а работать исключительно с окружением функции, для которой мы пишем тесты"
   ]
  },
  {
   "cell_type": "code",
   "execution_count": 91,
   "metadata": {},
   "outputs": [
    {
     "name": "stderr",
     "output_type": "stream",
     "text": [
      "100%|██████████| 280458/280458 [00:02<00:00, 125996.78it/s]\n",
      "100%|██████████| 280458/280458 [00:00<00:00, 286257.19it/s]\n"
     ]
    }
   ],
   "source": [
    "def replace_func(row, column_fm, column_fc):\n",
    "    '''Функция будет заменять содержимое одной колонки внутри другой'''\n",
    "    target = row[column_fc]\n",
    "    substring = row[column_fm]\n",
    "    return target.replace(substring, 'FUNC_TOKEN')\n",
    "\n",
    "def insert_space(row, column, token):\n",
    "    '''Функция вставить пробел дополнительный пробел для токена в колонке'''\n",
    "    return row[column].replace(token, f\" {token} \").strip().replace('  ', ' ')\n",
    "\n",
    "dataset['focal_cls'] = dataset.progress_apply(replace_func, axis=1, args=('focal_method', 'focal_cls'))\n",
    "dataset['focal_cls'] = dataset.progress_apply(insert_space, axis=1, args=('focal_cls', 'FUNC_TOKEN'))"
   ]
  },
  {
   "cell_type": "code",
   "execution_count": 151,
   "metadata": {},
   "outputs": [
    {
     "name": "stdout",
     "output_type": "stream",
     "text": [
      "\n",
      "class Microdot:\n",
      "    def route(self, url_pattern, methods=None):\n",
      "        \"\"\"Decorator that is used to register a function as a request handler\n",
      "        for a given URL.\n",
      "        :param url_pattern: The URL pattern that will be compared against\n",
      "                            incoming requests.\n",
      "        :param methods: The list of HTTP methods to be handled by the\n",
      "                        decorated function. If omitted, only ``GET`` requests\n",
      "                        are handled.\n",
      "        The URL pattern can be a static path (for example, ``/users`` or\n",
      "        ``/api/invoices/search``) or a path with dynamic components enclosed\n",
      "        in ``<`` and ``>`` (for example, ``/users/<id>`` or\n",
      "        ``/invoices/<number>/products``). Dynamic path components can also\n",
      "        include a type prefix, separated from the name with a colon (for\n",
      "        example, ``/users/<int:id>``). The type can be ``string`` (the\n",
      "        default), ``int``, ``path`` or ``re:[regular-expression]``.\n",
      "        The first argument of the decorated function must be\n",
      "        the request object. Any path arguments that are specified in the URL\n",
      "        pattern are passed as keyword arguments. The return value of the\n",
      "        function must be a :class:`Response` instance, or the arguments to\n",
      "        be passed to this class.\n",
      "        Example::\n",
      "            @app.route('/')\n",
      "            def index(request):\n",
      "                return 'Hello, world!'\n",
      "        \"\"\"\n",
      "        def decorated(f):\n",
      "            self.url_map.append(\n",
      "                ([m.upper() for m in (methods or ['GET'])],\n",
      "                 URLPattern(url_pattern), f))\n",
      "            return f\n",
      "        return decorated\n",
      "    def get(self, url_pattern):\n",
      "        \"\"\"Decorator that is used to register a function as a ``GET`` request\n",
      "        handler for a given URL.\n",
      "        :param url_pattern: The URL pattern that will be compared against\n",
      "                            incoming requests.\n",
      "        This decorator can be used as an alias to the ``route`` decorator with\n",
      "        ``methods=['GET']``.\n",
      "        Example::\n",
      "            @app.get('/users/<int:id>')\n",
      "            def get_user(request, id):\n",
      "                # ...\n",
      "        \"\"\"\n",
      "        return self.route(url_pattern, methods=['GET'])\n",
      "\n"
     ]
    }
   ],
   "source": [
    "print(dataset['focal_cls'].values[1])"
   ]
  },
  {
   "cell_type": "markdown",
   "metadata": {},
   "source": [
    "Приводим к корректному виду описание *focal_cls* на естественном языке"
   ]
  },
  {
   "cell_type": "code",
   "execution_count": 156,
   "metadata": {},
   "outputs": [
    {
     "name": "stderr",
     "output_type": "stream",
     "text": [
      "100%|██████████| 280458/280458 [00:00<00:00, 303094.26it/s]\n",
      "100%|██████████| 280458/280458 [00:00<00:00, 373951.49it/s]\n",
      "100%|██████████| 280458/280458 [00:01<00:00, 252715.70it/s]\n",
      "100%|██████████| 280458/280458 [00:00<00:00, 338921.82it/s]\n",
      "100%|██████████| 280458/280458 [00:00<00:00, 482367.35it/s]\n"
     ]
    }
   ],
   "source": [
    "dataset['focal_cls_comments'] = dataset.progress_apply(drop_hashtag_symbol, axis=1, args=('focal_cls_comments',))\n",
    "dataset['focal_cls_comments'] = dataset.progress_apply(drop_ln, axis=1, args=('focal_cls_comments',))\n",
    "dataset['focal_cls_comments'] = dataset.progress_apply(drop_large_spaces, axis=1, args=('focal_cls_comments',))\n",
    "dataset['focal_cls_comments'] = dataset.progress_apply(remove_non_language_symbols, axis=1, args=('focal_cls_comments',))\n",
    "dataset['focal_cls_comments'] = dataset.progress_apply(strip_text, axis=1, args=('focal_cls_comments',))"
   ]
  },
  {
   "cell_type": "code",
   "execution_count": 157,
   "metadata": {},
   "outputs": [
    {
     "name": "stdout",
     "output_type": "stream",
     "text": [
      "\n",
      "    Split tag into state and named entity category.\n",
      "    Parameters\n",
      "    ---\n",
      "    tag (str)\n",
      "        NE tag (e.g. B-PER)\n",
      "    \n"
     ]
    }
   ],
   "source": [
    "print(dataset['focal_cls_docs'].values[4])"
   ]
  },
  {
   "cell_type": "code",
   "execution_count": 159,
   "metadata": {},
   "outputs": [
    {
     "name": "stderr",
     "output_type": "stream",
     "text": [
      "100%|██████████| 280458/280458 [00:01<00:00, 159257.46it/s]\n",
      "100%|██████████| 280458/280458 [00:00<00:00, 449271.80it/s]\n",
      "100%|██████████| 280458/280458 [00:00<00:00, 356763.65it/s]\n"
     ]
    }
   ],
   "source": [
    "dataset['focal_cls_info'] = dataset.progress_apply(\n",
    "    create_NL_code_representation, axis=1, args=('focal_cls_docs', 'focal_cls_comments')\n",
    ")\n",
    "dataset['focal_cls_info'] = dataset.progress_apply(\n",
    "    replace_empty_info, axis=1, args=('focal_cls_info',)\n",
    ")\n",
    "dataset['focal_cls_info'] = dataset.progress_apply(\n",
    "    replace_INFO_TOKEN_non_empty, axis=1, args=('focal_cls_info',)\n",
    ")"
   ]
  },
  {
   "cell_type": "code",
   "execution_count": 160,
   "metadata": {},
   "outputs": [
    {
     "data": {
      "text/plain": [
       "\"DESCRIPTION_TOKEN: Decorator that is used to register a function as a ``GET`` request handler for a given URL. :param url_pattern: The URL pattern that will be compared against incoming requests. This decorator can be used as an alias to the ``route`` decorator with ``methods=['GET']``. Example:: @app.get('/users/<int:id>') def get_user(request, id): # ... COMMENTS_TOKEN: \""
      ]
     },
     "execution_count": 160,
     "metadata": {},
     "output_type": "execute_result"
    }
   ],
   "source": [
    "dataset['focal_method_info'].values[1]"
   ]
  },
  {
   "cell_type": "code",
   "execution_count": 169,
   "metadata": {},
   "outputs": [
    {
     "name": "stderr",
     "output_type": "stream",
     "text": [
      "100%|██████████| 280458/280458 [00:01<00:00, 142816.83it/s]\n",
      "100%|██████████| 280458/280458 [00:02<00:00, 95958.07it/s] \n"
     ]
    }
   ],
   "source": [
    "dataset['focal_cls_info'] = dataset.progress_apply(drop_ln, axis=1, args=('focal_cls_info',))\n",
    "dataset['focal_cls_info'] = dataset.progress_apply(drop_large_spaces, axis=1, args=('focal_cls_info',))"
   ]
  },
  {
   "cell_type": "code",
   "execution_count": 172,
   "metadata": {},
   "outputs": [
    {
     "name": "stdout",
     "output_type": "stream",
     "text": [
      "DESCRIPTION_TOKEN: Split tag into state and named entity category. Parameters --- tag (str) NE tag (e.g. B-PER) COMMENTS_TOKEN: should be bio format case1 IORG IORG case2 IORG IPERSON case3 O IORG case4 IORG IORG\n"
     ]
    }
   ],
   "source": [
    "print(dataset['focal_cls_info'].values[4])"
   ]
  },
  {
   "cell_type": "code",
   "execution_count": null,
   "metadata": {},
   "outputs": [
    {
     "name": "stderr",
     "output_type": "stream",
     "text": [
      "100%|██████████| 280458/280458 [00:01<00:00, 146471.94it/s]\n",
      "100%|██████████| 280458/280458 [00:08<00:00, 33157.47it/s]\n"
     ]
    }
   ],
   "source": [
    "dataset['focal_cls_ast'] = dataset.progress_apply(drop_ln, axis = 1, args = ['focal_cls_ast'])\n",
    "dataset['focal_cls_ast'] = dataset.progress_apply(drop_large_spaces, axis = 1, args = ['focal_cls_ast'])"
   ]
  },
  {
   "cell_type": "code",
   "execution_count": 177,
   "metadata": {},
   "outputs": [
    {
     "data": {
      "text/plain": [
       "\"Module( body=[ FunctionDef( name='get', args=arguments( posonlyargs=[], args=[ arg(arg='self'), arg(arg='key'), arg(arg='default')], kwonlyargs=[], kw_defaults=[], defaults=[ Constant(value=None)]), body=[ Assign( targets=[ Name(id='kl', ctx=Store())], value=Call( func=Attribute( value=Name(id='key', ctx=Load()), attr='lower', ctx=Load()), args=[], keywords=[])), Return( value=Call( func=Attribute( value=Call( func=Name(id='super', ctx=Load()), args=[], keywords=[]), attr='get', ctx=Load()), args=[ Call( func=Attribute( value=Attribute( value=Name(id='self', ctx=Load()), attr='keymap', ctx=Load()), attr='get', ctx=Load()), args=[ Name(id='kl', ctx=Load()), Name(id='kl', ctx=Load())], keywords=[]), Name(id='default', ctx=Load())], keywords=[]))], decorator_list=[], type_params=[])], type_ignores=[])\""
      ]
     },
     "execution_count": 177,
     "metadata": {},
     "output_type": "execute_result"
    }
   ],
   "source": [
    "dataset['focal_cls_ast'].values[0]"
   ]
  },
  {
   "cell_type": "code",
   "execution_count": 180,
   "metadata": {},
   "outputs": [],
   "source": [
    "dataset = dataset.drop(columns = ['focal_cls_comments',\n",
    "                                  'focal_cls_docs'])"
   ]
  },
  {
   "cell_type": "code",
   "execution_count": 181,
   "metadata": {},
   "outputs": [
    {
     "data": {
      "text/html": [
       "<div>\n",
       "<style scoped>\n",
       "    .dataframe tbody tr th:only-of-type {\n",
       "        vertical-align: middle;\n",
       "    }\n",
       "\n",
       "    .dataframe tbody tr th {\n",
       "        vertical-align: top;\n",
       "    }\n",
       "\n",
       "    .dataframe thead th {\n",
       "        text-align: right;\n",
       "    }\n",
       "</style>\n",
       "<table border=\"1\" class=\"dataframe\">\n",
       "  <thead>\n",
       "    <tr style=\"text-align: right;\">\n",
       "      <th></th>\n",
       "      <th>id</th>\n",
       "      <th>query</th>\n",
       "      <th>response</th>\n",
       "      <th>code_features</th>\n",
       "      <th>LANG_TOKEN</th>\n",
       "      <th>focal_method</th>\n",
       "      <th>focal_cls</th>\n",
       "      <th>focal_method_ast</th>\n",
       "      <th>focal_cls_ast</th>\n",
       "      <th>focal_method_info</th>\n",
       "      <th>focal_cls_info</th>\n",
       "    </tr>\n",
       "  </thead>\n",
       "  <tbody>\n",
       "    <tr>\n",
       "      <th>0</th>\n",
       "      <td>1</td>\n",
       "      <td>You are a professional python software enginee...</td>\n",
       "      <td>from microdot import Microdot, Response, abort...</td>\n",
       "      <td>(python, ```python\\ndef get(self, key, default...</td>\n",
       "      <td>python</td>\n",
       "      <td>def get(self, key, default=None): kl = key.low...</td>\n",
       "      <td>class NoCaseDict(dict): def get(self, key, def...</td>\n",
       "      <td>Module( body=[ FunctionDef( name='get', args=a...</td>\n",
       "      <td>Module( body=[ FunctionDef( name='get', args=a...</td>\n",
       "      <td>INFO_TOKEN</td>\n",
       "      <td>INFO_TOKEN</td>\n",
       "    </tr>\n",
       "    <tr>\n",
       "      <th>1</th>\n",
       "      <td>2</td>\n",
       "      <td>You are a professional python software enginee...</td>\n",
       "      <td>from microdot import Microdot, Response, abort...</td>\n",
       "      <td>(python, ```python\\ndef get(self, url_pattern)...</td>\n",
       "      <td>python</td>\n",
       "      <td>def get(self, url_pattern): return self.route(...</td>\n",
       "      <td>class Microdot: def route(self, url_pattern, m...</td>\n",
       "      <td>Module( body=[ FunctionDef( name='get', args=a...</td>\n",
       "      <td>Module( body=[ FunctionDef( name='get', args=a...</td>\n",
       "      <td>DESCRIPTION_TOKEN: Decorator that is used to r...</td>\n",
       "      <td>DESCRIPTION_TOKEN: Decorator that is used to r...</td>\n",
       "    </tr>\n",
       "    <tr>\n",
       "      <th>2</th>\n",
       "      <td>3</td>\n",
       "      <td>You are a professional python software enginee...</td>\n",
       "      <td>from microdot import Microdot, Response, abort...</td>\n",
       "      <td>(python, ```python\\ndef post(self, url_pattern...</td>\n",
       "      <td>python</td>\n",
       "      <td>def post(self, url_pattern): return self.route...</td>\n",
       "      <td>class Microdot: def route(self, url_pattern, m...</td>\n",
       "      <td>Module( body=[ FunctionDef( name='post', args=...</td>\n",
       "      <td>Module( body=[ FunctionDef( name='post', args=...</td>\n",
       "      <td>DESCRIPTION_TOKEN: Decorator that is used to r...</td>\n",
       "      <td>DESCRIPTION_TOKEN: Decorator that is used to r...</td>\n",
       "    </tr>\n",
       "    <tr>\n",
       "      <th>3</th>\n",
       "      <td>4</td>\n",
       "      <td>You are a professional python software enginee...</td>\n",
       "      <td>from microdot import Microdot, Response, abort...</td>\n",
       "      <td>(python, ```python\\ndef mount(self, subapp, ur...</td>\n",
       "      <td>python</td>\n",
       "      <td>def mount(self, subapp, url_prefix=''): for me...</td>\n",
       "      <td>class Microdot: def mount(self, subapp, url_pr...</td>\n",
       "      <td>Module( body=[ FunctionDef( name='mount', args...</td>\n",
       "      <td>Module( body=[ FunctionDef( name='mount', args...</td>\n",
       "      <td>DESCRIPTION_TOKEN: Mount a sub-application, op...</td>\n",
       "      <td>DESCRIPTION_TOKEN: Mount a sub-application, op...</td>\n",
       "    </tr>\n",
       "    <tr>\n",
       "      <th>4</th>\n",
       "      <td>5</td>\n",
       "      <td>You are a professional python software enginee...</td>\n",
       "      <td>from pyner.named_entity.corpus import bio2bioe...</td>\n",
       "      <td>(python, ```python\\ndef iob2bio(tags):\\n    pr...</td>\n",
       "      <td>python</td>\n",
       "      <td>def iob2bio(tags): processed_tags = [] # shoul...</td>\n",
       "      <td>def split_tag(tag: str): if tag in [\"O\", \"-X-\"...</td>\n",
       "      <td>Module( body=[ FunctionDef( name='iob2bio', ar...</td>\n",
       "      <td>Module( body=[ FunctionDef( name='iob2bio', ar...</td>\n",
       "      <td>DESCRIPTION_TOKEN: should be bio format case1 ...</td>\n",
       "      <td>DESCRIPTION_TOKEN: Split tag into state and na...</td>\n",
       "    </tr>\n",
       "  </tbody>\n",
       "</table>\n",
       "</div>"
      ],
      "text/plain": [
       "   id                                              query  \\\n",
       "0   1  You are a professional python software enginee...   \n",
       "1   2  You are a professional python software enginee...   \n",
       "2   3  You are a professional python software enginee...   \n",
       "3   4  You are a professional python software enginee...   \n",
       "4   5  You are a professional python software enginee...   \n",
       "\n",
       "                                            response  \\\n",
       "0  from microdot import Microdot, Response, abort...   \n",
       "1  from microdot import Microdot, Response, abort...   \n",
       "2  from microdot import Microdot, Response, abort...   \n",
       "3  from microdot import Microdot, Response, abort...   \n",
       "4  from pyner.named_entity.corpus import bio2bioe...   \n",
       "\n",
       "                                       code_features LANG_TOKEN  \\\n",
       "0  (python, ```python\\ndef get(self, key, default...     python   \n",
       "1  (python, ```python\\ndef get(self, url_pattern)...     python   \n",
       "2  (python, ```python\\ndef post(self, url_pattern...     python   \n",
       "3  (python, ```python\\ndef mount(self, subapp, ur...     python   \n",
       "4  (python, ```python\\ndef iob2bio(tags):\\n    pr...     python   \n",
       "\n",
       "                                        focal_method  \\\n",
       "0  def get(self, key, default=None): kl = key.low...   \n",
       "1  def get(self, url_pattern): return self.route(...   \n",
       "2  def post(self, url_pattern): return self.route...   \n",
       "3  def mount(self, subapp, url_prefix=''): for me...   \n",
       "4  def iob2bio(tags): processed_tags = [] # shoul...   \n",
       "\n",
       "                                           focal_cls  \\\n",
       "0  class NoCaseDict(dict): def get(self, key, def...   \n",
       "1  class Microdot: def route(self, url_pattern, m...   \n",
       "2  class Microdot: def route(self, url_pattern, m...   \n",
       "3  class Microdot: def mount(self, subapp, url_pr...   \n",
       "4  def split_tag(tag: str): if tag in [\"O\", \"-X-\"...   \n",
       "\n",
       "                                    focal_method_ast  \\\n",
       "0  Module( body=[ FunctionDef( name='get', args=a...   \n",
       "1  Module( body=[ FunctionDef( name='get', args=a...   \n",
       "2  Module( body=[ FunctionDef( name='post', args=...   \n",
       "3  Module( body=[ FunctionDef( name='mount', args...   \n",
       "4  Module( body=[ FunctionDef( name='iob2bio', ar...   \n",
       "\n",
       "                                       focal_cls_ast  \\\n",
       "0  Module( body=[ FunctionDef( name='get', args=a...   \n",
       "1  Module( body=[ FunctionDef( name='get', args=a...   \n",
       "2  Module( body=[ FunctionDef( name='post', args=...   \n",
       "3  Module( body=[ FunctionDef( name='mount', args...   \n",
       "4  Module( body=[ FunctionDef( name='iob2bio', ar...   \n",
       "\n",
       "                                   focal_method_info  \\\n",
       "0                                         INFO_TOKEN   \n",
       "1  DESCRIPTION_TOKEN: Decorator that is used to r...   \n",
       "2  DESCRIPTION_TOKEN: Decorator that is used to r...   \n",
       "3  DESCRIPTION_TOKEN: Mount a sub-application, op...   \n",
       "4  DESCRIPTION_TOKEN: should be bio format case1 ...   \n",
       "\n",
       "                                      focal_cls_info  \n",
       "0                                         INFO_TOKEN  \n",
       "1  DESCRIPTION_TOKEN: Decorator that is used to r...  \n",
       "2  DESCRIPTION_TOKEN: Decorator that is used to r...  \n",
       "3  DESCRIPTION_TOKEN: Mount a sub-application, op...  \n",
       "4  DESCRIPTION_TOKEN: Split tag into state and na...  "
      ]
     },
     "execution_count": 181,
     "metadata": {},
     "output_type": "execute_result"
    }
   ],
   "source": [
    "dataset.head()"
   ]
  },
  {
   "cell_type": "code",
   "execution_count": 184,
   "metadata": {},
   "outputs": [
    {
     "data": {
      "text/plain": [
       "True"
      ]
     },
     "execution_count": 184,
     "metadata": {},
     "output_type": "execute_result"
    }
   ],
   "source": [
    "dataset['focal_method_ast'].values[0] == dataset['focal_cls_ast'].values[0]"
   ]
  },
  {
   "cell_type": "code",
   "execution_count": 183,
   "metadata": {},
   "outputs": [
    {
     "data": {
      "text/plain": [
       "\"Module( body=[ FunctionDef( name='get', args=arguments( posonlyargs=[], args=[ arg(arg='self'), arg(arg='key'), arg(arg='default')], kwonlyargs=[], kw_defaults=[], defaults=[ Constant(value=None)]), body=[ Assign( targets=[ Name(id='kl', ctx=Store())], value=Call( func=Attribute( value=Name(id='key', ctx=Load()), attr='lower', ctx=Load()), args=[], keywords=[])), Return( value=Call( func=Attribute( value=Call( func=Name(id='super', ctx=Load()), args=[], keywords=[]), attr='get', ctx=Load()), args=[ Call( func=Attribute( value=Attribute( value=Name(id='self', ctx=Load()), attr='keymap', ctx=Load()), attr='get', ctx=Load()), args=[ Name(id='kl', ctx=Load()), Name(id='kl', ctx=Load())], keywords=[]), Name(id='default', ctx=Load())], keywords=[]))], decorator_list=[], type_params=[])], type_ignores=[])\""
      ]
     },
     "execution_count": 183,
     "metadata": {},
     "output_type": "execute_result"
    }
   ],
   "source": [
    "dataset['focal_cls_ast'].values[0]"
   ]
  },
  {
   "cell_type": "code",
   "execution_count": 189,
   "metadata": {},
   "outputs": [
    {
     "data": {
      "text/plain": [
       "'def get(self, key, default=None): kl = key.lower() return super().get(self.keymap.get(kl, kl), default)'"
      ]
     },
     "execution_count": 189,
     "metadata": {},
     "output_type": "execute_result"
    }
   ],
   "source": [
    "dataset['focal_method'].values[0]"
   ]
  },
  {
   "cell_type": "code",
   "execution_count": 190,
   "metadata": {},
   "outputs": [
    {
     "data": {
      "text/plain": [
       "'class NoCaseDict(dict): def get(self, key, default=None): kl = key.lower() return super().get(self.keymap.get(kl, kl), default)'"
      ]
     },
     "execution_count": 190,
     "metadata": {},
     "output_type": "execute_result"
    }
   ],
   "source": [
    "dataset['focal_cls'].values[0]"
   ]
  },
  {
   "cell_type": "code",
   "execution_count": 199,
   "metadata": {},
   "outputs": [
    {
     "data": {
      "text/plain": [
       "\"Module(\\n    body=[\\n        FunctionDef(\\n            name='mount',\\n            args=arguments(\\n                posonlyargs=[],\\n                args=[\\n                    arg(arg='self'),\\n                    arg(arg='subapp'),\\n                    arg(arg='url_prefix')],\\n                kwonlyargs=[],\\n                kw_defaults=[],\\n                defaults=[\\n                    Constant(value='')]),\\n            body=[\\n                Expr(\\n                    value=Constant(value='Mount a sub-application, optionally under the given URL prefix.\\\\n\\\\n        :param subapp: The sub-application to mount.\\\\n        :param url_prefix: The URL prefix to mount the application under.\\\\n        ')),\\n                For(\\n                    target=Tuple(\\n                        elts=[\\n                            Name(id='methods', ctx=Store()),\\n                            Name(id='pattern', ctx=Store()),\\n                            Name(id='handler', ctx=Store())],\\n                        ctx=Store()),\\n                    iter=Attribute(\\n                        value=Name(id='subapp', ctx=Load()),\\n                        attr='url_map',\\n                        ctx=Load()),\\n                    body=[\\n                        Expr(\\n                            value=Call(\\n                                func=Attribute(\\n                                    value=Attribute(\\n                                        value=Name(id='self', ctx=Load()),\\n                                        attr='url_map',\\n                                        ctx=Load()),\\n                                    attr='append',\\n                                    ctx=Load()),\\n                                args=[\\n                                    Tuple(\\n                                        elts=[\\n                                            Name(id='methods', ctx=Load()),\\n                                            Call(\\n                                                func=Name(id='URLPattern', ctx=Load()),\\n                                                args=[\\n                                                    BinOp(\\n                                                        left=Name(id='url_prefix', ctx=Load()),\\n                                                        op=Add(),\\n                                                        right=Attribute(\\n                                                            value=Name(id='pattern', ctx=Load()),\\n                                                            attr='url_pattern',\\n                                                            ctx=Load()))],\\n                                                keywords=[]),\\n                                            Name(id='handler', ctx=Load())],\\n                                        ctx=Load())],\\n                                keywords=[]))],\\n                    orelse=[]),\\n                For(\\n                    target=Name(id='handler', ctx=Store()),\\n                    iter=Attribute(\\n                        value=Name(id='subapp', ctx=Load()),\\n                        attr='before_request_handlers',\\n                        ctx=Load()),\\n                    body=[\\n                        Expr(\\n                            value=Call(\\n                                func=Attribute(\\n                                    value=Attribute(\\n                                        value=Name(id='self', ctx=Load()),\\n                                        attr='before_request_handlers',\\n                                        ctx=Load()),\\n                                    attr='append',\\n                                    ctx=Load()),\\n                                args=[\\n                                    Name(id='handler', ctx=Load())],\\n                                keywords=[]))],\\n                    orelse=[]),\\n                For(\\n                    target=Name(id='handler', ctx=Store()),\\n                    iter=Attribute(\\n                        value=Name(id='subapp', ctx=Load()),\\n                        attr='after_request_handlers',\\n                        ctx=Load()),\\n                    body=[\\n                        Expr(\\n                            value=Call(\\n                                func=Attribute(\\n                                    value=Attribute(\\n                                        value=Name(id='self', ctx=Load()),\\n                                        attr='after_request_handlers',\\n                                        ctx=Load()),\\n                                    attr='append',\\n                                    ctx=Load()),\\n                                args=[\\n                                    Name(id='handler', ctx=Load())],\\n                                keywords=[]))],\\n                    orelse=[]),\\n                For(\\n                    target=Name(id='handler', ctx=Store()),\\n                    iter=Attribute(\\n                        value=Name(id='subapp', ctx=Load()),\\n                        attr='after_error_request_handlers',\\n                        ctx=Load()),\\n                    body=[\\n                        Expr(\\n                            value=Call(\\n                                func=Attribute(\\n                                    value=Attribute(\\n                                        value=Name(id='self', ctx=Load()),\\n                                        attr='after_error_request_handlers',\\n                                        ctx=Load()),\\n                                    attr='append',\\n                                    ctx=Load()),\\n                                args=[\\n                                    Name(id='handler', ctx=Load())],\\n                                keywords=[]))],\\n                    orelse=[]),\\n                For(\\n                    target=Tuple(\\n                        elts=[\\n                            Name(id='status_code', ctx=Store()),\\n                            Name(id='handler', ctx=Store())],\\n                        ctx=Store()),\\n                    iter=Call(\\n                        func=Attribute(\\n                            value=Attribute(\\n                                value=Name(id='subapp', ctx=Load()),\\n                                attr='error_handlers',\\n                                ctx=Load()),\\n                            attr='items',\\n                            ctx=Load()),\\n                        args=[],\\n                        keywords=[]),\\n                    body=[\\n                        Assign(\\n                            targets=[\\n                                Subscript(\\n                                    value=Attribute(\\n                                        value=Name(id='self', ctx=Load()),\\n                                        attr='error_handlers',\\n                                        ctx=Load()),\\n                                    slice=Name(id='status_code', ctx=Load()),\\n                                    ctx=Store())],\\n                            value=Name(id='handler', ctx=Load()))],\\n                    orelse=[])],\\n            decorator_list=[],\\n            type_params=[])],\\n    type_ignores=[])\""
      ]
     },
     "execution_count": 199,
     "metadata": {},
     "output_type": "execute_result"
    }
   ],
   "source": [
    "import ast\n",
    "# Пытаемся сразу построить AST-дерево\n",
    "tree = ast.parse(dataset['focal_method'].values[3])\n",
    "# Преобразуем AST в строку и возвращаем\n",
    "ast_tree = ast.dump(tree, indent=4)\n",
    "\t\n",
    "\n",
    "ast_tree"
   ]
  },
  {
   "cell_type": "code",
   "execution_count": null,
   "metadata": {},
   "outputs": [],
   "source": [
    "from create_dataset_m2t import Code2TestPrepareDataset"
   ]
  },
  {
   "cell_type": "code",
   "execution_count": 200,
   "metadata": {},
   "outputs": [
    {
     "data": {
      "text/plain": [
       "\"Module(\\n    body=[\\n        ClassDef(\\n            name='Microdot',\\n            bases=[],\\n            keywords=[],\\n            body=[\\n                FunctionDef(\\n                    name='mount',\\n                    args=arguments(\\n                        posonlyargs=[],\\n                        args=[\\n                            arg(arg='self'),\\n                            arg(arg='subapp'),\\n                            arg(arg='url_prefix')],\\n                        kwonlyargs=[],\\n                        kw_defaults=[],\\n                        defaults=[\\n                            Constant(value='')]),\\n                    body=[\\n                        Expr(\\n                            value=Constant(value='Mount a sub-application, optionally under the given URL prefix.\\\\n        :param subapp: The sub-application to mount.\\\\n        :param url_prefix: The URL prefix to mount the application under.\\\\n        ')),\\n                        For(\\n                            target=Tuple(\\n                                elts=[\\n                                    Name(id='methods', ctx=Store()),\\n                                    Name(id='pattern', ctx=Store()),\\n                                    Name(id='handler', ctx=Store())],\\n                                ctx=Store()),\\n                            iter=Attribute(\\n                                value=Name(id='subapp', ctx=Load()),\\n                                attr='url_map',\\n                                ctx=Load()),\\n                            body=[\\n                                Expr(\\n                                    value=Call(\\n                                        func=Attribute(\\n                                            value=Attribute(\\n                                                value=Name(id='self', ctx=Load()),\\n                                                attr='url_map',\\n                                                ctx=Load()),\\n                                            attr='append',\\n                                            ctx=Load()),\\n                                        args=[\\n                                            Tuple(\\n                                                elts=[\\n                                                    Name(id='methods', ctx=Load()),\\n                                                    Call(\\n                                                        func=Name(id='URLPattern', ctx=Load()),\\n                                                        args=[\\n                                                            BinOp(\\n                                                                left=Name(id='url_prefix', ctx=Load()),\\n                                                                op=Add(),\\n                                                                right=Attribute(\\n                                                                    value=Name(id='pattern', ctx=Load()),\\n                                                                    attr='url_pattern',\\n                                                                    ctx=Load()))],\\n                                                        keywords=[]),\\n                                                    Name(id='handler', ctx=Load())],\\n                                                ctx=Load())],\\n                                        keywords=[]))],\\n                            orelse=[]),\\n                        For(\\n                            target=Name(id='handler', ctx=Store()),\\n                            iter=Attribute(\\n                                value=Name(id='subapp', ctx=Load()),\\n                                attr='before_request_handlers',\\n                                ctx=Load()),\\n                            body=[\\n                                Expr(\\n                                    value=Call(\\n                                        func=Attribute(\\n                                            value=Attribute(\\n                                                value=Name(id='self', ctx=Load()),\\n                                                attr='before_request_handlers',\\n                                                ctx=Load()),\\n                                            attr='append',\\n                                            ctx=Load()),\\n                                        args=[\\n                                            Name(id='handler', ctx=Load())],\\n                                        keywords=[]))],\\n                            orelse=[]),\\n                        For(\\n                            target=Name(id='handler', ctx=Store()),\\n                            iter=Attribute(\\n                                value=Name(id='subapp', ctx=Load()),\\n                                attr='after_request_handlers',\\n                                ctx=Load()),\\n                            body=[\\n                                Expr(\\n                                    value=Call(\\n                                        func=Attribute(\\n                                            value=Attribute(\\n                                                value=Name(id='self', ctx=Load()),\\n                                                attr='after_request_handlers',\\n                                                ctx=Load()),\\n                                            attr='append',\\n                                            ctx=Load()),\\n                                        args=[\\n                                            Name(id='handler', ctx=Load())],\\n                                        keywords=[]))],\\n                            orelse=[]),\\n                        For(\\n                            target=Name(id='handler', ctx=Store()),\\n                            iter=Attribute(\\n                                value=Name(id='subapp', ctx=Load()),\\n                                attr='after_error_request_handlers',\\n                                ctx=Load()),\\n                            body=[\\n                                Expr(\\n                                    value=Call(\\n                                        func=Attribute(\\n                                            value=Attribute(\\n                                                value=Name(id='self', ctx=Load()),\\n                                                attr='after_error_request_handlers',\\n                                                ctx=Load()),\\n                                            attr='append',\\n                                            ctx=Load()),\\n                                        args=[\\n                                            Name(id='handler', ctx=Load())],\\n                                        keywords=[]))],\\n                            orelse=[]),\\n                        For(\\n                            target=Tuple(\\n                                elts=[\\n                                    Name(id='status_code', ctx=Store()),\\n                                    Name(id='handler', ctx=Store())],\\n                                ctx=Store()),\\n                            iter=Call(\\n                                func=Attribute(\\n                                    value=Attribute(\\n                                        value=Name(id='subapp', ctx=Load()),\\n                                        attr='error_handlers',\\n                                        ctx=Load()),\\n                                    attr='items',\\n                                    ctx=Load()),\\n                                args=[],\\n                                keywords=[]),\\n                            body=[\\n                                Assign(\\n                                    targets=[\\n                                        Subscript(\\n                                            value=Attribute(\\n                                                value=Name(id='self', ctx=Load()),\\n                                                attr='error_handlers',\\n                                                ctx=Load()),\\n                                            slice=Name(id='status_code', ctx=Load()),\\n                                            ctx=Store())],\\n                                    value=Name(id='handler', ctx=Load()))],\\n                            orelse=[])],\\n                    decorator_list=[],\\n                    type_params=[])],\\n            decorator_list=[],\\n            type_params=[])],\\n    type_ignores=[])\""
      ]
     },
     "execution_count": 200,
     "metadata": {},
     "output_type": "execute_result"
    }
   ],
   "source": [
    "tree = ast.parse(dataset['focal_cls'].values[3])\n",
    "# Преобразуем AST в строку и возвращаем\n",
    "ast_tree = ast.dump(tree, indent=4)\n",
    "\t\n",
    "\n",
    "ast_tree"
   ]
  },
  {
   "cell_type": "code",
   "execution_count": 201,
   "metadata": {},
   "outputs": [
    {
     "data": {
      "text/plain": [
       "\"Module(\\n    body=[\\n        ClassDef(\\n            name='Microdot',\\n            bases=[],\\n            keywords=[],\\n            body=[\\n                FunctionDef(\\n                    name='mount',\\n                    args=arguments(\\n                        posonlyargs=[],\\n                        args=[\\n                            arg(arg='self'),\\n                            arg(arg='subapp'),\\n                            arg(arg='url_prefix')],\\n                        kwonlyargs=[],\\n                        kw_defaults=[],\\n                        defaults=[\\n                            Constant(value='')]),\\n                    body=[\\n                        Expr(\\n                            value=Constant(value='Mount a sub-application, optionally under the given URL prefix.\\\\n        :param subapp: The sub-application to mount.\\\\n        :param url_prefix: The URL prefix to mount the application under.\\\\n        ')),\\n                        For(\\n                            target=Tuple(\\n                                elts=[\\n                                    Name(id='methods', ctx=Store()),\\n                                    Name(id='pattern', ctx=Store()),\\n                                    Name(id='handler', ctx=Store())],\\n                                ctx=Store()),\\n                            iter=Attribute(\\n                                value=Name(id='subapp', ctx=Load()),\\n                                attr='url_map',\\n                                ctx=Load()),\\n                            body=[\\n                                Expr(\\n                                    value=Call(\\n                                        func=Attribute(\\n                                            value=Attribute(\\n                                                value=Name(id='self', ctx=Load()),\\n                                                attr='url_map',\\n                                                ctx=Load()),\\n                                            attr='append',\\n                                            ctx=Load()),\\n                                        args=[\\n                                            Tuple(\\n                                                elts=[\\n                                                    Name(id='methods', ctx=Load()),\\n                                                    Call(\\n                                                        func=Name(id='URLPattern', ctx=Load()),\\n                                                        args=[\\n                                                            BinOp(\\n                                                                left=Name(id='url_prefix', ctx=Load()),\\n                                                                op=Add(),\\n                                                                right=Attribute(\\n                                                                    value=Name(id='pattern', ctx=Load()),\\n                                                                    attr='url_pattern',\\n                                                                    ctx=Load()))],\\n                                                        keywords=[]),\\n                                                    Name(id='handler', ctx=Load())],\\n                                                ctx=Load())],\\n                                        keywords=[]))],\\n                            orelse=[]),\\n                        For(\\n                            target=Name(id='handler', ctx=Store()),\\n                            iter=Attribute(\\n                                value=Name(id='subapp', ctx=Load()),\\n                                attr='before_request_handlers',\\n                                ctx=Load()),\\n                            body=[\\n                                Expr(\\n                                    value=Call(\\n                                        func=Attribute(\\n                                            value=Attribute(\\n                                                value=Name(id='self', ctx=Load()),\\n                                                attr='before_request_handlers',\\n                                                ctx=Load()),\\n                                            attr='append',\\n                                            ctx=Load()),\\n                                        args=[\\n                                            Name(id='handler', ctx=Load())],\\n                                        keywords=[]))],\\n                            orelse=[]),\\n                        For(\\n                            target=Name(id='handler', ctx=Store()),\\n                            iter=Attribute(\\n                                value=Name(id='subapp', ctx=Load()),\\n                                attr='after_request_handlers',\\n                                ctx=Load()),\\n                            body=[\\n                                Expr(\\n                                    value=Call(\\n                                        func=Attribute(\\n                                            value=Attribute(\\n                                                value=Name(id='self', ctx=Load()),\\n                                                attr='after_request_handlers',\\n                                                ctx=Load()),\\n                                            attr='append',\\n                                            ctx=Load()),\\n                                        args=[\\n                                            Name(id='handler', ctx=Load())],\\n                                        keywords=[]))],\\n                            orelse=[]),\\n                        For(\\n                            target=Name(id='handler', ctx=Store()),\\n                            iter=Attribute(\\n                                value=Name(id='subapp', ctx=Load()),\\n                                attr='after_error_request_handlers',\\n                                ctx=Load()),\\n                            body=[\\n                                Expr(\\n                                    value=Call(\\n                                        func=Attribute(\\n                                            value=Attribute(\\n                                                value=Name(id='self', ctx=Load()),\\n                                                attr='after_error_request_handlers',\\n                                                ctx=Load()),\\n                                            attr='append',\\n                                            ctx=Load()),\\n                                        args=[\\n                                            Name(id='handler', ctx=Load())],\\n                                        keywords=[]))],\\n                            orelse=[]),\\n                        For(\\n                            target=Tuple(\\n                                elts=[\\n                                    Name(id='status_code', ctx=Store()),\\n                                    Name(id='handler', ctx=Store())],\\n                                ctx=Store()),\\n                            iter=Call(\\n                                func=Attribute(\\n                                    value=Attribute(\\n                                        value=Name(id='subapp', ctx=Load()),\\n                                        attr='error_handlers',\\n                                        ctx=Load()),\\n                                    attr='items',\\n                                    ctx=Load()),\\n                                args=[],\\n                                keywords=[]),\\n                            body=[\\n                                Assign(\\n                                    targets=[\\n                                        Subscript(\\n                                            value=Attribute(\\n                                                value=Name(id='self', ctx=Load()),\\n                                                attr='error_handlers',\\n                                                ctx=Load()),\\n                                            slice=Name(id='status_code', ctx=Load()),\\n                                            ctx=Store())],\\n                                    value=Name(id='handler', ctx=Load()))],\\n                            orelse=[])],\\n                    decorator_list=[],\\n                    type_params=[])],\\n            decorator_list=[],\\n            type_params=[])],\\n    type_ignores=[])\""
      ]
     },
     "execution_count": 201,
     "metadata": {},
     "output_type": "execute_result"
    }
   ],
   "source": [
    "Code2TestPrepareDataset.get_ast_representation(dataset['focal_cls'].values[3])"
   ]
  },
  {
   "cell_type": "code",
   "execution_count": null,
   "metadata": {},
   "outputs": [],
   "source": []
  }
 ],
 "metadata": {
  "kernelspec": {
   "display_name": "Python 3",
   "language": "python",
   "name": "python3"
  },
  "language_info": {
   "codemirror_mode": {
    "name": "ipython",
    "version": 3
   },
   "file_extension": ".py",
   "mimetype": "text/x-python",
   "name": "python",
   "nbconvert_exporter": "python",
   "pygments_lexer": "ipython3",
   "version": "3.12.3"
  }
 },
 "nbformat": 4,
 "nbformat_minor": 2
}
