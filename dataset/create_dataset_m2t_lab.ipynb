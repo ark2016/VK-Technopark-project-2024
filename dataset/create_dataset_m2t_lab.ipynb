{
 "cells": [
  {
   "cell_type": "markdown",
   "metadata": {},
   "source": [
    "#### Подготовка датасета для задачи Code2Test"
   ]
  },
  {
   "cell_type": "markdown",
   "metadata": {},
   "source": [
    "В данном .ipynb файле происходит форматирование [open source датасетов](data) к предполагаемому формату решения задачи."
   ]
  },
  {
   "cell_type": "markdown",
   "metadata": {},
   "source": [
    "Импортируем необходимые модули:"
   ]
  },
  {
   "cell_type": "code",
   "execution_count": 200,
   "metadata": {},
   "outputs": [],
   "source": [
    "import numpy as np\n",
    "import pandas as pd\n",
    "import re\n",
    "import ast\n",
    "import flowchart\n",
    "import json\n",
    "import time\n",
    "\n",
    "import os\n",
    "import random\n",
    "\n",
    "from tqdm import tqdm\n",
    "tqdm.pandas()"
   ]
  },
  {
   "cell_type": "markdown",
   "metadata": {},
   "source": [
    "Устанавливаем seed'ы:"
   ]
  },
  {
   "cell_type": "code",
   "execution_count": 201,
   "metadata": {},
   "outputs": [],
   "source": [
    "SEED = 42\n",
    "\n",
    "random.seed(SEED)\n",
    "np.random.seed(SEED)\n",
    "\n",
    "import warnings\n",
    "warnings.filterwarnings(\"ignore\")"
   ]
  },
  {
   "cell_type": "markdown",
   "metadata": {},
   "source": [
    "На этапе [предварительного анализа](data/data_pre_research) имеющихся open source датасетов была выдвинута гипотеза о релевантности датасета [Arain-unitTest](https://huggingface.co/datasets/Arain/UnitTest-Finetuning) для решаемой задачи.\n",
    "\n",
    "В связи с этим пробуем достать необходимые данные из этого проекта."
   ]
  },
  {
   "cell_type": "markdown",
   "metadata": {},
   "source": [
    "Поработаем с частью, чтобы впоследствии обработать весь пакет данных."
   ]
  },
  {
   "cell_type": "code",
   "execution_count": 5,
   "metadata": {},
   "outputs": [],
   "source": [
    "data_path = '/Users/chervonikov_alexey/Desktop/projects/Technopark_Autumn_2024/NN_course_project/data'\n",
    "folder_path = 'data_Arain_unitTest-FineTuning_example'\n",
    "json_path = 'zero_shot_multi_unit_test.json'\n",
    "\n",
    "input_path = os.path.join(data_path, folder_path, json_path)\n",
    "# print(input_path)"
   ]
  },
  {
   "cell_type": "markdown",
   "metadata": {},
   "source": [
    "Объявляем парсер json-файла:"
   ]
  },
  {
   "cell_type": "code",
   "execution_count": 6,
   "metadata": {},
   "outputs": [],
   "source": [
    "def json_parser(input_path = input_path):\n",
    "\t'''Функция считывает файл формата JSON по пути и преобразует его в dict'''\n",
    "\twith open(input_path, 'r') as file:\n",
    "\t\tjson_dict = json.load(file)\n",
    "\n",
    "\treturn json_dict\n",
    "\n",
    "json_example = json_parser()"
   ]
  },
  {
   "cell_type": "markdown",
   "metadata": {},
   "source": [
    "Посмотрим сколько у нас сэмплов:"
   ]
  },
  {
   "cell_type": "code",
   "execution_count": 7,
   "metadata": {},
   "outputs": [
    {
     "name": "stdout",
     "output_type": "stream",
     "text": [
      "Количество данных: 281060\n"
     ]
    }
   ],
   "source": [
    "print(f\"Количество данных: {len(json_example)}\")"
   ]
  },
  {
   "cell_type": "markdown",
   "metadata": {},
   "source": [
    "Как выглядит первый сэмпл:"
   ]
  },
  {
   "cell_type": "markdown",
   "metadata": {},
   "source": [
    "ID"
   ]
  },
  {
   "cell_type": "code",
   "execution_count": 8,
   "metadata": {},
   "outputs": [
    {
     "data": {
      "text/plain": [
       "1"
      ]
     },
     "execution_count": 8,
     "metadata": {},
     "output_type": "execute_result"
    }
   ],
   "source": [
    "json_example[0]['id']"
   ]
  },
  {
   "cell_type": "markdown",
   "metadata": {},
   "source": [
    "Instruction (тот самый промпт):"
   ]
  },
  {
   "cell_type": "code",
   "execution_count": 9,
   "metadata": {},
   "outputs": [
    {
     "data": {
      "text/plain": [
       "'### Instruction'"
      ]
     },
     "execution_count": 9,
     "metadata": {},
     "output_type": "execute_result"
    }
   ],
   "source": [
    "json_example[0]['conversations'][0]['from']"
   ]
  },
  {
   "cell_type": "code",
   "execution_count": 10,
   "metadata": {},
   "outputs": [
    {
     "data": {
      "text/plain": [
       "\"You are a professional python software engineer. You are asked to generate a complete test class for a focal method in a focal class.\\nYou will be given the following information of the focal method:\\n1. Source code of the focal method.\\n2. Source code of the focal class(Code that is not relevant to focal method's execution is filtered).\\n3. Source code of callee examples of the focal method.\\nYou will ONLY return unit test code for the focal method including necessary imports and dependencies, make sure it compile without errors, and use reflection to invoke private methods. \\nNote that no additional explanations required.\\n\\nHere are the information of the focal method:\\n1. Source code of the focal method.\\n```python\\ndef get(self, key, default=None):\\n        kl = key.lower()\\n        return super().get(self.keymap.get(kl, kl), default)\\n```\\n\\n2. Source code of the focal class(Codes that are may not related to focal method are filtered).\\n```python\\n\\nclass NoCaseDict(dict):\\n    def get(self, key, default=None):\\n        kl = key.lower()\\n        return super().get(self.keymap.get(kl, kl), default)\\n```\\n\\n3. Source code of callee examples of the focal method.\\nNo callee examples provided.\\n\\nPlease note that the test class you return should include multiple test cases covering different functionalities. There is no upper limit on the number of test cases, but you need to ensure that the test cases provide high test coverage and test extreme and special cases of the code as much as possible.\\n\""
      ]
     },
     "execution_count": 10,
     "metadata": {},
     "output_type": "execute_result"
    }
   ],
   "source": [
    "json_example[0]['conversations'][0]['value']"
   ]
  },
  {
   "cell_type": "markdown",
   "metadata": {},
   "source": [
    "Response (ответ на промпт):"
   ]
  },
  {
   "cell_type": "code",
   "execution_count": 11,
   "metadata": {},
   "outputs": [
    {
     "data": {
      "text/plain": [
       "'### Response'"
      ]
     },
     "execution_count": 11,
     "metadata": {},
     "output_type": "execute_result"
    }
   ],
   "source": [
    "json_example[0]['conversations'][1]['from']"
   ]
  },
  {
   "cell_type": "code",
   "execution_count": 12,
   "metadata": {},
   "outputs": [
    {
     "data": {
      "text/plain": [
       "\"```python\\nfrom microdot import Microdot, Response, abort\\nfrom microdot.test_client import TestClient\\n\\nclass TestMicrodot(unittest.TestCase):\\n    def _run(self, coro):\\n        return self.loop.run_until_complete(coro)\\n    def test_get_request(self):\\n        app = Microdot()\\n        @app.route('/')\\n        def index(req):\\n            return 'foo'\\n        @app.route('/async')\\n        async def index2(req):\\n            return 'foo-async'\\n        @app.route('/arg/<id>')\\n        def index3(req, id):\\n            return id\\n        @app.route('/arg/async/<id>')\\n        async def index4(req, id):\\n            return f'async-{id}'\\n        client = TestClient(app)\\n        res = self._run(client.get('/'))\\n        self.assertEqual(res.status_code, 200)\\n        self.assertEqual(res.headers['Content-Type'],\\n                         'text/plain; charset=UTF-8')\\n        self.assertEqual(res.headers['Content-Length'], '3')\\n        self.assertEqual(res.text, 'foo')\\n        self.assertEqual(res.body, b'foo')\\n        self.assertEqual(res.json, None)\\n        res = self._run(client.get('/async'))\\n        self.assertEqual(res.status_code, 200)\\n        self.assertEqual(res.headers['Content-Type'],\\n                         'text/plain; charset=UTF-8')\\n        self.assertEqual(res.headers['Content-Length'], '9')\\n        self.assertEqual(res.text, 'foo-async')\\n        self.assertEqual(res.body, b'foo-async')\\n        self.assertEqual(res.json, None)\\n        res = self._run(client.get('/arg/123'))\\n        self.assertEqual(res.status_code, 200)\\n        self.assertEqual(res.headers['Content-Type'],\\n                         'text/plain; charset=UTF-8')\\n        self.assertEqual(res.headers['Content-Length'], '3')\\n        self.assertEqual(res.text, '123')\\n        self.assertEqual(res.body, b'123')\\n        self.assertEqual(res.json, None)\\n        res = self._run(client.get('/arg/async/123'))\\n        self.assertEqual(res.status_code, 200)\\n        self.assertEqual(res.headers['Content-Type'],\\n                         'text/plain; charset=UTF-8')\\n        self.assertEqual(res.headers['Content-Length'], '9')\\n        self.assertEqual(res.text, 'async-123')\\n        self.assertEqual(res.body, b'async-123')\\n        self.assertEqual(res.json, None)\\n```\\n\""
      ]
     },
     "execution_count": 12,
     "metadata": {},
     "output_type": "execute_result"
    }
   ],
   "source": [
    "json_example[0]['conversations'][1]['value']"
   ]
  },
  {
   "cell_type": "markdown",
   "metadata": {},
   "source": [
    "Итак, мы видим, что в рамках запроса присутствует написанная функция, а в рамках ответа представлен unit-test.\n",
    "\n",
    "Таким образом, задача сводится к отделению одного от другого и фльтрации текста"
   ]
  },
  {
   "cell_type": "markdown",
   "metadata": {},
   "source": [
    "#### *Важно*"
   ]
  },
  {
   "cell_type": "markdown",
   "metadata": {},
   "source": [
    "В HuggingFace репозитории к датасету приложены шаблоны промптов, которые встрчеаются в запросах. \n",
    "\n",
    "Это даёт возможность для облегчения поиска кода среди запрсов.\n",
    "\n",
    "Шаблон:"
   ]
  },
  {
   "cell_type": "markdown",
   "metadata": {},
   "source": [
    "You are a professional {language} software engineer. You are asked to generate a complete test class for a focal method in a focal class.\n",
    "You will be given the following information of the focal method:\n",
    "1. Source code of the focal method.\n",
    "2. Source code of the focal class(Code that is not relevant to focal method's execution is filtered).\n",
    "3. Source code of callee examples of the focal method.\n",
    "You will ONLY return unit test code for the focal method including necessary imports and dependencies, make sure it compile without errors, and use reflection to invoke private methods. \n",
    "Note that no additional explanations required.\n",
    "\n",
    "Here are the information of the focal method:\n",
    "1. Source code of the focal method.\n",
    "{methodCode}\n",
    "\n",
    "2. Source code of the focal class(Codes that are may not related to focal method are filtered).\n",
    "{methodTotalCode}\n",
    "\n",
    "3. Source code of callee examples of the focal method.\n",
    "{callCode_callees_string}\n",
    "\n",
    "Please note that the test class you return should include multiple test cases covering different functionalities. There is no upper limit on the number of test cases, but you need to ensure that the test cases provide high test coverage and test extreme and special cases of the code as much as possible."
   ]
  },
  {
   "cell_type": "markdown",
   "metadata": {},
   "source": [
    "Таким образом, можем разбить запись для получения пространства признаков наших данных.\n",
    "\n",
    "Например, предположим:\n",
    "\n",
    "* LANG_TOKEN (Python / Java) <-> {language}\n",
    "\n",
    "* method code <-> 1. Source code of focal method\n",
    "\n",
    "* class code <-> 2. Source code of the focal class\n",
    "\n",
    "* Source code of callee examples of the focal method"
   ]
  },
  {
   "cell_type": "markdown",
   "metadata": {},
   "source": [
    "Получим датасет из json-словарей:"
   ]
  },
  {
   "cell_type": "code",
   "execution_count": 14,
   "metadata": {},
   "outputs": [],
   "source": [
    "code_dataset = pd.DataFrame(json_example)"
   ]
  },
  {
   "cell_type": "code",
   "execution_count": 15,
   "metadata": {},
   "outputs": [
    {
     "data": {
      "text/html": [
       "<div>\n",
       "<style scoped>\n",
       "    .dataframe tbody tr th:only-of-type {\n",
       "        vertical-align: middle;\n",
       "    }\n",
       "\n",
       "    .dataframe tbody tr th {\n",
       "        vertical-align: top;\n",
       "    }\n",
       "\n",
       "    .dataframe thead th {\n",
       "        text-align: right;\n",
       "    }\n",
       "</style>\n",
       "<table border=\"1\" class=\"dataframe\">\n",
       "  <thead>\n",
       "    <tr style=\"text-align: right;\">\n",
       "      <th></th>\n",
       "      <th>id</th>\n",
       "      <th>conversations</th>\n",
       "    </tr>\n",
       "  </thead>\n",
       "  <tbody>\n",
       "    <tr>\n",
       "      <th>0</th>\n",
       "      <td>1</td>\n",
       "      <td>[{'from': '### Instruction', 'value': 'You are...</td>\n",
       "    </tr>\n",
       "    <tr>\n",
       "      <th>1</th>\n",
       "      <td>2</td>\n",
       "      <td>[{'from': '### Instruction', 'value': 'You are...</td>\n",
       "    </tr>\n",
       "    <tr>\n",
       "      <th>2</th>\n",
       "      <td>3</td>\n",
       "      <td>[{'from': '### Instruction', 'value': 'You are...</td>\n",
       "    </tr>\n",
       "    <tr>\n",
       "      <th>3</th>\n",
       "      <td>4</td>\n",
       "      <td>[{'from': '### Instruction', 'value': 'You are...</td>\n",
       "    </tr>\n",
       "    <tr>\n",
       "      <th>4</th>\n",
       "      <td>5</td>\n",
       "      <td>[{'from': '### Instruction', 'value': 'You are...</td>\n",
       "    </tr>\n",
       "  </tbody>\n",
       "</table>\n",
       "</div>"
      ],
      "text/plain": [
       "   id                                      conversations\n",
       "0   1  [{'from': '### Instruction', 'value': 'You are...\n",
       "1   2  [{'from': '### Instruction', 'value': 'You are...\n",
       "2   3  [{'from': '### Instruction', 'value': 'You are...\n",
       "3   4  [{'from': '### Instruction', 'value': 'You are...\n",
       "4   5  [{'from': '### Instruction', 'value': 'You are..."
      ]
     },
     "execution_count": 15,
     "metadata": {},
     "output_type": "execute_result"
    }
   ],
   "source": [
    "code_dataset.head()"
   ]
  },
  {
   "cell_type": "code",
   "execution_count": 16,
   "metadata": {},
   "outputs": [],
   "source": [
    "code_dataset['query'] = code_dataset['conversations'].map(lambda x: x[0]['value'])\n",
    "code_dataset['response'] = code_dataset['conversations'].map(lambda x: x[1]['value'])"
   ]
  },
  {
   "cell_type": "code",
   "execution_count": 17,
   "metadata": {},
   "outputs": [],
   "source": [
    "code_dataset = code_dataset.drop(columns = ['conversations'])"
   ]
  },
  {
   "cell_type": "code",
   "execution_count": 18,
   "metadata": {},
   "outputs": [
    {
     "data": {
      "text/html": [
       "<div>\n",
       "<style scoped>\n",
       "    .dataframe tbody tr th:only-of-type {\n",
       "        vertical-align: middle;\n",
       "    }\n",
       "\n",
       "    .dataframe tbody tr th {\n",
       "        vertical-align: top;\n",
       "    }\n",
       "\n",
       "    .dataframe thead th {\n",
       "        text-align: right;\n",
       "    }\n",
       "</style>\n",
       "<table border=\"1\" class=\"dataframe\">\n",
       "  <thead>\n",
       "    <tr style=\"text-align: right;\">\n",
       "      <th></th>\n",
       "      <th>id</th>\n",
       "      <th>query</th>\n",
       "      <th>response</th>\n",
       "    </tr>\n",
       "  </thead>\n",
       "  <tbody>\n",
       "    <tr>\n",
       "      <th>0</th>\n",
       "      <td>1</td>\n",
       "      <td>You are a professional python software enginee...</td>\n",
       "      <td>```python\\nfrom microdot import Microdot, Resp...</td>\n",
       "    </tr>\n",
       "    <tr>\n",
       "      <th>1</th>\n",
       "      <td>2</td>\n",
       "      <td>You are a professional python software enginee...</td>\n",
       "      <td>```python\\nfrom microdot import Microdot, Resp...</td>\n",
       "    </tr>\n",
       "    <tr>\n",
       "      <th>2</th>\n",
       "      <td>3</td>\n",
       "      <td>You are a professional python software enginee...</td>\n",
       "      <td>```python\\nfrom microdot import Microdot, Resp...</td>\n",
       "    </tr>\n",
       "    <tr>\n",
       "      <th>3</th>\n",
       "      <td>4</td>\n",
       "      <td>You are a professional python software enginee...</td>\n",
       "      <td>```python\\nfrom microdot import Microdot, Resp...</td>\n",
       "    </tr>\n",
       "    <tr>\n",
       "      <th>4</th>\n",
       "      <td>5</td>\n",
       "      <td>You are a professional python software enginee...</td>\n",
       "      <td>```python\\nfrom pyner.named_entity.corpus impo...</td>\n",
       "    </tr>\n",
       "  </tbody>\n",
       "</table>\n",
       "</div>"
      ],
      "text/plain": [
       "   id                                              query  \\\n",
       "0   1  You are a professional python software enginee...   \n",
       "1   2  You are a professional python software enginee...   \n",
       "2   3  You are a professional python software enginee...   \n",
       "3   4  You are a professional python software enginee...   \n",
       "4   5  You are a professional python software enginee...   \n",
       "\n",
       "                                            response  \n",
       "0  ```python\\nfrom microdot import Microdot, Resp...  \n",
       "1  ```python\\nfrom microdot import Microdot, Resp...  \n",
       "2  ```python\\nfrom microdot import Microdot, Resp...  \n",
       "3  ```python\\nfrom microdot import Microdot, Resp...  \n",
       "4  ```python\\nfrom pyner.named_entity.corpus impo...  "
      ]
     },
     "execution_count": 18,
     "metadata": {},
     "output_type": "execute_result"
    }
   ],
   "source": [
    "code_dataset.head()"
   ]
  },
  {
   "cell_type": "code",
   "execution_count": 21,
   "metadata": {},
   "outputs": [
    {
     "data": {
      "text/plain": [
       "\"You are a professional python software engineer. You are asked to generate a complete test class for a focal method in a focal class.\\nYou will be given the following information of the focal method:\\n1. Source code of the focal method.\\n2. Source code of the focal class(Code that is not relevant to focal method's execution is filtered).\\n3. Source code of callee examples of the focal method.\\nYou will ONLY return unit test code for the focal method including necessary imports and dependencies, make sure it compile without errors, and use reflection to invoke private methods. \\nNote that no additional explanations required.\\n\\nHere are the information of the focal method:\\n1. Source code of the focal method.\\n```python\\ndef get(self, key, default=None):\\n        kl = key.lower()\\n        return super().get(self.keymap.get(kl, kl), default)\\n```\\n\\n2. Source code of the focal class(Codes that are may not related to focal method are filtered).\\n```python\\n\\nclass NoCaseDict(dict):\\n    def get(self, key, default=None):\\n        kl = key.lower()\\n        return super().get(self.keymap.get(kl, kl), default)\\n```\\n\\n3. Source code of callee examples of the focal method.\\nNo callee examples provided.\\n\\nPlease note that the test class you return should include multiple test cases covering different functionalities. There is no upper limit on the number of test cases, but you need to ensure that the test cases provide high test coverage and test extreme and special cases of the code as much as possible.\\n\""
      ]
     },
     "execution_count": 21,
     "metadata": {},
     "output_type": "execute_result"
    }
   ],
   "source": [
    "code_dataset['query'].values[0]"
   ]
  },
  {
   "cell_type": "code",
   "execution_count": 20,
   "metadata": {},
   "outputs": [
    {
     "name": "stdout",
     "output_type": "stream",
     "text": [
      "You are a professional python software engineer. You are asked to generate a complete test class for a focal method in a focal class.\n",
      "You will be given the following information of the focal method:\n",
      "1. Source code of the focal method.\n",
      "2. Source code of the focal class(Code that is not relevant to focal method's execution is filtered).\n",
      "3. Source code of callee examples of the focal method.\n",
      "You will ONLY return unit test code for the focal method including necessary imports and dependencies, make sure it compile without errors, and use reflection to invoke private methods. \n",
      "Note that no additional explanations required.\n",
      "\n",
      "Here are the information of the focal method:\n",
      "1. Source code of the focal method.\n",
      "```python\n",
      "def get(self, key, default=None):\n",
      "        kl = key.lower()\n",
      "        return super().get(self.keymap.get(kl, kl), default)\n",
      "```\n",
      "\n",
      "2. Source code of the focal class(Codes that are may not related to focal method are filtered).\n",
      "```python\n",
      "\n",
      "class NoCaseDict(dict):\n",
      "    def get(self, key, default=None):\n",
      "        kl = key.lower()\n",
      "        return super().get(self.keymap.get(kl, kl), default)\n",
      "```\n",
      "\n",
      "3. Source code of callee examples of the focal method.\n",
      "No callee examples provided.\n",
      "\n",
      "Please note that the test class you return should include multiple test cases covering different functionalities. There is no upper limit on the number of test cases, but you need to ensure that the test cases provide high test coverage and test extreme and special cases of the code as much as possible.\n",
      "\n"
     ]
    }
   ],
   "source": [
    "print(code_dataset['query'].values[0])"
   ]
  },
  {
   "cell_type": "markdown",
   "metadata": {},
   "source": [
    "Необоходимо проверить запросы на соответствие шаблонам с HuggingFace"
   ]
  },
  {
   "cell_type": "code",
   "execution_count": 73,
   "metadata": {},
   "outputs": [],
   "source": [
    "def check_template_match(input_text: str, get_features: bool = False):\n",
    "\t'''\n",
    "\tФункция проверяет соответствие запроса шаблону\n",
    "\t\n",
    "\tПараметры:\n",
    "\t- input_text: входной запрос\n",
    "\t- get_features: флаг для осуществления извлечения признаков (default: False)\n",
    "\t\n",
    "\tВозвращает:\n",
    "\tTrue если соответствует, иначе False;\n",
    "\tИзвлеченные признаки\n",
    "\t'''\n",
    "\t# Регулярное выражение для проверки соответствия шаблону\n",
    "\tpattern = re.compile(\n",
    "\t\tr\"You are a professional (?P<language>\\w+) software engineer\\. You are asked to generate a complete test class for a focal method in a focal class\\.\\n\"\n",
    "\t\tr\"You will be given the following information of the focal method:\"\n",
    "\t\tr\"\\n1\\. Source code of the focal method\\.\"\n",
    "\t\tr\"\\n2\\. Source code of the focal class\\(Code that is not relevant to focal method's execution is filtered\\)\\.\"\n",
    "\t\tr\"\\n3\\. Source code of callee examples of the focal method\\.\"\n",
    "\t\tr\"\\nYou will ONLY return unit test code for the focal method including necessary imports and dependencies, make sure it compile without errors, and use reflection to invoke private methods\\. \"\n",
    "\t\tr\"\\nNote that no additional explanations required\\.\"\n",
    "\t\tr\"\\n\\nHere are the information of the focal method:\"\n",
    "\t\tr\"\\n1\\. Source code of the focal method\\.\\n\"\n",
    "\t\tr\"(?P<methodCode>.*?)\\n\"\n",
    "\t\tr\"2\\. Source code of the focal class\\(Codes that are may not related to focal method are filtered\\).\\n\"\n",
    "\t\tr\"(?P<methodTotalCode>.*?)\\n\"\n",
    "\t\tr\"3\\. Source code of callee examples of the focal method.\\n\"\n",
    "\t\tr\"(?P<callCode_callees_string>.*?)\\n\"\n",
    "\t\tr\"\\nPlease note that the test class you return should include multiple test cases covering different functionalities. There is no upper limit on the number of test cases, but you need to ensure that the test cases provide high test coverage and test extreme and special cases of the code as much as possible\\.\\n\"\n",
    "\t\t,\n",
    "\t\tre.DOTALL\n",
    "\t)\n",
    "\t\n",
    "\t# Проверяем соответствие шаблону \n",
    "\tif not get_features:\n",
    "\t\treturn bool(pattern.match(input_text))\n",
    "\telse:\n",
    "\t\tmatch = pattern.match(input_text)\n",
    "\t\tif match:\n",
    "\t\t\treturn True, (match.group('language'), \n",
    "\t\t\t\t \t\tmatch.group('methodCode'), \n",
    "\t\t\t\t \t\tmatch.group('methodTotalCode'),\n",
    "\t\t\t\t\t\tmatch.group('callCode_callees_string'))\n",
    "\t\telse:\n",
    "\t\t\treturn False, None\n",
    "\n",
    "\n",
    "def process_all_samples_quieries(dataset: pd.DataFrame = code_dataset):\n",
    "\t'''\n",
    "\tФункция для проверки запросов всех сэмплов на соответствие шаблону, указанному на HuggingFace\n",
    "\t\n",
    "\tПараметры:\n",
    "\t-dataset - датасет с кодом (default: code_dataset)\n",
    "\t'''\n",
    "\tfor i in tqdm(range(code_dataset.shape[0])): # Проходимся и проверяем на True\n",
    "\t\tassert(check_template_match(code_dataset.iloc[i, 1]) == True), \"CODE DOESN'T MATCH THE TEMPLATE\"\n",
    "\n",
    "def query_processing_map(query):\n",
    "\t'''Вспомогательная функция для реализации pandas.map'''\n",
    "\t_, features = check_template_match(query, get_features=True)\n",
    "\treturn features\n"
   ]
  },
  {
   "cell_type": "markdown",
   "metadata": {},
   "source": [
    "Check на сэмпле данных:"
   ]
  },
  {
   "cell_type": "code",
   "execution_count": 71,
   "metadata": {},
   "outputs": [],
   "source": [
    "_, features = check_template_match(json_example[0]['conversations'][0]['value'], get_features=True)\n",
    "LANG_TOKEN, focal_method, focal_cls, call = features"
   ]
  },
  {
   "cell_type": "markdown",
   "metadata": {},
   "source": [
    "LANG_TOKEN:"
   ]
  },
  {
   "cell_type": "code",
   "execution_count": 60,
   "metadata": {},
   "outputs": [
    {
     "data": {
      "text/plain": [
       "'python'"
      ]
     },
     "execution_count": 60,
     "metadata": {},
     "output_type": "execute_result"
    }
   ],
   "source": [
    "LANG_TOKEN"
   ]
  },
  {
   "cell_type": "markdown",
   "metadata": {},
   "source": [
    "focal_method:"
   ]
  },
  {
   "cell_type": "code",
   "execution_count": 65,
   "metadata": {},
   "outputs": [
    {
     "name": "stdout",
     "output_type": "stream",
     "text": [
      "```python\n",
      "def get(self, key, default=None):\n",
      "        kl = key.lower()\n",
      "        return super().get(self.keymap.get(kl, kl), default)\n",
      "```\n",
      "\n"
     ]
    }
   ],
   "source": [
    "print(focal_method)"
   ]
  },
  {
   "cell_type": "markdown",
   "metadata": {},
   "source": [
    "focal_cls:"
   ]
  },
  {
   "cell_type": "code",
   "execution_count": 66,
   "metadata": {},
   "outputs": [
    {
     "name": "stdout",
     "output_type": "stream",
     "text": [
      "```python\n",
      "\n",
      "class NoCaseDict(dict):\n",
      "    def get(self, key, default=None):\n",
      "        kl = key.lower()\n",
      "        return super().get(self.keymap.get(kl, kl), default)\n",
      "```\n",
      "\n"
     ]
    }
   ],
   "source": [
    "print(focal_cls)"
   ]
  },
  {
   "cell_type": "markdown",
   "metadata": {},
   "source": [
    "call:"
   ]
  },
  {
   "cell_type": "code",
   "execution_count": 67,
   "metadata": {},
   "outputs": [
    {
     "name": "stdout",
     "output_type": "stream",
     "text": [
      "No callee examples provided.\n"
     ]
    }
   ],
   "source": [
    "print(call)"
   ]
  },
  {
   "cell_type": "markdown",
   "metadata": {},
   "source": [
    "Сделаем запуск проверки соответствия шаблону:"
   ]
  },
  {
   "cell_type": "code",
   "execution_count": 72,
   "metadata": {},
   "outputs": [
    {
     "name": "stderr",
     "output_type": "stream",
     "text": [
      "100%|██████████| 281060/281060 [00:06<00:00, 44498.77it/s]\n"
     ]
    }
   ],
   "source": [
    "process_all_samples_quieries()"
   ]
  },
  {
   "cell_type": "markdown",
   "metadata": {},
   "source": [
    "assert не сработал, значит, данные соответствуют заявленному формату!"
   ]
  },
  {
   "cell_type": "markdown",
   "metadata": {},
   "source": [
    "Сгенерируем новые признаки"
   ]
  },
  {
   "cell_type": "code",
   "execution_count": 97,
   "metadata": {},
   "outputs": [
    {
     "name": "stderr",
     "output_type": "stream",
     "text": [
      "100%|██████████| 281060/281060 [00:04<00:00, 60671.51it/s]\n",
      "100%|██████████| 281060/281060 [00:00<00:00, 3988695.85it/s]\n",
      "100%|██████████| 281060/281060 [00:00<00:00, 3170625.07it/s]\n",
      "100%|██████████| 281060/281060 [00:00<00:00, 3091046.85it/s]\n",
      "100%|██████████| 281060/281060 [00:00<00:00, 3836256.99it/s]\n"
     ]
    }
   ],
   "source": [
    "code_dataset['code_features'] = code_dataset['query'].progress_apply(lambda query: query_processing_map(query))\n",
    "code_dataset['LANG_TOKEN'] = code_dataset['code_features'].progress_apply(lambda features: features[0])\n",
    "code_dataset['focal_method'] = code_dataset['code_features'].progress_apply(lambda features: features[1])\n",
    "code_dataset['focal_cls'] = code_dataset['code_features'].progress_apply(lambda features: features[2])\n",
    "code_dataset['callee'] = code_dataset['code_features'].progress_apply(lambda features: features[3])"
   ]
  },
  {
   "cell_type": "markdown",
   "metadata": {},
   "source": [
    "Извлечем комментарии из кода"
   ]
  },
  {
   "cell_type": "code",
   "execution_count": 106,
   "metadata": {},
   "outputs": [],
   "source": [
    "def get_comments_and_description(text_code: str):\n",
    "\t'''\n",
    "\tФункция извлекает все комментарии из кода и описания функций:\n",
    "\t\n",
    "\tПараметры:\n",
    "\t-text_code: строка с кодом\n",
    "\t\n",
    "\t'''\n",
    "\t\n",
    "\t# Шаблоны для поиска комментариев и описаний\n",
    "\ttriple_quotes_pattern = r'\"\"\"(.*?)\"\"\"|\\'\\'\\'(.*?)\\'\\'\\''\n",
    "\tsingle_comment_pattern = r'#.*'\n",
    "\n",
    "\t# Извлекаем \n",
    "\ttriple_quotes_matches = re.findall(triple_quotes_pattern, text_code, re.DOTALL)\n",
    "\tsingle_comment_matches = re.findall(single_comment_pattern, text_code)\n",
    "\n",
    "\tdocstrings = [match[0] or match[1] for match in triple_quotes_matches]\n",
    "\tcomments = single_comment_matches\n",
    "\t\n",
    "\treturn (\"\\n\".join(docstrings), \"\\n\".join(comments))"
   ]
  },
  {
   "cell_type": "code",
   "execution_count": 107,
   "metadata": {},
   "outputs": [],
   "source": [
    "docs, comments = get_comments_and_description(code_dataset[code_dataset['call'] != 'No callee examples provided.'].iloc[2, :][1])"
   ]
  },
  {
   "cell_type": "code",
   "execution_count": 110,
   "metadata": {},
   "outputs": [
    {
     "name": "stdout",
     "output_type": "stream",
     "text": [
      "# Calculate minor_(0,i) by deleting the first orbital and ith particle indices\n",
      "# Stack on axis -3 to ensure shape (..., n) once det removes the last two axes\n",
      "# Calculate x_(i, 0) by selecting orbital index 0\n",
      "# TODO(ggoldsh): find a faster way to calculate these overlapping determinants.\n"
     ]
    }
   ],
   "source": [
    "print(comments)"
   ]
  },
  {
   "cell_type": "code",
   "execution_count": 109,
   "metadata": {},
   "outputs": [
    {
     "name": "stdout",
     "output_type": "stream",
     "text": [
      "Converts a regular array into (sign, logabs) form.\n",
      "\n",
      "    Args:\n",
      "        x (Array): input data.\n",
      "\n",
      "    Returns:\n",
      "        (SLArray): data in form (sign(x), log(abs(x)))\n",
      "    \n",
      "Converts a regular array into (sign, logabs) form.\n",
      "    Args:\n",
      "        x (Array): input data.\n",
      "    Returns:\n",
      "        (SLArray): data in form (sign(x), log(abs(x)))\n",
      "    \n",
      "Get the submatrices of x by deleting row i and col 0, for all rows of x.\n",
      "    Args:\n",
      "        x (Array): a tensor of orbital matrices which is square in the last two\n",
      "            dimensions, thus of shape (..., n, n). The second last dimension is the\n",
      "            particle dimension, and the last is the orbital dimension.\n",
      "    Returns:\n",
      "        (int, Array): n, submatrices of shape (..., n, n-1, n-1), obtained by\n",
      "        deleting row (..., i, :) and deleted column is (..., :, 0), for 0 <= i <= n - 1.\n",
      "    \n",
      "Compute a cofactor-based antiequivariance, returning results in slogabs form.\n",
      "    See :func:`~vmcnet.models.antiequivariance.cofactor_antieq`. This function performs\n",
      "    the same operations, but gives a result in the (sign, log) domain, going through\n",
      "    a jnp.linalg.slogdet call instead of a jnp.linalg.det call.\n",
      "    Args:\n",
      "        x (Array): a tensor of orbital matrices which is square in the last two\n",
      "            dimensions, thus of shape (..., n, n). The second last dimension is the\n",
      "            particle dimension, and the last is the orbital dimension.\n",
      "    Returns:\n",
      "        (Array, Array): tuple of arrays, each of shape (..., n). The first\n",
      "        is sign(result), and the second is log(abs(result)).\n",
      "    \n"
     ]
    }
   ],
   "source": [
    "print(docs)"
   ]
  },
  {
   "cell_type": "markdown",
   "metadata": {},
   "source": [
    "Теперь нужно извлечь комментарии и описания для всех кодовых предствалений в нашем датасете"
   ]
  },
  {
   "cell_type": "code",
   "execution_count": 115,
   "metadata": {},
   "outputs": [
    {
     "name": "stderr",
     "output_type": "stream",
     "text": [
      "100%|██████████| 281060/281060 [00:01<00:00, 209765.73it/s]\n",
      "100%|██████████| 281060/281060 [00:01<00:00, 212556.65it/s]\n",
      "100%|██████████| 281060/281060 [00:02<00:00, 112134.77it/s]\n",
      "100%|██████████| 281060/281060 [00:02<00:00, 113592.29it/s]\n",
      "100%|██████████| 281060/281060 [00:00<00:00, 378818.78it/s]\n",
      "100%|██████████| 281060/281060 [00:00<00:00, 375592.00it/s]\n"
     ]
    }
   ],
   "source": [
    "# Для focal_method\n",
    "code_dataset['focal_method_docs'] = code_dataset['focal_method'].progress_apply(lambda x: get_comments_and_description(x)[0])\n",
    "code_dataset['focal_method_comments'] = code_dataset['focal_method'].progress_apply(lambda x: get_comments_and_description(x)[1])\n",
    "\n",
    "# Для focal_cls\n",
    "code_dataset['focal_cls_docs'] = code_dataset['focal_cls'].progress_apply(lambda x: get_comments_and_description(x)[0])\n",
    "code_dataset['focal_cls_comments'] = code_dataset['focal_cls'].progress_apply(lambda x: get_comments_and_description(x)[1])\n",
    "\n",
    "# Для callee\n",
    "code_dataset['callee_docs'] = code_dataset['callee'].progress_apply(lambda x: get_comments_and_description(x)[0])\n",
    "code_dataset['callee_comments'] = code_dataset['callee'].progress_apply(lambda x: get_comments_and_description(x)[1])\n"
   ]
  },
  {
   "cell_type": "markdown",
   "metadata": {},
   "source": [
    "Уберем объявление для markdown (\\`\\`\\`python <-> ```) в тексте кода"
   ]
  },
  {
   "cell_type": "code",
   "execution_count": 134,
   "metadata": {},
   "outputs": [],
   "source": [
    "def clean_text_code(text_code: str) -> str:\n",
    "    '''\n",
    "    Фунция для чистки кода от .md команд\n",
    "    \n",
    "    Параметры:\n",
    "    -text_code: код в формате строки\n",
    "    \n",
    "    Возвращает \"чистый\" код\n",
    "    \n",
    "    '''\n",
    "    cleaned_code = re.sub(r\"^```python\\n|^```\\n|```$\", \"\", text_code, flags=re.MULTILINE)\n",
    "    return cleaned_code"
   ]
  },
  {
   "cell_type": "code",
   "execution_count": 135,
   "metadata": {},
   "outputs": [
    {
     "name": "stdout",
     "output_type": "stream",
     "text": [
      "def get(self, key, default=None):\n",
      "        kl = key.lower()\n",
      "        return super().get(self.keymap.get(kl, kl), default)\n",
      "\n"
     ]
    }
   ],
   "source": [
    "print(clean_text_code(code_dataset['focal_method'].values[0]))"
   ]
  },
  {
   "cell_type": "markdown",
   "metadata": {},
   "source": [
    "Применяем для каждого представления кода"
   ]
  },
  {
   "cell_type": "code",
   "execution_count": 136,
   "metadata": {},
   "outputs": [
    {
     "name": "stderr",
     "output_type": "stream",
     "text": [
      "100%|██████████| 281060/281060 [00:03<00:00, 84797.70it/s]\n",
      "100%|██████████| 281060/281060 [00:06<00:00, 41581.24it/s]\n",
      "100%|██████████| 281060/281060 [00:01<00:00, 156426.54it/s]\n"
     ]
    }
   ],
   "source": [
    "code_dataset['focal_method'] = code_dataset['focal_method'].progress_apply(lambda x: clean_text_code(x))\n",
    "code_dataset['focal_cls'] = code_dataset['focal_cls'].progress_apply(lambda x: clean_text_code(x))\n",
    "code_dataset['callee'] = code_dataset['callee'].progress_apply(lambda x: clean_text_code(x))"
   ]
  },
  {
   "cell_type": "markdown",
   "metadata": {},
   "source": [
    "Исследуем колонку call"
   ]
  },
  {
   "cell_type": "code",
   "execution_count": 99,
   "metadata": {},
   "outputs": [
    {
     "data": {
      "text/plain": [
       "18136"
      ]
     },
     "execution_count": 99,
     "metadata": {},
     "output_type": "execute_result"
    }
   ],
   "source": [
    "len(code_dataset['call'].unique())"
   ]
  },
  {
   "cell_type": "markdown",
   "metadata": {},
   "source": [
    "Итак, у нас всего 18136 callee представлений"
   ]
  },
  {
   "cell_type": "code",
   "execution_count": 105,
   "metadata": {},
   "outputs": [
    {
     "name": "stdout",
     "output_type": "stream",
     "text": [
      "You are a professional python software engineer. You are asked to generate a complete test class for a focal method in a focal class.\n",
      "You will be given the following information of the focal method:\n",
      "1. Source code of the focal method.\n",
      "2. Source code of the focal class(Code that is not relevant to focal method's execution is filtered).\n",
      "3. Source code of callee examples of the focal method.\n",
      "You will ONLY return unit test code for the focal method including necessary imports and dependencies, make sure it compile without errors, and use reflection to invoke private methods. \n",
      "Note that no additional explanations required.\n",
      "\n",
      "Here are the information of the focal method:\n",
      "1. Source code of the focal method.\n",
      "```python\n",
      "def array_to_slog(x: Array) -> SLArray:\n",
      "    \"\"\"Converts a regular array into (sign, logabs) form.\n",
      "\n",
      "    Args:\n",
      "        x (Array): input data.\n",
      "\n",
      "    Returns:\n",
      "        (SLArray): data in form (sign(x), log(abs(x)))\n",
      "    \"\"\"\n",
      "    return (jnp.sign(x), jnp.log(jnp.abs(x)))\n",
      "```\n",
      "\n",
      "2. Source code of the focal class(Codes that are may not related to focal method are filtered).\n",
      "```python\n",
      "from .typing import Array, SLArray, ArrayList, SLArrayList\n",
      "import jax.numpy as jnp\n",
      "\n",
      "def array_to_slog(x: Array) -> SLArray:\n",
      "    \"\"\"Converts a regular array into (sign, logabs) form.\n",
      "    Args:\n",
      "        x (Array): input data.\n",
      "    Returns:\n",
      "        (SLArray): data in form (sign(x), log(abs(x)))\n",
      "    \"\"\"\n",
      "    return (jnp.sign(x), jnp.log(jnp.abs(x)))\n",
      "```\n",
      "\n",
      "3. Source code of callee examples of the focal method.\n",
      ">>>Callee example 1\n",
      "```python\n",
      "from .core import (\n",
      "    Module,\n",
      "    get_alternating_signs,\n",
      "    get_nelec_per_split,\n",
      "    is_tuple_of_arrays,\n",
      "    split,\n",
      ")\n",
      "from typing import Optional, Tuple\n",
      "import jax.numpy as jnp\n",
      "from vmcnet.utils.slog_helpers import array_list_to_slog, array_to_slog, slog_multiply\n",
      "from vmcnet.utils.typing import Array, ArrayList, SLArray, SLArrayList, ParticleSplit\n",
      "\n",
      "def get_submatrices_along_first_col(x: Array) -> Tuple[int, Array]:\n",
      "    \"\"\"Get the submatrices of x by deleting row i and col 0, for all rows of x.\n",
      "    Args:\n",
      "        x (Array): a tensor of orbital matrices which is square in the last two\n",
      "            dimensions, thus of shape (..., n, n). The second last dimension is the\n",
      "            particle dimension, and the last is the orbital dimension.\n",
      "    Returns:\n",
      "        (int, Array): n, submatrices of shape (..., n, n-1, n-1), obtained by\n",
      "        deleting row (..., i, :) and deleted column is (..., :, 0), for 0 <= i <= n - 1.\n",
      "    \"\"\"\n",
      "    if len(x.shape) < 2 or x.shape[-1] != x.shape[-2]:\n",
      "        msg = \"Calculating cofactors requires shape (..., n, n), got {}\"\n",
      "        raise ValueError(msg.format(x.shape))\n",
      "    n = x.shape[-1]\n",
      "    # Calculate minor_(0,i) by deleting the first orbital and ith particle indices\n",
      "    submats = [jnp.delete(jnp.delete(x, i, axis=-2), 0, axis=-1) for i in range(n)]\n",
      "    # Stack on axis -3 to ensure shape (..., n) once det removes the last two axes\n",
      "    stacked_submats = jnp.stack(submats, axis=-3)\n",
      "    return n, stacked_submats\n",
      "def slog_cofactor_antieq(x: Array) -> SLArray:\n",
      "    \"\"\"Compute a cofactor-based antiequivariance, returning results in slogabs form.\n",
      "    See :func:`~vmcnet.models.antiequivariance.cofactor_antieq`. This function performs\n",
      "    the same operations, but gives a result in the (sign, log) domain, going through\n",
      "    a jnp.linalg.slogdet call instead of a jnp.linalg.det call.\n",
      "    Args:\n",
      "        x (Array): a tensor of orbital matrices which is square in the last two\n",
      "            dimensions, thus of shape (..., n, n). The second last dimension is the\n",
      "            particle dimension, and the last is the orbital dimension.\n",
      "    Returns:\n",
      "        (Array, Array): tuple of arrays, each of shape (..., n). The first\n",
      "        is sign(result), and the second is log(abs(result)).\n",
      "    \"\"\"\n",
      "    # Calculate x_(i, 0) by selecting orbital index 0\n",
      "    first_orbital_vals = x[..., 0]\n",
      "    orbital_signs, orbital_logs = array_to_slog(first_orbital_vals)\n",
      "    n, stacked_submatrices = get_submatrices_along_first_col(x)\n",
      "    # TODO(ggoldsh): find a faster way to calculate these overlapping determinants.\n",
      "    (cofactor_signs, cofactor_logs) = jnp.linalg.slogdet(stacked_submatrices)\n",
      "    signs_and_logs = (\n",
      "        orbital_signs * cofactor_signs * get_alternating_signs(n),\n",
      "        orbital_logs + cofactor_logs,\n",
      "    )\n",
      "    return signs_and_logs\n",
      "```\n",
      "\n",
      "\n",
      "Please note that the test class you return should include multiple test cases covering different functionalities. There is no upper limit on the number of test cases, but you need to ensure that the test cases provide high test coverage and test extreme and special cases of the code as much as possible.\n",
      "\n"
     ]
    }
   ],
   "source": [
    "print(code_dataset[code_dataset['call'] != 'No callee examples provided.'].iloc[2, :][1])"
   ]
  },
  {
   "cell_type": "markdown",
   "metadata": {},
   "source": [
    "Дополнительно построим ast-деревья для кодовых представлений"
   ]
  },
  {
   "cell_type": "code",
   "execution_count": 137,
   "metadata": {},
   "outputs": [
    {
     "name": "stdout",
     "output_type": "stream",
     "text": [
      "def get(self, key, default=None):\n",
      "        kl = key.lower()\n",
      "        return super().get(self.keymap.get(kl, kl), default)\n",
      "\n"
     ]
    }
   ],
   "source": [
    "print(code_dataset['focal_method'].values[0])"
   ]
  },
  {
   "cell_type": "code",
   "execution_count": 169,
   "metadata": {},
   "outputs": [],
   "source": [
    "def get_ast_representation(text_code: str) -> str:\n",
    "    \"\"\"\n",
    "    Получает AST-дерево для кода. Если возникает ошибка при парсинге, возвращает строку 'AST_TOKEN'.\n",
    "    \n",
    "    Параметры:\n",
    "    - text_code: код в виде текста\n",
    "\n",
    "    Возвращает AST-дерево или 'AST_TOKEN' в случае ошибки.\n",
    "    \"\"\"\n",
    "    try:\n",
    "        # Пытаемся сразу построить AST-дерево\n",
    "        tree = ast.parse(text_code)\n",
    "        # Преобразуем AST в строку и возвращаем\n",
    "        ast_tree = ast.dump(tree, indent=4)\n",
    "        return ast_tree\n",
    "    except SyntaxError:\n",
    "        # Если ошибка, возвращаем 'AST_TOKEN'\n",
    "        return \"AST_TOKEN\""
   ]
  },
  {
   "cell_type": "code",
   "execution_count": 170,
   "metadata": {},
   "outputs": [
    {
     "data": {
      "text/plain": [
       "'AST_TOKEN'"
      ]
     },
     "execution_count": 170,
     "metadata": {},
     "output_type": "execute_result"
    }
   ],
   "source": [
    "get_ast_representation(code_dataset['focal_method'].values[1779])"
   ]
  },
  {
   "cell_type": "code",
   "execution_count": 171,
   "metadata": {},
   "outputs": [
    {
     "data": {
      "text/html": [
       "<div>\n",
       "<style scoped>\n",
       "    .dataframe tbody tr th:only-of-type {\n",
       "        vertical-align: middle;\n",
       "    }\n",
       "\n",
       "    .dataframe tbody tr th {\n",
       "        vertical-align: top;\n",
       "    }\n",
       "\n",
       "    .dataframe thead th {\n",
       "        text-align: right;\n",
       "    }\n",
       "</style>\n",
       "<table border=\"1\" class=\"dataframe\">\n",
       "  <thead>\n",
       "    <tr style=\"text-align: right;\">\n",
       "      <th></th>\n",
       "      <th>id</th>\n",
       "      <th>query</th>\n",
       "      <th>response</th>\n",
       "      <th>code_features</th>\n",
       "      <th>LANG_TOKEN</th>\n",
       "      <th>focal_method</th>\n",
       "      <th>focal_cls</th>\n",
       "      <th>callee</th>\n",
       "      <th>focal_method_docs</th>\n",
       "      <th>focal_method_comments</th>\n",
       "      <th>focal_cls_docs</th>\n",
       "      <th>focal_cls_comments</th>\n",
       "      <th>callee_docs</th>\n",
       "      <th>callee_comments</th>\n",
       "    </tr>\n",
       "  </thead>\n",
       "  <tbody>\n",
       "    <tr>\n",
       "      <th>0</th>\n",
       "      <td>1</td>\n",
       "      <td>You are a professional python software enginee...</td>\n",
       "      <td>```python\\nfrom microdot import Microdot, Resp...</td>\n",
       "      <td>(python, ```python\\ndef get(self, key, default...</td>\n",
       "      <td>python</td>\n",
       "      <td>def get(self, key, default=None):\\n        kl ...</td>\n",
       "      <td>\\nclass NoCaseDict(dict):\\n    def get(self, k...</td>\n",
       "      <td>No callee examples provided.</td>\n",
       "      <td></td>\n",
       "      <td></td>\n",
       "      <td></td>\n",
       "      <td></td>\n",
       "      <td></td>\n",
       "      <td></td>\n",
       "    </tr>\n",
       "    <tr>\n",
       "      <th>1</th>\n",
       "      <td>2</td>\n",
       "      <td>You are a professional python software enginee...</td>\n",
       "      <td>```python\\nfrom microdot import Microdot, Resp...</td>\n",
       "      <td>(python, ```python\\ndef get(self, url_pattern)...</td>\n",
       "      <td>python</td>\n",
       "      <td>def get(self, url_pattern):\\n        \"\"\"Decora...</td>\n",
       "      <td>\\nclass Microdot:\\n    def route(self, url_pat...</td>\n",
       "      <td>No callee examples provided.</td>\n",
       "      <td>Decorator that is used to register a function ...</td>\n",
       "      <td># ...</td>\n",
       "      <td>Decorator that is used to register a function ...</td>\n",
       "      <td># ...</td>\n",
       "      <td></td>\n",
       "      <td></td>\n",
       "    </tr>\n",
       "    <tr>\n",
       "      <th>2</th>\n",
       "      <td>3</td>\n",
       "      <td>You are a professional python software enginee...</td>\n",
       "      <td>```python\\nfrom microdot import Microdot, Resp...</td>\n",
       "      <td>(python, ```python\\ndef post(self, url_pattern...</td>\n",
       "      <td>python</td>\n",
       "      <td>def post(self, url_pattern):\\n        \"\"\"Decor...</td>\n",
       "      <td>\\nclass Microdot:\\n    def route(self, url_pat...</td>\n",
       "      <td>No callee examples provided.</td>\n",
       "      <td>Decorator that is used to register a function ...</td>\n",
       "      <td># ...</td>\n",
       "      <td>Decorator that is used to register a function ...</td>\n",
       "      <td># ...</td>\n",
       "      <td></td>\n",
       "      <td></td>\n",
       "    </tr>\n",
       "    <tr>\n",
       "      <th>3</th>\n",
       "      <td>4</td>\n",
       "      <td>You are a professional python software enginee...</td>\n",
       "      <td>```python\\nfrom microdot import Microdot, Resp...</td>\n",
       "      <td>(python, ```python\\ndef mount(self, subapp, ur...</td>\n",
       "      <td>python</td>\n",
       "      <td>def mount(self, subapp, url_prefix=''):\\n     ...</td>\n",
       "      <td>\\nclass Microdot:\\n    def mount(self, subapp,...</td>\n",
       "      <td>No callee examples provided.</td>\n",
       "      <td>Mount a sub-application, optionally under the ...</td>\n",
       "      <td></td>\n",
       "      <td>Mount a sub-application, optionally under the ...</td>\n",
       "      <td></td>\n",
       "      <td></td>\n",
       "      <td></td>\n",
       "    </tr>\n",
       "    <tr>\n",
       "      <th>4</th>\n",
       "      <td>5</td>\n",
       "      <td>You are a professional python software enginee...</td>\n",
       "      <td>```python\\nfrom pyner.named_entity.corpus impo...</td>\n",
       "      <td>(python, ```python\\ndef iob2bio(tags):\\n    pr...</td>\n",
       "      <td>python</td>\n",
       "      <td>def iob2bio(tags):\\n    processed_tags = []  #...</td>\n",
       "      <td>\\ndef split_tag(tag: str):\\n    \"\"\"\\n    Split...</td>\n",
       "      <td>No callee examples provided.</td>\n",
       "      <td></td>\n",
       "      <td># should be bio format\\n# case1. I-ORG I-ORG\\n...</td>\n",
       "      <td>\\n    Split tag into state and named entity ca...</td>\n",
       "      <td># should be bio format\\n# case1. I-ORG I-ORG\\n...</td>\n",
       "      <td></td>\n",
       "      <td></td>\n",
       "    </tr>\n",
       "  </tbody>\n",
       "</table>\n",
       "</div>"
      ],
      "text/plain": [
       "   id                                              query  \\\n",
       "0   1  You are a professional python software enginee...   \n",
       "1   2  You are a professional python software enginee...   \n",
       "2   3  You are a professional python software enginee...   \n",
       "3   4  You are a professional python software enginee...   \n",
       "4   5  You are a professional python software enginee...   \n",
       "\n",
       "                                            response  \\\n",
       "0  ```python\\nfrom microdot import Microdot, Resp...   \n",
       "1  ```python\\nfrom microdot import Microdot, Resp...   \n",
       "2  ```python\\nfrom microdot import Microdot, Resp...   \n",
       "3  ```python\\nfrom microdot import Microdot, Resp...   \n",
       "4  ```python\\nfrom pyner.named_entity.corpus impo...   \n",
       "\n",
       "                                       code_features LANG_TOKEN  \\\n",
       "0  (python, ```python\\ndef get(self, key, default...     python   \n",
       "1  (python, ```python\\ndef get(self, url_pattern)...     python   \n",
       "2  (python, ```python\\ndef post(self, url_pattern...     python   \n",
       "3  (python, ```python\\ndef mount(self, subapp, ur...     python   \n",
       "4  (python, ```python\\ndef iob2bio(tags):\\n    pr...     python   \n",
       "\n",
       "                                        focal_method  \\\n",
       "0  def get(self, key, default=None):\\n        kl ...   \n",
       "1  def get(self, url_pattern):\\n        \"\"\"Decora...   \n",
       "2  def post(self, url_pattern):\\n        \"\"\"Decor...   \n",
       "3  def mount(self, subapp, url_prefix=''):\\n     ...   \n",
       "4  def iob2bio(tags):\\n    processed_tags = []  #...   \n",
       "\n",
       "                                           focal_cls  \\\n",
       "0  \\nclass NoCaseDict(dict):\\n    def get(self, k...   \n",
       "1  \\nclass Microdot:\\n    def route(self, url_pat...   \n",
       "2  \\nclass Microdot:\\n    def route(self, url_pat...   \n",
       "3  \\nclass Microdot:\\n    def mount(self, subapp,...   \n",
       "4  \\ndef split_tag(tag: str):\\n    \"\"\"\\n    Split...   \n",
       "\n",
       "                         callee  \\\n",
       "0  No callee examples provided.   \n",
       "1  No callee examples provided.   \n",
       "2  No callee examples provided.   \n",
       "3  No callee examples provided.   \n",
       "4  No callee examples provided.   \n",
       "\n",
       "                                   focal_method_docs  \\\n",
       "0                                                      \n",
       "1  Decorator that is used to register a function ...   \n",
       "2  Decorator that is used to register a function ...   \n",
       "3  Mount a sub-application, optionally under the ...   \n",
       "4                                                      \n",
       "\n",
       "                               focal_method_comments  \\\n",
       "0                                                      \n",
       "1                                              # ...   \n",
       "2                                              # ...   \n",
       "3                                                      \n",
       "4  # should be bio format\\n# case1. I-ORG I-ORG\\n...   \n",
       "\n",
       "                                      focal_cls_docs  \\\n",
       "0                                                      \n",
       "1  Decorator that is used to register a function ...   \n",
       "2  Decorator that is used to register a function ...   \n",
       "3  Mount a sub-application, optionally under the ...   \n",
       "4  \\n    Split tag into state and named entity ca...   \n",
       "\n",
       "                                  focal_cls_comments callee_docs  \\\n",
       "0                                                                  \n",
       "1                                              # ...               \n",
       "2                                              # ...               \n",
       "3                                                                  \n",
       "4  # should be bio format\\n# case1. I-ORG I-ORG\\n...               \n",
       "\n",
       "  callee_comments  \n",
       "0                  \n",
       "1                  \n",
       "2                  \n",
       "3                  \n",
       "4                  "
      ]
     },
     "execution_count": 171,
     "metadata": {},
     "output_type": "execute_result"
    }
   ],
   "source": [
    "code_dataset.head()"
   ]
  },
  {
   "cell_type": "markdown",
   "metadata": {},
   "source": [
    "Применяем ко всем данным"
   ]
  },
  {
   "cell_type": "code",
   "execution_count": 173,
   "metadata": {},
   "outputs": [
    {
     "name": "stderr",
     "output_type": "stream",
     "text": [
      "100%|██████████| 281060/281060 [00:35<00:00, 7817.64it/s] \n",
      "100%|██████████| 281060/281060 [01:13<00:00, 3818.26it/s]\n",
      "100%|██████████| 281060/281060 [00:02<00:00, 114657.80it/s]\n"
     ]
    }
   ],
   "source": [
    "code_dataset['focal_method_ast'] = code_dataset['focal_method'].progress_apply(lambda x: get_ast_representation(x))\n",
    "code_dataset['focal_cls_ast'] = code_dataset['focal_cls'].progress_apply(lambda x: get_ast_representation(x))\n",
    "code_dataset['callee_ast'] = code_dataset['callee'].progress_apply(lambda x: get_ast_representation(x))"
   ]
  },
  {
   "cell_type": "code",
   "execution_count": 174,
   "metadata": {},
   "outputs": [
    {
     "data": {
      "text/html": [
       "<div>\n",
       "<style scoped>\n",
       "    .dataframe tbody tr th:only-of-type {\n",
       "        vertical-align: middle;\n",
       "    }\n",
       "\n",
       "    .dataframe tbody tr th {\n",
       "        vertical-align: top;\n",
       "    }\n",
       "\n",
       "    .dataframe thead th {\n",
       "        text-align: right;\n",
       "    }\n",
       "</style>\n",
       "<table border=\"1\" class=\"dataframe\">\n",
       "  <thead>\n",
       "    <tr style=\"text-align: right;\">\n",
       "      <th></th>\n",
       "      <th>id</th>\n",
       "      <th>query</th>\n",
       "      <th>response</th>\n",
       "      <th>code_features</th>\n",
       "      <th>LANG_TOKEN</th>\n",
       "      <th>focal_method</th>\n",
       "      <th>focal_cls</th>\n",
       "      <th>callee</th>\n",
       "      <th>focal_method_docs</th>\n",
       "      <th>focal_method_comments</th>\n",
       "      <th>focal_cls_docs</th>\n",
       "      <th>focal_cls_comments</th>\n",
       "      <th>callee_docs</th>\n",
       "      <th>callee_comments</th>\n",
       "      <th>focal_method_ast</th>\n",
       "      <th>focal_cls_ast</th>\n",
       "      <th>callee_ast</th>\n",
       "    </tr>\n",
       "  </thead>\n",
       "  <tbody>\n",
       "    <tr>\n",
       "      <th>0</th>\n",
       "      <td>1</td>\n",
       "      <td>You are a professional python software enginee...</td>\n",
       "      <td>```python\\nfrom microdot import Microdot, Resp...</td>\n",
       "      <td>(python, ```python\\ndef get(self, key, default...</td>\n",
       "      <td>python</td>\n",
       "      <td>def get(self, key, default=None):\\n        kl ...</td>\n",
       "      <td>\\nclass NoCaseDict(dict):\\n    def get(self, k...</td>\n",
       "      <td>No callee examples provided.</td>\n",
       "      <td></td>\n",
       "      <td></td>\n",
       "      <td></td>\n",
       "      <td></td>\n",
       "      <td></td>\n",
       "      <td></td>\n",
       "      <td>Module(\\n    body=[\\n        FunctionDef(\\n   ...</td>\n",
       "      <td>Module(\\n    body=[\\n        ClassDef(\\n      ...</td>\n",
       "      <td>AST_TOKEN</td>\n",
       "    </tr>\n",
       "    <tr>\n",
       "      <th>1</th>\n",
       "      <td>2</td>\n",
       "      <td>You are a professional python software enginee...</td>\n",
       "      <td>```python\\nfrom microdot import Microdot, Resp...</td>\n",
       "      <td>(python, ```python\\ndef get(self, url_pattern)...</td>\n",
       "      <td>python</td>\n",
       "      <td>def get(self, url_pattern):\\n        \"\"\"Decora...</td>\n",
       "      <td>\\nclass Microdot:\\n    def route(self, url_pat...</td>\n",
       "      <td>No callee examples provided.</td>\n",
       "      <td>Decorator that is used to register a function ...</td>\n",
       "      <td># ...</td>\n",
       "      <td>Decorator that is used to register a function ...</td>\n",
       "      <td># ...</td>\n",
       "      <td></td>\n",
       "      <td></td>\n",
       "      <td>Module(\\n    body=[\\n        FunctionDef(\\n   ...</td>\n",
       "      <td>Module(\\n    body=[\\n        ClassDef(\\n      ...</td>\n",
       "      <td>AST_TOKEN</td>\n",
       "    </tr>\n",
       "    <tr>\n",
       "      <th>2</th>\n",
       "      <td>3</td>\n",
       "      <td>You are a professional python software enginee...</td>\n",
       "      <td>```python\\nfrom microdot import Microdot, Resp...</td>\n",
       "      <td>(python, ```python\\ndef post(self, url_pattern...</td>\n",
       "      <td>python</td>\n",
       "      <td>def post(self, url_pattern):\\n        \"\"\"Decor...</td>\n",
       "      <td>\\nclass Microdot:\\n    def route(self, url_pat...</td>\n",
       "      <td>No callee examples provided.</td>\n",
       "      <td>Decorator that is used to register a function ...</td>\n",
       "      <td># ...</td>\n",
       "      <td>Decorator that is used to register a function ...</td>\n",
       "      <td># ...</td>\n",
       "      <td></td>\n",
       "      <td></td>\n",
       "      <td>Module(\\n    body=[\\n        FunctionDef(\\n   ...</td>\n",
       "      <td>Module(\\n    body=[\\n        ClassDef(\\n      ...</td>\n",
       "      <td>AST_TOKEN</td>\n",
       "    </tr>\n",
       "    <tr>\n",
       "      <th>3</th>\n",
       "      <td>4</td>\n",
       "      <td>You are a professional python software enginee...</td>\n",
       "      <td>```python\\nfrom microdot import Microdot, Resp...</td>\n",
       "      <td>(python, ```python\\ndef mount(self, subapp, ur...</td>\n",
       "      <td>python</td>\n",
       "      <td>def mount(self, subapp, url_prefix=''):\\n     ...</td>\n",
       "      <td>\\nclass Microdot:\\n    def mount(self, subapp,...</td>\n",
       "      <td>No callee examples provided.</td>\n",
       "      <td>Mount a sub-application, optionally under the ...</td>\n",
       "      <td></td>\n",
       "      <td>Mount a sub-application, optionally under the ...</td>\n",
       "      <td></td>\n",
       "      <td></td>\n",
       "      <td></td>\n",
       "      <td>Module(\\n    body=[\\n        FunctionDef(\\n   ...</td>\n",
       "      <td>Module(\\n    body=[\\n        ClassDef(\\n      ...</td>\n",
       "      <td>AST_TOKEN</td>\n",
       "    </tr>\n",
       "    <tr>\n",
       "      <th>4</th>\n",
       "      <td>5</td>\n",
       "      <td>You are a professional python software enginee...</td>\n",
       "      <td>```python\\nfrom pyner.named_entity.corpus impo...</td>\n",
       "      <td>(python, ```python\\ndef iob2bio(tags):\\n    pr...</td>\n",
       "      <td>python</td>\n",
       "      <td>def iob2bio(tags):\\n    processed_tags = []  #...</td>\n",
       "      <td>\\ndef split_tag(tag: str):\\n    \"\"\"\\n    Split...</td>\n",
       "      <td>No callee examples provided.</td>\n",
       "      <td></td>\n",
       "      <td># should be bio format\\n# case1. I-ORG I-ORG\\n...</td>\n",
       "      <td>\\n    Split tag into state and named entity ca...</td>\n",
       "      <td># should be bio format\\n# case1. I-ORG I-ORG\\n...</td>\n",
       "      <td></td>\n",
       "      <td></td>\n",
       "      <td>Module(\\n    body=[\\n        FunctionDef(\\n   ...</td>\n",
       "      <td>Module(\\n    body=[\\n        FunctionDef(\\n   ...</td>\n",
       "      <td>AST_TOKEN</td>\n",
       "    </tr>\n",
       "  </tbody>\n",
       "</table>\n",
       "</div>"
      ],
      "text/plain": [
       "   id                                              query  \\\n",
       "0   1  You are a professional python software enginee...   \n",
       "1   2  You are a professional python software enginee...   \n",
       "2   3  You are a professional python software enginee...   \n",
       "3   4  You are a professional python software enginee...   \n",
       "4   5  You are a professional python software enginee...   \n",
       "\n",
       "                                            response  \\\n",
       "0  ```python\\nfrom microdot import Microdot, Resp...   \n",
       "1  ```python\\nfrom microdot import Microdot, Resp...   \n",
       "2  ```python\\nfrom microdot import Microdot, Resp...   \n",
       "3  ```python\\nfrom microdot import Microdot, Resp...   \n",
       "4  ```python\\nfrom pyner.named_entity.corpus impo...   \n",
       "\n",
       "                                       code_features LANG_TOKEN  \\\n",
       "0  (python, ```python\\ndef get(self, key, default...     python   \n",
       "1  (python, ```python\\ndef get(self, url_pattern)...     python   \n",
       "2  (python, ```python\\ndef post(self, url_pattern...     python   \n",
       "3  (python, ```python\\ndef mount(self, subapp, ur...     python   \n",
       "4  (python, ```python\\ndef iob2bio(tags):\\n    pr...     python   \n",
       "\n",
       "                                        focal_method  \\\n",
       "0  def get(self, key, default=None):\\n        kl ...   \n",
       "1  def get(self, url_pattern):\\n        \"\"\"Decora...   \n",
       "2  def post(self, url_pattern):\\n        \"\"\"Decor...   \n",
       "3  def mount(self, subapp, url_prefix=''):\\n     ...   \n",
       "4  def iob2bio(tags):\\n    processed_tags = []  #...   \n",
       "\n",
       "                                           focal_cls  \\\n",
       "0  \\nclass NoCaseDict(dict):\\n    def get(self, k...   \n",
       "1  \\nclass Microdot:\\n    def route(self, url_pat...   \n",
       "2  \\nclass Microdot:\\n    def route(self, url_pat...   \n",
       "3  \\nclass Microdot:\\n    def mount(self, subapp,...   \n",
       "4  \\ndef split_tag(tag: str):\\n    \"\"\"\\n    Split...   \n",
       "\n",
       "                         callee  \\\n",
       "0  No callee examples provided.   \n",
       "1  No callee examples provided.   \n",
       "2  No callee examples provided.   \n",
       "3  No callee examples provided.   \n",
       "4  No callee examples provided.   \n",
       "\n",
       "                                   focal_method_docs  \\\n",
       "0                                                      \n",
       "1  Decorator that is used to register a function ...   \n",
       "2  Decorator that is used to register a function ...   \n",
       "3  Mount a sub-application, optionally under the ...   \n",
       "4                                                      \n",
       "\n",
       "                               focal_method_comments  \\\n",
       "0                                                      \n",
       "1                                              # ...   \n",
       "2                                              # ...   \n",
       "3                                                      \n",
       "4  # should be bio format\\n# case1. I-ORG I-ORG\\n...   \n",
       "\n",
       "                                      focal_cls_docs  \\\n",
       "0                                                      \n",
       "1  Decorator that is used to register a function ...   \n",
       "2  Decorator that is used to register a function ...   \n",
       "3  Mount a sub-application, optionally under the ...   \n",
       "4  \\n    Split tag into state and named entity ca...   \n",
       "\n",
       "                                  focal_cls_comments callee_docs  \\\n",
       "0                                                                  \n",
       "1                                              # ...               \n",
       "2                                              # ...               \n",
       "3                                                                  \n",
       "4  # should be bio format\\n# case1. I-ORG I-ORG\\n...               \n",
       "\n",
       "  callee_comments                                   focal_method_ast  \\\n",
       "0                  Module(\\n    body=[\\n        FunctionDef(\\n   ...   \n",
       "1                  Module(\\n    body=[\\n        FunctionDef(\\n   ...   \n",
       "2                  Module(\\n    body=[\\n        FunctionDef(\\n   ...   \n",
       "3                  Module(\\n    body=[\\n        FunctionDef(\\n   ...   \n",
       "4                  Module(\\n    body=[\\n        FunctionDef(\\n   ...   \n",
       "\n",
       "                                       focal_cls_ast callee_ast  \n",
       "0  Module(\\n    body=[\\n        ClassDef(\\n      ...  AST_TOKEN  \n",
       "1  Module(\\n    body=[\\n        ClassDef(\\n      ...  AST_TOKEN  \n",
       "2  Module(\\n    body=[\\n        ClassDef(\\n      ...  AST_TOKEN  \n",
       "3  Module(\\n    body=[\\n        ClassDef(\\n      ...  AST_TOKEN  \n",
       "4  Module(\\n    body=[\\n        FunctionDef(\\n   ...  AST_TOKEN  "
      ]
     },
     "execution_count": 174,
     "metadata": {},
     "output_type": "execute_result"
    }
   ],
   "source": [
    "code_dataset.head()"
   ]
  },
  {
   "cell_type": "markdown",
   "metadata": {},
   "source": [
    "Итак, теперь мы можем создать общую функцию:"
   ]
  },
  {
   "cell_type": "code",
   "execution_count": 175,
   "metadata": {},
   "outputs": [],
   "source": [
    "def create_initial_code_dataset(json_dict: dict = json_example) -> pd.DataFrame: \n",
    "\t'''\n",
    "\tФункция преобразует начальный набор данных в датасет, релевантный для обучения Code2Test модели\n",
    "\t\n",
    "\tПараметры:\n",
    "\t-json_dict: json-dict (default: json_example)\n",
    "\t\n",
    "\tВозвращает:\n",
    "\tpd.DataFrame()\n",
    "\t'''\n",
    "\t\n",
    "\tcode_dataset = pd.DataFrame(json_dict) # Создаём начальный датафрейм\n",
    "\tcode_dataset['query'] = code_dataset['conversations'].map(lambda x: x[0]['value']) # Создаём колонку с промптом\n",
    "\tcode_dataset['response'] = code_dataset['conversations'].map(lambda x: x[1]['value']) # Создаём колонку с ответом\n",
    "\tcode_dataset = code_dataset.drop(columns = ['conversations']) # Убираем колонку conversations\n",
    "\tprocess_all_samples_quieries(code_dataset) # Проверка на соответствие представленному шаблону\n",
    "\n",
    "\t# Извлекаем признаки из текста\n",
    "\tcode_dataset['code_features'] = code_dataset['query'].progress_apply(lambda query: query_processing_map(query))\n",
    "\tcode_dataset['LANG_TOKEN'] = code_dataset['code_features'].progress_apply(lambda features: features[0]) \n",
    "\tcode_dataset['focal_method'] = code_dataset['code_features'].progress_apply(lambda features: features[1])\n",
    "\tcode_dataset['focal_cls'] = code_dataset['code_features'].progress_apply(lambda features: features[2])\n",
    "\tcode_dataset['callee'] = code_dataset['code_features'].progress_apply(lambda features: features[3])\n",
    "\n",
    "\t# Извлекаем описание и комментарии\n",
    "\n",
    "\t# Для focal_method\n",
    "\tcode_dataset['focal_method_docs'] = code_dataset['focal_method'].progress_apply(lambda x: get_comments_and_description(x)[0])\n",
    "\tcode_dataset['focal_method_comments'] = code_dataset['focal_method'].progress_apply(lambda x: get_comments_and_description(x)[1])\n",
    "\n",
    "\t# Для focal_cls\n",
    "\tcode_dataset['focal_cls_docs'] = code_dataset['focal_cls'].progress_apply(lambda x: get_comments_and_description(x)[0])\n",
    "\tcode_dataset['focal_cls_comments'] = code_dataset['focal_cls'].progress_apply(lambda x: get_comments_and_description(x)[1])\n",
    "\n",
    "\t# Для callee\n",
    "\tcode_dataset['callee_docs'] = code_dataset['callee'].progress_apply(lambda x: get_comments_and_description(x)[0])\n",
    "\tcode_dataset['callee_comments'] = code_dataset['callee'].progress_apply(lambda x: get_comments_and_description(x)[1])\n",
    "\n",
    "\t# ast-парсинг\n",
    "\tcode_dataset['focal_method_ast'] = code_dataset['focal_method'].progress_apply(lambda x: get_ast_representation(x))\n",
    "\tcode_dataset['focal_cls_ast'] = code_dataset['focal_cls'].progress_apply(lambda x: get_ast_representation(x))\n",
    "\tcode_dataset['callee_ast'] = code_dataset['callee'].progress_apply(lambda x: get_ast_representation(x))\n",
    "\n",
    "\t"
   ]
  },
  {
   "cell_type": "markdown",
   "metadata": {},
   "source": [
    "Создадим класс обработки датасета"
   ]
  },
  {
   "cell_type": "code",
   "execution_count": 204,
   "metadata": {},
   "outputs": [
    {
     "name": "stdout",
     "output_type": "stream",
     "text": [
      "Время инициализации датасета: 12.025 секунды\n"
     ]
    }
   ],
   "source": [
    "class Code2TestPrepareDataset:\n",
    "\t'''Датасет типа code2test для решения задачи генерации тестов к коду'''\n",
    "\t\n",
    "\tdef __init__(self, json_input_path):\n",
    "\t\t'''\n",
    "\t\tКонструктор датасета. Создает словарь данных (dict)\n",
    "\t\t\n",
    "\t\tПараметры:\n",
    "\t\t-self\n",
    "\t\t-json_input: входной файл в формате .json\n",
    "\t\t'''\n",
    "\t\tstart_time = time.time()\n",
    "\t\ttry:\n",
    "\t\t\twith open(json_input_path, 'r') as file:\n",
    "\t\t\t\tdata = json.load(file)  # Загружаем JSON данные\n",
    "\t\t\t\tself.code2test_dict = data # Объявляем словарь code2test_dict\n",
    "\t\texcept FileNotFoundError:\n",
    "\t\t\tprint(f\"Ошибка: файл {json_input_path} не найден.\")\n",
    "\t\texcept json.JSONDecodeError:\n",
    "\t\t\tprint(f\"Ошибка: файл {json_input_path} не является корректным JSON.\")\n",
    "\t\texcept Exception as e:\n",
    "\t\t\tprint(f\"Произошла непредвиденная ошибка: {e}\")\n",
    "\t\tself.code_dataset = pd.DataFrame() # Пустой code_dataset\n",
    "\t\tcode_dataset = pd.DataFrame(self.code2test_dict) # создаем code_dataset из словаря json_dict\n",
    "\t\tcode_dataset['query'] = code_dataset['conversations'].map(lambda x: x[0]['value']) # извлекаем prompt\n",
    "\t\tcode_dataset['response'] = code_dataset['conversations'].map(lambda x: x[1]['value']) # извлекаем response\n",
    "\t\tcode_dataset = code_dataset.drop(columns = ['conversations']) # убираем conversations\n",
    "\n",
    "\t\tself.code_dataset = code_dataset # Объявляем датафрейм\n",
    "\t\tend_time = time.time()\n",
    "\t\tprint(f\"Время инициализации датасета: {end_time - start_time:.3f} секунды\")\n",
    "\t\n",
    "\tdef get_dataset(self):\n",
    "\t\t'''Простой возврат датасета'''\n",
    "\t\treturn self.code_dataset\n",
    "\n",
    "\t@staticmethod\n",
    "\tdef check_template_match(input_text: str, get_features: bool = False):\n",
    "\t\t'''\n",
    "\t\tФункция проверяет соответствие запроса шаблону\n",
    "\t\t\n",
    "\t\tПараметры:\n",
    "\t\t- input_text: входной запрос\n",
    "\t\t- get_features: флаг для осуществления извлечения признаков (default: False)\n",
    "\t\t\n",
    "\t\tВозвращает:\n",
    "\t\tTrue если соответствует, иначе False;\n",
    "\t\tИзвлеченные признаки\n",
    "\t\t'''\n",
    "\t\t# Регулярное выражение для проверки соответствия шаблону\n",
    "\t\tpattern = re.compile(\n",
    "\t\t\tr\"You are a professional (?P<language>\\w+) software engineer\\. You are asked to generate a complete test class for a focal method in a focal class\\.\\n\"\n",
    "\t\t\tr\"You will be given the following information of the focal method:\"\n",
    "\t\t\tr\"\\n1\\. Source code of the focal method\\.\"\n",
    "\t\t\tr\"\\n2\\. Source code of the focal class\\(Code that is not relevant to focal method's execution is filtered\\)\\.\"\n",
    "\t\t\tr\"\\n3\\. Source code of callee examples of the focal method\\.\"\n",
    "\t\t\tr\"\\nYou will ONLY return unit test code for the focal method including necessary imports and dependencies, make sure it compile without errors, and use reflection to invoke private methods\\. \"\n",
    "\t\t\tr\"\\nNote that no additional explanations required\\.\"\n",
    "\t\t\tr\"\\n\\nHere are the information of the focal method:\"\n",
    "\t\t\tr\"\\n1\\. Source code of the focal method\\.\\n\"\n",
    "\t\t\tr\"(?P<methodCode>.*?)\\n\"\n",
    "\t\t\tr\"2\\. Source code of the focal class\\(Codes that are may not related to focal method are filtered\\).\\n\"\n",
    "\t\t\tr\"(?P<methodTotalCode>.*?)\\n\"\n",
    "\t\t\tr\"3\\. Source code of callee examples of the focal method.\\n\"\n",
    "\t\t\tr\"(?P<callCode_callees_string>.*?)\\n\"\n",
    "\t\t\tr\"\\nPlease note that the test class you return should include multiple test cases covering different functionalities. There is no upper limit on the number of test cases, but you need to ensure that the test cases provide high test coverage and test extreme and special cases of the code as much as possible\\.\\n\"\n",
    "\t\t\t,\n",
    "\t\t\tre.DOTALL\n",
    "\t\t)\n",
    "\t\t\n",
    "\t\t# Проверяем соответствие шаблону \n",
    "\t\tif not get_features:\n",
    "\t\t\treturn bool(pattern.match(input_text))\n",
    "\t\telse:\n",
    "\t\t\tmatch = pattern.match(input_text)\n",
    "\t\t\tif match:\n",
    "\t\t\t\treturn True, (match.group('language'), \n",
    "\t\t\t\t\t\t\tmatch.group('methodCode'), \n",
    "\t\t\t\t\t\t\tmatch.group('methodTotalCode'),\n",
    "\t\t\t\t\t\t\tmatch.group('callCode_callees_string'))\n",
    "\t\t\telse:\n",
    "\t\n",
    "\t\t\t\treturn False, None \n",
    "\t@staticmethod\n",
    "\tdef process_all_samples_quieries(self):\n",
    "\t\t'''\n",
    "\t\tФункция для проверки запросов всех сэмплов на соответствие шаблону, указанному на HuggingFace\n",
    "\t\t\n",
    "\t\tПараметры:\n",
    "\t\t-dataset: датасет с кодом (default: code_dataset)\n",
    "\t\t'''\n",
    "\t\tfor i in tqdm(range(self.code_dataset.shape[0])): # Проходимся и проверяем на True\n",
    "\t\t\tassert(Code2TestPrepareDataset.check_template_match(self.code_dataset.iloc[i, 1]) == True), \"CODE DOESN'T MATCH THE TEMPLATE\"\n",
    "\t\n",
    "\t@staticmethod\n",
    "\tdef query_processing_map(query):\n",
    "\t\t'''Вспомогательная функция для реализации pandas.map'''\n",
    "\t\t_, features = Code2TestPrepareDataset.check_template_match(query, get_features=True)\n",
    "\t\treturn features\n",
    "\t\n",
    "\t@staticmethod\n",
    "\tdef get_comments_and_description(text_code: str):\n",
    "\t\t'''\n",
    "\t\tФункция извлекает все комментарии из кода и описания функций:\n",
    "\t\t\n",
    "\t\tПараметры:\n",
    "\t\t-text_code: строка с кодом\n",
    "\t\t\n",
    "\t\t'''\n",
    "\t\t\n",
    "\t\t# Шаблоны для поиска комментариев и описаний\n",
    "\t\ttriple_quotes_pattern = r'\"\"\"(.*?)\"\"\"|\\'\\'\\'(.*?)\\'\\'\\''\n",
    "\t\tsingle_comment_pattern = r'#.*'\n",
    "\n",
    "\t\t# Извлекаем \n",
    "\t\ttriple_quotes_matches = re.findall(triple_quotes_pattern, text_code, re.DOTALL)\n",
    "\t\tsingle_comment_matches = re.findall(single_comment_pattern, text_code)\n",
    "\n",
    "\t\tdocstrings = [match[0] or match[1] for match in triple_quotes_matches]\n",
    "\t\tcomments = single_comment_matches\n",
    "\t\t\n",
    "\t\treturn (\"\\n\".join(docstrings), \"\\n\".join(comments))\n",
    "\t\n",
    "\t@staticmethod\n",
    "\tdef clean_text_code(text_code: str) -> str:\n",
    "\t\t'''\n",
    "\t\tФунция для чистки кода от .md команд\n",
    "\t\t\n",
    "\t\tПараметры:\n",
    "\t\t-text_code: код в формате строки\n",
    "\t\t\n",
    "\t\tВозвращает \"чистый\" код\n",
    "\t\t\n",
    "\t\t'''\n",
    "\t\tcleaned_code = re.sub(r\"^```python\\n|^```\\n|```$\", \"\", text_code, flags=re.MULTILINE)\n",
    "\t\treturn cleaned_code\n",
    "\t\n",
    "\t@staticmethod\n",
    "\tdef get_ast_representation(text_code: str) -> str:\n",
    "\t\t\"\"\"\n",
    "\t\tПолучает AST-дерево для кода. Если возникает ошибка при парсинге, возвращает строку 'AST_TOKEN'.\n",
    "\t\t\n",
    "\t\tПараметры:\n",
    "\t\t- text_code: код в виде текста\n",
    "\n",
    "\t\tВозвращает AST-дерево или 'AST_TOKEN' в случае ошибки.\n",
    "\t\t\"\"\"\n",
    "\t\ttry:\n",
    "\t\t\t# Пытаемся сразу построить AST-дерево\n",
    "\t\t\ttree = ast.parse(text_code)\n",
    "\t\t\t# Преобразуем AST в строку и возвращаем\n",
    "\t\t\tast_tree = ast.dump(tree, indent=4)\n",
    "\t\t\treturn ast_tree\n",
    "\t\texcept SyntaxError:\n",
    "\t\t\t# Если ошибка, возвращаем 'AST_TOKEN'\n",
    "\t\t\treturn \"AST_TOKEN\"\n",
    "\t\n",
    "\tdef prepare_dataset(self):\n",
    "\t\t'''Функция подготовки датасета'''\n",
    "\n",
    "\t\tstart_time_ = time.time()\n",
    "\t\t\n",
    "\t\tstart_time =  time.time()\n",
    "\t\tself.process_all_samples_quieries(self) # Проверка на соответствие представленному шаблону\n",
    "\t\tend_time = time.time()\n",
    "\t\tprint(f\"Время проверки формата запросов: {end_time - start_time:.3f} секунды\")\n",
    "\n",
    "\t\t# Извлекаем признаки из текста\n",
    "\t\tstart_time =  time.time()\n",
    "\t\tself.code_dataset['code_features'] = self.code_dataset['query'].progress_apply(lambda query: self.query_processing_map(query))\n",
    "\t\tself.code_dataset['LANG_TOKEN'] = self.code_dataset['code_features'].progress_apply(lambda features: features[0]) \n",
    "\t\tself.code_dataset['focal_method'] = self.code_dataset['code_features'].progress_apply(lambda features: features[1])\n",
    "\t\tself.code_dataset['focal_cls'] = self.code_dataset['code_features'].progress_apply(lambda features: features[2])\n",
    "\t\tself.code_dataset['callee'] = self.code_dataset['code_features'].progress_apply(lambda features: features[3])\n",
    "\t\tend_time = time.time()\n",
    "\t\tprint(f\"Время извлечения глобальных признаков из текста кода: {end_time - start_time:.3f} секунды\")\n",
    "\t\t\n",
    "\t\t# Извлекаем описание и комментарии\n",
    "\n",
    "\t\t# Для focal_method\n",
    "\t\tstart_time =  time.time()\n",
    "\t\tself.code_dataset['focal_method_docs'] = self.code_dataset['focal_method'].progress_apply(lambda x: self.get_comments_and_description(x)[0])\n",
    "\t\tself.code_dataset['focal_method_comments'] = self.code_dataset['focal_method'].progress_apply(lambda x: self.get_comments_and_description(x)[1])\n",
    "\t\t\n",
    "\t\t# Для focal_cls\n",
    "\t\tself.code_dataset['focal_cls_docs'] = self.code_dataset['focal_cls'].progress_apply(lambda x: self.get_comments_and_description(x)[0])\n",
    "\t\tself.code_dataset['focal_cls_comments'] = self.code_dataset['focal_cls'].progress_apply(lambda x: self.get_comments_and_description(x)[1])\n",
    "\t\t\n",
    "\t\t# Для calle\n",
    "\t\tself.code_dataset['callee_docs'] = self.code_dataset['callee'].progress_apply(lambda x: self.get_comments_and_description(x)[0])\n",
    "\t\tself.code_dataset['callee_comments'] = self.code_dataset['callee'].progress_apply(lambda x: self.get_comments_and_description(x)[1])\n",
    "\t\tend_time = time.time()\n",
    "\t\tprint(f\"Время извлечения комментариев и описаний из текста кода: {end_time - start_time:.3f} секунды\")\n",
    "\t\t\n",
    "\t\t# \"Чистый\" код\n",
    "\t\tstart_time =  time.time()\n",
    "\t\tself.code_dataset['focal_method'] =self.code_dataset['focal_method'].progress_apply(lambda x: self.clean_text_code(x))\n",
    "\t\tself.code_dataset['focal_cls'] = self.code_dataset['focal_cls'].progress_apply(lambda x: self.clean_text_code(x))\n",
    "\t\tself.code_dataset['callee'] = self.code_dataset['callee'].progress_apply(lambda x: self.clean_text_code(x))\t\n",
    "\t\tself.code_dataset['response'] = self.code_dataset['response'].progress_apply(lambda x: self.clean_text_code(x))\n",
    "\t\tend_time = time.time()\t\n",
    "\t\tprint(f\"Время очистки текста кода: {end_time - start_time:.3f} секунды\")\n",
    "\n",
    "\t\t# ast-парсинг\n",
    "\t\tstart_time =  time.time()\n",
    "\t\tself.code_dataset['focal_method_ast'] = self.code_dataset['focal_method'].progress_apply(lambda x: self.get_ast_representation(x))\n",
    "\t\tself.code_dataset['focal_cls_ast'] = self.code_dataset['focal_cls'].progress_apply(lambda x: self.get_ast_representation(x))\n",
    "\t\tself.code_dataset['callee_ast'] = self.code_dataset['callee'].progress_apply(lambda x: self.get_ast_representation(x))\n",
    "\t\tend_time = time.time()\n",
    "\t\tprint(f\"Время получения ast-деревьев на основе текста кода: {end_time - start_time:.3f} секунды\")\n",
    "\n",
    "\t\tend_time_ = time.time()\n",
    "\t\tprint(f\"Время подготовки датасета: {end_time_ - start_time_:.3f} секунды\")\n",
    "\n",
    "data_path = '/Users/chervonikov_alexey/Desktop/projects/Technopark_Autumn_2024/NN_course_project/data'\n",
    "folder_path = 'data_Arain_unitTest-FineTuning_example'\n",
    "json_path = 'zero_shot_multi_unit_test.json'\n",
    "\n",
    "input_json_path = os.path.join(data_path, folder_path, json_path)\n",
    "code2test_dataset = Code2TestPrepareDataset(input_json_path)"
   ]
  },
  {
   "cell_type": "code",
   "execution_count": 205,
   "metadata": {},
   "outputs": [
    {
     "name": "stderr",
     "output_type": "stream",
     "text": [
      "100%|██████████| 281060/281060 [00:06<00:00, 44459.03it/s]\n"
     ]
    },
    {
     "name": "stdout",
     "output_type": "stream",
     "text": [
      "Время проверки формата запросов: 6.325 секунды\n"
     ]
    },
    {
     "name": "stderr",
     "output_type": "stream",
     "text": [
      "100%|██████████| 281060/281060 [00:12<00:00, 22654.25it/s]\n",
      "100%|██████████| 281060/281060 [00:00<00:00, 3863742.71it/s]\n",
      "100%|██████████| 281060/281060 [00:00<00:00, 2916107.61it/s]\n",
      "100%|██████████| 281060/281060 [00:00<00:00, 2941722.29it/s]\n",
      "100%|██████████| 281060/281060 [00:00<00:00, 3750218.18it/s]\n"
     ]
    },
    {
     "name": "stdout",
     "output_type": "stream",
     "text": [
      "Время извлечения глобальных признаков из текста кода: 12.774 секунды\n"
     ]
    },
    {
     "name": "stderr",
     "output_type": "stream",
     "text": [
      "100%|██████████| 281060/281060 [00:01<00:00, 198340.94it/s]\n",
      "100%|██████████| 281060/281060 [00:01<00:00, 187343.73it/s]\n",
      "100%|██████████| 281060/281060 [00:02<00:00, 105407.33it/s]\n",
      "100%|██████████| 281060/281060 [00:02<00:00, 106205.20it/s]\n",
      "100%|██████████| 281060/281060 [00:00<00:00, 356826.44it/s]\n",
      "100%|██████████| 281060/281060 [00:00<00:00, 354183.66it/s]\n"
     ]
    },
    {
     "name": "stdout",
     "output_type": "stream",
     "text": [
      "Время извлечения комментариев и описаний из текста кода: 9.833 секунды\n"
     ]
    },
    {
     "name": "stderr",
     "output_type": "stream",
     "text": [
      "100%|██████████| 281060/281060 [00:03<00:00, 81301.95it/s]\n",
      "100%|██████████| 281060/281060 [00:07<00:00, 38857.36it/s]\n",
      "100%|██████████| 281060/281060 [00:02<00:00, 137387.99it/s]\n",
      "100%|██████████| 281060/281060 [00:05<00:00, 47981.12it/s]\n"
     ]
    },
    {
     "name": "stdout",
     "output_type": "stream",
     "text": [
      "Время очистки текста кода: 18.662 секунды\n"
     ]
    },
    {
     "name": "stderr",
     "output_type": "stream",
     "text": [
      "100%|██████████| 281060/281060 [00:36<00:00, 7769.24it/s] \n",
      "100%|██████████| 281060/281060 [01:17<00:00, 3625.27it/s]\n",
      "100%|██████████| 281060/281060 [00:02<00:00, 109963.46it/s]"
     ]
    },
    {
     "name": "stdout",
     "output_type": "stream",
     "text": [
      "Время получения ast-деревьев на основе текста кода: 117.064 секунды\n",
      "Время подготовки датасета: 164.658 секунды\n"
     ]
    },
    {
     "name": "stderr",
     "output_type": "stream",
     "text": [
      "\n"
     ]
    }
   ],
   "source": [
    "code2test_dataset.prepare_dataset()"
   ]
  },
  {
   "cell_type": "code",
   "execution_count": 206,
   "metadata": {},
   "outputs": [],
   "source": [
    "dataset = code2test_dataset.get_dataset()"
   ]
  },
  {
   "cell_type": "code",
   "execution_count": 207,
   "metadata": {},
   "outputs": [
    {
     "data": {
      "text/html": [
       "<div>\n",
       "<style scoped>\n",
       "    .dataframe tbody tr th:only-of-type {\n",
       "        vertical-align: middle;\n",
       "    }\n",
       "\n",
       "    .dataframe tbody tr th {\n",
       "        vertical-align: top;\n",
       "    }\n",
       "\n",
       "    .dataframe thead th {\n",
       "        text-align: right;\n",
       "    }\n",
       "</style>\n",
       "<table border=\"1\" class=\"dataframe\">\n",
       "  <thead>\n",
       "    <tr style=\"text-align: right;\">\n",
       "      <th></th>\n",
       "      <th>id</th>\n",
       "      <th>query</th>\n",
       "      <th>response</th>\n",
       "      <th>code_features</th>\n",
       "      <th>LANG_TOKEN</th>\n",
       "      <th>focal_method</th>\n",
       "      <th>focal_cls</th>\n",
       "      <th>callee</th>\n",
       "      <th>focal_method_docs</th>\n",
       "      <th>focal_method_comments</th>\n",
       "      <th>focal_cls_docs</th>\n",
       "      <th>focal_cls_comments</th>\n",
       "      <th>callee_docs</th>\n",
       "      <th>callee_comments</th>\n",
       "      <th>focal_method_ast</th>\n",
       "      <th>focal_cls_ast</th>\n",
       "      <th>callee_ast</th>\n",
       "    </tr>\n",
       "  </thead>\n",
       "  <tbody>\n",
       "    <tr>\n",
       "      <th>0</th>\n",
       "      <td>1</td>\n",
       "      <td>You are a professional python software enginee...</td>\n",
       "      <td>from microdot import Microdot, Response, abort...</td>\n",
       "      <td>(python, ```python\\ndef get(self, key, default...</td>\n",
       "      <td>python</td>\n",
       "      <td>def get(self, key, default=None):\\n        kl ...</td>\n",
       "      <td>\\nclass NoCaseDict(dict):\\n    def get(self, k...</td>\n",
       "      <td>No callee examples provided.</td>\n",
       "      <td></td>\n",
       "      <td></td>\n",
       "      <td></td>\n",
       "      <td></td>\n",
       "      <td></td>\n",
       "      <td></td>\n",
       "      <td>Module(\\n    body=[\\n        FunctionDef(\\n   ...</td>\n",
       "      <td>Module(\\n    body=[\\n        ClassDef(\\n      ...</td>\n",
       "      <td>AST_TOKEN</td>\n",
       "    </tr>\n",
       "    <tr>\n",
       "      <th>1</th>\n",
       "      <td>2</td>\n",
       "      <td>You are a professional python software enginee...</td>\n",
       "      <td>from microdot import Microdot, Response, abort...</td>\n",
       "      <td>(python, ```python\\ndef get(self, url_pattern)...</td>\n",
       "      <td>python</td>\n",
       "      <td>def get(self, url_pattern):\\n        \"\"\"Decora...</td>\n",
       "      <td>\\nclass Microdot:\\n    def route(self, url_pat...</td>\n",
       "      <td>No callee examples provided.</td>\n",
       "      <td>Decorator that is used to register a function ...</td>\n",
       "      <td># ...</td>\n",
       "      <td>Decorator that is used to register a function ...</td>\n",
       "      <td># ...</td>\n",
       "      <td></td>\n",
       "      <td></td>\n",
       "      <td>Module(\\n    body=[\\n        FunctionDef(\\n   ...</td>\n",
       "      <td>Module(\\n    body=[\\n        ClassDef(\\n      ...</td>\n",
       "      <td>AST_TOKEN</td>\n",
       "    </tr>\n",
       "    <tr>\n",
       "      <th>2</th>\n",
       "      <td>3</td>\n",
       "      <td>You are a professional python software enginee...</td>\n",
       "      <td>from microdot import Microdot, Response, abort...</td>\n",
       "      <td>(python, ```python\\ndef post(self, url_pattern...</td>\n",
       "      <td>python</td>\n",
       "      <td>def post(self, url_pattern):\\n        \"\"\"Decor...</td>\n",
       "      <td>\\nclass Microdot:\\n    def route(self, url_pat...</td>\n",
       "      <td>No callee examples provided.</td>\n",
       "      <td>Decorator that is used to register a function ...</td>\n",
       "      <td># ...</td>\n",
       "      <td>Decorator that is used to register a function ...</td>\n",
       "      <td># ...</td>\n",
       "      <td></td>\n",
       "      <td></td>\n",
       "      <td>Module(\\n    body=[\\n        FunctionDef(\\n   ...</td>\n",
       "      <td>Module(\\n    body=[\\n        ClassDef(\\n      ...</td>\n",
       "      <td>AST_TOKEN</td>\n",
       "    </tr>\n",
       "    <tr>\n",
       "      <th>3</th>\n",
       "      <td>4</td>\n",
       "      <td>You are a professional python software enginee...</td>\n",
       "      <td>from microdot import Microdot, Response, abort...</td>\n",
       "      <td>(python, ```python\\ndef mount(self, subapp, ur...</td>\n",
       "      <td>python</td>\n",
       "      <td>def mount(self, subapp, url_prefix=''):\\n     ...</td>\n",
       "      <td>\\nclass Microdot:\\n    def mount(self, subapp,...</td>\n",
       "      <td>No callee examples provided.</td>\n",
       "      <td>Mount a sub-application, optionally under the ...</td>\n",
       "      <td></td>\n",
       "      <td>Mount a sub-application, optionally under the ...</td>\n",
       "      <td></td>\n",
       "      <td></td>\n",
       "      <td></td>\n",
       "      <td>Module(\\n    body=[\\n        FunctionDef(\\n   ...</td>\n",
       "      <td>Module(\\n    body=[\\n        ClassDef(\\n      ...</td>\n",
       "      <td>AST_TOKEN</td>\n",
       "    </tr>\n",
       "    <tr>\n",
       "      <th>4</th>\n",
       "      <td>5</td>\n",
       "      <td>You are a professional python software enginee...</td>\n",
       "      <td>from pyner.named_entity.corpus import bio2bioe...</td>\n",
       "      <td>(python, ```python\\ndef iob2bio(tags):\\n    pr...</td>\n",
       "      <td>python</td>\n",
       "      <td>def iob2bio(tags):\\n    processed_tags = []  #...</td>\n",
       "      <td>\\ndef split_tag(tag: str):\\n    \"\"\"\\n    Split...</td>\n",
       "      <td>No callee examples provided.</td>\n",
       "      <td></td>\n",
       "      <td># should be bio format\\n# case1. I-ORG I-ORG\\n...</td>\n",
       "      <td>\\n    Split tag into state and named entity ca...</td>\n",
       "      <td># should be bio format\\n# case1. I-ORG I-ORG\\n...</td>\n",
       "      <td></td>\n",
       "      <td></td>\n",
       "      <td>Module(\\n    body=[\\n        FunctionDef(\\n   ...</td>\n",
       "      <td>Module(\\n    body=[\\n        FunctionDef(\\n   ...</td>\n",
       "      <td>AST_TOKEN</td>\n",
       "    </tr>\n",
       "  </tbody>\n",
       "</table>\n",
       "</div>"
      ],
      "text/plain": [
       "   id                                              query  \\\n",
       "0   1  You are a professional python software enginee...   \n",
       "1   2  You are a professional python software enginee...   \n",
       "2   3  You are a professional python software enginee...   \n",
       "3   4  You are a professional python software enginee...   \n",
       "4   5  You are a professional python software enginee...   \n",
       "\n",
       "                                            response  \\\n",
       "0  from microdot import Microdot, Response, abort...   \n",
       "1  from microdot import Microdot, Response, abort...   \n",
       "2  from microdot import Microdot, Response, abort...   \n",
       "3  from microdot import Microdot, Response, abort...   \n",
       "4  from pyner.named_entity.corpus import bio2bioe...   \n",
       "\n",
       "                                       code_features LANG_TOKEN  \\\n",
       "0  (python, ```python\\ndef get(self, key, default...     python   \n",
       "1  (python, ```python\\ndef get(self, url_pattern)...     python   \n",
       "2  (python, ```python\\ndef post(self, url_pattern...     python   \n",
       "3  (python, ```python\\ndef mount(self, subapp, ur...     python   \n",
       "4  (python, ```python\\ndef iob2bio(tags):\\n    pr...     python   \n",
       "\n",
       "                                        focal_method  \\\n",
       "0  def get(self, key, default=None):\\n        kl ...   \n",
       "1  def get(self, url_pattern):\\n        \"\"\"Decora...   \n",
       "2  def post(self, url_pattern):\\n        \"\"\"Decor...   \n",
       "3  def mount(self, subapp, url_prefix=''):\\n     ...   \n",
       "4  def iob2bio(tags):\\n    processed_tags = []  #...   \n",
       "\n",
       "                                           focal_cls  \\\n",
       "0  \\nclass NoCaseDict(dict):\\n    def get(self, k...   \n",
       "1  \\nclass Microdot:\\n    def route(self, url_pat...   \n",
       "2  \\nclass Microdot:\\n    def route(self, url_pat...   \n",
       "3  \\nclass Microdot:\\n    def mount(self, subapp,...   \n",
       "4  \\ndef split_tag(tag: str):\\n    \"\"\"\\n    Split...   \n",
       "\n",
       "                         callee  \\\n",
       "0  No callee examples provided.   \n",
       "1  No callee examples provided.   \n",
       "2  No callee examples provided.   \n",
       "3  No callee examples provided.   \n",
       "4  No callee examples provided.   \n",
       "\n",
       "                                   focal_method_docs  \\\n",
       "0                                                      \n",
       "1  Decorator that is used to register a function ...   \n",
       "2  Decorator that is used to register a function ...   \n",
       "3  Mount a sub-application, optionally under the ...   \n",
       "4                                                      \n",
       "\n",
       "                               focal_method_comments  \\\n",
       "0                                                      \n",
       "1                                              # ...   \n",
       "2                                              # ...   \n",
       "3                                                      \n",
       "4  # should be bio format\\n# case1. I-ORG I-ORG\\n...   \n",
       "\n",
       "                                      focal_cls_docs  \\\n",
       "0                                                      \n",
       "1  Decorator that is used to register a function ...   \n",
       "2  Decorator that is used to register a function ...   \n",
       "3  Mount a sub-application, optionally under the ...   \n",
       "4  \\n    Split tag into state and named entity ca...   \n",
       "\n",
       "                                  focal_cls_comments callee_docs  \\\n",
       "0                                                                  \n",
       "1                                              # ...               \n",
       "2                                              # ...               \n",
       "3                                                                  \n",
       "4  # should be bio format\\n# case1. I-ORG I-ORG\\n...               \n",
       "\n",
       "  callee_comments                                   focal_method_ast  \\\n",
       "0                  Module(\\n    body=[\\n        FunctionDef(\\n   ...   \n",
       "1                  Module(\\n    body=[\\n        FunctionDef(\\n   ...   \n",
       "2                  Module(\\n    body=[\\n        FunctionDef(\\n   ...   \n",
       "3                  Module(\\n    body=[\\n        FunctionDef(\\n   ...   \n",
       "4                  Module(\\n    body=[\\n        FunctionDef(\\n   ...   \n",
       "\n",
       "                                       focal_cls_ast callee_ast  \n",
       "0  Module(\\n    body=[\\n        ClassDef(\\n      ...  AST_TOKEN  \n",
       "1  Module(\\n    body=[\\n        ClassDef(\\n      ...  AST_TOKEN  \n",
       "2  Module(\\n    body=[\\n        ClassDef(\\n      ...  AST_TOKEN  \n",
       "3  Module(\\n    body=[\\n        ClassDef(\\n      ...  AST_TOKEN  \n",
       "4  Module(\\n    body=[\\n        FunctionDef(\\n   ...  AST_TOKEN  "
      ]
     },
     "execution_count": 207,
     "metadata": {},
     "output_type": "execute_result"
    }
   ],
   "source": [
    "dataset.head()"
   ]
  },
  {
   "cell_type": "code",
   "execution_count": null,
   "metadata": {},
   "outputs": [],
   "source": []
  }
 ],
 "metadata": {
  "kernelspec": {
   "display_name": "Python 3",
   "language": "python",
   "name": "python3"
  },
  "language_info": {
   "codemirror_mode": {
    "name": "ipython",
    "version": 3
   },
   "file_extension": ".py",
   "mimetype": "text/x-python",
   "name": "python",
   "nbconvert_exporter": "python",
   "pygments_lexer": "ipython3",
   "version": "3.12.3"
  }
 },
 "nbformat": 4,
 "nbformat_minor": 2
}
