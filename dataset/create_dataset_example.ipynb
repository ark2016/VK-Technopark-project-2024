{
 "cells": [
  {
   "cell_type": "markdown",
   "metadata": {},
   "source": [
    "#### Пример подготовки датасета формата Method2Test"
   ]
  },
  {
   "cell_type": "code",
   "execution_count": 9,
   "metadata": {},
   "outputs": [],
   "source": [
    "import warnings\n",
    "warnings.filterwarnings(\"ignore\")"
   ]
  },
  {
   "cell_type": "markdown",
   "metadata": {},
   "source": [
    "Импортируем написанный класс"
   ]
  },
  {
   "cell_type": "code",
   "execution_count": 10,
   "metadata": {},
   "outputs": [],
   "source": [
    "from create_dataset_m2t import input_json_path, Code2TestPrepareDataset"
   ]
  },
  {
   "cell_type": "markdown",
   "metadata": {},
   "source": [
    "Вызываем его инициализацию"
   ]
  },
  {
   "cell_type": "code",
   "execution_count": 11,
   "metadata": {},
   "outputs": [
    {
     "name": "stdout",
     "output_type": "stream",
     "text": [
      "Время инициализации датасета: 10.830 секунды\n"
     ]
    }
   ],
   "source": [
    "dataset_m2t = Code2TestPrepareDataset(input_json_path)"
   ]
  },
  {
   "cell_type": "markdown",
   "metadata": {},
   "source": [
    "Готовим датасет"
   ]
  },
  {
   "cell_type": "code",
   "execution_count": 12,
   "metadata": {},
   "outputs": [
    {
     "name": "stderr",
     "output_type": "stream",
     "text": [
      "100%|██████████| 281060/281060 [00:06<00:00, 45216.16it/s]\n"
     ]
    },
    {
     "name": "stdout",
     "output_type": "stream",
     "text": [
      "Время проверки формата запросов: 6.221 секунды\n"
     ]
    },
    {
     "name": "stderr",
     "output_type": "stream",
     "text": [
      "100%|██████████| 281060/281060 [00:07<00:00, 39709.97it/s]\n",
      "100%|██████████| 281060/281060 [00:00<00:00, 3998165.44it/s]\n",
      "100%|██████████| 281060/281060 [00:00<00:00, 3046662.16it/s]\n",
      "100%|██████████| 281060/281060 [00:00<00:00, 2901765.85it/s]\n",
      "100%|██████████| 281060/281060 [00:00<00:00, 3707778.46it/s]\n"
     ]
    },
    {
     "name": "stdout",
     "output_type": "stream",
     "text": [
      "Время извлечения глобальных признаков из текста кода: 7.439 секунды\n"
     ]
    },
    {
     "name": "stderr",
     "output_type": "stream",
     "text": [
      "100%|██████████| 281060/281060 [00:01<00:00, 201344.63it/s]\n",
      "100%|██████████| 281060/281060 [00:01<00:00, 204173.54it/s]\n",
      "100%|██████████| 281060/281060 [00:02<00:00, 108272.65it/s]\n",
      "100%|██████████| 281060/281060 [00:02<00:00, 109401.84it/s]\n",
      "100%|██████████| 281060/281060 [00:00<00:00, 359890.79it/s]\n",
      "100%|██████████| 281060/281060 [00:00<00:00, 352130.56it/s]\n"
     ]
    },
    {
     "name": "stdout",
     "output_type": "stream",
     "text": [
      "Время извлечения комментариев и описаний из текста кода: 9.539 секунды\n"
     ]
    },
    {
     "name": "stderr",
     "output_type": "stream",
     "text": [
      "100%|██████████| 281060/281060 [00:03<00:00, 83386.39it/s]\n",
      "100%|██████████| 281060/281060 [00:06<00:00, 40681.68it/s]\n",
      "100%|██████████| 281060/281060 [00:01<00:00, 153750.80it/s]\n",
      "100%|██████████| 281060/281060 [00:05<00:00, 48529.36it/s]\n"
     ]
    },
    {
     "name": "stdout",
     "output_type": "stream",
     "text": [
      "Время очистки текста кода: 17.927 секунды\n"
     ]
    },
    {
     "name": "stderr",
     "output_type": "stream",
     "text": [
      "100%|██████████| 281060/281060 [00:36<00:00, 7768.00it/s] \n",
      "100%|██████████| 281060/281060 [01:14<00:00, 3762.40it/s]\n",
      "100%|██████████| 281060/281060 [00:02<00:00, 116139.54it/s]"
     ]
    },
    {
     "name": "stdout",
     "output_type": "stream",
     "text": [
      "Время получения ast-деревьев на основе текста кода: 113.815 секунды\n",
      "Время подготовки датасета: 154.940 секунды\n"
     ]
    },
    {
     "name": "stderr",
     "output_type": "stream",
     "text": [
      "\n"
     ]
    }
   ],
   "source": [
    "dataset_m2t.prepare_dataset()"
   ]
  },
  {
   "cell_type": "markdown",
   "metadata": {},
   "source": [
    "Смотрим на датасет"
   ]
  },
  {
   "cell_type": "code",
   "execution_count": 13,
   "metadata": {},
   "outputs": [],
   "source": [
    "dataset = dataset_m2t.get_dataset()"
   ]
  },
  {
   "cell_type": "code",
   "execution_count": 14,
   "metadata": {},
   "outputs": [
    {
     "data": {
      "text/html": [
       "<div>\n",
       "<style scoped>\n",
       "    .dataframe tbody tr th:only-of-type {\n",
       "        vertical-align: middle;\n",
       "    }\n",
       "\n",
       "    .dataframe tbody tr th {\n",
       "        vertical-align: top;\n",
       "    }\n",
       "\n",
       "    .dataframe thead th {\n",
       "        text-align: right;\n",
       "    }\n",
       "</style>\n",
       "<table border=\"1\" class=\"dataframe\">\n",
       "  <thead>\n",
       "    <tr style=\"text-align: right;\">\n",
       "      <th></th>\n",
       "      <th>id</th>\n",
       "      <th>query</th>\n",
       "      <th>response</th>\n",
       "      <th>code_features</th>\n",
       "      <th>LANG_TOKEN</th>\n",
       "      <th>focal_method</th>\n",
       "      <th>focal_cls</th>\n",
       "      <th>callee</th>\n",
       "      <th>focal_method_docs</th>\n",
       "      <th>focal_method_comments</th>\n",
       "      <th>focal_cls_docs</th>\n",
       "      <th>focal_cls_comments</th>\n",
       "      <th>callee_docs</th>\n",
       "      <th>callee_comments</th>\n",
       "      <th>focal_method_ast</th>\n",
       "      <th>focal_cls_ast</th>\n",
       "      <th>callee_ast</th>\n",
       "    </tr>\n",
       "  </thead>\n",
       "  <tbody>\n",
       "    <tr>\n",
       "      <th>0</th>\n",
       "      <td>1</td>\n",
       "      <td>You are a professional python software enginee...</td>\n",
       "      <td>from microdot import Microdot, Response, abort...</td>\n",
       "      <td>(python, ```python\\ndef get(self, key, default...</td>\n",
       "      <td>python</td>\n",
       "      <td>def get(self, key, default=None):\\n        kl ...</td>\n",
       "      <td>\\nclass NoCaseDict(dict):\\n    def get(self, k...</td>\n",
       "      <td>No callee examples provided.</td>\n",
       "      <td></td>\n",
       "      <td></td>\n",
       "      <td></td>\n",
       "      <td></td>\n",
       "      <td></td>\n",
       "      <td></td>\n",
       "      <td>Module(\\n    body=[\\n        FunctionDef(\\n   ...</td>\n",
       "      <td>Module(\\n    body=[\\n        ClassDef(\\n      ...</td>\n",
       "      <td>AST_TOKEN</td>\n",
       "    </tr>\n",
       "    <tr>\n",
       "      <th>1</th>\n",
       "      <td>2</td>\n",
       "      <td>You are a professional python software enginee...</td>\n",
       "      <td>from microdot import Microdot, Response, abort...</td>\n",
       "      <td>(python, ```python\\ndef get(self, url_pattern)...</td>\n",
       "      <td>python</td>\n",
       "      <td>def get(self, url_pattern):\\n        \"\"\"Decora...</td>\n",
       "      <td>\\nclass Microdot:\\n    def route(self, url_pat...</td>\n",
       "      <td>No callee examples provided.</td>\n",
       "      <td>Decorator that is used to register a function ...</td>\n",
       "      <td># ...</td>\n",
       "      <td>Decorator that is used to register a function ...</td>\n",
       "      <td># ...</td>\n",
       "      <td></td>\n",
       "      <td></td>\n",
       "      <td>Module(\\n    body=[\\n        FunctionDef(\\n   ...</td>\n",
       "      <td>Module(\\n    body=[\\n        ClassDef(\\n      ...</td>\n",
       "      <td>AST_TOKEN</td>\n",
       "    </tr>\n",
       "    <tr>\n",
       "      <th>2</th>\n",
       "      <td>3</td>\n",
       "      <td>You are a professional python software enginee...</td>\n",
       "      <td>from microdot import Microdot, Response, abort...</td>\n",
       "      <td>(python, ```python\\ndef post(self, url_pattern...</td>\n",
       "      <td>python</td>\n",
       "      <td>def post(self, url_pattern):\\n        \"\"\"Decor...</td>\n",
       "      <td>\\nclass Microdot:\\n    def route(self, url_pat...</td>\n",
       "      <td>No callee examples provided.</td>\n",
       "      <td>Decorator that is used to register a function ...</td>\n",
       "      <td># ...</td>\n",
       "      <td>Decorator that is used to register a function ...</td>\n",
       "      <td># ...</td>\n",
       "      <td></td>\n",
       "      <td></td>\n",
       "      <td>Module(\\n    body=[\\n        FunctionDef(\\n   ...</td>\n",
       "      <td>Module(\\n    body=[\\n        ClassDef(\\n      ...</td>\n",
       "      <td>AST_TOKEN</td>\n",
       "    </tr>\n",
       "    <tr>\n",
       "      <th>3</th>\n",
       "      <td>4</td>\n",
       "      <td>You are a professional python software enginee...</td>\n",
       "      <td>from microdot import Microdot, Response, abort...</td>\n",
       "      <td>(python, ```python\\ndef mount(self, subapp, ur...</td>\n",
       "      <td>python</td>\n",
       "      <td>def mount(self, subapp, url_prefix=''):\\n     ...</td>\n",
       "      <td>\\nclass Microdot:\\n    def mount(self, subapp,...</td>\n",
       "      <td>No callee examples provided.</td>\n",
       "      <td>Mount a sub-application, optionally under the ...</td>\n",
       "      <td></td>\n",
       "      <td>Mount a sub-application, optionally under the ...</td>\n",
       "      <td></td>\n",
       "      <td></td>\n",
       "      <td></td>\n",
       "      <td>Module(\\n    body=[\\n        FunctionDef(\\n   ...</td>\n",
       "      <td>Module(\\n    body=[\\n        ClassDef(\\n      ...</td>\n",
       "      <td>AST_TOKEN</td>\n",
       "    </tr>\n",
       "    <tr>\n",
       "      <th>4</th>\n",
       "      <td>5</td>\n",
       "      <td>You are a professional python software enginee...</td>\n",
       "      <td>from pyner.named_entity.corpus import bio2bioe...</td>\n",
       "      <td>(python, ```python\\ndef iob2bio(tags):\\n    pr...</td>\n",
       "      <td>python</td>\n",
       "      <td>def iob2bio(tags):\\n    processed_tags = []  #...</td>\n",
       "      <td>\\ndef split_tag(tag: str):\\n    \"\"\"\\n    Split...</td>\n",
       "      <td>No callee examples provided.</td>\n",
       "      <td></td>\n",
       "      <td># should be bio format\\n# case1. I-ORG I-ORG\\n...</td>\n",
       "      <td>\\n    Split tag into state and named entity ca...</td>\n",
       "      <td># should be bio format\\n# case1. I-ORG I-ORG\\n...</td>\n",
       "      <td></td>\n",
       "      <td></td>\n",
       "      <td>Module(\\n    body=[\\n        FunctionDef(\\n   ...</td>\n",
       "      <td>Module(\\n    body=[\\n        FunctionDef(\\n   ...</td>\n",
       "      <td>AST_TOKEN</td>\n",
       "    </tr>\n",
       "  </tbody>\n",
       "</table>\n",
       "</div>"
      ],
      "text/plain": [
       "   id                                              query  \\\n",
       "0   1  You are a professional python software enginee...   \n",
       "1   2  You are a professional python software enginee...   \n",
       "2   3  You are a professional python software enginee...   \n",
       "3   4  You are a professional python software enginee...   \n",
       "4   5  You are a professional python software enginee...   \n",
       "\n",
       "                                            response  \\\n",
       "0  from microdot import Microdot, Response, abort...   \n",
       "1  from microdot import Microdot, Response, abort...   \n",
       "2  from microdot import Microdot, Response, abort...   \n",
       "3  from microdot import Microdot, Response, abort...   \n",
       "4  from pyner.named_entity.corpus import bio2bioe...   \n",
       "\n",
       "                                       code_features LANG_TOKEN  \\\n",
       "0  (python, ```python\\ndef get(self, key, default...     python   \n",
       "1  (python, ```python\\ndef get(self, url_pattern)...     python   \n",
       "2  (python, ```python\\ndef post(self, url_pattern...     python   \n",
       "3  (python, ```python\\ndef mount(self, subapp, ur...     python   \n",
       "4  (python, ```python\\ndef iob2bio(tags):\\n    pr...     python   \n",
       "\n",
       "                                        focal_method  \\\n",
       "0  def get(self, key, default=None):\\n        kl ...   \n",
       "1  def get(self, url_pattern):\\n        \"\"\"Decora...   \n",
       "2  def post(self, url_pattern):\\n        \"\"\"Decor...   \n",
       "3  def mount(self, subapp, url_prefix=''):\\n     ...   \n",
       "4  def iob2bio(tags):\\n    processed_tags = []  #...   \n",
       "\n",
       "                                           focal_cls  \\\n",
       "0  \\nclass NoCaseDict(dict):\\n    def get(self, k...   \n",
       "1  \\nclass Microdot:\\n    def route(self, url_pat...   \n",
       "2  \\nclass Microdot:\\n    def route(self, url_pat...   \n",
       "3  \\nclass Microdot:\\n    def mount(self, subapp,...   \n",
       "4  \\ndef split_tag(tag: str):\\n    \"\"\"\\n    Split...   \n",
       "\n",
       "                         callee  \\\n",
       "0  No callee examples provided.   \n",
       "1  No callee examples provided.   \n",
       "2  No callee examples provided.   \n",
       "3  No callee examples provided.   \n",
       "4  No callee examples provided.   \n",
       "\n",
       "                                   focal_method_docs  \\\n",
       "0                                                      \n",
       "1  Decorator that is used to register a function ...   \n",
       "2  Decorator that is used to register a function ...   \n",
       "3  Mount a sub-application, optionally under the ...   \n",
       "4                                                      \n",
       "\n",
       "                               focal_method_comments  \\\n",
       "0                                                      \n",
       "1                                              # ...   \n",
       "2                                              # ...   \n",
       "3                                                      \n",
       "4  # should be bio format\\n# case1. I-ORG I-ORG\\n...   \n",
       "\n",
       "                                      focal_cls_docs  \\\n",
       "0                                                      \n",
       "1  Decorator that is used to register a function ...   \n",
       "2  Decorator that is used to register a function ...   \n",
       "3  Mount a sub-application, optionally under the ...   \n",
       "4  \\n    Split tag into state and named entity ca...   \n",
       "\n",
       "                                  focal_cls_comments callee_docs  \\\n",
       "0                                                                  \n",
       "1                                              # ...               \n",
       "2                                              # ...               \n",
       "3                                                                  \n",
       "4  # should be bio format\\n# case1. I-ORG I-ORG\\n...               \n",
       "\n",
       "  callee_comments                                   focal_method_ast  \\\n",
       "0                  Module(\\n    body=[\\n        FunctionDef(\\n   ...   \n",
       "1                  Module(\\n    body=[\\n        FunctionDef(\\n   ...   \n",
       "2                  Module(\\n    body=[\\n        FunctionDef(\\n   ...   \n",
       "3                  Module(\\n    body=[\\n        FunctionDef(\\n   ...   \n",
       "4                  Module(\\n    body=[\\n        FunctionDef(\\n   ...   \n",
       "\n",
       "                                       focal_cls_ast callee_ast  \n",
       "0  Module(\\n    body=[\\n        ClassDef(\\n      ...  AST_TOKEN  \n",
       "1  Module(\\n    body=[\\n        ClassDef(\\n      ...  AST_TOKEN  \n",
       "2  Module(\\n    body=[\\n        ClassDef(\\n      ...  AST_TOKEN  \n",
       "3  Module(\\n    body=[\\n        ClassDef(\\n      ...  AST_TOKEN  \n",
       "4  Module(\\n    body=[\\n        FunctionDef(\\n   ...  AST_TOKEN  "
      ]
     },
     "execution_count": 14,
     "metadata": {},
     "output_type": "execute_result"
    }
   ],
   "source": [
    "dataset.head()"
   ]
  },
  {
   "cell_type": "markdown",
   "metadata": {},
   "source": [
    "Информация о датасете:\n",
    "\n",
    "* id: идентификатор\n",
    "\n",
    "* query: promt-текст для языковой модели\n",
    "\n",
    "* code_features: кортеж признаков, извлечённых из текста кода\n",
    "\n",
    "* LANG_TOKEN: токен языка (в данном датасете - 'python')\n",
    "\n",
    "* focal_method: код метода-функции\n",
    "\n",
    "* focal_cls: код класса или окружения, внутри которого метод-функция\n",
    "\n",
    "* callee: как происходит вызов функции\n",
    "\n",
    "* focal_method_docs, focal_cls_docs, callee_docs - документация и описание функций, классов и вызовов ('''<body>''')\n",
    "\n",
    "* focal_method_comments, focal_cls_comments, callee_comments - комментарии функций, классов и вызовов (\\# ...)\n",
    "\n",
    "* focal_method_ast, focal_cls_ast, callee_ast - ast представления кода"
   ]
  },
  {
   "cell_type": "code",
   "execution_count": 15,
   "metadata": {},
   "outputs": [
    {
     "name": "stdout",
     "output_type": "stream",
     "text": [
      "<class 'pandas.core.frame.DataFrame'>\n",
      "RangeIndex: 281060 entries, 0 to 281059\n",
      "Data columns (total 17 columns):\n",
      " #   Column                 Non-Null Count   Dtype \n",
      "---  ------                 --------------   ----- \n",
      " 0   id                     281060 non-null  int64 \n",
      " 1   query                  281060 non-null  object\n",
      " 2   response               281060 non-null  object\n",
      " 3   code_features          281060 non-null  object\n",
      " 4   LANG_TOKEN             281060 non-null  object\n",
      " 5   focal_method           281060 non-null  object\n",
      " 6   focal_cls              281060 non-null  object\n",
      " 7   callee                 281060 non-null  object\n",
      " 8   focal_method_docs      281060 non-null  object\n",
      " 9   focal_method_comments  281060 non-null  object\n",
      " 10  focal_cls_docs         281060 non-null  object\n",
      " 11  focal_cls_comments     281060 non-null  object\n",
      " 12  callee_docs            281060 non-null  object\n",
      " 13  callee_comments        281060 non-null  object\n",
      " 14  focal_method_ast       281060 non-null  object\n",
      " 15  focal_cls_ast          281060 non-null  object\n",
      " 16  callee_ast             281060 non-null  object\n",
      "dtypes: int64(1), object(16)\n",
      "memory usage: 36.5+ MB\n"
     ]
    }
   ],
   "source": [
    "dataset.info()"
   ]
  },
  {
   "cell_type": "markdown",
   "metadata": {},
   "source": [
    "Вид ячеек"
   ]
  },
  {
   "cell_type": "code",
   "execution_count": 38,
   "metadata": {},
   "outputs": [
    {
     "data": {
      "text/plain": [
       "id                                                                     491\n",
       "query                    You are a professional python software enginee...\n",
       "response                 from tests.test_utils import assert_pytree_all...\n",
       "code_features            (python, ```python\\ndef array_to_slog(x: Array...\n",
       "LANG_TOKEN                                                          python\n",
       "focal_method             def array_to_slog(x: Array) -> SLArray:\\n    \"...\n",
       "focal_cls                from .typing import Array, SLArray, ArrayList,...\n",
       "callee                   >>>Callee example 1\\nfrom .core import (\\n    ...\n",
       "focal_method_docs        Converts a regular array into (sign, logabs) f...\n",
       "focal_method_comments                                                     \n",
       "focal_cls_docs           Converts a regular array into (sign, logabs) f...\n",
       "focal_cls_comments                                                        \n",
       "callee_docs              Get the submatrices of x by deleting row i and...\n",
       "callee_comments          # Calculate minor_(0,i) by deleting the first ...\n",
       "focal_method_ast         Module(\\n    body=[\\n        FunctionDef(\\n   ...\n",
       "focal_cls_ast            Module(\\n    body=[\\n        ImportFrom(\\n    ...\n",
       "callee_ast                                                       AST_TOKEN\n",
       "Name: 490, dtype: object"
      ]
     },
     "execution_count": 38,
     "metadata": {},
     "output_type": "execute_result"
    }
   ],
   "source": [
    "dataset.iloc[490, :]"
   ]
  },
  {
   "cell_type": "markdown",
   "metadata": {},
   "source": [
    "query:"
   ]
  },
  {
   "cell_type": "code",
   "execution_count": 27,
   "metadata": {},
   "outputs": [
    {
     "name": "stdout",
     "output_type": "stream",
     "text": [
      "You are a professional python software engineer. You are asked to generate a complete test class for a focal method in a focal class.\n",
      "You will be given the following information of the focal method:\n",
      "1. Source code of the focal method.\n",
      "2. Source code of the focal class(Code that is not relevant to focal method's execution is filtered).\n",
      "3. Source code of callee examples of the focal method.\n",
      "You will ONLY return unit test code for the focal method including necessary imports and dependencies, make sure it compile without errors, and use reflection to invoke private methods. \n",
      "Note that no additional explanations required.\n",
      "\n",
      "Here are the information of the focal method:\n",
      "1. Source code of the focal method.\n",
      "```python\n",
      "def array_to_slog(x: Array) -> SLArray:\n",
      "    \"\"\"Converts a regular array into (sign, logabs) form.\n",
      "\n",
      "    Args:\n",
      "        x (Array): input data.\n",
      "\n",
      "    Returns:\n",
      "        (SLArray): data in form (sign(x), log(abs(x)))\n",
      "    \"\"\"\n",
      "    return (jnp.sign(x), jnp.log(jnp.abs(x)))\n",
      "```\n",
      "\n",
      "2. Source code of the focal class(Codes that are may not related to focal method are filtered).\n",
      "```python\n",
      "from .typing import Array, SLArray, ArrayList, SLArrayList\n",
      "import jax.numpy as jnp\n",
      "\n",
      "def array_to_slog(x: Array) -> SLArray:\n",
      "    \"\"\"Converts a regular array into (sign, logabs) form.\n",
      "    Args:\n",
      "        x (Array): input data.\n",
      "    Returns:\n",
      "        (SLArray): data in form (sign(x), log(abs(x)))\n",
      "    \"\"\"\n",
      "    return (jnp.sign(x), jnp.log(jnp.abs(x)))\n",
      "```\n",
      "\n",
      "3. Source code of callee examples of the focal method.\n",
      ">>>Callee example 1\n",
      "```python\n",
      "from .core import (\n",
      "    Module,\n",
      "    get_alternating_signs,\n",
      "    get_nelec_per_split,\n",
      "    is_tuple_of_arrays,\n",
      "    split,\n",
      ")\n",
      "from typing import Optional, Tuple\n",
      "import jax.numpy as jnp\n",
      "from vmcnet.utils.slog_helpers import array_list_to_slog, array_to_slog, slog_multiply\n",
      "from vmcnet.utils.typing import Array, ArrayList, SLArray, SLArrayList, ParticleSplit\n",
      "\n",
      "def get_submatrices_along_first_col(x: Array) -> Tuple[int, Array]:\n",
      "    \"\"\"Get the submatrices of x by deleting row i and col 0, for all rows of x.\n",
      "    Args:\n",
      "        x (Array): a tensor of orbital matrices which is square in the last two\n",
      "            dimensions, thus of shape (..., n, n). The second last dimension is the\n",
      "            particle dimension, and the last is the orbital dimension.\n",
      "    Returns:\n",
      "        (int, Array): n, submatrices of shape (..., n, n-1, n-1), obtained by\n",
      "        deleting row (..., i, :) and deleted column is (..., :, 0), for 0 <= i <= n - 1.\n",
      "    \"\"\"\n",
      "    if len(x.shape) < 2 or x.shape[-1] != x.shape[-2]:\n",
      "        msg = \"Calculating cofactors requires shape (..., n, n), got {}\"\n",
      "        raise ValueError(msg.format(x.shape))\n",
      "    n = x.shape[-1]\n",
      "    # Calculate minor_(0,i) by deleting the first orbital and ith particle indices\n",
      "    submats = [jnp.delete(jnp.delete(x, i, axis=-2), 0, axis=-1) for i in range(n)]\n",
      "    # Stack on axis -3 to ensure shape (..., n) once det removes the last two axes\n",
      "    stacked_submats = jnp.stack(submats, axis=-3)\n",
      "    return n, stacked_submats\n",
      "def slog_cofactor_antieq(x: Array) -> SLArray:\n",
      "    \"\"\"Compute a cofactor-based antiequivariance, returning results in slogabs form.\n",
      "    See :func:`~vmcnet.models.antiequivariance.cofactor_antieq`. This function performs\n",
      "    the same operations, but gives a result in the (sign, log) domain, going through\n",
      "    a jnp.linalg.slogdet call instead of a jnp.linalg.det call.\n",
      "    Args:\n",
      "        x (Array): a tensor of orbital matrices which is square in the last two\n",
      "            dimensions, thus of shape (..., n, n). The second last dimension is the\n",
      "            particle dimension, and the last is the orbital dimension.\n",
      "    Returns:\n",
      "        (Array, Array): tuple of arrays, each of shape (..., n). The first\n",
      "        is sign(result), and the second is log(abs(result)).\n",
      "    \"\"\"\n",
      "    # Calculate x_(i, 0) by selecting orbital index 0\n",
      "    first_orbital_vals = x[..., 0]\n",
      "    orbital_signs, orbital_logs = array_to_slog(first_orbital_vals)\n",
      "    n, stacked_submatrices = get_submatrices_along_first_col(x)\n",
      "    # TODO(ggoldsh): find a faster way to calculate these overlapping determinants.\n",
      "    (cofactor_signs, cofactor_logs) = jnp.linalg.slogdet(stacked_submatrices)\n",
      "    signs_and_logs = (\n",
      "        orbital_signs * cofactor_signs * get_alternating_signs(n),\n",
      "        orbital_logs + cofactor_logs,\n",
      "    )\n",
      "    return signs_and_logs\n",
      "```\n",
      "\n",
      "\n",
      "Please note that the test class you return should include multiple test cases covering different functionalities. There is no upper limit on the number of test cases, but you need to ensure that the test cases provide high test coverage and test extreme and special cases of the code as much as possible.\n",
      "\n"
     ]
    }
   ],
   "source": [
    "print(dataset.iloc[490, :]['query'])"
   ]
  },
  {
   "cell_type": "markdown",
   "metadata": {},
   "source": [
    "response:"
   ]
  },
  {
   "cell_type": "code",
   "execution_count": 28,
   "metadata": {},
   "outputs": [
    {
     "name": "stdout",
     "output_type": "stream",
     "text": [
      "from tests.test_utils import assert_pytree_allclose\n",
      "import vmcnet.utils.slog_helpers as helpers\n",
      "from typing import Tuple\n",
      "from vmcnet.utils.typing import Array, SLArray\n",
      "import jax.numpy as jnp\n",
      "\n",
      "def _get_array_and_slog_vals() -> Tuple[Array, SLArray]:\n",
      "    vals = jnp.array([jnp.e, -jnp.e**0.5, 0, 1])\n",
      "    signs = jnp.array([1, -1, 0, 1])\n",
      "    logs = jnp.array([1, 0.5, -jnp.inf, 0])\n",
      "    return (vals, (signs, logs))\n",
      "def test_array_to_slog():\n",
      "    \"\"\"Test conversion from array to slog tuple.\"\"\"\n",
      "    (vals, expected_slogs) = _get_array_and_slog_vals()\n",
      "    slogs = helpers.array_to_slog(vals)\n",
      "    assert_pytree_allclose(slogs, expected_slogs)\n",
      "\n"
     ]
    }
   ],
   "source": [
    "print(dataset.iloc[490, :]['response'])"
   ]
  },
  {
   "cell_type": "markdown",
   "metadata": {},
   "source": [
    "focal_method:"
   ]
  },
  {
   "cell_type": "code",
   "execution_count": 30,
   "metadata": {},
   "outputs": [
    {
     "name": "stdout",
     "output_type": "stream",
     "text": [
      "def array_to_slog(x: Array) -> SLArray:\n",
      "    \"\"\"Converts a regular array into (sign, logabs) form.\n",
      "\n",
      "    Args:\n",
      "        x (Array): input data.\n",
      "\n",
      "    Returns:\n",
      "        (SLArray): data in form (sign(x), log(abs(x)))\n",
      "    \"\"\"\n",
      "    return (jnp.sign(x), jnp.log(jnp.abs(x)))\n",
      "\n"
     ]
    }
   ],
   "source": [
    "print(dataset.iloc[490, :]['focal_method'])"
   ]
  },
  {
   "cell_type": "markdown",
   "metadata": {},
   "source": [
    "focal_cls:"
   ]
  },
  {
   "cell_type": "code",
   "execution_count": 31,
   "metadata": {},
   "outputs": [
    {
     "name": "stdout",
     "output_type": "stream",
     "text": [
      "from .typing import Array, SLArray, ArrayList, SLArrayList\n",
      "import jax.numpy as jnp\n",
      "\n",
      "def array_to_slog(x: Array) -> SLArray:\n",
      "    \"\"\"Converts a regular array into (sign, logabs) form.\n",
      "    Args:\n",
      "        x (Array): input data.\n",
      "    Returns:\n",
      "        (SLArray): data in form (sign(x), log(abs(x)))\n",
      "    \"\"\"\n",
      "    return (jnp.sign(x), jnp.log(jnp.abs(x)))\n",
      "\n"
     ]
    }
   ],
   "source": [
    "print(dataset.iloc[490, :]['focal_cls'])"
   ]
  },
  {
   "cell_type": "markdown",
   "metadata": {},
   "source": [
    "callee:"
   ]
  },
  {
   "cell_type": "code",
   "execution_count": 32,
   "metadata": {},
   "outputs": [
    {
     "name": "stdout",
     "output_type": "stream",
     "text": [
      ">>>Callee example 1\n",
      "from .core import (\n",
      "    Module,\n",
      "    get_alternating_signs,\n",
      "    get_nelec_per_split,\n",
      "    is_tuple_of_arrays,\n",
      "    split,\n",
      ")\n",
      "from typing import Optional, Tuple\n",
      "import jax.numpy as jnp\n",
      "from vmcnet.utils.slog_helpers import array_list_to_slog, array_to_slog, slog_multiply\n",
      "from vmcnet.utils.typing import Array, ArrayList, SLArray, SLArrayList, ParticleSplit\n",
      "\n",
      "def get_submatrices_along_first_col(x: Array) -> Tuple[int, Array]:\n",
      "    \"\"\"Get the submatrices of x by deleting row i and col 0, for all rows of x.\n",
      "    Args:\n",
      "        x (Array): a tensor of orbital matrices which is square in the last two\n",
      "            dimensions, thus of shape (..., n, n). The second last dimension is the\n",
      "            particle dimension, and the last is the orbital dimension.\n",
      "    Returns:\n",
      "        (int, Array): n, submatrices of shape (..., n, n-1, n-1), obtained by\n",
      "        deleting row (..., i, :) and deleted column is (..., :, 0), for 0 <= i <= n - 1.\n",
      "    \"\"\"\n",
      "    if len(x.shape) < 2 or x.shape[-1] != x.shape[-2]:\n",
      "        msg = \"Calculating cofactors requires shape (..., n, n), got {}\"\n",
      "        raise ValueError(msg.format(x.shape))\n",
      "    n = x.shape[-1]\n",
      "    # Calculate minor_(0,i) by deleting the first orbital and ith particle indices\n",
      "    submats = [jnp.delete(jnp.delete(x, i, axis=-2), 0, axis=-1) for i in range(n)]\n",
      "    # Stack on axis -3 to ensure shape (..., n) once det removes the last two axes\n",
      "    stacked_submats = jnp.stack(submats, axis=-3)\n",
      "    return n, stacked_submats\n",
      "def slog_cofactor_antieq(x: Array) -> SLArray:\n",
      "    \"\"\"Compute a cofactor-based antiequivariance, returning results in slogabs form.\n",
      "    See :func:`~vmcnet.models.antiequivariance.cofactor_antieq`. This function performs\n",
      "    the same operations, but gives a result in the (sign, log) domain, going through\n",
      "    a jnp.linalg.slogdet call instead of a jnp.linalg.det call.\n",
      "    Args:\n",
      "        x (Array): a tensor of orbital matrices which is square in the last two\n",
      "            dimensions, thus of shape (..., n, n). The second last dimension is the\n",
      "            particle dimension, and the last is the orbital dimension.\n",
      "    Returns:\n",
      "        (Array, Array): tuple of arrays, each of shape (..., n). The first\n",
      "        is sign(result), and the second is log(abs(result)).\n",
      "    \"\"\"\n",
      "    # Calculate x_(i, 0) by selecting orbital index 0\n",
      "    first_orbital_vals = x[..., 0]\n",
      "    orbital_signs, orbital_logs = array_to_slog(first_orbital_vals)\n",
      "    n, stacked_submatrices = get_submatrices_along_first_col(x)\n",
      "    # TODO(ggoldsh): find a faster way to calculate these overlapping determinants.\n",
      "    (cofactor_signs, cofactor_logs) = jnp.linalg.slogdet(stacked_submatrices)\n",
      "    signs_and_logs = (\n",
      "        orbital_signs * cofactor_signs * get_alternating_signs(n),\n",
      "        orbital_logs + cofactor_logs,\n",
      "    )\n",
      "    return signs_and_logs\n",
      "\n"
     ]
    }
   ],
   "source": [
    "print(dataset.iloc[490, :]['callee'])"
   ]
  },
  {
   "cell_type": "markdown",
   "metadata": {},
   "source": [
    "focal_method_docs:"
   ]
  },
  {
   "cell_type": "code",
   "execution_count": 34,
   "metadata": {},
   "outputs": [
    {
     "name": "stdout",
     "output_type": "stream",
     "text": [
      "Converts a regular array into (sign, logabs) form.\n",
      "\n",
      "    Args:\n",
      "        x (Array): input data.\n",
      "\n",
      "    Returns:\n",
      "        (SLArray): data in form (sign(x), log(abs(x)))\n",
      "    \n"
     ]
    }
   ],
   "source": [
    "print(dataset.iloc[490, :]['focal_method_docs'])"
   ]
  },
  {
   "cell_type": "markdown",
   "metadata": {},
   "source": [
    "focal_method_comments:"
   ]
  },
  {
   "cell_type": "code",
   "execution_count": 37,
   "metadata": {},
   "outputs": [
    {
     "name": "stdout",
     "output_type": "stream",
     "text": [
      "\n"
     ]
    }
   ],
   "source": [
    "print(dataset.iloc[490, :]['focal_method_comments'])"
   ]
  },
  {
   "cell_type": "markdown",
   "metadata": {},
   "source": [
    "focal_cls_docs:"
   ]
  },
  {
   "cell_type": "code",
   "execution_count": 39,
   "metadata": {},
   "outputs": [
    {
     "name": "stdout",
     "output_type": "stream",
     "text": [
      "Converts a regular array into (sign, logabs) form.\n",
      "    Args:\n",
      "        x (Array): input data.\n",
      "    Returns:\n",
      "        (SLArray): data in form (sign(x), log(abs(x)))\n",
      "    \n"
     ]
    }
   ],
   "source": [
    "print(dataset.iloc[490, :]['focal_cls_docs'])"
   ]
  },
  {
   "cell_type": "markdown",
   "metadata": {},
   "source": [
    "focal_cls_comments:"
   ]
  },
  {
   "cell_type": "code",
   "execution_count": 40,
   "metadata": {},
   "outputs": [
    {
     "name": "stdout",
     "output_type": "stream",
     "text": [
      "\n"
     ]
    }
   ],
   "source": [
    "print(dataset.iloc[490, :]['focal_cls_comments'])"
   ]
  },
  {
   "cell_type": "markdown",
   "metadata": {},
   "source": [
    "callee_docs:"
   ]
  },
  {
   "cell_type": "code",
   "execution_count": 41,
   "metadata": {},
   "outputs": [
    {
     "name": "stdout",
     "output_type": "stream",
     "text": [
      "Get the submatrices of x by deleting row i and col 0, for all rows of x.\n",
      "    Args:\n",
      "        x (Array): a tensor of orbital matrices which is square in the last two\n",
      "            dimensions, thus of shape (..., n, n). The second last dimension is the\n",
      "            particle dimension, and the last is the orbital dimension.\n",
      "    Returns:\n",
      "        (int, Array): n, submatrices of shape (..., n, n-1, n-1), obtained by\n",
      "        deleting row (..., i, :) and deleted column is (..., :, 0), for 0 <= i <= n - 1.\n",
      "    \n",
      "Compute a cofactor-based antiequivariance, returning results in slogabs form.\n",
      "    See :func:`~vmcnet.models.antiequivariance.cofactor_antieq`. This function performs\n",
      "    the same operations, but gives a result in the (sign, log) domain, going through\n",
      "    a jnp.linalg.slogdet call instead of a jnp.linalg.det call.\n",
      "    Args:\n",
      "        x (Array): a tensor of orbital matrices which is square in the last two\n",
      "            dimensions, thus of shape (..., n, n). The second last dimension is the\n",
      "            particle dimension, and the last is the orbital dimension.\n",
      "    Returns:\n",
      "        (Array, Array): tuple of arrays, each of shape (..., n). The first\n",
      "        is sign(result), and the second is log(abs(result)).\n",
      "    \n"
     ]
    }
   ],
   "source": [
    "print(dataset.iloc[490, :]['callee_docs'])"
   ]
  },
  {
   "cell_type": "markdown",
   "metadata": {},
   "source": [
    "callee_comments:"
   ]
  },
  {
   "cell_type": "code",
   "execution_count": 42,
   "metadata": {},
   "outputs": [
    {
     "name": "stdout",
     "output_type": "stream",
     "text": [
      "# Calculate minor_(0,i) by deleting the first orbital and ith particle indices\n",
      "# Stack on axis -3 to ensure shape (..., n) once det removes the last two axes\n",
      "# Calculate x_(i, 0) by selecting orbital index 0\n",
      "# TODO(ggoldsh): find a faster way to calculate these overlapping determinants.\n"
     ]
    }
   ],
   "source": [
    "print(dataset.iloc[490, :]['callee_comments'])"
   ]
  },
  {
   "cell_type": "markdown",
   "metadata": {},
   "source": [
    "focal_method_ast:"
   ]
  },
  {
   "cell_type": "code",
   "execution_count": 43,
   "metadata": {},
   "outputs": [
    {
     "name": "stdout",
     "output_type": "stream",
     "text": [
      "Module(\n",
      "    body=[\n",
      "        FunctionDef(\n",
      "            name='array_to_slog',\n",
      "            args=arguments(\n",
      "                posonlyargs=[],\n",
      "                args=[\n",
      "                    arg(\n",
      "                        arg='x',\n",
      "                        annotation=Name(id='Array', ctx=Load()))],\n",
      "                kwonlyargs=[],\n",
      "                kw_defaults=[],\n",
      "                defaults=[]),\n",
      "            body=[\n",
      "                Expr(\n",
      "                    value=Constant(value='Converts a regular array into (sign, logabs) form.\\n\\n    Args:\\n        x (Array): input data.\\n\\n    Returns:\\n        (SLArray): data in form (sign(x), log(abs(x)))\\n    ')),\n",
      "                Return(\n",
      "                    value=Tuple(\n",
      "                        elts=[\n",
      "                            Call(\n",
      "                                func=Attribute(\n",
      "                                    value=Name(id='jnp', ctx=Load()),\n",
      "                                    attr='sign',\n",
      "                                    ctx=Load()),\n",
      "                                args=[\n",
      "                                    Name(id='x', ctx=Load())],\n",
      "                                keywords=[]),\n",
      "                            Call(\n",
      "                                func=Attribute(\n",
      "                                    value=Name(id='jnp', ctx=Load()),\n",
      "                                    attr='log',\n",
      "                                    ctx=Load()),\n",
      "                                args=[\n",
      "                                    Call(\n",
      "                                        func=Attribute(\n",
      "                                            value=Name(id='jnp', ctx=Load()),\n",
      "                                            attr='abs',\n",
      "                                            ctx=Load()),\n",
      "                                        args=[\n",
      "                                            Name(id='x', ctx=Load())],\n",
      "                                        keywords=[])],\n",
      "                                keywords=[])],\n",
      "                        ctx=Load()))],\n",
      "            decorator_list=[],\n",
      "            returns=Name(id='SLArray', ctx=Load()),\n",
      "            type_params=[])],\n",
      "    type_ignores=[])\n"
     ]
    }
   ],
   "source": [
    "print(dataset.iloc[490, :]['focal_method_ast'])"
   ]
  },
  {
   "cell_type": "markdown",
   "metadata": {},
   "source": [
    "focal_cls_ast:"
   ]
  },
  {
   "cell_type": "code",
   "execution_count": 44,
   "metadata": {},
   "outputs": [
    {
     "name": "stdout",
     "output_type": "stream",
     "text": [
      "Module(\n",
      "    body=[\n",
      "        ImportFrom(\n",
      "            module='typing',\n",
      "            names=[\n",
      "                alias(name='Array'),\n",
      "                alias(name='SLArray'),\n",
      "                alias(name='ArrayList'),\n",
      "                alias(name='SLArrayList')],\n",
      "            level=1),\n",
      "        Import(\n",
      "            names=[\n",
      "                alias(name='jax.numpy', asname='jnp')]),\n",
      "        FunctionDef(\n",
      "            name='array_to_slog',\n",
      "            args=arguments(\n",
      "                posonlyargs=[],\n",
      "                args=[\n",
      "                    arg(\n",
      "                        arg='x',\n",
      "                        annotation=Name(id='Array', ctx=Load()))],\n",
      "                kwonlyargs=[],\n",
      "                kw_defaults=[],\n",
      "                defaults=[]),\n",
      "            body=[\n",
      "                Expr(\n",
      "                    value=Constant(value='Converts a regular array into (sign, logabs) form.\\n    Args:\\n        x (Array): input data.\\n    Returns:\\n        (SLArray): data in form (sign(x), log(abs(x)))\\n    ')),\n",
      "                Return(\n",
      "                    value=Tuple(\n",
      "                        elts=[\n",
      "                            Call(\n",
      "                                func=Attribute(\n",
      "                                    value=Name(id='jnp', ctx=Load()),\n",
      "                                    attr='sign',\n",
      "                                    ctx=Load()),\n",
      "                                args=[\n",
      "                                    Name(id='x', ctx=Load())],\n",
      "                                keywords=[]),\n",
      "                            Call(\n",
      "                                func=Attribute(\n",
      "                                    value=Name(id='jnp', ctx=Load()),\n",
      "                                    attr='log',\n",
      "                                    ctx=Load()),\n",
      "                                args=[\n",
      "                                    Call(\n",
      "                                        func=Attribute(\n",
      "                                            value=Name(id='jnp', ctx=Load()),\n",
      "                                            attr='abs',\n",
      "                                            ctx=Load()),\n",
      "                                        args=[\n",
      "                                            Name(id='x', ctx=Load())],\n",
      "                                        keywords=[])],\n",
      "                                keywords=[])],\n",
      "                        ctx=Load()))],\n",
      "            decorator_list=[],\n",
      "            returns=Name(id='SLArray', ctx=Load()),\n",
      "            type_params=[])],\n",
      "    type_ignores=[])\n"
     ]
    }
   ],
   "source": [
    "print(dataset.iloc[490, :]['focal_cls_ast'])"
   ]
  },
  {
   "cell_type": "markdown",
   "metadata": {},
   "source": [
    "focal_callee_ast:"
   ]
  },
  {
   "cell_type": "code",
   "execution_count": 45,
   "metadata": {},
   "outputs": [
    {
     "name": "stdout",
     "output_type": "stream",
     "text": [
      "AST_TOKEN\n"
     ]
    }
   ],
   "source": [
    "print(dataset.iloc[490, :]['callee_ast'])"
   ]
  },
  {
   "cell_type": "code",
   "execution_count": null,
   "metadata": {},
   "outputs": [],
   "source": []
  }
 ],
 "metadata": {
  "kernelspec": {
   "display_name": "Python 3",
   "language": "python",
   "name": "python3"
  },
  "language_info": {
   "codemirror_mode": {
    "name": "ipython",
    "version": 3
   },
   "file_extension": ".py",
   "mimetype": "text/x-python",
   "name": "python",
   "nbconvert_exporter": "python",
   "pygments_lexer": "ipython3",
   "version": "3.12.3"
  }
 },
 "nbformat": 4,
 "nbformat_minor": 2
}
