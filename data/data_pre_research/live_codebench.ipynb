{
 "cells": [
  {
   "cell_type": "markdown",
   "metadata": {},
   "source": [
    "#### Live CodeBench датасет"
   ]
  },
  {
   "cell_type": "markdown",
   "metadata": {},
   "source": [
    "[LiveCodeBench](https://huggingface.co/datasets/livecodebench/test_generation) — это бенчмарк для оценки возможностей языковых моделей (LLMs) в программировании: генерации кода, самовосстановления, предсказания тестов и выполнения кода. Задачи взяты с сайтов соревновательного программирования, обеспечивая высокое качество и разнообразие сложности. Сейчас включает 442 задания из 185 задач LeetCode, цель — предсказать результат для заданного ввода.\n",
    "\n",
    "Посмотрим на общий вид датасета"
   ]
  },
  {
   "cell_type": "code",
   "execution_count": null,
   "metadata": {},
   "outputs": [
    {
     "data": {
      "text/html": [
       "<div>\n",
       "<style scoped>\n",
       "    .dataframe tbody tr th:only-of-type {\n",
       "        vertical-align: middle;\n",
       "    }\n",
       "\n",
       "    .dataframe tbody tr th {\n",
       "        vertical-align: top;\n",
       "    }\n",
       "\n",
       "    .dataframe thead th {\n",
       "        text-align: right;\n",
       "    }\n",
       "</style>\n",
       "<table border=\"1\" class=\"dataframe\">\n",
       "  <thead>\n",
       "    <tr style=\"text-align: right;\">\n",
       "      <th></th>\n",
       "      <th>question_title</th>\n",
       "      <th>question_content</th>\n",
       "      <th>question_id</th>\n",
       "      <th>contest_id</th>\n",
       "      <th>test_id</th>\n",
       "      <th>contest_date</th>\n",
       "      <th>starter_code</th>\n",
       "      <th>function_name</th>\n",
       "      <th>difficulty</th>\n",
       "      <th>test</th>\n",
       "    </tr>\n",
       "  </thead>\n",
       "  <tbody>\n",
       "    <tr>\n",
       "      <th>0</th>\n",
       "      <td>number-of-senior-citizens</td>\n",
       "      <td>You are given a 0-indexed array of strings det...</td>\n",
       "      <td>2727</td>\n",
       "      <td>biweekly-contest-104</td>\n",
       "      <td>0</td>\n",
       "      <td>2023-05-13</td>\n",
       "      <td>def countSeniors(self, details: List[str]) -&gt; ...</td>\n",
       "      <td>countSeniors</td>\n",
       "      <td>easy</td>\n",
       "      <td>[{\"input\": \"[\\\"7868190130M7522\\\", \\\"5303914400...</td>\n",
       "    </tr>\n",
       "    <tr>\n",
       "      <th>1</th>\n",
       "      <td>number-of-senior-citizens</td>\n",
       "      <td>You are given a 0-indexed array of strings det...</td>\n",
       "      <td>2727</td>\n",
       "      <td>biweekly-contest-104</td>\n",
       "      <td>1</td>\n",
       "      <td>2023-05-13</td>\n",
       "      <td>def countSeniors(self, details: List[str]) -&gt; ...</td>\n",
       "      <td>countSeniors</td>\n",
       "      <td>easy</td>\n",
       "      <td>[{\"input\": \"[\\\"1313579440F2036\\\", \\\"2921522980...</td>\n",
       "    </tr>\n",
       "    <tr>\n",
       "      <th>2</th>\n",
       "      <td>sum-in-a-matrix</td>\n",
       "      <td>You are given a 0-indexed 2D integer array num...</td>\n",
       "      <td>2728</td>\n",
       "      <td>biweekly-contest-104</td>\n",
       "      <td>0</td>\n",
       "      <td>2023-05-13</td>\n",
       "      <td>def matrixSum(self, nums: List[List[int]]) -&gt; ...</td>\n",
       "      <td>matrixSum</td>\n",
       "      <td>medium</td>\n",
       "      <td>[{\"input\": \"[[7, 2, 1], [6, 4, 2], [6, 5, 3], ...</td>\n",
       "    </tr>\n",
       "    <tr>\n",
       "      <th>3</th>\n",
       "      <td>sum-in-a-matrix</td>\n",
       "      <td>You are given a 0-indexed 2D integer array num...</td>\n",
       "      <td>2728</td>\n",
       "      <td>biweekly-contest-104</td>\n",
       "      <td>1</td>\n",
       "      <td>2023-05-13</td>\n",
       "      <td>def matrixSum(self, nums: List[List[int]]) -&gt; ...</td>\n",
       "      <td>matrixSum</td>\n",
       "      <td>medium</td>\n",
       "      <td>[{\"input\": \"[[1]]\", \"output\": \"1\", \"testtype\":...</td>\n",
       "    </tr>\n",
       "    <tr>\n",
       "      <th>4</th>\n",
       "      <td>maximum-or</td>\n",
       "      <td>You are given a 0-indexed integer array nums o...</td>\n",
       "      <td>2730</td>\n",
       "      <td>biweekly-contest-104</td>\n",
       "      <td>0</td>\n",
       "      <td>2023-05-13</td>\n",
       "      <td>def maximumOr(self, nums: List[int], k: int) -...</td>\n",
       "      <td>maximumOr</td>\n",
       "      <td>medium</td>\n",
       "      <td>[{\"input\": \"[12, 9]\\n1\", \"output\": \"30\", \"test...</td>\n",
       "    </tr>\n",
       "  </tbody>\n",
       "</table>\n",
       "</div>"
      ],
      "text/plain": [
       "              question_title  \\\n",
       "0  number-of-senior-citizens   \n",
       "1  number-of-senior-citizens   \n",
       "2            sum-in-a-matrix   \n",
       "3            sum-in-a-matrix   \n",
       "4                 maximum-or   \n",
       "\n",
       "                                    question_content question_id  \\\n",
       "0  You are given a 0-indexed array of strings det...        2727   \n",
       "1  You are given a 0-indexed array of strings det...        2727   \n",
       "2  You are given a 0-indexed 2D integer array num...        2728   \n",
       "3  You are given a 0-indexed 2D integer array num...        2728   \n",
       "4  You are given a 0-indexed integer array nums o...        2730   \n",
       "\n",
       "             contest_id  test_id contest_date  \\\n",
       "0  biweekly-contest-104        0   2023-05-13   \n",
       "1  biweekly-contest-104        1   2023-05-13   \n",
       "2  biweekly-contest-104        0   2023-05-13   \n",
       "3  biweekly-contest-104        1   2023-05-13   \n",
       "4  biweekly-contest-104        0   2023-05-13   \n",
       "\n",
       "                                        starter_code function_name difficulty  \\\n",
       "0  def countSeniors(self, details: List[str]) -> ...  countSeniors       easy   \n",
       "1  def countSeniors(self, details: List[str]) -> ...  countSeniors       easy   \n",
       "2  def matrixSum(self, nums: List[List[int]]) -> ...     matrixSum     medium   \n",
       "3  def matrixSum(self, nums: List[List[int]]) -> ...     matrixSum     medium   \n",
       "4  def maximumOr(self, nums: List[int], k: int) -...     maximumOr     medium   \n",
       "\n",
       "                                                test  \n",
       "0  [{\"input\": \"[\\\"7868190130M7522\\\", \\\"5303914400...  \n",
       "1  [{\"input\": \"[\\\"1313579440F2036\\\", \\\"2921522980...  \n",
       "2  [{\"input\": \"[[7, 2, 1], [6, 4, 2], [6, 5, 3], ...  \n",
       "3  [{\"input\": \"[[1]]\", \"output\": \"1\", \"testtype\":...  \n",
       "4  [{\"input\": \"[12, 9]\\n1\", \"output\": \"30\", \"test...  "
      ]
     },
     "execution_count": 3,
     "metadata": {},
     "output_type": "execute_result"
    }
   ],
   "source": [
    "import pandas as pd\n",
    "\n",
    "def load_dataset(dataset_path = './data/live_codebench_dataset/test.parquet'):\n",
    "\t'''Функция считывает датасет в формате .parquet и возвращает его'''\n",
    "\tcode_dataset = pd.read_parquet(dataset_path)\n",
    "\treturn code_dataset\n",
    "\n",
    "code_dataset = load_dataset()\n",
    "code_dataset.head(5)"
   ]
  },
  {
   "cell_type": "markdown",
   "metadata": {},
   "source": [
    "Размер датасета"
   ]
  },
  {
   "cell_type": "code",
   "execution_count": 4,
   "metadata": {},
   "outputs": [
    {
     "name": "stdout",
     "output_type": "stream",
     "text": [
      "Число сэмплов: 442\n",
      "Число колонок в датасете: 10\n"
     ]
    }
   ],
   "source": [
    "print(f\"Число сэмплов: {code_dataset.shape[0]}\")\n",
    "print(f\"Число колонок в датасете: {code_dataset.shape[1]}\")"
   ]
  },
  {
   "cell_type": "markdown",
   "metadata": {},
   "source": [
    "Статистики + Инфо"
   ]
  },
  {
   "cell_type": "code",
   "execution_count": 5,
   "metadata": {},
   "outputs": [
    {
     "data": {
      "text/html": [
       "<div>\n",
       "<style scoped>\n",
       "    .dataframe tbody tr th:only-of-type {\n",
       "        vertical-align: middle;\n",
       "    }\n",
       "\n",
       "    .dataframe tbody tr th {\n",
       "        vertical-align: top;\n",
       "    }\n",
       "\n",
       "    .dataframe thead th {\n",
       "        text-align: right;\n",
       "    }\n",
       "</style>\n",
       "<table border=\"1\" class=\"dataframe\">\n",
       "  <thead>\n",
       "    <tr style=\"text-align: right;\">\n",
       "      <th></th>\n",
       "      <th>test_id</th>\n",
       "      <th>contest_date</th>\n",
       "    </tr>\n",
       "  </thead>\n",
       "  <tbody>\n",
       "    <tr>\n",
       "      <th>count</th>\n",
       "      <td>442.000000</td>\n",
       "      <td>442</td>\n",
       "    </tr>\n",
       "    <tr>\n",
       "      <th>mean</th>\n",
       "      <td>0.766968</td>\n",
       "      <td>2023-09-27 04:46:41.809954816</td>\n",
       "    </tr>\n",
       "    <tr>\n",
       "      <th>min</th>\n",
       "      <td>0.000000</td>\n",
       "      <td>2023-05-07 00:00:00</td>\n",
       "    </tr>\n",
       "    <tr>\n",
       "      <th>25%</th>\n",
       "      <td>0.000000</td>\n",
       "      <td>2023-07-16 00:00:00</td>\n",
       "    </tr>\n",
       "    <tr>\n",
       "      <th>50%</th>\n",
       "      <td>1.000000</td>\n",
       "      <td>2023-09-24 00:00:00</td>\n",
       "    </tr>\n",
       "    <tr>\n",
       "      <th>75%</th>\n",
       "      <td>1.000000</td>\n",
       "      <td>2023-12-09 00:00:00</td>\n",
       "    </tr>\n",
       "    <tr>\n",
       "      <th>max</th>\n",
       "      <td>3.000000</td>\n",
       "      <td>2024-03-02 00:00:00</td>\n",
       "    </tr>\n",
       "    <tr>\n",
       "      <th>std</th>\n",
       "      <td>0.736169</td>\n",
       "      <td>NaN</td>\n",
       "    </tr>\n",
       "  </tbody>\n",
       "</table>\n",
       "</div>"
      ],
      "text/plain": [
       "          test_id                   contest_date\n",
       "count  442.000000                            442\n",
       "mean     0.766968  2023-09-27 04:46:41.809954816\n",
       "min      0.000000            2023-05-07 00:00:00\n",
       "25%      0.000000            2023-07-16 00:00:00\n",
       "50%      1.000000            2023-09-24 00:00:00\n",
       "75%      1.000000            2023-12-09 00:00:00\n",
       "max      3.000000            2024-03-02 00:00:00\n",
       "std      0.736169                            NaN"
      ]
     },
     "execution_count": 5,
     "metadata": {},
     "output_type": "execute_result"
    }
   ],
   "source": [
    "code_dataset.describe()"
   ]
  },
  {
   "cell_type": "code",
   "execution_count": 6,
   "metadata": {},
   "outputs": [
    {
     "name": "stdout",
     "output_type": "stream",
     "text": [
      "<class 'pandas.core.frame.DataFrame'>\n",
      "RangeIndex: 442 entries, 0 to 441\n",
      "Data columns (total 10 columns):\n",
      " #   Column            Non-Null Count  Dtype         \n",
      "---  ------            --------------  -----         \n",
      " 0   question_title    442 non-null    object        \n",
      " 1   question_content  442 non-null    object        \n",
      " 2   question_id       442 non-null    object        \n",
      " 3   contest_id        442 non-null    object        \n",
      " 4   test_id           442 non-null    int64         \n",
      " 5   contest_date      442 non-null    datetime64[ns]\n",
      " 6   starter_code      442 non-null    object        \n",
      " 7   function_name     442 non-null    object        \n",
      " 8   difficulty        442 non-null    object        \n",
      " 9   test              442 non-null    object        \n",
      "dtypes: datetime64[ns](1), int64(1), object(8)\n",
      "memory usage: 34.7+ KB\n"
     ]
    }
   ],
   "source": [
    "code_dataset.info()"
   ]
  },
  {
   "cell_type": "markdown",
   "metadata": {},
   "source": [
    "Релевантные для задачи колонки:\n",
    "* *question_title* - что-то может сказать про смысл задачи\n",
    "* *question_content* - описание задания на естественнном языке\n",
    "* *starter_code* - шаблон для написания функции типа:\n",
    "\t```python\n",
    "\tclass Solution:\n",
    "\t\tdef method_name(self, params) -> type:\n",
    "\t\t\tpass\n",
    "* *function_name* - аналогично question_title\n",
    "* *tes*t* - непосредственно тесты (target)\n"
   ]
  },
  {
   "cell_type": "markdown",
   "metadata": {},
   "source": [
    "Посмотрим на эти колонки пристальнее"
   ]
  },
  {
   "cell_type": "code",
   "execution_count": 14,
   "metadata": {},
   "outputs": [
    {
     "name": "stdout",
     "output_type": "stream",
     "text": [
      "Column question_title:\n",
      "Nunique: 182\n",
      "\n",
      "Column question_content:\n",
      "Nunique: 182\n",
      "\n",
      "Column starter_code:\n",
      "Nunique: 179\n",
      "Mean len: 67.16289592760181\n",
      "Max len: 122\n",
      "Min len: 44\n",
      "Code with max len:\n",
      "def minimumCost(self, source: str, target: str, original: List[str], changed: List[str], cost: List[int]) -> int:\n",
      "    pass\n",
      "\n",
      "Column function_name:\n",
      "Nunique: 167\n",
      "\n",
      "Column test:\n",
      "Nunique: 438\n",
      "\n"
     ]
    }
   ],
   "source": [
    "relevant_columns = [\n",
    "    'question_title',\n",
    "\t'question_content',\n",
    "\t'starter_code', \n",
    "\t'function_name',\n",
    "\t'test'\n",
    "    ]\n",
    "\n",
    "def len_starter_code(code):\n",
    "    '''Функция, которая посмотрит на число символов в коде'''\n",
    "    return len(code)\n",
    "\n",
    "def process_columns(dataset = code_dataset, columns = relevant_columns):\n",
    "\t'''Простая функция, которая просто что-то сделает с колонками, например, unique посчитает или длину'''\n",
    "\tfor column in columns:\n",
    "\t\tprint(f\"Column {column}:\")\n",
    "\t\tprint(f\"Nunique: {dataset[column].nunique()}\")\n",
    "\t\tif column == 'starter_code':\n",
    "\t\t\tdataset['len_code'] = dataset['starter_code'].map(lambda x: len_starter_code(x))\n",
    "\t\t\tprint(f\"Mean len: {dataset['len_code'].mean()}\")\n",
    "\t\t\tprint(f\"Max len: {dataset['len_code'].max()}\")\n",
    "\t\t\tprint(f\"Min len: {dataset['len_code'].min()}\")\n",
    "\t\t\tprint(f\"Code with max len:\")\n",
    "\t\t\tcode_max_len = dataset[dataset['len_code'] == dataset['len_code'].max()]['starter_code'].values[0]\n",
    "\t\t\tprint(code_max_len)\n",
    "\t\tprint()\n",
    "\n",
    "process_columns()\n",
    "\t"
   ]
  },
  {
   "cell_type": "markdown",
   "metadata": {},
   "source": [
    "#### Резюме"
   ]
  },
  {
   "cell_type": "markdown",
   "metadata": {},
   "source": [
    "Основные особенности датасета:\n",
    "\n",
    "* Небольшой и с небольшим числом уникальных сэмплов по части кода\n",
    "\n",
    "* Вероятно, нерелевантен для решаемой задачи, так как не содержит написанного кода и имеет упор на конкретные задания на LeetCode.\n",
    "\n",
    "* Может быть использован для дополнительных сэмплов типа \"шаблон для функции, задание для коммента -> тест к коду\"\n"
   ]
  },
  {
   "cell_type": "code",
   "execution_count": null,
   "metadata": {},
   "outputs": [],
   "source": []
  }
 ],
 "metadata": {
  "kernelspec": {
   "display_name": "Python 3",
   "language": "python",
   "name": "python3"
  },
  "language_info": {
   "codemirror_mode": {
    "name": "ipython",
    "version": 3
   },
   "file_extension": ".py",
   "mimetype": "text/x-python",
   "name": "python",
   "nbconvert_exporter": "python",
   "pygments_lexer": "ipython3",
   "version": "3.12.3"
  }
 },
 "nbformat": 4,
 "nbformat_minor": 2
}
