{
 "cells": [
  {
   "cell_type": "markdown",
   "metadata": {},
   "source": [
    "#### Arain UnitTest-Finetuning датасет"
   ]
  },
  {
   "cell_type": "markdown",
   "metadata": {},
   "source": [
    "Здесь рассматривается датасет [Arain UnitTest](https://huggingface.co/datasets/Arain/UnitTest-Finetuning). Код, представленный в данном датасете, написан на двух языках программирования: Python и Java. Данные представленны в виде prompt2code для файнтюнинга языковых моделей и обучения их пониманию написанного кода на разных downstream tasks. \n",
    "\n",
    "Запросы для генерации тестов разделяются на 2 вида: \n",
    "\n",
    "* Method-Test Dataset: The dataset can be used to train a model for test completion and test generation tasks in Agile Development (AD)\n",
    "\n",
    "* Docstring-Test-Method Dataset: The dataset can be used to train a model for test completion, test generation tasks and functional code generation in Test-Driven Development (TDD)\n",
    "\n",
    "В идеале бы получить именно первый вариант (не скачивал полные данные, пока что есть только примеры TDD), так как именно в нем запросы ЧЁТКО разделены на код входа и дополнительную информацию, в чём я не уверен касательно датасета типа TDD. (Если верить README датасета)\n",
    "\n",
    "Посмотрим на формат данных."
   ]
  },
  {
   "cell_type": "code",
   "execution_count": null,
   "metadata": {},
   "outputs": [],
   "source": [
    "import json\n",
    "\n",
    "def parse_json_input(path_json = './data/data_Arain_unitTest-FineTuning_example/tdd_python_few_shot_tdd1.json'):\n",
    "\t'''Функция считываем файл формата JSON по пути и преобразует его в dict'''\n",
    "\twith open(path_json, 'r') as file:\n",
    "\t\tjson_dict = json.load(file)\n",
    "\n",
    "\treturn json_dict\n",
    "\n",
    "json_example = parse_json_input()\n"
   ]
  },
  {
   "cell_type": "markdown",
   "metadata": {},
   "source": [
    "Запрос:"
   ]
  },
  {
   "cell_type": "code",
   "execution_count": 8,
   "metadata": {},
   "outputs": [
    {
     "data": {
      "text/plain": [
       "\"You are a professional python software engineer proficient in utilizing the Test-Driven Development (TDD) methodology. Your development process consists of two steps: first, generating test cases based on natural language requirements, and second, creating functional code.\\nCurrently, you're embarking on the first step and a unit test class for a requirement is under development, your task is to generate a new test method for this test class to test new aspects that have not been covered before.\\nYou'll be provided with the following information:\\n1. A development requirement described in natural language.\\n2. Source code of unit test method that is already developed(With imports and dependencies).\\nYou will ONLY return unit test code including necessary imports and dependencies, make sure it compile without errors, use reflection to invoke private methods, and won't test scenarios beyond the stated development requirement. \\nNote that no additional explanations required.\\n\\nHere are the information:\\n1. A development requirement described in natural language.\\nPerform Gauss-Seidel iteration on the linear system Ax=b.\\n\\n    Parameters\\n    ----------\\n    A : csr_matrix, bsr_matrix\\n        Sparse NxN matrix\\n    x : ndarray\\n        Approximate solution (length N)\\n    b : ndarray\\n        Right-hand side (length N)\\n    iterations : int\\n        Number of iterations to perform\\n    sweep : {'forward','backward','symmetric'}\\n        Direction of sweep\\n\\n    Returns\\n    -------\\n    Nothing, x will be modified in place.\\n\\n    Examples\\n    --------\\n    >>> # Use Gauss-Seidel as a Stand-Alone Solver\\n    >>> from pyamg.relaxation.relaxation import gauss_seidel\\n    >>> from pyamg.gallery import poisson\\n    >>> from pyamg.util.linalg import norm\\n    >>> import numpy as np\\n    >>> A = poisson((10,10), format='csr')\\n    >>> x0 = np.zeros((A.shape[0],1))\\n    >>> b = np.ones((A.shape[0],1))\\n    >>> gauss_seidel(A, x0, b, iterations=10)\\n    >>> print norm(b-A*x0)\\n    4.00733716236\\n    >>> #\\n    >>> # Use Gauss-Seidel as the Multigrid Smoother\\n    >>> from pyamg import smoothed_aggregation_solver\\n    >>> sa = smoothed_aggregation_solver(A, B=np.ones((A.shape[0],1)),\\n    ...         coarse_solver='pinv2', max_coarse=50,\\n    ...         presmoother=('gauss_seidel', {'sweep':'symmetric'}),\\n    ...         postsmoother=('gauss_seidel', {'sweep':'symmetric'}))\\n    >>> x0=np.zeros((A.shape[0],1))\\n    >>> residuals=[]\\n    >>> x = sa.solve(b, x0=x0, tol=1e-8, residuals=residuals)\\n\\n2. Source code of unit test method that is already developed(With imports and dependencies).\\n>>>Unit test example 1\\n```python\\nfrom pyamg.relaxation.relaxation import gauss_seidel, jacobi, \\\\\\n    block_jacobi, block_gauss_seidel, jacobi_ne, schwarz, sor, \\\\\\n    gauss_seidel_indexed, polynomial, gauss_seidel_ne, \\\\\\n    gauss_seidel_nr, \\\\\\n    jacobi_indexed, cf_jacobi, fc_jacobi, cf_block_jacobi, fc_block_jacobi\\nfrom numpy.testing import TestCase, assert_almost_equal\\nfrom scipy.sparse import spdiags, csr_matrix, bsr_matrix, eye\\nfrom pyamg.gallery import poisson, sprand, elasticity\\nimport numpy as np\\n\\nclass TestRelaxation(TestCase):\\n    def test_gauss_seidel_bsr(self):\\n        sweeps = ['forward', 'backward', 'symmetric']\\n        cases = []\\n        for N in [1, 2, 3, 4, 5, 6, 10]:\\n            cases.append(spdiags([2*np.ones(N), -np.ones(N), -np.ones(N)],\\n                                 [0, -1, 1], N, N).tocsr())\\n            cases.append(elasticity.linear_elasticity((N, N))[0].tocsr())\\n            C = csr_matrix(np.random.rand(N, N))\\n            cases.append(C*C.H)\\n            C = sprand(N*2, N*2, 0.3) + eye(N*2, N*2)\\n            cases.append(C*C.H)\\n        for A in cases:\\n            for sweep in sweeps:\\n                divisors =\\\\\\n                    [n for n in range(1, A.shape[0]+1) if A.shape[0] % n == 0]\\n                x_csr = np.arange(A.shape[0]).astype(np.float64)\\n                b = x_csr**2\\n                gauss_seidel(A, x_csr, b, sweep=sweep)\\n                for D in divisors:\\n                    B = A.tobsr(blocksize=(D, D))\\n                    x_bsr = np.arange(B.shape[0]).astype(np.float64)\\n                    gauss_seidel(B, x_bsr, b, sweep=sweep)\\n                    assert_almost_equal(x_bsr, x_csr)\\n```\\n>>>Unit test example 2\\n```python\\nfrom scipy.linalg import solve\\nfrom pyamg.relaxation.relaxation import gauss_seidel, jacobi, \\\\\\n    block_jacobi, block_gauss_seidel, jacobi_ne, schwarz, sor, \\\\\\n    gauss_seidel_indexed, polynomial, gauss_seidel_ne, \\\\\\n    gauss_seidel_nr, \\\\\\n    jacobi_indexed, cf_jacobi, fc_jacobi, cf_block_jacobi, fc_block_jacobi\\nfrom numpy.testing import TestCase, assert_almost_equal\\nfrom scipy.sparse import spdiags, csr_matrix, bsr_matrix, eye\\nfrom pyamg.gallery import poisson, sprand, elasticity\\nimport numpy as np\\n\\nclass TestRelaxation(TestCase):\\n    def test_gauss_seidel_gold(self):\\n        np.random.seed(0)\\n        cases = []\\n        cases.append(poisson((4,), format='csr'))\\n        cases.append(poisson((4, 4), format='csr'))\\n        temp = np.random.rand(4, 4)\\n        cases.append(csr_matrix(temp.T.dot(temp)))\\n        # reference implementation\\n        def gold(A, x, b, iterations, sweep):\\n            A = A.toarray()\\n            L = np.tril(A, k=-1)\\n            D = np.diag(np.diag(A))\\n            U = np.triu(A, k=1)\\n            for _i in range(iterations):\\n                if sweep == 'forward':\\n                    x = solve(L + D, (b - U.dot(x)))\\n                elif sweep == 'backward':\\n                    x = solve(U + D, (b - L.dot(x)))\\n                else:\\n                    x = solve(L + D, (b - U.dot(x)))\\n                    x = solve(U + D, (b - L.dot(x)))\\n            return x\\n        for A in cases:\\n            b = np.random.rand(A.shape[0], 1)\\n            x = np.random.rand(A.shape[0], 1)\\n            x_copy = x.copy()\\n            gauss_seidel(A, x, b, iterations=1, sweep='forward')\\n            assert_almost_equal(x, gold(A, x_copy, b, iterations=1,\\n                                        sweep='forward'))\\n            x_copy = x.copy()\\n            gauss_seidel(A, x, b, iterations=1, sweep='backward')\\n            assert_almost_equal(x, gold(A, x_copy, b, iterations=1,\\n                                        sweep='backward'))\\n            x_copy = x.copy()\\n            gauss_seidel(A, x, b, iterations=1, sweep='symmetric')\\n            assert_almost_equal(x, gold(A, x_copy, b, iterations=1,\\n                                        sweep='symmetric'))\\n```\\n>>>Unit test example 3\\n```python\\nfrom scipy.linalg import solve\\nfrom pyamg.relaxation.relaxation import gauss_seidel, jacobi, \\\\\\n    block_jacobi, block_gauss_seidel, jacobi_ne, schwarz, sor, \\\\\\n    gauss_seidel_indexed, polynomial, gauss_seidel_ne, \\\\\\n    gauss_seidel_nr, \\\\\\n    jacobi_indexed, cf_jacobi, fc_jacobi, cf_block_jacobi, fc_block_jacobi\\nfrom numpy.testing import TestCase, assert_almost_equal\\nfrom scipy.sparse import spdiags, csr_matrix, bsr_matrix, eye\\nimport numpy as np\\n\\nclass TestRelaxation(TestCase):\\n    def test_gauss_seidel_csr(self):\\n        N = 1\\n        A = spdiags([2*np.ones(N), -np.ones(N), -np.ones(N)], [0, -1, 1], N, N,\\n                    format='csr')\\n        x = np.arange(N).astype(np.float64)\\n        b = np.zeros(N)\\n        gauss_seidel(A, x, b)\\n        assert_almost_equal(x, np.array([0]))\\n        N = 3\\n        A = spdiags([2*np.ones(N), -np.ones(N), -np.ones(N)], [0, -1, 1], N, N,\\n                    format='csr')\\n        x = np.arange(N).astype(np.float64)\\n        b = np.zeros(N)\\n        gauss_seidel(A, x, b)\\n        assert_almost_equal(x, np.array([1.0/2.0, 5.0/4.0, 5.0/8.0]))\\n        N = 1\\n        A = spdiags([2*np.ones(N), -np.ones(N), -np.ones(N)], [0, -1, 1], N, N,\\n                    format='csr')\\n        x = np.arange(N).astype(np.float64)\\n        b = np.zeros(N)\\n        gauss_seidel(A, x, b, sweep='backward')\\n        assert_almost_equal(x, np.array([0]))\\n        N = 3\\n        A = spdiags([2*np.ones(N), -np.ones(N), -np.ones(N)], [0, -1, 1], N, N,\\n                    format='csr')\\n        x = np.arange(N).astype(np.float64)\\n        b = np.zeros(N)\\n        gauss_seidel(A, x, b, sweep='backward')\\n        assert_almost_equal(x, np.array([1.0/8.0, 1.0/4.0, 1.0/2.0]))\\n        N = 1\\n        A = spdiags([2*np.ones(N), -np.ones(N), -np.ones(N)], [0, -1, 1], N, N,\\n                    format='csr')\\n        x = np.arange(N, dtype=A.dtype)\\n        b = np.array([10], dtype=A.dtype)\\n        gauss_seidel(A, x, b)\\n        assert_almost_equal(x, np.array([5]))\\n        N = 3\\n        A = spdiags([2*np.ones(N), -np.ones(N), -np.ones(N)], [0, -1, 1], N, N,\\n                    format='csr')\\n        x = np.arange(N, dtype=A.dtype)\\n        b = np.array([10, 20, 30], dtype=A.dtype)\\n        gauss_seidel(A, x, b)\\n        assert_almost_equal(x, np.array([11.0/2.0, 55.0/4, 175.0/8.0]))\\n        # forward and backward passes should give same result with\\n        # x=np.ones(N),b=np.zeros(N)\\n        N = 100\\n        A = spdiags([2*np.ones(N), -np.ones(N), -np.ones(N)], [0, -1, 1], N, N,\\n                    format='csr')\\n        x = np.ones(N)\\n        b = np.zeros(N)\\n        gauss_seidel(A, x, b, iterations=200, sweep='forward')\\n        resid1 = np.linalg.norm(A*x, 2)\\n        x = np.ones(N)\\n        gauss_seidel(A, x, b, iterations=200, sweep='backward')\\n        resid2 = np.linalg.norm(A*x, 2)\\n        assert resid1 < 0.01\\n        assert resid2 < 0.01\\n        assert_almost_equal(resid1, resid2)\\n```\\n\\n\""
      ]
     },
     "execution_count": 8,
     "metadata": {},
     "output_type": "execute_result"
    }
   ],
   "source": [
    "json_example[0]['conversations'][0]['value']"
   ]
  },
  {
   "cell_type": "markdown",
   "metadata": {},
   "source": [
    "Требуемый ответ:"
   ]
  },
  {
   "cell_type": "code",
   "execution_count": 9,
   "metadata": {},
   "outputs": [
    {
     "data": {
      "text/plain": [
       "\"```python\\nfrom pyamg.relaxation.relaxation import gauss_seidel, jacobi, \\\\\\n    block_jacobi, block_gauss_seidel, jacobi_ne, schwarz, sor, \\\\\\n    gauss_seidel_indexed, polynomial, gauss_seidel_ne, \\\\\\n    gauss_seidel_nr, \\\\\\n    jacobi_indexed, cf_jacobi, fc_jacobi, cf_block_jacobi, fc_block_jacobi\\nfrom numpy.testing import TestCase, assert_almost_equal\\nfrom scipy.sparse import spdiags, csr_matrix, bsr_matrix, eye\\nimport numpy as np\\n\\nclass TestRelaxation(TestCase):\\n    def test_gauss_seidel_indexed(self):\\n        N = 1\\n        A = spdiags([2*np.ones(N), -np.ones(N), -np.ones(N)], [0, -1, 1], N, N,\\n                    format='csr')\\n        x = np.arange(N).astype(np.float64)\\n        b = np.zeros(N)\\n        gauss_seidel_indexed(A, x, b, [0])\\n        assert_almost_equal(x, np.array([0]))\\n        N = 3\\n        A = spdiags([2*np.ones(N), -np.ones(N), -np.ones(N)], [0, -1, 1], N, N,\\n                    format='csr')\\n        x = np.arange(N).astype(np.float64)\\n        b = np.zeros(N)\\n        gauss_seidel_indexed(A, x, b, [0, 1, 2])\\n        assert_almost_equal(x, np.array([1.0/2.0, 5.0/4.0, 5.0/8.0]))\\n        N = 3\\n        A = spdiags([2*np.ones(N), -np.ones(N), -np.ones(N)], [0, -1, 1], N, N,\\n                    format='csr')\\n        x = np.arange(N).astype(np.float64)\\n        b = np.zeros(N)\\n        gauss_seidel_indexed(A, x, b, [2, 1, 0], sweep='backward')\\n        assert_almost_equal(x, np.array([1.0/2.0, 5.0/4.0, 5.0/8.0]))\\n        N = 3\\n        A = spdiags([2*np.ones(N), -np.ones(N), -np.ones(N)], [0, -1, 1], N, N,\\n                    format='csr')\\n        x = np.arange(N).astype(np.float64)\\n        b = np.zeros(N)\\n        gauss_seidel_indexed(A, x, b, [0, 1, 2], sweep='backward')\\n        assert_almost_equal(x, np.array([1.0/8.0, 1.0/4.0, 1.0/2.0]))\\n        N = 4\\n        A = spdiags([2*np.ones(N), -np.ones(N), -np.ones(N)], [0, -1, 1], N, N,\\n                    format='csr')\\n        x = np.ones(N)\\n        b = np.zeros(N)\\n        gauss_seidel_indexed(A, x, b, [0, 3])\\n        assert_almost_equal(x, np.array([1.0/2.0, 1.0, 1.0, 1.0/2.0]))\\n        N = 4\\n        A = spdiags([2*np.ones(N), -np.ones(N), -np.ones(N)], [0, -1, 1], N, N,\\n                    format='csr')\\n        x = np.ones(N)\\n        b = np.zeros(N)\\n        gauss_seidel_indexed(A, x, b, [0, 0])\\n        assert_almost_equal(x, np.array([1.0/2.0, 1.0, 1.0, 1.0]))\\n```\\n\""
      ]
     },
     "execution_count": 9,
     "metadata": {},
     "output_type": "execute_result"
    }
   ],
   "source": [
    "json_example[0]['conversations'][1]['value']"
   ]
  },
  {
   "cell_type": "markdown",
   "metadata": {},
   "source": [
    "Посмотрим на вид кода по запросу (англ.):"
   ]
  },
  {
   "cell_type": "markdown",
   "metadata": {},
   "source": [
    "Вы являетесь профессиональным инженером-программистом на Python, владеющим методологией разработки через тестирование (TDD). Ваш процесс разработки состоит из двух этапов: во-первых, создание тестовых случаев на основе требований на естественном языке, а во-вторых, написание функционального кода.  \n",
    "Сейчас вы находитесь на первом этапе и разрабатываете класс модульных тестов для одного из требований. Ваша задача — написать новый метод тестирования для проверки аспектов, которые еще не были покрыты.  \n",
    "\n",
    "Вам предоставляется следующая информация:  \n",
    "1. Требование для разработки, описанное на естественном языке.  \n",
    "2. Исходный код метода модульного тестирования, уже реализованного (включая импорты и зависимости).  \n",
    "\n",
    "Вы должны вернуть ТОЛЬКО код модульного теста, включая необходимые импорты и зависимости. Убедитесь, что код компилируется без ошибок, используйте рефлексию для вызова приватных методов и не тестируйте сценарии, выходящие за рамки указанного требования.  \n",
    "Дополнительные пояснения не требуются.  \n",
    "\n",
    "**Информация**:  \n",
    "1. **Требование для разработки, описанное на естественном языке:**  \n",
    "Реализовать метод для выполнения итерации Гаусса-Зейделя для решения линейной системы \\(Ax = b\\).  \n",
    "\n",
    "   **Параметры:**  \n",
    "   - `A`: матрица формата `csr_matrix` или `bsr_matrix`, разреженная матрица размером \\(N \\times N\\).  \n",
    "   - `x`: `ndarray`, начальное приближение решения (длина \\(N\\)).  \n",
    "   - `b`: `ndarray`, правая часть уравнения (длина \\(N\\)).  \n",
    "   - `iterations`: `int`, количество итераций.  \n",
    "   - `sweep`: `{'forward', 'backward', 'symmetric'}`, направление обхода.  \n",
    "\n",
    "   **Возвращаемое значение:**  \n",
    "   - Ничего, так как \\(x\\) изменяется на месте.  \n",
    "\n",
    "   **Пример:**  \n",
    "   ```python\n",
    "   from pyamg.relaxation.relaxation import gauss_seidel\n",
    "   from pyamg.gallery import poisson\n",
    "   import numpy as np\n",
    "\n",
    "   A = poisson((10, 10), format='csr')\n",
    "   x0 = np.zeros((A.shape[0], 1))\n",
    "   b = np.ones((A.shape[0], 1))\n",
    "   gauss_seidel(A, x0, b, iterations=10)\n",
    "\n",
    "... и еще три примерных теста вида:\n",
    "\n",
    "```python\n",
    "class TestRelaxation(TestCase):\n",
    "def test_gauss_seidel_bsr(self):\n",
    "\tsweeps = ['forward', 'backward', 'symmetric']\n",
    "\tcases = []\n",
    "\tfor N in [1, 2, 3, 4]:\n",
    "\t\tcases.append(spdiags([2 * np.ones(N), -np.ones(N), -np.ones(N)],\n",
    "\t\t\t\t\t\t\t\t[0, -1, 1], N, N).tocsr())\n",
    "\tfor A in cases:\n",
    "\t\tfor sweep in sweeps:\n",
    "\t\t\tx = np.zeros(A.shape[0])\n",
    "\t\t\tb = np.arange(A.shape[0], dtype=float)\n",
    "\t\t\tgauss_seidel(A, x, b, sweep=sweep)\n",
    "\t\t\tassert_almost_equal(x, np.linalg.solve(A.toarray(), b))\n",
    "\n",
    "\n",
    "\n"
   ]
  },
  {
   "cell_type": "markdown",
   "metadata": {},
   "source": [
    "Получим код теста:"
   ]
  },
  {
   "cell_type": "code",
   "execution_count": null,
   "metadata": {},
   "outputs": [],
   "source": [
    "def code_format(code_string = json_example[0]['conversations'][1]['value']):\n",
    "\t'''Функция, которая сделает из строчки код в удобном читаемом формате и сохранит его в generated_code.py'''\n",
    "\twith open(\"generated_code.py\", \"w\") as file:\n",
    "\t\tfile.write(code_string)\n",
    "\n",
    "code_format()\n"
   ]
  },
  {
   "cell_type": "markdown",
   "metadata": {},
   "source": [
    "```python\n",
    "from pyamg.relaxation.relaxation import gauss_seidel, jacobi, \\\n",
    "    block_jacobi, block_gauss_seidel, jacobi_ne, schwarz, sor, \\\n",
    "    gauss_seidel_indexed, polynomial, gauss_seidel_ne, \\\n",
    "    gauss_seidel_nr, \\\n",
    "    jacobi_indexed, cf_jacobi, fc_jacobi, cf_block_jacobi, fc_block_jacobi\n",
    "from numpy.testing import TestCase, assert_almost_equal\n",
    "from scipy.sparse import spdiags, csr_matrix, bsr_matrix, eye\n",
    "import numpy as np\n",
    "\n",
    "class TestRelaxation(TestCase):\n",
    "    def test_gauss_seidel_indexed(self):\n",
    "        N = 1\n",
    "        A = spdiags([2*np.ones(N), -np.ones(N), -np.ones(N)], [0, -1, 1], N, N,\n",
    "                    format='csr')\n",
    "        x = np.arange(N).astype(np.float64)\n",
    "        b = np.zeros(N)\n",
    "        gauss_seidel_indexed(A, x, b, [0])\n",
    "        assert_almost_equal(x, np.array([0]))\n",
    "        N = 3\n",
    "        A = spdiags([2*np.ones(N), -np.ones(N), -np.ones(N)], [0, -1, 1], N, N,\n",
    "                    format='csr')\n",
    "        x = np.arange(N).astype(np.float64)\n",
    "        b = np.zeros(N)\n",
    "        gauss_seidel_indexed(A, x, b, [0, 1, 2])\n",
    "        assert_almost_equal(x, np.array([1.0/2.0, 5.0/4.0, 5.0/8.0]))\n",
    "        N = 3\n",
    "        A = spdiags([2*np.ones(N), -np.ones(N), -np.ones(N)], [0, -1, 1], N, N,\n",
    "                    format='csr')\n",
    "        x = np.arange(N).astype(np.float64)\n",
    "        b = np.zeros(N)\n",
    "        gauss_seidel_indexed(A, x, b, [2, 1, 0], sweep='backward')\n",
    "        assert_almost_equal(x, np.array([1.0/2.0, 5.0/4.0, 5.0/8.0]))\n",
    "        N = 3\n",
    "        A = spdiags([2*np.ones(N), -np.ones(N), -np.ones(N)], [0, -1, 1], N, N,\n",
    "                    format='csr')\n",
    "        x = np.arange(N).astype(np.float64)\n",
    "        b = np.zeros(N)\n",
    "        gauss_seidel_indexed(A, x, b, [0, 1, 2], sweep='backward')\n",
    "        assert_almost_equal(x, np.array([1.0/8.0, 1.0/4.0, 1.0/2.0]))\n",
    "        N = 4\n",
    "        A = spdiags([2*np.ones(N), -np.ones(N), -np.ones(N)], [0, -1, 1], N, N,\n",
    "                    format='csr')\n",
    "        x = np.ones(N)\n",
    "        b = np.zeros(N)\n",
    "        gauss_seidel_indexed(A, x, b, [0, 3])\n",
    "        assert_almost_equal(x, np.array([1.0/2.0, 1.0, 1.0, 1.0/2.0]))\n",
    "        N = 4\n",
    "        A = spdiags([2*np.ones(N), -np.ones(N), -np.ones(N)], [0, -1, 1], N, N,\n",
    "                    format='csr')\n",
    "        x = np.ones(N)\n",
    "        b = np.zeros(N)\n",
    "        gauss_seidel_indexed(A, x, b, [0, 0])\n",
    "        assert_almost_equal(x, np.array([1.0/2.0, 1.0, 1.0, 1.0]))\n",
    "```\n"
   ]
  },
  {
   "cell_type": "code",
   "execution_count": 13,
   "metadata": {},
   "outputs": [],
   "source": [
    "code_format(json_example[0]['conversations'][0]['value'])"
   ]
  },
  {
   "cell_type": "markdown",
   "metadata": {},
   "source": [
    "#### Резюме"
   ]
  },
  {
   "cell_type": "markdown",
   "metadata": {},
   "source": [
    "Данный датасет содерджит основные ключевые особенности:\n",
    "\n",
    "* *Работает с промптами, не с кодом*. Это может противоречить поставленной задаче, так как изначально мы хотели бы генерировать тесты из кода, но никак не из запроса к языковой модели.\n",
    "\n",
    "* Содержит *большое количество размечененных тестов* для двух языков программирования (Python + Java). "
   ]
  },
  {
   "cell_type": "markdown",
   "metadata": {},
   "source": [
    "#### ***Идея***"
   ]
  },
  {
   "cell_type": "markdown",
   "metadata": {},
   "source": [
    "В принципе мысль идея как-то получить из запроса код входа и заранее релевантных тестов, чтобы как-то получить в итоге свзяку код <-> тесты. Стоит пристально рассмотреть, так как датасет действительно выглядит как релевантный для нашей задачи.\n",
    "\n",
    "Помимо того в [описании](https://huggingface.co/datasets/Arain/UnitTest-Finetuning/blob/main/README.md) к датасету приложены виды промптов в зависимости от типа датасета (TDD/AD). Этот факт упрощает задачу, поскольку можно фактически одним махом получить код, несколько тестов и еще дополнительные комментарии из раздела описания задачи. (То есть не выбрасывать комментарии, а оставлять их для обработки естественного языка).\n",
    "\n"
   ]
  },
  {
   "cell_type": "code",
   "execution_count": null,
   "metadata": {},
   "outputs": [],
   "source": []
  }
 ],
 "metadata": {
  "kernelspec": {
   "display_name": "Python 3",
   "language": "python",
   "name": "python3"
  },
  "language_info": {
   "codemirror_mode": {
    "name": "ipython",
    "version": 3
   },
   "file_extension": ".py",
   "mimetype": "text/x-python",
   "name": "python",
   "nbconvert_exporter": "python",
   "pygments_lexer": "ipython3",
   "version": "3.12.3"
  }
 },
 "nbformat": 4,
 "nbformat_minor": 2
}
