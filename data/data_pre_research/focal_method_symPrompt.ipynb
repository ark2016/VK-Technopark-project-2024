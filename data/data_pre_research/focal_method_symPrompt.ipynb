{
 "cells": [
  {
   "cell_type": "markdown",
   "metadata": {},
   "source": [
    "#### SymPrompt Focal Method Benchmark датасет"
   ]
  },
  {
   "cell_type": "markdown",
   "metadata": {},
   "source": [
    " **SymPrompt** - стратегия создания подсказок для языковых моделей (LLMs) с учетом кода, предназначенная для генерации тестов. SymPrompt опирается на подход, показывающий, что LLMs лучше решают сложные задачи, если процесс разбивается на несколько этапов с последовательными подсказками. Методология применена к генерации тестов путем разбиения процесса на многоступенчатую последовательность, где каждый этап включает соответствующую подсказку, основанную на путях выполнения метода, а также содержит информацию о типах и зависимостях.  \n",
    "\n",
    "**SymPrompt** позволяет LLMs создавать более полные тесты без дополнительного обучения. Реализация базируется на **TreeSitter** и тестируется на сложных задачах из Python-проектов с открытым исходным кодом. Метод улучшает корректность тестов в 5 раз и увеличивает относительное покрытие тестов на 26% для CodeGen2. С использованием GPT-4 **SymPrompt** удваивает покрытие тестов по сравнению с базовыми подходами подсказок."
   ]
  },
  {
   "cell_type": "markdown",
   "metadata": {},
   "source": [
    "Посмотрим на данные из датасета"
   ]
  },
  {
   "cell_type": "code",
   "execution_count": null,
   "metadata": {},
   "outputs": [
    {
     "data": {
      "text/html": [
       "<div>\n",
       "<style scoped>\n",
       "    .dataframe tbody tr th:only-of-type {\n",
       "        vertical-align: middle;\n",
       "    }\n",
       "\n",
       "    .dataframe tbody tr th {\n",
       "        vertical-align: top;\n",
       "    }\n",
       "\n",
       "    .dataframe thead th {\n",
       "        text-align: right;\n",
       "    }\n",
       "</style>\n",
       "<table border=\"1\" class=\"dataframe\">\n",
       "  <thead>\n",
       "    <tr style=\"text-align: right;\">\n",
       "      <th></th>\n",
       "      <th>prompt_id</th>\n",
       "      <th>project</th>\n",
       "      <th>module</th>\n",
       "      <th>class</th>\n",
       "      <th>method</th>\n",
       "      <th>focal_method_txt</th>\n",
       "      <th>focal_method_lines</th>\n",
       "      <th>in_stack</th>\n",
       "      <th>globals</th>\n",
       "      <th>type_context</th>\n",
       "    </tr>\n",
       "  </thead>\n",
       "  <tbody>\n",
       "    <tr>\n",
       "      <th>0</th>\n",
       "      <td>0</td>\n",
       "      <td>apimd</td>\n",
       "      <td>apimd.loader</td>\n",
       "      <td></td>\n",
       "      <td>walk_packages</td>\n",
       "      <td>def walk_packages(name: str, path: str) -&gt; Ite...</td>\n",
       "      <td>[43, 59]</td>\n",
       "      <td>False</td>\n",
       "      <td>[__author__, __copyright__, __license__, __ema...</td>\n",
       "      <td>from typing import Optional\\nfrom collections....</td>\n",
       "    </tr>\n",
       "    <tr>\n",
       "      <th>1</th>\n",
       "      <td>1</td>\n",
       "      <td>apimd</td>\n",
       "      <td>apimd.loader</td>\n",
       "      <td></td>\n",
       "      <td>loader</td>\n",
       "      <td>def loader(root: str, pwd: str, link: bool, le...</td>\n",
       "      <td>[78, 105]</td>\n",
       "      <td>False</td>\n",
       "      <td>[__author__, __copyright__, __license__, __ema...</td>\n",
       "      <td>from typing import Optional\\nfrom collections....</td>\n",
       "    </tr>\n",
       "    <tr>\n",
       "      <th>2</th>\n",
       "      <td>2</td>\n",
       "      <td>apimd</td>\n",
       "      <td>apimd.parser</td>\n",
       "      <td></td>\n",
       "      <td>is_public_family</td>\n",
       "      <td>def is_public_family(name: str) -&gt; bool:\\n    ...</td>\n",
       "      <td>[61, 70]</td>\n",
       "      <td>False</td>\n",
       "      <td>[__author__, __copyright__, __license__, __ema...</td>\n",
       "      <td>from typing import cast, TypeVar, Union, Optio...</td>\n",
       "    </tr>\n",
       "    <tr>\n",
       "      <th>3</th>\n",
       "      <td>3</td>\n",
       "      <td>apimd</td>\n",
       "      <td>apimd.parser</td>\n",
       "      <td></td>\n",
       "      <td>walk_body</td>\n",
       "      <td>def walk_body(body: Sequence[stmt]) -&gt; Iterato...</td>\n",
       "      <td>[73, 86]</td>\n",
       "      <td>False</td>\n",
       "      <td>[__author__, __copyright__, __license__, __ema...</td>\n",
       "      <td>from typing import cast, TypeVar, Union, Optio...</td>\n",
       "    </tr>\n",
       "    <tr>\n",
       "      <th>4</th>\n",
       "      <td>4</td>\n",
       "      <td>apimd</td>\n",
       "      <td>apimd.parser</td>\n",
       "      <td></td>\n",
       "      <td>esc_underscore</td>\n",
       "      <td>def esc_underscore(doc: str) -&gt; str:\\n    \"\"\"E...</td>\n",
       "      <td>[100, 105]</td>\n",
       "      <td>False</td>\n",
       "      <td>[__author__, __copyright__, __license__, __ema...</td>\n",
       "      <td>from typing import cast, TypeVar, Union, Optio...</td>\n",
       "    </tr>\n",
       "  </tbody>\n",
       "</table>\n",
       "</div>"
      ],
      "text/plain": [
       "   prompt_id project        module class            method  \\\n",
       "0          0   apimd  apimd.loader           walk_packages   \n",
       "1          1   apimd  apimd.loader                  loader   \n",
       "2          2   apimd  apimd.parser        is_public_family   \n",
       "3          3   apimd  apimd.parser               walk_body   \n",
       "4          4   apimd  apimd.parser          esc_underscore   \n",
       "\n",
       "                                    focal_method_txt focal_method_lines  \\\n",
       "0  def walk_packages(name: str, path: str) -> Ite...           [43, 59]   \n",
       "1  def loader(root: str, pwd: str, link: bool, le...          [78, 105]   \n",
       "2  def is_public_family(name: str) -> bool:\\n    ...           [61, 70]   \n",
       "3  def walk_body(body: Sequence[stmt]) -> Iterato...           [73, 86]   \n",
       "4  def esc_underscore(doc: str) -> str:\\n    \"\"\"E...         [100, 105]   \n",
       "\n",
       "   in_stack                                            globals  \\\n",
       "0     False  [__author__, __copyright__, __license__, __ema...   \n",
       "1     False  [__author__, __copyright__, __license__, __ema...   \n",
       "2     False  [__author__, __copyright__, __license__, __ema...   \n",
       "3     False  [__author__, __copyright__, __license__, __ema...   \n",
       "4     False  [__author__, __copyright__, __license__, __ema...   \n",
       "\n",
       "                                        type_context  \n",
       "0  from typing import Optional\\nfrom collections....  \n",
       "1  from typing import Optional\\nfrom collections....  \n",
       "2  from typing import cast, TypeVar, Union, Optio...  \n",
       "3  from typing import cast, TypeVar, Union, Optio...  \n",
       "4  from typing import cast, TypeVar, Union, Optio...  "
      ]
     },
     "execution_count": 9,
     "metadata": {},
     "output_type": "execute_result"
    }
   ],
   "source": [
    "import json\n",
    "import pandas as pd\n",
    "\n",
    "def parse_json_input(path_json = './data/data_sym_prompt_focal_method/focal_methods.jsonl'):\n",
    "\t'''Функция считываем файл формата JSON по пути и преобразует его в датафрейм pandas'''\n",
    "\tdf = pd.read_json(path_json, lines=True)\n",
    "\n",
    "\treturn df\n",
    "\n",
    "code_dataset = parse_json_input()\n",
    "code_dataset.head()\n"
   ]
  },
  {
   "cell_type": "markdown",
   "metadata": {},
   "source": [
    "Размерность датасета"
   ]
  },
  {
   "cell_type": "code",
   "execution_count": 10,
   "metadata": {},
   "outputs": [
    {
     "name": "stdout",
     "output_type": "stream",
     "text": [
      "Число сэмплов: 897\n",
      "Число колонок в датасете: 10\n"
     ]
    }
   ],
   "source": [
    "print(f\"Число сэмплов: {code_dataset.shape[0]}\")\n",
    "print(f\"Число колонок в датасете: {code_dataset.shape[1]}\")"
   ]
  },
  {
   "cell_type": "markdown",
   "metadata": {},
   "source": [
    "На первый взгляд релевантными окажутся колонки:"
   ]
  },
  {
   "cell_type": "code",
   "execution_count": null,
   "metadata": {},
   "outputs": [],
   "source": [
    "relevant_columns = ['method', \n",
    "                    'focal_method_txt',\n",
    "                    'focal_method_lines',\n",
    "                    'type_context']"
   ]
  },
  {
   "cell_type": "markdown",
   "metadata": {},
   "source": [
    "Наиболее важные из них - focal_method_txt и type_context"
   ]
  },
  {
   "cell_type": "markdown",
   "metadata": {},
   "source": [
    "Для первого сэмпла\n",
    "\n",
    "* focal_method_txt:\n",
    "\t```python\n",
    "\tdef walk_packages(name: str, path: str) -> Iterator[tuple[str, str]]:\n",
    "    \"\"\"Walk packages without import them.\"\"\"\n",
    "    path = abspath(path) + sep\n",
    "    valid = (path + name, path + name + PEP561_SUFFIX)\n",
    "    for root, _, fs in walk(path):\n",
    "        for f in fs:\n",
    "            if not f.endswith(('.py', '.pyi')):\n",
    "                continue\n",
    "            f_path = parent(join(root, f))\n",
    "            if not f_path.startswith(valid):\n",
    "                continue\n",
    "            name = (f_path\n",
    "                    .removeprefix(path)\n",
    "                    .replace(PEP561_SUFFIX, \"\")\n",
    "                    .replace(sep, '.')\n",
    "                    .removesuffix('.__init__'))\n",
    "            yield name, f_path\n",
    "\t```\n",
    "\n",
    "* type_context: \n",
    "\t```python\n",
    "\tfrom typing import Optional\n",
    "\tfrom collections.abc import Sequence, Iterator\n",
    "\tfrom sys import path as sys_path\n",
    "\tfrom os import mkdir, walk\n",
    "\tfrom os.path import isdir, isfile, abspath, join, sep, dirname\n",
    "\tfrom importlib.abc import Loader\n",
    "\tfrom importlib.machinery import EXTENSION_SUFFIXES\n",
    "\tfrom importlib.util import find_spec, spec_from_file_location, module_from_spec\n",
    "\tfrom .logger import logger\n",
    "\tfrom .parser import parent, Parser\n",
    "\n",
    "\t__author__ = \"Yuan Chang\"\n",
    "\t__copyright__ = \"Copyright (C) 2020-2021\"\n",
    "\t__license__ = \"MIT\"\n",
    "\t__email__ = \"pyslvs@gmail.com\"\n",
    "\tPEP561_SUFFIX = '-stubs'\n",
    "\n",
    "\tdef walk_packages(name: str, path: str) -> Iterator[tuple[str, str]]:\n",
    "\t\t\"\"\"Walk packages without import them.\"\"\"\n",
    "\t\tpath = abspath(path) + sep\n",
    "\t\tvalid = (path + name, path + name + PEP561_SUFFIX)\n",
    "\t\tfor root, _, fs in walk(path):\n",
    "\t\t\tfor f in fs:\n",
    "\t\t\t\tif not f.endswith(('.py', '.pyi')):\n",
    "\t\t\t\t\tcontinue\n",
    "\t\t\t\tf_path = parent(join(root, f))\n",
    "\t\t\t\tif not f_path.startswith(valid):\n",
    "\t\t\t\t\tcontinue\n",
    "\t\t\t\tname = (f_path\n",
    "\t\t\t\t\t\t.removeprefix(path)\n",
    "\t\t\t\t\t\t.replace(PEP561_SUFFIX, \"\")\n",
    "\t\t\t\t\t\t.replace(sep, '.')\n",
    "\t\t\t\t\t\t.removesuffix('.__init__'))\n",
    "\t\t\t\tyield name, f_path\n",
    "\t```\n",
    "\n"
   ]
  },
  {
   "cell_type": "markdown",
   "metadata": {},
   "source": [
    "#### Резюме"
   ]
  },
  {
   "cell_type": "markdown",
   "metadata": {},
   "source": [
    "* Небольшой датасет\n",
    "\n",
    "* Релевантных для решаемой задачи вещей маловато... Лично я не увидел."
   ]
  },
  {
   "cell_type": "code",
   "execution_count": null,
   "metadata": {},
   "outputs": [],
   "source": []
  }
 ],
 "metadata": {
  "kernelspec": {
   "display_name": "Python 3",
   "language": "python",
   "name": "python3"
  },
  "language_info": {
   "codemirror_mode": {
    "name": "ipython",
    "version": 3
   },
   "file_extension": ".py",
   "mimetype": "text/x-python",
   "name": "python",
   "nbconvert_exporter": "python",
   "pygments_lexer": "ipython3",
   "version": "3.12.3"
  }
 },
 "nbformat": 4,
 "nbformat_minor": 2
}
