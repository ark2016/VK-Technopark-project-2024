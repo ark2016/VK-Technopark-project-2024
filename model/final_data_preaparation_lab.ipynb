{
 "cells": [
  {
   "cell_type": "markdown",
   "metadata": {},
   "source": [
    "Финальная настройка данных"
   ]
  },
  {
   "cell_type": "markdown",
   "metadata": {},
   "source": [
    "В данном файле проводится финальная подготовка данных к input-формату модели"
   ]
  },
  {
   "cell_type": "code",
   "execution_count": 1,
   "metadata": {},
   "outputs": [],
   "source": [
    "import matplotlib.pyplot as plt\n",
    "import numpy as np\n",
    "\n",
    "import warnings\n",
    "warnings.filterwarnings(\"ignore\")"
   ]
  },
  {
   "cell_type": "markdown",
   "metadata": {},
   "source": [
    "Импортируем написанный класс"
   ]
  },
  {
   "cell_type": "code",
   "execution_count": 2,
   "metadata": {},
   "outputs": [],
   "source": [
    "from create_dataset_m2t_tokens import Code2TestPrepareToInput, input_json_path"
   ]
  },
  {
   "cell_type": "markdown",
   "metadata": {},
   "source": [
    "Вызываем инциализацию датасета"
   ]
  },
  {
   "cell_type": "code",
   "execution_count": 3,
   "metadata": {},
   "outputs": [
    {
     "name": "stdout",
     "output_type": "stream",
     "text": [
      "Время инициализации датасета: 10.226 секунды\n"
     ]
    }
   ],
   "source": [
    "dataset_m2t_input = Code2TestPrepareToInput(input_json_path)"
   ]
  },
  {
   "cell_type": "markdown",
   "metadata": {},
   "source": [
    "Готовим датасет"
   ]
  },
  {
   "cell_type": "code",
   "execution_count": 42,
   "metadata": {},
   "outputs": [
    {
     "name": "stderr",
     "output_type": "stream",
     "text": [
      "100%|██████████| 281060/281060 [00:06<00:00, 45605.68it/s]\n"
     ]
    },
    {
     "name": "stdout",
     "output_type": "stream",
     "text": [
      "Время проверки формата запросов: 6.167 секунды\n"
     ]
    },
    {
     "name": "stderr",
     "output_type": "stream",
     "text": [
      "100%|██████████| 281060/281060 [00:05<00:00, 49392.10it/s]\n",
      "100%|██████████| 281060/281060 [00:00<00:00, 4049267.44it/s]\n",
      "100%|██████████| 281060/281060 [00:00<00:00, 2784867.41it/s]\n",
      "100%|██████████| 281060/281060 [00:00<00:00, 2494653.66it/s]\n",
      "100%|██████████| 281060/281060 [00:00<00:00, 3878603.40it/s]\n"
     ]
    },
    {
     "name": "stdout",
     "output_type": "stream",
     "text": [
      "Время извлечения глобальных признаков из текста кода: 6.070 секунды\n"
     ]
    },
    {
     "name": "stderr",
     "output_type": "stream",
     "text": [
      "100%|██████████| 281060/281060 [00:01<00:00, 211097.63it/s]\n",
      "100%|██████████| 281060/281060 [00:01<00:00, 212148.00it/s]\n",
      "100%|██████████| 281060/281060 [00:02<00:00, 111205.15it/s]\n",
      "100%|██████████| 281060/281060 [00:02<00:00, 113216.02it/s]\n",
      "100%|██████████| 281060/281060 [00:00<00:00, 370058.31it/s]\n",
      "100%|██████████| 281060/281060 [00:00<00:00, 377194.45it/s]\n"
     ]
    },
    {
     "name": "stdout",
     "output_type": "stream",
     "text": [
      "Время извлечения комментариев и описаний из текста кода: 9.208 секунды\n"
     ]
    },
    {
     "name": "stderr",
     "output_type": "stream",
     "text": [
      "100%|██████████| 281060/281060 [00:03<00:00, 84212.49it/s]\n",
      "100%|██████████| 281060/281060 [00:06<00:00, 40782.59it/s]\n",
      "100%|██████████| 281060/281060 [00:01<00:00, 150185.98it/s]\n",
      "100%|██████████| 281060/281060 [00:05<00:00, 49670.77it/s]\n"
     ]
    },
    {
     "name": "stdout",
     "output_type": "stream",
     "text": [
      "Время очистки текста кода: 17.819 секунды\n"
     ]
    },
    {
     "name": "stderr",
     "output_type": "stream",
     "text": [
      "100%|██████████| 281060/281060 [00:36<00:00, 7801.20it/s] \n",
      "100%|██████████| 281060/281060 [01:17<00:00, 3636.11it/s]\n",
      "100%|██████████| 281060/281060 [00:02<00:00, 115306.87it/s]\n"
     ]
    },
    {
     "name": "stdout",
     "output_type": "stream",
     "text": [
      "Время получения ast-деревьев на основе текста кода: 116.546 секунды\n",
      "Время подготовки датасета: 155.812 секунды\n"
     ]
    },
    {
     "name": "stderr",
     "output_type": "stream",
     "text": [
      "100%|██████████| 281060/281060 [00:01<00:00, 214009.01it/s]\n",
      "100%|██████████| 281060/281060 [00:00<00:00, 293303.01it/s]\n",
      "100%|██████████| 281060/281060 [00:00<00:00, 425904.59it/s]\n",
      "100%|██████████| 281060/281060 [00:05<00:00, 53991.52it/s]\n",
      "100%|██████████| 281060/281060 [00:03<00:00, 74947.46it/s] \n",
      "100%|██████████| 281060/281060 [00:02<00:00, 105969.92it/s]\n",
      "100%|██████████| 281060/281060 [00:00<00:00, 320734.52it/s]\n",
      "100%|██████████| 281060/281060 [00:00<00:00, 448661.56it/s]\n",
      "100%|██████████| 281060/281060 [00:00<00:00, 464515.29it/s]\n",
      "100%|██████████| 281060/281060 [00:00<00:00, 312363.16it/s]\n",
      "100%|██████████| 281060/281060 [00:00<00:00, 366112.71it/s]\n",
      "100%|██████████| 281060/281060 [00:00<00:00, 476326.75it/s]\n",
      "100%|██████████| 281060/281060 [00:00<00:00, 339900.90it/s]\n",
      "100%|██████████| 281060/281060 [00:00<00:00, 441665.47it/s]\n",
      "100%|██████████| 281060/281060 [00:00<00:00, 361875.95it/s]\n",
      "100%|██████████| 280458/280458 [00:00<00:00, 395464.62it/s]\n",
      "100%|██████████| 280458/280458 [00:02<00:00, 128910.46it/s]\n",
      "100%|██████████| 280458/280458 [00:00<00:00, 425357.79it/s]\n",
      "100%|██████████| 280458/280458 [00:03<00:00, 83725.70it/s] \n",
      "100%|██████████| 280458/280458 [00:13<00:00, 20861.98it/s]\n"
     ]
    },
    {
     "name": "stdout",
     "output_type": "stream",
     "text": [
      "Время подготовки focal_method: 42.556 секунды\n"
     ]
    },
    {
     "name": "stderr",
     "output_type": "stream",
     "text": [
      "100%|██████████| 280458/280458 [00:01<00:00, 198150.75it/s]\n",
      "100%|██████████| 280458/280458 [00:00<00:00, 281067.07it/s]\n",
      "100%|██████████| 280458/280458 [00:00<00:00, 368568.71it/s]\n",
      "100%|██████████| 280458/280458 [00:00<00:00, 439188.87it/s]\n",
      "100%|██████████| 280458/280458 [00:05<00:00, 52210.38it/s]\n",
      "100%|██████████| 280458/280458 [00:01<00:00, 270150.95it/s]\n",
      "100%|██████████| 280458/280458 [00:06<00:00, 42746.95it/s]\n",
      "100%|██████████| 280458/280458 [00:02<00:00, 133356.05it/s]\n",
      "100%|██████████| 280458/280458 [00:02<00:00, 106276.00it/s]\n",
      "100%|██████████| 280458/280458 [00:01<00:00, 246862.53it/s]\n",
      "100%|██████████| 280458/280458 [00:00<00:00, 299065.61it/s]\n",
      "100%|██████████| 280458/280458 [00:00<00:00, 350358.37it/s]\n",
      "100%|██████████| 280458/280458 [00:00<00:00, 344706.10it/s]\n",
      "100%|██████████| 280458/280458 [00:00<00:00, 329785.23it/s]\n",
      "100%|██████████| 280458/280458 [00:03<00:00, 83883.89it/s]\n",
      "100%|██████████| 280458/280458 [00:00<00:00, 409695.71it/s]\n",
      "100%|██████████| 280458/280458 [00:04<00:00, 56457.93it/s]\n",
      "100%|██████████| 280458/280458 [00:22<00:00, 12419.51it/s]"
     ]
    },
    {
     "name": "stdout",
     "output_type": "stream",
     "text": [
      "Время подготовки focal_cls: 58.320 секунды\n",
      "Время подготовки датасета: 102.123 секунды\n"
     ]
    },
    {
     "name": "stderr",
     "output_type": "stream",
     "text": [
      "\n"
     ]
    }
   ],
   "source": [
    "dataset_m2t_input.prepare_dataset()"
   ]
  },
  {
   "cell_type": "markdown",
   "metadata": {},
   "source": [
    "Смотрим на датасет"
   ]
  },
  {
   "cell_type": "code",
   "execution_count": 115,
   "metadata": {},
   "outputs": [],
   "source": [
    "code_dataset = dataset_m2t_input.get_dataset()"
   ]
  },
  {
   "cell_type": "code",
   "execution_count": 116,
   "metadata": {},
   "outputs": [
    {
     "data": {
      "text/html": [
       "<div>\n",
       "<style scoped>\n",
       "    .dataframe tbody tr th:only-of-type {\n",
       "        vertical-align: middle;\n",
       "    }\n",
       "\n",
       "    .dataframe tbody tr th {\n",
       "        vertical-align: top;\n",
       "    }\n",
       "\n",
       "    .dataframe thead th {\n",
       "        text-align: right;\n",
       "    }\n",
       "</style>\n",
       "<table border=\"1\" class=\"dataframe\">\n",
       "  <thead>\n",
       "    <tr style=\"text-align: right;\">\n",
       "      <th></th>\n",
       "      <th>id</th>\n",
       "      <th>query</th>\n",
       "      <th>response</th>\n",
       "      <th>code_features</th>\n",
       "      <th>LANG_TOKEN</th>\n",
       "      <th>focal_method</th>\n",
       "      <th>focal_cls</th>\n",
       "      <th>focal_method_ast</th>\n",
       "      <th>focal_cls_ast</th>\n",
       "      <th>focal_method_info</th>\n",
       "      <th>focal_cls_info</th>\n",
       "      <th>mask_focal_cls_features</th>\n",
       "      <th>flag_empty</th>\n",
       "    </tr>\n",
       "  </thead>\n",
       "  <tbody>\n",
       "    <tr>\n",
       "      <th>0</th>\n",
       "      <td>1</td>\n",
       "      <td>You are a professional python software enginee...</td>\n",
       "      <td>from microdot import Microdot, Response, abort...</td>\n",
       "      <td>(python, ```python\\ndef get(self, key, default...</td>\n",
       "      <td>python</td>\n",
       "      <td>def get(self, key, default=None): kl = key.low...</td>\n",
       "      <td>&lt;FUNC_TOKEN&gt;</td>\n",
       "      <td>Module( body=[ FunctionDef( name='get', args=a...</td>\n",
       "      <td>&lt;AST_TOKEN&gt;</td>\n",
       "      <td>&lt;INFO_TOKEN&gt;</td>\n",
       "      <td>&lt;INFO_TOKEN&gt;</td>\n",
       "      <td>True</td>\n",
       "      <td>True</td>\n",
       "    </tr>\n",
       "    <tr>\n",
       "      <th>1</th>\n",
       "      <td>2</td>\n",
       "      <td>You are a professional python software enginee...</td>\n",
       "      <td>from microdot import Microdot, Response, abort...</td>\n",
       "      <td>(python, ```python\\ndef get(self, url_pattern)...</td>\n",
       "      <td>python</td>\n",
       "      <td>def get(self, url_pattern): return self.route(...</td>\n",
       "      <td>class Microdot: def route(self, url_pattern, m...</td>\n",
       "      <td>Module( body=[ FunctionDef( name='get', args=a...</td>\n",
       "      <td>Module( body=[ ClassDef( name='Microdot', base...</td>\n",
       "      <td>&lt;DESCRIPTION_TOKEN&gt; Decorator that is used to ...</td>\n",
       "      <td>Module( body=[ ClassDef( name='Microdot', base...</td>\n",
       "      <td>False</td>\n",
       "      <td>False</td>\n",
       "    </tr>\n",
       "    <tr>\n",
       "      <th>2</th>\n",
       "      <td>3</td>\n",
       "      <td>You are a professional python software enginee...</td>\n",
       "      <td>from microdot import Microdot, Response, abort...</td>\n",
       "      <td>(python, ```python\\ndef post(self, url_pattern...</td>\n",
       "      <td>python</td>\n",
       "      <td>def post(self, url_pattern): return self.route...</td>\n",
       "      <td>class Microdot: def route(self, url_pattern, m...</td>\n",
       "      <td>Module( body=[ FunctionDef( name='post', args=...</td>\n",
       "      <td>Module( body=[ ClassDef( name='Microdot', base...</td>\n",
       "      <td>&lt;DESCRIPTION_TOKEN&gt; Decorator that is used to ...</td>\n",
       "      <td>Module( body=[ ClassDef( name='Microdot', base...</td>\n",
       "      <td>False</td>\n",
       "      <td>False</td>\n",
       "    </tr>\n",
       "    <tr>\n",
       "      <th>3</th>\n",
       "      <td>4</td>\n",
       "      <td>You are a professional python software enginee...</td>\n",
       "      <td>from microdot import Microdot, Response, abort...</td>\n",
       "      <td>(python, ```python\\ndef mount(self, subapp, ur...</td>\n",
       "      <td>python</td>\n",
       "      <td>def mount(self, subapp, url_prefix=''): for me...</td>\n",
       "      <td>&lt;FUNC_TOKEN&gt;</td>\n",
       "      <td>Module( body=[ FunctionDef( name='mount', args...</td>\n",
       "      <td>&lt;AST_TOKEN&gt;</td>\n",
       "      <td>&lt;DESCRIPTION_TOKEN&gt; Mount a sub-application, o...</td>\n",
       "      <td>&lt;INFO_TOKEN&gt;</td>\n",
       "      <td>True</td>\n",
       "      <td>True</td>\n",
       "    </tr>\n",
       "    <tr>\n",
       "      <th>4</th>\n",
       "      <td>5</td>\n",
       "      <td>You are a professional python software enginee...</td>\n",
       "      <td>from pyner.named_entity.corpus import bio2bioe...</td>\n",
       "      <td>(python, ```python\\ndef iob2bio(tags):\\n    pr...</td>\n",
       "      <td>python</td>\n",
       "      <td>def iob2bio(tags): processed_tags = [] prev_st...</td>\n",
       "      <td>def split_tag(tag: str): if tag in [\"O\", \"-X-\"...</td>\n",
       "      <td>Module( body=[ FunctionDef( name='iob2bio', ar...</td>\n",
       "      <td>Module( body=[ FunctionDef( name='split_tag', ...</td>\n",
       "      <td>&lt;DESCRIPTION_TOKEN&gt; should be bio format case1...</td>\n",
       "      <td>Module( body=[ FunctionDef( name='split_tag', ...</td>\n",
       "      <td>False</td>\n",
       "      <td>False</td>\n",
       "    </tr>\n",
       "  </tbody>\n",
       "</table>\n",
       "</div>"
      ],
      "text/plain": [
       "   id                                              query  \\\n",
       "0   1  You are a professional python software enginee...   \n",
       "1   2  You are a professional python software enginee...   \n",
       "2   3  You are a professional python software enginee...   \n",
       "3   4  You are a professional python software enginee...   \n",
       "4   5  You are a professional python software enginee...   \n",
       "\n",
       "                                            response  \\\n",
       "0  from microdot import Microdot, Response, abort...   \n",
       "1  from microdot import Microdot, Response, abort...   \n",
       "2  from microdot import Microdot, Response, abort...   \n",
       "3  from microdot import Microdot, Response, abort...   \n",
       "4  from pyner.named_entity.corpus import bio2bioe...   \n",
       "\n",
       "                                       code_features LANG_TOKEN  \\\n",
       "0  (python, ```python\\ndef get(self, key, default...     python   \n",
       "1  (python, ```python\\ndef get(self, url_pattern)...     python   \n",
       "2  (python, ```python\\ndef post(self, url_pattern...     python   \n",
       "3  (python, ```python\\ndef mount(self, subapp, ur...     python   \n",
       "4  (python, ```python\\ndef iob2bio(tags):\\n    pr...     python   \n",
       "\n",
       "                                        focal_method  \\\n",
       "0  def get(self, key, default=None): kl = key.low...   \n",
       "1  def get(self, url_pattern): return self.route(...   \n",
       "2  def post(self, url_pattern): return self.route...   \n",
       "3  def mount(self, subapp, url_prefix=''): for me...   \n",
       "4  def iob2bio(tags): processed_tags = [] prev_st...   \n",
       "\n",
       "                                           focal_cls  \\\n",
       "0                                       <FUNC_TOKEN>   \n",
       "1  class Microdot: def route(self, url_pattern, m...   \n",
       "2  class Microdot: def route(self, url_pattern, m...   \n",
       "3                                       <FUNC_TOKEN>   \n",
       "4  def split_tag(tag: str): if tag in [\"O\", \"-X-\"...   \n",
       "\n",
       "                                    focal_method_ast  \\\n",
       "0  Module( body=[ FunctionDef( name='get', args=a...   \n",
       "1  Module( body=[ FunctionDef( name='get', args=a...   \n",
       "2  Module( body=[ FunctionDef( name='post', args=...   \n",
       "3  Module( body=[ FunctionDef( name='mount', args...   \n",
       "4  Module( body=[ FunctionDef( name='iob2bio', ar...   \n",
       "\n",
       "                                       focal_cls_ast  \\\n",
       "0                                        <AST_TOKEN>   \n",
       "1  Module( body=[ ClassDef( name='Microdot', base...   \n",
       "2  Module( body=[ ClassDef( name='Microdot', base...   \n",
       "3                                        <AST_TOKEN>   \n",
       "4  Module( body=[ FunctionDef( name='split_tag', ...   \n",
       "\n",
       "                                   focal_method_info  \\\n",
       "0                                       <INFO_TOKEN>   \n",
       "1  <DESCRIPTION_TOKEN> Decorator that is used to ...   \n",
       "2  <DESCRIPTION_TOKEN> Decorator that is used to ...   \n",
       "3  <DESCRIPTION_TOKEN> Mount a sub-application, o...   \n",
       "4  <DESCRIPTION_TOKEN> should be bio format case1...   \n",
       "\n",
       "                                      focal_cls_info  mask_focal_cls_features  \\\n",
       "0                                       <INFO_TOKEN>                     True   \n",
       "1  Module( body=[ ClassDef( name='Microdot', base...                    False   \n",
       "2  Module( body=[ ClassDef( name='Microdot', base...                    False   \n",
       "3                                       <INFO_TOKEN>                     True   \n",
       "4  Module( body=[ FunctionDef( name='split_tag', ...                    False   \n",
       "\n",
       "   flag_empty  \n",
       "0        True  \n",
       "1       False  \n",
       "2       False  \n",
       "3        True  \n",
       "4       False  "
      ]
     },
     "execution_count": 116,
     "metadata": {},
     "output_type": "execute_result"
    }
   ],
   "source": [
    "code_dataset.head()"
   ]
  },
  {
   "cell_type": "markdown",
   "metadata": {},
   "source": [
    "Смотрим на вид данных, чтобы понимать, что подается в сеть"
   ]
  },
  {
   "cell_type": "code",
   "execution_count": 117,
   "metadata": {},
   "outputs": [
    {
     "data": {
      "text/plain": [
       "'def get(self, key, default=None): kl = key.lower() return super().get(self.keymap.get(kl, kl), default)'"
      ]
     },
     "execution_count": 117,
     "metadata": {},
     "output_type": "execute_result"
    }
   ],
   "source": [
    "code_dataset['focal_method'].values[0]"
   ]
  },
  {
   "cell_type": "code",
   "execution_count": 118,
   "metadata": {},
   "outputs": [
    {
     "data": {
      "text/plain": [
       "'<FUNC_TOKEN>'"
      ]
     },
     "execution_count": 118,
     "metadata": {},
     "output_type": "execute_result"
    }
   ],
   "source": [
    "code_dataset['focal_cls'].values[0]"
   ]
  },
  {
   "cell_type": "code",
   "execution_count": 119,
   "metadata": {},
   "outputs": [
    {
     "data": {
      "text/plain": [
       "'<AST_TOKEN>'"
      ]
     },
     "execution_count": 119,
     "metadata": {},
     "output_type": "execute_result"
    }
   ],
   "source": [
    "code_dataset['focal_cls_ast'].values[0]"
   ]
  },
  {
   "cell_type": "code",
   "execution_count": 120,
   "metadata": {},
   "outputs": [
    {
     "data": {
      "text/plain": [
       "\"Module( body=[ ImportFrom( module='typing', names=[ alias(name='Array'), alias(name='SLArray'), alias(name='ArrayList'), alias(name='SLArrayList')], level=1), FunctionDef( name='slog_multiply', args=arguments( posonlyargs=[], args=[ arg( arg='x', annotation=Name(id='SLArray', ctx=Load())), arg( arg='y', annotation=Name(id='SLArray', ctx=Load()))], kwonlyargs=[], kw_defaults=[], defaults=[]), body=[ Expr( value=Constant(value='Computes the product of two slog array tuples, as another slog array tuple.\\\\n Signs are multiplied and logs are added.\\\\n ')), Assign( targets=[ Tuple( elts=[ Name(id='sx', ctx=Store()), Name(id='lx', ctx=Store())], ctx=Store())], value=Name(id='x', ctx=Load())), Assign( targets=[ Tuple( elts=[ Name(id='sy', ctx=Store()), Name(id='ly', ctx=Store())], ctx=Store())], value=Name(id='y', ctx=Load())), Return( value=Tuple( elts=[ BinOp( left=Name(id='sx', ctx=Load()), op=Mult(), right=Name(id='sy', ctx=Load())), BinOp( left=Name(id='lx', ctx=Load()), op=Add(), right=Name(id='ly', ctx=Load()))], ctx=Load()))], decorator_list=[], returns=Name(id='SLArray', ctx=Load()), type_params=[])], type_ignores=[])\""
      ]
     },
     "execution_count": 120,
     "metadata": {},
     "output_type": "execute_result"
    }
   ],
   "source": [
    "code_dataset['focal_cls_info'].values[491]"
   ]
  },
  {
   "cell_type": "markdown",
   "metadata": {},
   "source": [
    "Нулевая дополнительная информация из *focal_method* и *focal_cls*"
   ]
  },
  {
   "cell_type": "code",
   "execution_count": 121,
   "metadata": {},
   "outputs": [
    {
     "name": "stdout",
     "output_type": "stream",
     "text": [
      "Доля с нулевой дополнительной информацией из focal_cls: 0.305\n",
      "Доля с нулевой дополнительной информацией из focal_method: 0.269\n"
     ]
    }
   ],
   "source": [
    "print(f\"Доля с нулевой дополнительной информацией из focal_cls: {len(code_dataset[code_dataset['focal_cls_info'] == '<INFO_TOKEN>']) / code_dataset.shape[0]:.3f}\")\n",
    "print(f\"Доля с нулевой дополнительной информацией из focal_method: {len(code_dataset[code_dataset['focal_method_info'] == '<INFO_TOKEN>']) / code_dataset.shape[0]:.3f}\")"
   ]
  },
  {
   "cell_type": "markdown",
   "metadata": {},
   "source": [
    "Есть ли у нас такие представления из *focal_cls*, полностью равные FUNC_TOKEN"
   ]
  },
  {
   "cell_type": "code",
   "execution_count": 122,
   "metadata": {},
   "outputs": [
    {
     "name": "stdout",
     "output_type": "stream",
     "text": [
      "Доля с равными <FUNC_TOKEN> focal_cls: 0.305\n",
      "Количество с равными <FUNC_TOKEN> focal_cls: 85412\n"
     ]
    }
   ],
   "source": [
    "print(f\"Доля с равными <FUNC_TOKEN> focal_cls: {len(code_dataset[code_dataset['focal_cls'] == '<FUNC_TOKEN>']) / code_dataset.shape[0]:.3f}\")\n",
    "print(f\"Количество с равными <FUNC_TOKEN> focal_cls: {len(code_dataset[code_dataset['focal_cls'] == '<FUNC_TOKEN>'])}\")"
   ]
  },
  {
   "cell_type": "markdown",
   "metadata": {},
   "source": [
    "Поскольку во второй части нам необходимо дополнительно обучить модель генерировать тесты только для *focal_method*, нам нужно предусмотреть ситуацию, когда не будет данных (или они будут разреженными) в ветке *focal_cls*. Поэтому есть определенный смысл в замене текста в колонках *focal_cls*, *focal_cls_ast* и *focal_cls_info* определённым образом на <FUNC_TOKEN>, <AST_TOKEN> и <INFO_TOKEN>. Таким образом, в некоторой степени применим регуляризацию, подобную той, что используется в Masked Language моделях."
   ]
  },
  {
   "cell_type": "markdown",
   "metadata": {},
   "source": [
    "Для замены focal_cls на func_token, проанализируем длины последовательностей, число слов в рамках focal_cls. \n",
    "\n",
    "Эвристика следующая: если у нас длина последовательности или колчиество слов в рамах *focal_cls* мала в сравнении с колчиеством слов в рамках focal_method, то функционал *focal_cls* не особо расширяет имеющуюся в рамках *focal_method* логику, следовательно, можем пренебречь расширением *focal_cls* для регуляризации (заменяем на <FUNC_TOKEN>).\n",
    "\n",
    "Раз у нас будет только FUNC_TOKEN, то значит и описаний с ast-представлениями окажется не так много. Поэтому можем их заменить на <AST_TOKEN>, <INFO_TOKEN> соответственно."
   ]
  },
  {
   "cell_type": "markdown",
   "metadata": {},
   "source": [
    "Исследуем колонки *focal_cls* и *focal_method* в рамках нашей гипотезы"
   ]
  },
  {
   "cell_type": "code",
   "execution_count": 123,
   "metadata": {},
   "outputs": [],
   "source": [
    "code_dataset_copy = code_dataset.copy()\n",
    "code_dataset_copy = code_dataset_copy[['focal_method', 'focal_cls']]\n",
    "code_dataset_copy['masked_focal_method'] = '<FUNC_TOKEN>'"
   ]
  },
  {
   "cell_type": "code",
   "execution_count": 124,
   "metadata": {},
   "outputs": [
    {
     "name": "stderr",
     "output_type": "stream",
     "text": [
      "100%|██████████| 280458/280458 [00:01<00:00, 265520.07it/s]\n"
     ]
    }
   ],
   "source": [
    "def split_to_words(row, column):\n",
    "    '''Функция получения длины массива после сплита строки по пробелам'''\n",
    "    return len(row[column].split()) - 1 # -1 Учитывает <FUNC_TOKEN>\n",
    "\n",
    "code_dataset_copy['focal_cls_splitted_len'] = code_dataset_copy.progress_apply(split_to_words, axis=1, args=('focal_cls', ))"
   ]
  },
  {
   "cell_type": "code",
   "execution_count": 125,
   "metadata": {},
   "outputs": [
    {
     "data": {
      "text/html": [
       "<div>\n",
       "<style scoped>\n",
       "    .dataframe tbody tr th:only-of-type {\n",
       "        vertical-align: middle;\n",
       "    }\n",
       "\n",
       "    .dataframe tbody tr th {\n",
       "        vertical-align: top;\n",
       "    }\n",
       "\n",
       "    .dataframe thead th {\n",
       "        text-align: right;\n",
       "    }\n",
       "</style>\n",
       "<table border=\"1\" class=\"dataframe\">\n",
       "  <thead>\n",
       "    <tr style=\"text-align: right;\">\n",
       "      <th></th>\n",
       "      <th>focal_method</th>\n",
       "      <th>focal_cls</th>\n",
       "      <th>masked_focal_method</th>\n",
       "      <th>focal_cls_splitted_len</th>\n",
       "    </tr>\n",
       "  </thead>\n",
       "  <tbody>\n",
       "    <tr>\n",
       "      <th>0</th>\n",
       "      <td>def get(self, key, default=None): kl = key.low...</td>\n",
       "      <td>&lt;FUNC_TOKEN&gt;</td>\n",
       "      <td>&lt;FUNC_TOKEN&gt;</td>\n",
       "      <td>0</td>\n",
       "    </tr>\n",
       "    <tr>\n",
       "      <th>1</th>\n",
       "      <td>def get(self, url_pattern): return self.route(...</td>\n",
       "      <td>class Microdot: def route(self, url_pattern, m...</td>\n",
       "      <td>&lt;FUNC_TOKEN&gt;</td>\n",
       "      <td>22</td>\n",
       "    </tr>\n",
       "    <tr>\n",
       "      <th>2</th>\n",
       "      <td>def post(self, url_pattern): return self.route...</td>\n",
       "      <td>class Microdot: def route(self, url_pattern, m...</td>\n",
       "      <td>&lt;FUNC_TOKEN&gt;</td>\n",
       "      <td>22</td>\n",
       "    </tr>\n",
       "    <tr>\n",
       "      <th>3</th>\n",
       "      <td>def mount(self, subapp, url_prefix=''): for me...</td>\n",
       "      <td>&lt;FUNC_TOKEN&gt;</td>\n",
       "      <td>&lt;FUNC_TOKEN&gt;</td>\n",
       "      <td>0</td>\n",
       "    </tr>\n",
       "    <tr>\n",
       "      <th>4</th>\n",
       "      <td>def iob2bio(tags): processed_tags = [] prev_st...</td>\n",
       "      <td>def split_tag(tag: str): if tag in [\"O\", \"-X-\"...</td>\n",
       "      <td>&lt;FUNC_TOKEN&gt;</td>\n",
       "      <td>21</td>\n",
       "    </tr>\n",
       "  </tbody>\n",
       "</table>\n",
       "</div>"
      ],
      "text/plain": [
       "                                        focal_method  \\\n",
       "0  def get(self, key, default=None): kl = key.low...   \n",
       "1  def get(self, url_pattern): return self.route(...   \n",
       "2  def post(self, url_pattern): return self.route...   \n",
       "3  def mount(self, subapp, url_prefix=''): for me...   \n",
       "4  def iob2bio(tags): processed_tags = [] prev_st...   \n",
       "\n",
       "                                           focal_cls masked_focal_method  \\\n",
       "0                                       <FUNC_TOKEN>        <FUNC_TOKEN>   \n",
       "1  class Microdot: def route(self, url_pattern, m...        <FUNC_TOKEN>   \n",
       "2  class Microdot: def route(self, url_pattern, m...        <FUNC_TOKEN>   \n",
       "3                                       <FUNC_TOKEN>        <FUNC_TOKEN>   \n",
       "4  def split_tag(tag: str): if tag in [\"O\", \"-X-\"...        <FUNC_TOKEN>   \n",
       "\n",
       "   focal_cls_splitted_len  \n",
       "0                       0  \n",
       "1                      22  \n",
       "2                      22  \n",
       "3                       0  \n",
       "4                      21  "
      ]
     },
     "execution_count": 125,
     "metadata": {},
     "output_type": "execute_result"
    }
   ],
   "source": [
    "code_dataset_copy.head()"
   ]
  },
  {
   "cell_type": "markdown",
   "metadata": {},
   "source": [
    "Посмотрим как выглядит распределение по числу слов"
   ]
  },
  {
   "cell_type": "code",
   "execution_count": 126,
   "metadata": {},
   "outputs": [
    {
     "data": {
      "image/png": "[encoded data removed]",
      "text/plain": [
       "<Figure size 640x480 with 1 Axes>"
      ]
     },
     "metadata": {},
     "output_type": "display_data"
    }
   ],
   "source": [
    "def plot_hist(data, bins = 30):\n",
    "\t'''Функция строит гистограмму по входному массиву данных'''\n",
    "\tplt.hist(data, bins=bins)\n",
    "\tplt.title('Распределение числа команд в $*focal\\_cls*$')\n",
    "\tplt.xlabel('Значение')\n",
    "\tplt.ylabel('Частота')\n",
    "\tplt.tight_layout()\n",
    "\tplt.grid(True)\n",
    "\tplt.show()\n",
    "\n",
    "plot_hist(code_dataset_copy['focal_cls_splitted_len'].values, bins = 100)"
   ]
  },
  {
   "cell_type": "code",
   "execution_count": 127,
   "metadata": {},
   "outputs": [
    {
     "name": "stdout",
     "output_type": "stream",
     "text": [
      "Среднее значение количества слов: 36.44\n",
      "Максимальное значение количества слов: 500.00\n",
      "Число сэмплов с длиной слов меньше среднего: 85412\n"
     ]
    }
   ],
   "source": [
    "print(f\"Среднее значение количества слов: {np.mean(code_dataset_copy['focal_cls_splitted_len']):.2f}\")\n",
    "print(f\"Максимальное значение количества слов: {np.max(code_dataset_copy['focal_cls_splitted_len']):.2f}\")\n",
    "print(f\"Число сэмплов с длиной слов меньше среднего: {len(code_dataset_copy[code_dataset_copy['focal_cls_splitted_len'] < 5])}\")"
   ]
  },
  {
   "cell_type": "markdown",
   "metadata": {},
   "source": [
    "Очень много сэмплов с числом слов внутри *focal_cls* меньше 5. Посмотрим на них"
   ]
  },
  {
   "cell_type": "code",
   "execution_count": 128,
   "metadata": {},
   "outputs": [
    {
     "data": {
      "text/html": [
       "<div>\n",
       "<style scoped>\n",
       "    .dataframe tbody tr th:only-of-type {\n",
       "        vertical-align: middle;\n",
       "    }\n",
       "\n",
       "    .dataframe tbody tr th {\n",
       "        vertical-align: top;\n",
       "    }\n",
       "\n",
       "    .dataframe thead th {\n",
       "        text-align: right;\n",
       "    }\n",
       "</style>\n",
       "<table border=\"1\" class=\"dataframe\">\n",
       "  <thead>\n",
       "    <tr style=\"text-align: right;\">\n",
       "      <th></th>\n",
       "      <th>focal_method</th>\n",
       "      <th>focal_cls</th>\n",
       "      <th>masked_focal_method</th>\n",
       "      <th>focal_cls_splitted_len</th>\n",
       "    </tr>\n",
       "  </thead>\n",
       "  <tbody>\n",
       "    <tr>\n",
       "      <th>0</th>\n",
       "      <td>def get(self, key, default=None): kl = key.low...</td>\n",
       "      <td>&lt;FUNC_TOKEN&gt;</td>\n",
       "      <td>&lt;FUNC_TOKEN&gt;</td>\n",
       "      <td>0</td>\n",
       "    </tr>\n",
       "    <tr>\n",
       "      <th>3</th>\n",
       "      <td>def mount(self, subapp, url_prefix=''): for me...</td>\n",
       "      <td>&lt;FUNC_TOKEN&gt;</td>\n",
       "      <td>&lt;FUNC_TOKEN&gt;</td>\n",
       "      <td>0</td>\n",
       "    </tr>\n",
       "    <tr>\n",
       "      <th>6</th>\n",
       "      <td>def enum(word_sentences, tag_sentences): words...</td>\n",
       "      <td>&lt;FUNC_TOKEN&gt;</td>\n",
       "      <td>&lt;FUNC_TOKEN&gt;</td>\n",
       "      <td>0</td>\n",
       "    </tr>\n",
       "    <tr>\n",
       "      <th>7</th>\n",
       "      <td>def update_instances(train_datas, params, mode...</td>\n",
       "      <td>&lt;FUNC_TOKEN&gt;</td>\n",
       "      <td>&lt;FUNC_TOKEN&gt;</td>\n",
       "      <td>0</td>\n",
       "    </tr>\n",
       "    <tr>\n",
       "      <th>9</th>\n",
       "      <td>def release_lock(self, name): self._run_with_l...</td>\n",
       "      <td>&lt;FUNC_TOKEN&gt;</td>\n",
       "      <td>&lt;FUNC_TOKEN&gt;</td>\n",
       "      <td>0</td>\n",
       "    </tr>\n",
       "    <tr>\n",
       "      <th>...</th>\n",
       "      <td>...</td>\n",
       "      <td>...</td>\n",
       "      <td>...</td>\n",
       "      <td>...</td>\n",
       "    </tr>\n",
       "    <tr>\n",
       "      <th>281039</th>\n",
       "      <td>def set_user(self, user: str) -&gt; None: self.us...</td>\n",
       "      <td>&lt;FUNC_TOKEN&gt;</td>\n",
       "      <td>&lt;FUNC_TOKEN&gt;</td>\n",
       "      <td>0</td>\n",
       "    </tr>\n",
       "    <tr>\n",
       "      <th>281040</th>\n",
       "      <td>def set_partition(self, partition: str) -&gt; Non...</td>\n",
       "      <td>&lt;FUNC_TOKEN&gt;</td>\n",
       "      <td>&lt;FUNC_TOKEN&gt;</td>\n",
       "      <td>0</td>\n",
       "    </tr>\n",
       "    <tr>\n",
       "      <th>281045</th>\n",
       "      <td>def name(self) -&gt; str: if self.filename: retur...</td>\n",
       "      <td>&lt;FUNC_TOKEN&gt;</td>\n",
       "      <td>&lt;FUNC_TOKEN&gt;</td>\n",
       "      <td>0</td>\n",
       "    </tr>\n",
       "    <tr>\n",
       "      <th>281057</th>\n",
       "      <td>def process_seff_file(self, filename: str) -&gt; ...</td>\n",
       "      <td>&lt;FUNC_TOKEN&gt;</td>\n",
       "      <td>&lt;FUNC_TOKEN&gt;</td>\n",
       "      <td>0</td>\n",
       "    </tr>\n",
       "    <tr>\n",
       "      <th>281058</th>\n",
       "      <td>def set_custom_seff_format(self, filename_patt...</td>\n",
       "      <td>&lt;FUNC_TOKEN&gt;</td>\n",
       "      <td>&lt;FUNC_TOKEN&gt;</td>\n",
       "      <td>0</td>\n",
       "    </tr>\n",
       "  </tbody>\n",
       "</table>\n",
       "<p>85412 rows × 4 columns</p>\n",
       "</div>"
      ],
      "text/plain": [
       "                                             focal_method     focal_cls  \\\n",
       "0       def get(self, key, default=None): kl = key.low...  <FUNC_TOKEN>   \n",
       "3       def mount(self, subapp, url_prefix=''): for me...  <FUNC_TOKEN>   \n",
       "6       def enum(word_sentences, tag_sentences): words...  <FUNC_TOKEN>   \n",
       "7       def update_instances(train_datas, params, mode...  <FUNC_TOKEN>   \n",
       "9       def release_lock(self, name): self._run_with_l...  <FUNC_TOKEN>   \n",
       "...                                                   ...           ...   \n",
       "281039  def set_user(self, user: str) -> None: self.us...  <FUNC_TOKEN>   \n",
       "281040  def set_partition(self, partition: str) -> Non...  <FUNC_TOKEN>   \n",
       "281045  def name(self) -> str: if self.filename: retur...  <FUNC_TOKEN>   \n",
       "281057  def process_seff_file(self, filename: str) -> ...  <FUNC_TOKEN>   \n",
       "281058  def set_custom_seff_format(self, filename_patt...  <FUNC_TOKEN>   \n",
       "\n",
       "       masked_focal_method  focal_cls_splitted_len  \n",
       "0             <FUNC_TOKEN>                       0  \n",
       "3             <FUNC_TOKEN>                       0  \n",
       "6             <FUNC_TOKEN>                       0  \n",
       "7             <FUNC_TOKEN>                       0  \n",
       "9             <FUNC_TOKEN>                       0  \n",
       "...                    ...                     ...  \n",
       "281039        <FUNC_TOKEN>                       0  \n",
       "281040        <FUNC_TOKEN>                       0  \n",
       "281045        <FUNC_TOKEN>                       0  \n",
       "281057        <FUNC_TOKEN>                       0  \n",
       "281058        <FUNC_TOKEN>                       0  \n",
       "\n",
       "[85412 rows x 4 columns]"
      ]
     },
     "execution_count": 128,
     "metadata": {},
     "output_type": "execute_result"
    }
   ],
   "source": [
    "code_dataset_copy[code_dataset_copy['focal_cls_splitted_len'] < 5]"
   ]
  },
  {
   "cell_type": "markdown",
   "metadata": {},
   "source": [
    "Подобные артефакты связаны с импортом библиотек, объявлением классов и прочими вещами, не связанными с логикой кода. Поэтому можем замаскировать подобные значения *focal_cls* для регуляризации"
   ]
  },
  {
   "cell_type": "markdown",
   "metadata": {},
   "source": [
    "Помотрим на большие длины"
   ]
  },
  {
   "cell_type": "code",
   "execution_count": 129,
   "metadata": {},
   "outputs": [
    {
     "data": {
      "text/plain": [
       "(0, 4)"
      ]
     },
     "execution_count": 129,
     "metadata": {},
     "output_type": "execute_result"
    }
   ],
   "source": [
    "code_dataset_copy[code_dataset_copy['focal_cls_splitted_len'] > 500].shape"
   ]
  },
  {
   "cell_type": "markdown",
   "metadata": {},
   "source": [
    "Большие последовательности тоже нам не нужны по причине ограниченности токенизации, поэтому можем замаскировать по эмпиричсекому порогу"
   ]
  },
  {
   "cell_type": "code",
   "execution_count": 130,
   "metadata": {},
   "outputs": [],
   "source": [
    "code_dataset_copy['mask_focal_cls'] = (code_dataset_copy['focal_cls_splitted_len'] < 5) | (code_dataset_copy['focal_cls_splitted_len'] > 500)"
   ]
  },
  {
   "cell_type": "code",
   "execution_count": 131,
   "metadata": {},
   "outputs": [
    {
     "data": {
      "text/html": [
       "<div>\n",
       "<style scoped>\n",
       "    .dataframe tbody tr th:only-of-type {\n",
       "        vertical-align: middle;\n",
       "    }\n",
       "\n",
       "    .dataframe tbody tr th {\n",
       "        vertical-align: top;\n",
       "    }\n",
       "\n",
       "    .dataframe thead th {\n",
       "        text-align: right;\n",
       "    }\n",
       "</style>\n",
       "<table border=\"1\" class=\"dataframe\">\n",
       "  <thead>\n",
       "    <tr style=\"text-align: right;\">\n",
       "      <th></th>\n",
       "      <th>focal_method</th>\n",
       "      <th>focal_cls</th>\n",
       "      <th>masked_focal_method</th>\n",
       "      <th>focal_cls_splitted_len</th>\n",
       "      <th>mask_focal_cls</th>\n",
       "    </tr>\n",
       "  </thead>\n",
       "  <tbody>\n",
       "    <tr>\n",
       "      <th>0</th>\n",
       "      <td>def get(self, key, default=None): kl = key.low...</td>\n",
       "      <td>&lt;FUNC_TOKEN&gt;</td>\n",
       "      <td>&lt;FUNC_TOKEN&gt;</td>\n",
       "      <td>0</td>\n",
       "      <td>True</td>\n",
       "    </tr>\n",
       "    <tr>\n",
       "      <th>1</th>\n",
       "      <td>def get(self, url_pattern): return self.route(...</td>\n",
       "      <td>class Microdot: def route(self, url_pattern, m...</td>\n",
       "      <td>&lt;FUNC_TOKEN&gt;</td>\n",
       "      <td>22</td>\n",
       "      <td>False</td>\n",
       "    </tr>\n",
       "    <tr>\n",
       "      <th>2</th>\n",
       "      <td>def post(self, url_pattern): return self.route...</td>\n",
       "      <td>class Microdot: def route(self, url_pattern, m...</td>\n",
       "      <td>&lt;FUNC_TOKEN&gt;</td>\n",
       "      <td>22</td>\n",
       "      <td>False</td>\n",
       "    </tr>\n",
       "    <tr>\n",
       "      <th>3</th>\n",
       "      <td>def mount(self, subapp, url_prefix=''): for me...</td>\n",
       "      <td>&lt;FUNC_TOKEN&gt;</td>\n",
       "      <td>&lt;FUNC_TOKEN&gt;</td>\n",
       "      <td>0</td>\n",
       "      <td>True</td>\n",
       "    </tr>\n",
       "    <tr>\n",
       "      <th>4</th>\n",
       "      <td>def iob2bio(tags): processed_tags = [] prev_st...</td>\n",
       "      <td>def split_tag(tag: str): if tag in [\"O\", \"-X-\"...</td>\n",
       "      <td>&lt;FUNC_TOKEN&gt;</td>\n",
       "      <td>21</td>\n",
       "      <td>False</td>\n",
       "    </tr>\n",
       "  </tbody>\n",
       "</table>\n",
       "</div>"
      ],
      "text/plain": [
       "                                        focal_method  \\\n",
       "0  def get(self, key, default=None): kl = key.low...   \n",
       "1  def get(self, url_pattern): return self.route(...   \n",
       "2  def post(self, url_pattern): return self.route...   \n",
       "3  def mount(self, subapp, url_prefix=''): for me...   \n",
       "4  def iob2bio(tags): processed_tags = [] prev_st...   \n",
       "\n",
       "                                           focal_cls masked_focal_method  \\\n",
       "0                                       <FUNC_TOKEN>        <FUNC_TOKEN>   \n",
       "1  class Microdot: def route(self, url_pattern, m...        <FUNC_TOKEN>   \n",
       "2  class Microdot: def route(self, url_pattern, m...        <FUNC_TOKEN>   \n",
       "3                                       <FUNC_TOKEN>        <FUNC_TOKEN>   \n",
       "4  def split_tag(tag: str): if tag in [\"O\", \"-X-\"...        <FUNC_TOKEN>   \n",
       "\n",
       "   focal_cls_splitted_len  mask_focal_cls  \n",
       "0                       0            True  \n",
       "1                      22           False  \n",
       "2                      22           False  \n",
       "3                       0            True  \n",
       "4                      21           False  "
      ]
     },
     "execution_count": 131,
     "metadata": {},
     "output_type": "execute_result"
    }
   ],
   "source": [
    "code_dataset_copy.head()"
   ]
  },
  {
   "cell_type": "markdown",
   "metadata": {},
   "source": [
    "Добавляем колонку с булевым флагом маскирования колонок, связанных с *focal_cls*"
   ]
  },
  {
   "cell_type": "code",
   "execution_count": 132,
   "metadata": {},
   "outputs": [],
   "source": [
    "code_dataset['mask_focal_cls_features'] = code_dataset_copy['mask_focal_cls']"
   ]
  },
  {
   "cell_type": "markdown",
   "metadata": {},
   "source": [
    "И устанавливаем токены для регуляризации"
   ]
  },
  {
   "cell_type": "code",
   "execution_count": 134,
   "metadata": {},
   "outputs": [
    {
     "name": "stderr",
     "output_type": "stream",
     "text": [
      "100%|██████████| 280458/280458 [00:01<00:00, 195956.86it/s]\n",
      "100%|██████████| 280458/280458 [00:00<00:00, 291707.39it/s]\n",
      "100%|██████████| 280458/280458 [00:00<00:00, 331636.55it/s]\n"
     ]
    }
   ],
   "source": [
    "def replace(row, column_replace, column_condition, token):\n",
    "\t'''Функция для замены значения column токеном'''\n",
    "\tif row[column_condition]:\n",
    "\t\treturn row[column_replace].replace(row[column_replace], token)\n",
    "\treturn row[column_replace]\n",
    "\n",
    "code_dataset['focal_cls'] = code_dataset.progress_apply(replace, axis=1, args=('focal_cls', 'mask_focal_cls_features', '<FUNC_TOKEN>'))\n",
    "code_dataset['focal_cls_ast'] = code_dataset.progress_apply(replace, axis=1, args=('focal_cls_ast', 'mask_focal_cls_features', '<AST_TOKEN>'))\n",
    "code_dataset['focal_cls_info'] = code_dataset.progress_apply(replace, axis=1, args=('focal_cls_ast', 'mask_focal_cls_features', '<INFO_TOKEN>'))"
   ]
  },
  {
   "cell_type": "code",
   "execution_count": 135,
   "metadata": {},
   "outputs": [
    {
     "data": {
      "text/html": [
       "<div>\n",
       "<style scoped>\n",
       "    .dataframe tbody tr th:only-of-type {\n",
       "        vertical-align: middle;\n",
       "    }\n",
       "\n",
       "    .dataframe tbody tr th {\n",
       "        vertical-align: top;\n",
       "    }\n",
       "\n",
       "    .dataframe thead th {\n",
       "        text-align: right;\n",
       "    }\n",
       "</style>\n",
       "<table border=\"1\" class=\"dataframe\">\n",
       "  <thead>\n",
       "    <tr style=\"text-align: right;\">\n",
       "      <th></th>\n",
       "      <th>id</th>\n",
       "      <th>query</th>\n",
       "      <th>response</th>\n",
       "      <th>code_features</th>\n",
       "      <th>LANG_TOKEN</th>\n",
       "      <th>focal_method</th>\n",
       "      <th>focal_cls</th>\n",
       "      <th>focal_method_ast</th>\n",
       "      <th>focal_cls_ast</th>\n",
       "      <th>focal_method_info</th>\n",
       "      <th>focal_cls_info</th>\n",
       "      <th>mask_focal_cls_features</th>\n",
       "      <th>flag_empty</th>\n",
       "    </tr>\n",
       "  </thead>\n",
       "  <tbody>\n",
       "    <tr>\n",
       "      <th>0</th>\n",
       "      <td>1</td>\n",
       "      <td>You are a professional python software enginee...</td>\n",
       "      <td>from microdot import Microdot, Response, abort...</td>\n",
       "      <td>(python, ```python\\ndef get(self, key, default...</td>\n",
       "      <td>python</td>\n",
       "      <td>def get(self, key, default=None): kl = key.low...</td>\n",
       "      <td>&lt;FUNC_TOKEN&gt;</td>\n",
       "      <td>Module( body=[ FunctionDef( name='get', args=a...</td>\n",
       "      <td>&lt;AST_TOKEN&gt;</td>\n",
       "      <td>&lt;INFO_TOKEN&gt;</td>\n",
       "      <td>&lt;INFO_TOKEN&gt;</td>\n",
       "      <td>True</td>\n",
       "      <td>True</td>\n",
       "    </tr>\n",
       "    <tr>\n",
       "      <th>1</th>\n",
       "      <td>2</td>\n",
       "      <td>You are a professional python software enginee...</td>\n",
       "      <td>from microdot import Microdot, Response, abort...</td>\n",
       "      <td>(python, ```python\\ndef get(self, url_pattern)...</td>\n",
       "      <td>python</td>\n",
       "      <td>def get(self, url_pattern): return self.route(...</td>\n",
       "      <td>class Microdot: def route(self, url_pattern, m...</td>\n",
       "      <td>Module( body=[ FunctionDef( name='get', args=a...</td>\n",
       "      <td>Module( body=[ ClassDef( name='Microdot', base...</td>\n",
       "      <td>&lt;DESCRIPTION_TOKEN&gt; Decorator that is used to ...</td>\n",
       "      <td>Module( body=[ ClassDef( name='Microdot', base...</td>\n",
       "      <td>False</td>\n",
       "      <td>False</td>\n",
       "    </tr>\n",
       "    <tr>\n",
       "      <th>2</th>\n",
       "      <td>3</td>\n",
       "      <td>You are a professional python software enginee...</td>\n",
       "      <td>from microdot import Microdot, Response, abort...</td>\n",
       "      <td>(python, ```python\\ndef post(self, url_pattern...</td>\n",
       "      <td>python</td>\n",
       "      <td>def post(self, url_pattern): return self.route...</td>\n",
       "      <td>class Microdot: def route(self, url_pattern, m...</td>\n",
       "      <td>Module( body=[ FunctionDef( name='post', args=...</td>\n",
       "      <td>Module( body=[ ClassDef( name='Microdot', base...</td>\n",
       "      <td>&lt;DESCRIPTION_TOKEN&gt; Decorator that is used to ...</td>\n",
       "      <td>Module( body=[ ClassDef( name='Microdot', base...</td>\n",
       "      <td>False</td>\n",
       "      <td>False</td>\n",
       "    </tr>\n",
       "    <tr>\n",
       "      <th>3</th>\n",
       "      <td>4</td>\n",
       "      <td>You are a professional python software enginee...</td>\n",
       "      <td>from microdot import Microdot, Response, abort...</td>\n",
       "      <td>(python, ```python\\ndef mount(self, subapp, ur...</td>\n",
       "      <td>python</td>\n",
       "      <td>def mount(self, subapp, url_prefix=''): for me...</td>\n",
       "      <td>&lt;FUNC_TOKEN&gt;</td>\n",
       "      <td>Module( body=[ FunctionDef( name='mount', args...</td>\n",
       "      <td>&lt;AST_TOKEN&gt;</td>\n",
       "      <td>&lt;DESCRIPTION_TOKEN&gt; Mount a sub-application, o...</td>\n",
       "      <td>&lt;INFO_TOKEN&gt;</td>\n",
       "      <td>True</td>\n",
       "      <td>True</td>\n",
       "    </tr>\n",
       "    <tr>\n",
       "      <th>4</th>\n",
       "      <td>5</td>\n",
       "      <td>You are a professional python software enginee...</td>\n",
       "      <td>from pyner.named_entity.corpus import bio2bioe...</td>\n",
       "      <td>(python, ```python\\ndef iob2bio(tags):\\n    pr...</td>\n",
       "      <td>python</td>\n",
       "      <td>def iob2bio(tags): processed_tags = [] prev_st...</td>\n",
       "      <td>def split_tag(tag: str): if tag in [\"O\", \"-X-\"...</td>\n",
       "      <td>Module( body=[ FunctionDef( name='iob2bio', ar...</td>\n",
       "      <td>Module( body=[ FunctionDef( name='split_tag', ...</td>\n",
       "      <td>&lt;DESCRIPTION_TOKEN&gt; should be bio format case1...</td>\n",
       "      <td>Module( body=[ FunctionDef( name='split_tag', ...</td>\n",
       "      <td>False</td>\n",
       "      <td>False</td>\n",
       "    </tr>\n",
       "  </tbody>\n",
       "</table>\n",
       "</div>"
      ],
      "text/plain": [
       "   id                                              query  \\\n",
       "0   1  You are a professional python software enginee...   \n",
       "1   2  You are a professional python software enginee...   \n",
       "2   3  You are a professional python software enginee...   \n",
       "3   4  You are a professional python software enginee...   \n",
       "4   5  You are a professional python software enginee...   \n",
       "\n",
       "                                            response  \\\n",
       "0  from microdot import Microdot, Response, abort...   \n",
       "1  from microdot import Microdot, Response, abort...   \n",
       "2  from microdot import Microdot, Response, abort...   \n",
       "3  from microdot import Microdot, Response, abort...   \n",
       "4  from pyner.named_entity.corpus import bio2bioe...   \n",
       "\n",
       "                                       code_features LANG_TOKEN  \\\n",
       "0  (python, ```python\\ndef get(self, key, default...     python   \n",
       "1  (python, ```python\\ndef get(self, url_pattern)...     python   \n",
       "2  (python, ```python\\ndef post(self, url_pattern...     python   \n",
       "3  (python, ```python\\ndef mount(self, subapp, ur...     python   \n",
       "4  (python, ```python\\ndef iob2bio(tags):\\n    pr...     python   \n",
       "\n",
       "                                        focal_method  \\\n",
       "0  def get(self, key, default=None): kl = key.low...   \n",
       "1  def get(self, url_pattern): return self.route(...   \n",
       "2  def post(self, url_pattern): return self.route...   \n",
       "3  def mount(self, subapp, url_prefix=''): for me...   \n",
       "4  def iob2bio(tags): processed_tags = [] prev_st...   \n",
       "\n",
       "                                           focal_cls  \\\n",
       "0                                       <FUNC_TOKEN>   \n",
       "1  class Microdot: def route(self, url_pattern, m...   \n",
       "2  class Microdot: def route(self, url_pattern, m...   \n",
       "3                                       <FUNC_TOKEN>   \n",
       "4  def split_tag(tag: str): if tag in [\"O\", \"-X-\"...   \n",
       "\n",
       "                                    focal_method_ast  \\\n",
       "0  Module( body=[ FunctionDef( name='get', args=a...   \n",
       "1  Module( body=[ FunctionDef( name='get', args=a...   \n",
       "2  Module( body=[ FunctionDef( name='post', args=...   \n",
       "3  Module( body=[ FunctionDef( name='mount', args...   \n",
       "4  Module( body=[ FunctionDef( name='iob2bio', ar...   \n",
       "\n",
       "                                       focal_cls_ast  \\\n",
       "0                                        <AST_TOKEN>   \n",
       "1  Module( body=[ ClassDef( name='Microdot', base...   \n",
       "2  Module( body=[ ClassDef( name='Microdot', base...   \n",
       "3                                        <AST_TOKEN>   \n",
       "4  Module( body=[ FunctionDef( name='split_tag', ...   \n",
       "\n",
       "                                   focal_method_info  \\\n",
       "0                                       <INFO_TOKEN>   \n",
       "1  <DESCRIPTION_TOKEN> Decorator that is used to ...   \n",
       "2  <DESCRIPTION_TOKEN> Decorator that is used to ...   \n",
       "3  <DESCRIPTION_TOKEN> Mount a sub-application, o...   \n",
       "4  <DESCRIPTION_TOKEN> should be bio format case1...   \n",
       "\n",
       "                                      focal_cls_info  mask_focal_cls_features  \\\n",
       "0                                       <INFO_TOKEN>                     True   \n",
       "1  Module( body=[ ClassDef( name='Microdot', base...                    False   \n",
       "2  Module( body=[ ClassDef( name='Microdot', base...                    False   \n",
       "3                                       <INFO_TOKEN>                     True   \n",
       "4  Module( body=[ FunctionDef( name='split_tag', ...                    False   \n",
       "\n",
       "   flag_empty  \n",
       "0        True  \n",
       "1       False  \n",
       "2       False  \n",
       "3        True  \n",
       "4       False  "
      ]
     },
     "execution_count": 135,
     "metadata": {},
     "output_type": "execute_result"
    }
   ],
   "source": [
    "code_dataset.head()"
   ]
  },
  {
   "cell_type": "markdown",
   "metadata": {},
   "source": [
    "Получили итоговый результат, проверим сколько комбинаций <FUNC_TOKEN>, <AST_TOKEN> и <INFO_TOKEN> в рамках *focal_cls*"
   ]
  },
  {
   "cell_type": "code",
   "execution_count": 136,
   "metadata": {},
   "outputs": [
    {
     "name": "stdout",
     "output_type": "stream",
     "text": [
      "Количество замаскированных сэмплов для focal_cls: 85412\n",
      "Количество замаскированных сэмплов для focal_cls: 0.30\n"
     ]
    }
   ],
   "source": [
    "code_dataset['flag_empty'] = (code_dataset['focal_cls'] == '<FUNC_TOKEN>') & (code_dataset['focal_cls_ast'] == '<AST_TOKEN>') \\\n",
    "\t\t\t\t\t& (code_dataset['focal_cls_info'] == '<INFO_TOKEN>')\n",
    "\n",
    "print(f\"Количество замаскированных сэмплов для focal_cls: {len(code_dataset[code_dataset['flag_empty'] == True])}\")\n",
    "print(f\"Количество замаскированных сэмплов для focal_cls: {len(code_dataset[code_dataset['flag_empty'] == True])/code_dataset.shape[0]:.2f}\")\n",
    "code_dataset = code_dataset.drop(columns=['flag_empty'])\n",
    "code_dataset = code_dataset.drop(columns=['mask_focal_cls_features'])"
   ]
  },
  {
   "cell_type": "markdown",
   "metadata": {},
   "source": [
    "Итак, получили 30% замаскированных данных. Примерно этого и хотели достичь"
   ]
  },
  {
   "cell_type": "code",
   "execution_count": 137,
   "metadata": {},
   "outputs": [
    {
     "data": {
      "text/html": [
       "<div>\n",
       "<style scoped>\n",
       "    .dataframe tbody tr th:only-of-type {\n",
       "        vertical-align: middle;\n",
       "    }\n",
       "\n",
       "    .dataframe tbody tr th {\n",
       "        vertical-align: top;\n",
       "    }\n",
       "\n",
       "    .dataframe thead th {\n",
       "        text-align: right;\n",
       "    }\n",
       "</style>\n",
       "<table border=\"1\" class=\"dataframe\">\n",
       "  <thead>\n",
       "    <tr style=\"text-align: right;\">\n",
       "      <th></th>\n",
       "      <th>id</th>\n",
       "      <th>query</th>\n",
       "      <th>response</th>\n",
       "      <th>code_features</th>\n",
       "      <th>LANG_TOKEN</th>\n",
       "      <th>focal_method</th>\n",
       "      <th>focal_cls</th>\n",
       "      <th>focal_method_ast</th>\n",
       "      <th>focal_cls_ast</th>\n",
       "      <th>focal_method_info</th>\n",
       "      <th>focal_cls_info</th>\n",
       "    </tr>\n",
       "  </thead>\n",
       "  <tbody>\n",
       "    <tr>\n",
       "      <th>0</th>\n",
       "      <td>1</td>\n",
       "      <td>You are a professional python software enginee...</td>\n",
       "      <td>from microdot import Microdot, Response, abort...</td>\n",
       "      <td>(python, ```python\\ndef get(self, key, default...</td>\n",
       "      <td>python</td>\n",
       "      <td>def get(self, key, default=None): kl = key.low...</td>\n",
       "      <td>&lt;FUNC_TOKEN&gt;</td>\n",
       "      <td>Module( body=[ FunctionDef( name='get', args=a...</td>\n",
       "      <td>&lt;AST_TOKEN&gt;</td>\n",
       "      <td>&lt;INFO_TOKEN&gt;</td>\n",
       "      <td>&lt;INFO_TOKEN&gt;</td>\n",
       "    </tr>\n",
       "    <tr>\n",
       "      <th>1</th>\n",
       "      <td>2</td>\n",
       "      <td>You are a professional python software enginee...</td>\n",
       "      <td>from microdot import Microdot, Response, abort...</td>\n",
       "      <td>(python, ```python\\ndef get(self, url_pattern)...</td>\n",
       "      <td>python</td>\n",
       "      <td>def get(self, url_pattern): return self.route(...</td>\n",
       "      <td>class Microdot: def route(self, url_pattern, m...</td>\n",
       "      <td>Module( body=[ FunctionDef( name='get', args=a...</td>\n",
       "      <td>Module( body=[ ClassDef( name='Microdot', base...</td>\n",
       "      <td>&lt;DESCRIPTION_TOKEN&gt; Decorator that is used to ...</td>\n",
       "      <td>Module( body=[ ClassDef( name='Microdot', base...</td>\n",
       "    </tr>\n",
       "    <tr>\n",
       "      <th>2</th>\n",
       "      <td>3</td>\n",
       "      <td>You are a professional python software enginee...</td>\n",
       "      <td>from microdot import Microdot, Response, abort...</td>\n",
       "      <td>(python, ```python\\ndef post(self, url_pattern...</td>\n",
       "      <td>python</td>\n",
       "      <td>def post(self, url_pattern): return self.route...</td>\n",
       "      <td>class Microdot: def route(self, url_pattern, m...</td>\n",
       "      <td>Module( body=[ FunctionDef( name='post', args=...</td>\n",
       "      <td>Module( body=[ ClassDef( name='Microdot', base...</td>\n",
       "      <td>&lt;DESCRIPTION_TOKEN&gt; Decorator that is used to ...</td>\n",
       "      <td>Module( body=[ ClassDef( name='Microdot', base...</td>\n",
       "    </tr>\n",
       "    <tr>\n",
       "      <th>3</th>\n",
       "      <td>4</td>\n",
       "      <td>You are a professional python software enginee...</td>\n",
       "      <td>from microdot import Microdot, Response, abort...</td>\n",
       "      <td>(python, ```python\\ndef mount(self, subapp, ur...</td>\n",
       "      <td>python</td>\n",
       "      <td>def mount(self, subapp, url_prefix=''): for me...</td>\n",
       "      <td>&lt;FUNC_TOKEN&gt;</td>\n",
       "      <td>Module( body=[ FunctionDef( name='mount', args...</td>\n",
       "      <td>&lt;AST_TOKEN&gt;</td>\n",
       "      <td>&lt;DESCRIPTION_TOKEN&gt; Mount a sub-application, o...</td>\n",
       "      <td>&lt;INFO_TOKEN&gt;</td>\n",
       "    </tr>\n",
       "    <tr>\n",
       "      <th>4</th>\n",
       "      <td>5</td>\n",
       "      <td>You are a professional python software enginee...</td>\n",
       "      <td>from pyner.named_entity.corpus import bio2bioe...</td>\n",
       "      <td>(python, ```python\\ndef iob2bio(tags):\\n    pr...</td>\n",
       "      <td>python</td>\n",
       "      <td>def iob2bio(tags): processed_tags = [] prev_st...</td>\n",
       "      <td>def split_tag(tag: str): if tag in [\"O\", \"-X-\"...</td>\n",
       "      <td>Module( body=[ FunctionDef( name='iob2bio', ar...</td>\n",
       "      <td>Module( body=[ FunctionDef( name='split_tag', ...</td>\n",
       "      <td>&lt;DESCRIPTION_TOKEN&gt; should be bio format case1...</td>\n",
       "      <td>Module( body=[ FunctionDef( name='split_tag', ...</td>\n",
       "    </tr>\n",
       "  </tbody>\n",
       "</table>\n",
       "</div>"
      ],
      "text/plain": [
       "   id                                              query  \\\n",
       "0   1  You are a professional python software enginee...   \n",
       "1   2  You are a professional python software enginee...   \n",
       "2   3  You are a professional python software enginee...   \n",
       "3   4  You are a professional python software enginee...   \n",
       "4   5  You are a professional python software enginee...   \n",
       "\n",
       "                                            response  \\\n",
       "0  from microdot import Microdot, Response, abort...   \n",
       "1  from microdot import Microdot, Response, abort...   \n",
       "2  from microdot import Microdot, Response, abort...   \n",
       "3  from microdot import Microdot, Response, abort...   \n",
       "4  from pyner.named_entity.corpus import bio2bioe...   \n",
       "\n",
       "                                       code_features LANG_TOKEN  \\\n",
       "0  (python, ```python\\ndef get(self, key, default...     python   \n",
       "1  (python, ```python\\ndef get(self, url_pattern)...     python   \n",
       "2  (python, ```python\\ndef post(self, url_pattern...     python   \n",
       "3  (python, ```python\\ndef mount(self, subapp, ur...     python   \n",
       "4  (python, ```python\\ndef iob2bio(tags):\\n    pr...     python   \n",
       "\n",
       "                                        focal_method  \\\n",
       "0  def get(self, key, default=None): kl = key.low...   \n",
       "1  def get(self, url_pattern): return self.route(...   \n",
       "2  def post(self, url_pattern): return self.route...   \n",
       "3  def mount(self, subapp, url_prefix=''): for me...   \n",
       "4  def iob2bio(tags): processed_tags = [] prev_st...   \n",
       "\n",
       "                                           focal_cls  \\\n",
       "0                                       <FUNC_TOKEN>   \n",
       "1  class Microdot: def route(self, url_pattern, m...   \n",
       "2  class Microdot: def route(self, url_pattern, m...   \n",
       "3                                       <FUNC_TOKEN>   \n",
       "4  def split_tag(tag: str): if tag in [\"O\", \"-X-\"...   \n",
       "\n",
       "                                    focal_method_ast  \\\n",
       "0  Module( body=[ FunctionDef( name='get', args=a...   \n",
       "1  Module( body=[ FunctionDef( name='get', args=a...   \n",
       "2  Module( body=[ FunctionDef( name='post', args=...   \n",
       "3  Module( body=[ FunctionDef( name='mount', args...   \n",
       "4  Module( body=[ FunctionDef( name='iob2bio', ar...   \n",
       "\n",
       "                                       focal_cls_ast  \\\n",
       "0                                        <AST_TOKEN>   \n",
       "1  Module( body=[ ClassDef( name='Microdot', base...   \n",
       "2  Module( body=[ ClassDef( name='Microdot', base...   \n",
       "3                                        <AST_TOKEN>   \n",
       "4  Module( body=[ FunctionDef( name='split_tag', ...   \n",
       "\n",
       "                                   focal_method_info  \\\n",
       "0                                       <INFO_TOKEN>   \n",
       "1  <DESCRIPTION_TOKEN> Decorator that is used to ...   \n",
       "2  <DESCRIPTION_TOKEN> Decorator that is used to ...   \n",
       "3  <DESCRIPTION_TOKEN> Mount a sub-application, o...   \n",
       "4  <DESCRIPTION_TOKEN> should be bio format case1...   \n",
       "\n",
       "                                      focal_cls_info  \n",
       "0                                       <INFO_TOKEN>  \n",
       "1  Module( body=[ ClassDef( name='Microdot', base...  \n",
       "2  Module( body=[ ClassDef( name='Microdot', base...  \n",
       "3                                       <INFO_TOKEN>  \n",
       "4  Module( body=[ FunctionDef( name='split_tag', ...  "
      ]
     },
     "execution_count": 137,
     "metadata": {},
     "output_type": "execute_result"
    }
   ],
   "source": [
    "code_dataset.head()"
   ]
  },
  {
   "cell_type": "code",
   "execution_count": 138,
   "metadata": {},
   "outputs": [
    {
     "name": "stdout",
     "output_type": "stream",
     "text": [
      "<class 'pandas.core.frame.DataFrame'>\n",
      "Index: 280458 entries, 0 to 281059\n",
      "Data columns (total 11 columns):\n",
      " #   Column             Non-Null Count   Dtype \n",
      "---  ------             --------------   ----- \n",
      " 0   id                 280458 non-null  int64 \n",
      " 1   query              280458 non-null  object\n",
      " 2   response           280458 non-null  object\n",
      " 3   code_features      280458 non-null  object\n",
      " 4   LANG_TOKEN         280458 non-null  object\n",
      " 5   focal_method       280458 non-null  object\n",
      " 6   focal_cls          280458 non-null  object\n",
      " 7   focal_method_ast   280458 non-null  object\n",
      " 8   focal_cls_ast      280458 non-null  object\n",
      " 9   focal_method_info  280458 non-null  object\n",
      " 10  focal_cls_info     280458 non-null  object\n",
      "dtypes: int64(1), object(10)\n",
      "memory usage: 25.7+ MB\n"
     ]
    }
   ],
   "source": [
    "code_dataset.info()"
   ]
  },
  {
   "cell_type": "code",
   "execution_count": null,
   "metadata": {},
   "outputs": [],
   "source": [
    "code_dataset.to_parquet('code_dataset.parquet', engine='pyarrow')"
   ]
  },
  {
   "cell_type": "code",
   "execution_count": 161,
   "metadata": {},
   "outputs": [],
   "source": [
    "code_dataset = code_dataset.drop(columns = ['id', 'query', 'code_features', 'LANG_TOKEN'])"
   ]
  },
  {
   "cell_type": "code",
   "execution_count": 162,
   "metadata": {},
   "outputs": [
    {
     "name": "stderr",
     "output_type": "stream",
     "text": [
      "100%|██████████| 280458/280458 [00:00<00:00, 395232.36it/s]\n",
      "100%|██████████| 280458/280458 [00:00<00:00, 338775.11it/s]\n",
      "100%|██████████| 280458/280458 [00:00<00:00, 313823.71it/s]\n",
      "100%|██████████| 280458/280458 [00:00<00:00, 330127.30it/s]\n",
      "100%|██████████| 280458/280458 [00:00<00:00, 311613.45it/s]\n",
      "100%|██████████| 280458/280458 [00:00<00:00, 300626.01it/s]\n",
      "100%|██████████| 280458/280458 [00:01<00:00, 255085.63it/s]\n",
      "100%|██████████| 280458/280458 [00:02<00:00, 99016.64it/s] \n"
     ]
    }
   ],
   "source": [
    "def create_input_string(row, columns_array):\n",
    "    '''Функция превратит строки кололнок в одну общую строку-input'''\n",
    "    strings_array = [row[column] for column in columns_array]\n",
    "    return \" \".join(strings_array)\n",
    "\n",
    "def insert_token(row, column, token):\n",
    "    '''Функция вставляет токен в начало частей input-строки'''\n",
    "    if (row[column] == token):\n",
    "        return row[column]\n",
    "    return (token + \" \" + row[column])\n",
    "\n",
    "code_dataset['focal_method'] = code_dataset.progress_apply(insert_token, axis = 1, args = ('focal_method', '<FUNC_TOKEN>'))\n",
    "code_dataset['focal_method_info'] = code_dataset.progress_apply(insert_token, axis = 1, args = ('focal_method_info', '<INFO_TOKEN>'))\n",
    "code_dataset['focal_method_ast'] = code_dataset.progress_apply(insert_token, axis = 1, args = ('focal_method_ast', '<AST_TOKEN>'))\n",
    "\n",
    "code_dataset['focal_cls'] = code_dataset.progress_apply(insert_token, axis = 1, args = ('focal_cls', '<CLS_TOKEN>'))\n",
    "code_dataset['focal_cls_info'] = code_dataset.progress_apply(insert_token, axis = 1, args = ('focal_cls_info', '<INFO_TOKEN>'))\n",
    "code_dataset['focal_cls_ast'] = code_dataset.progress_apply(insert_token, axis = 1, args = ('focal_cls_ast', '<AST_TOKEN>'))\n",
    "\n",
    "code_dataset['input_string_focal_method'] = code_dataset.progress_apply(create_input_string, \n",
    "                                                                        axis=1, \n",
    "                                                                        args=(['focal_method', 'focal_method_info', 'focal_method_ast'], ))\n",
    "\n",
    "code_dataset['input_string_focal_cls'] = code_dataset.progress_apply(create_input_string, \n",
    "                                                                        axis=1, \n",
    "                                                                        args=(['focal_cls', 'focal_cls_info', 'focal_cls_ast'], ))\n",
    "    "
   ]
  },
  {
   "cell_type": "code",
   "execution_count": 163,
   "metadata": {},
   "outputs": [
    {
     "data": {
      "text/plain": [
       "(280458, 9)"
      ]
     },
     "execution_count": 163,
     "metadata": {},
     "output_type": "execute_result"
    }
   ],
   "source": [
    "code_dataset.shape"
   ]
  },
  {
   "cell_type": "code",
   "execution_count": 164,
   "metadata": {},
   "outputs": [
    {
     "data": {
      "text/html": [
       "<div>\n",
       "<style scoped>\n",
       "    .dataframe tbody tr th:only-of-type {\n",
       "        vertical-align: middle;\n",
       "    }\n",
       "\n",
       "    .dataframe tbody tr th {\n",
       "        vertical-align: top;\n",
       "    }\n",
       "\n",
       "    .dataframe thead th {\n",
       "        text-align: right;\n",
       "    }\n",
       "</style>\n",
       "<table border=\"1\" class=\"dataframe\">\n",
       "  <thead>\n",
       "    <tr style=\"text-align: right;\">\n",
       "      <th></th>\n",
       "      <th>response</th>\n",
       "      <th>focal_method</th>\n",
       "      <th>focal_cls</th>\n",
       "      <th>focal_method_ast</th>\n",
       "      <th>focal_cls_ast</th>\n",
       "      <th>focal_method_info</th>\n",
       "      <th>focal_cls_info</th>\n",
       "      <th>input_string_focal_method</th>\n",
       "      <th>input_string_focal_cls</th>\n",
       "    </tr>\n",
       "  </thead>\n",
       "  <tbody>\n",
       "    <tr>\n",
       "      <th>0</th>\n",
       "      <td>from microdot import Microdot, Response, abort...</td>\n",
       "      <td>&lt;FUNC_TOKEN&gt; def get(self, key, default=None):...</td>\n",
       "      <td>&lt;CLS_TOKEN&gt; &lt;FUNC_TOKEN&gt;</td>\n",
       "      <td>&lt;AST_TOKEN&gt; Module( body=[ FunctionDef( name='...</td>\n",
       "      <td>&lt;AST_TOKEN&gt;</td>\n",
       "      <td>&lt;INFO_TOKEN&gt;</td>\n",
       "      <td>&lt;INFO_TOKEN&gt;</td>\n",
       "      <td>&lt;FUNC_TOKEN&gt; def get(self, key, default=None):...</td>\n",
       "      <td>&lt;CLS_TOKEN&gt; &lt;FUNC_TOKEN&gt; &lt;INFO_TOKEN&gt; &lt;AST_TOKEN&gt;</td>\n",
       "    </tr>\n",
       "    <tr>\n",
       "      <th>1</th>\n",
       "      <td>from microdot import Microdot, Response, abort...</td>\n",
       "      <td>&lt;FUNC_TOKEN&gt; def get(self, url_pattern): retur...</td>\n",
       "      <td>&lt;CLS_TOKEN&gt; class Microdot: def route(self, ur...</td>\n",
       "      <td>&lt;AST_TOKEN&gt; Module( body=[ FunctionDef( name='...</td>\n",
       "      <td>&lt;AST_TOKEN&gt; Module( body=[ ClassDef( name='Mic...</td>\n",
       "      <td>&lt;INFO_TOKEN&gt; &lt;DESCRIPTION_TOKEN&gt; Decorator tha...</td>\n",
       "      <td>&lt;INFO_TOKEN&gt; Module( body=[ ClassDef( name='Mi...</td>\n",
       "      <td>&lt;FUNC_TOKEN&gt; def get(self, url_pattern): retur...</td>\n",
       "      <td>&lt;CLS_TOKEN&gt; class Microdot: def route(self, ur...</td>\n",
       "    </tr>\n",
       "    <tr>\n",
       "      <th>2</th>\n",
       "      <td>from microdot import Microdot, Response, abort...</td>\n",
       "      <td>&lt;FUNC_TOKEN&gt; def post(self, url_pattern): retu...</td>\n",
       "      <td>&lt;CLS_TOKEN&gt; class Microdot: def route(self, ur...</td>\n",
       "      <td>&lt;AST_TOKEN&gt; Module( body=[ FunctionDef( name='...</td>\n",
       "      <td>&lt;AST_TOKEN&gt; Module( body=[ ClassDef( name='Mic...</td>\n",
       "      <td>&lt;INFO_TOKEN&gt; &lt;DESCRIPTION_TOKEN&gt; Decorator tha...</td>\n",
       "      <td>&lt;INFO_TOKEN&gt; Module( body=[ ClassDef( name='Mi...</td>\n",
       "      <td>&lt;FUNC_TOKEN&gt; def post(self, url_pattern): retu...</td>\n",
       "      <td>&lt;CLS_TOKEN&gt; class Microdot: def route(self, ur...</td>\n",
       "    </tr>\n",
       "    <tr>\n",
       "      <th>3</th>\n",
       "      <td>from microdot import Microdot, Response, abort...</td>\n",
       "      <td>&lt;FUNC_TOKEN&gt; def mount(self, subapp, url_prefi...</td>\n",
       "      <td>&lt;CLS_TOKEN&gt; &lt;FUNC_TOKEN&gt;</td>\n",
       "      <td>&lt;AST_TOKEN&gt; Module( body=[ FunctionDef( name='...</td>\n",
       "      <td>&lt;AST_TOKEN&gt;</td>\n",
       "      <td>&lt;INFO_TOKEN&gt; &lt;DESCRIPTION_TOKEN&gt; Mount a sub-a...</td>\n",
       "      <td>&lt;INFO_TOKEN&gt;</td>\n",
       "      <td>&lt;FUNC_TOKEN&gt; def mount(self, subapp, url_prefi...</td>\n",
       "      <td>&lt;CLS_TOKEN&gt; &lt;FUNC_TOKEN&gt; &lt;INFO_TOKEN&gt; &lt;AST_TOKEN&gt;</td>\n",
       "    </tr>\n",
       "    <tr>\n",
       "      <th>4</th>\n",
       "      <td>from pyner.named_entity.corpus import bio2bioe...</td>\n",
       "      <td>&lt;FUNC_TOKEN&gt; def iob2bio(tags): processed_tags...</td>\n",
       "      <td>&lt;CLS_TOKEN&gt; def split_tag(tag: str): if tag in...</td>\n",
       "      <td>&lt;AST_TOKEN&gt; Module( body=[ FunctionDef( name='...</td>\n",
       "      <td>&lt;AST_TOKEN&gt; Module( body=[ FunctionDef( name='...</td>\n",
       "      <td>&lt;INFO_TOKEN&gt; &lt;DESCRIPTION_TOKEN&gt; should be bio...</td>\n",
       "      <td>&lt;INFO_TOKEN&gt; Module( body=[ FunctionDef( name=...</td>\n",
       "      <td>&lt;FUNC_TOKEN&gt; def iob2bio(tags): processed_tags...</td>\n",
       "      <td>&lt;CLS_TOKEN&gt; def split_tag(tag: str): if tag in...</td>\n",
       "    </tr>\n",
       "  </tbody>\n",
       "</table>\n",
       "</div>"
      ],
      "text/plain": [
       "                                            response  \\\n",
       "0  from microdot import Microdot, Response, abort...   \n",
       "1  from microdot import Microdot, Response, abort...   \n",
       "2  from microdot import Microdot, Response, abort...   \n",
       "3  from microdot import Microdot, Response, abort...   \n",
       "4  from pyner.named_entity.corpus import bio2bioe...   \n",
       "\n",
       "                                        focal_method  \\\n",
       "0  <FUNC_TOKEN> def get(self, key, default=None):...   \n",
       "1  <FUNC_TOKEN> def get(self, url_pattern): retur...   \n",
       "2  <FUNC_TOKEN> def post(self, url_pattern): retu...   \n",
       "3  <FUNC_TOKEN> def mount(self, subapp, url_prefi...   \n",
       "4  <FUNC_TOKEN> def iob2bio(tags): processed_tags...   \n",
       "\n",
       "                                           focal_cls  \\\n",
       "0                           <CLS_TOKEN> <FUNC_TOKEN>   \n",
       "1  <CLS_TOKEN> class Microdot: def route(self, ur...   \n",
       "2  <CLS_TOKEN> class Microdot: def route(self, ur...   \n",
       "3                           <CLS_TOKEN> <FUNC_TOKEN>   \n",
       "4  <CLS_TOKEN> def split_tag(tag: str): if tag in...   \n",
       "\n",
       "                                    focal_method_ast  \\\n",
       "0  <AST_TOKEN> Module( body=[ FunctionDef( name='...   \n",
       "1  <AST_TOKEN> Module( body=[ FunctionDef( name='...   \n",
       "2  <AST_TOKEN> Module( body=[ FunctionDef( name='...   \n",
       "3  <AST_TOKEN> Module( body=[ FunctionDef( name='...   \n",
       "4  <AST_TOKEN> Module( body=[ FunctionDef( name='...   \n",
       "\n",
       "                                       focal_cls_ast  \\\n",
       "0                                        <AST_TOKEN>   \n",
       "1  <AST_TOKEN> Module( body=[ ClassDef( name='Mic...   \n",
       "2  <AST_TOKEN> Module( body=[ ClassDef( name='Mic...   \n",
       "3                                        <AST_TOKEN>   \n",
       "4  <AST_TOKEN> Module( body=[ FunctionDef( name='...   \n",
       "\n",
       "                                   focal_method_info  \\\n",
       "0                                       <INFO_TOKEN>   \n",
       "1  <INFO_TOKEN> <DESCRIPTION_TOKEN> Decorator tha...   \n",
       "2  <INFO_TOKEN> <DESCRIPTION_TOKEN> Decorator tha...   \n",
       "3  <INFO_TOKEN> <DESCRIPTION_TOKEN> Mount a sub-a...   \n",
       "4  <INFO_TOKEN> <DESCRIPTION_TOKEN> should be bio...   \n",
       "\n",
       "                                      focal_cls_info  \\\n",
       "0                                       <INFO_TOKEN>   \n",
       "1  <INFO_TOKEN> Module( body=[ ClassDef( name='Mi...   \n",
       "2  <INFO_TOKEN> Module( body=[ ClassDef( name='Mi...   \n",
       "3                                       <INFO_TOKEN>   \n",
       "4  <INFO_TOKEN> Module( body=[ FunctionDef( name=...   \n",
       "\n",
       "                           input_string_focal_method  \\\n",
       "0  <FUNC_TOKEN> def get(self, key, default=None):...   \n",
       "1  <FUNC_TOKEN> def get(self, url_pattern): retur...   \n",
       "2  <FUNC_TOKEN> def post(self, url_pattern): retu...   \n",
       "3  <FUNC_TOKEN> def mount(self, subapp, url_prefi...   \n",
       "4  <FUNC_TOKEN> def iob2bio(tags): processed_tags...   \n",
       "\n",
       "                              input_string_focal_cls  \n",
       "0  <CLS_TOKEN> <FUNC_TOKEN> <INFO_TOKEN> <AST_TOKEN>  \n",
       "1  <CLS_TOKEN> class Microdot: def route(self, ur...  \n",
       "2  <CLS_TOKEN> class Microdot: def route(self, ur...  \n",
       "3  <CLS_TOKEN> <FUNC_TOKEN> <INFO_TOKEN> <AST_TOKEN>  \n",
       "4  <CLS_TOKEN> def split_tag(tag: str): if tag in...  "
      ]
     },
     "execution_count": 164,
     "metadata": {},
     "output_type": "execute_result"
    }
   ],
   "source": [
    "code_dataset.head()"
   ]
  },
  {
   "cell_type": "code",
   "execution_count": 165,
   "metadata": {},
   "outputs": [
    {
     "name": "stdout",
     "output_type": "stream",
     "text": [
      "<FUNC_TOKEN> def get(self, key, default=None): kl = key.lower() return super().get(self.keymap.get(kl, kl), default) <INFO_TOKEN> <AST_TOKEN> Module( body=[ FunctionDef( name='get', args=arguments( posonlyargs=[], args=[ arg(arg='self'), arg(arg='key'), arg(arg='default')], kwonlyargs=[], kw_defaults=[], defaults=[ Constant(value=None)]), body=[ Assign( targets=[ Name(id='kl', ctx=Store())], value=Call( func=Attribute( value=Name(id='key', ctx=Load()), attr='lower', ctx=Load()), args=[], keywords=[])), Return( value=Call( func=Attribute( value=Call( func=Name(id='super', ctx=Load()), args=[], keywords=[]), attr='get', ctx=Load()), args=[ Call( func=Attribute( value=Attribute( value=Name(id='self', ctx=Load()), attr='keymap', ctx=Load()), attr='get', ctx=Load()), args=[ Name(id='kl', ctx=Load()), Name(id='kl', ctx=Load())], keywords=[]), Name(id='default', ctx=Load())], keywords=[]))], decorator_list=[], type_params=[])], type_ignores=[])\n"
     ]
    }
   ],
   "source": [
    "print(code_dataset['input_string_focal_method'].values[0])"
   ]
  },
  {
   "cell_type": "code",
   "execution_count": null,
   "metadata": {},
   "outputs": [],
   "source": []
  }
 ],
 "metadata": {
  "kernelspec": {
   "display_name": "Python 3",
   "language": "python",
   "name": "python3"
  },
  "language_info": {
   "codemirror_mode": {
    "name": "ipython",
    "version": 3
   },
   "file_extension": ".py",
   "mimetype": "text/x-python",
   "name": "python",
   "nbconvert_exporter": "python",
   "pygments_lexer": "ipython3",
   "version": "3.12.3"
  }
 },
 "nbformat": 4,
 "nbformat_minor": 2
}
