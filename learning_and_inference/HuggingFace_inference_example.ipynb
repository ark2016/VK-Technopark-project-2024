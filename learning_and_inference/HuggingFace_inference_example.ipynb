{
  "nbformat": 4,
  "nbformat_minor": 0,
  "metadata": {
    "colab": {
      "provenance": []
    },
    "kernelspec": {
      "name": "python3",
      "display_name": "Python 3"
    },
    "language_info": {
      "name": "python"
    }
  },
  "cells": [
    {
      "cell_type": "code",
      "source": [
        "import sys\n",
        "import os\n",
        "import warnings\n",
        "\n",
        "sys.path.append(os.path.abspath('/content/local_dir'))\n",
        "warnings.filterwarnings(\"ignore\")\n",
        "\n",
        "# Или скачайте файл inference_gptbigcode.py"
      ],
      "metadata": {
        "id": "rDQ6rp2oq1uy"
      },
      "execution_count": 3,
      "outputs": []
    },
    {
      "cell_type": "markdown",
      "source": [
        "Импортируем класс модели:"
      ],
      "metadata": {
        "id": "YRDheTASrYti"
      }
    },
    {
      "cell_type": "code",
      "source": [
        "from inference_gptbigcode import LargeCodeModelGPTBigCode"
      ],
      "metadata": {
        "id": "NHsqM8qFq2M0"
      },
      "execution_count": 4,
      "outputs": []
    },
    {
      "cell_type": "markdown",
      "source": [
        "Инстаницируем модель:"
      ],
      "metadata": {
        "id": "FYQA0If-r4zP"
      }
    },
    {
      "cell_type": "code",
      "source": [
        "gpt2bigcode = \"4ervonec19/SimpleTestGenerator\"\n",
        "\n",
        "CodeModel = LargeCodeModelGPTBigCode(gpt2_name=gpt2bigcode,\n",
        "                                    flag_pretrained=True,\n",
        "                                    flag_hugging_face=True)"
      ],
      "metadata": {
        "id": "xSs4vyocr2bC"
      },
      "execution_count": 5,
      "outputs": []
    },
    {
      "cell_type": "markdown",
      "source": [
        "Пример инференса:"
      ],
      "metadata": {
        "id": "sgzgL5xHuQl6"
      }
    },
    {
      "cell_type": "code",
      "source": [
        "code_example = '''def equals_zero(a):\n",
        "    if a == 0:\n",
        "      return True\n",
        "    return False'''\n",
        "\n",
        "print(code_example)"
      ],
      "metadata": {
        "id": "PIU1Y31xsFjE",
        "outputId": "d38e92a6-27bc-42e9-ab98-4bd4ce6ac426",
        "colab": {
          "base_uri": "https://localhost:8080/"
        }
      },
      "execution_count": 6,
      "outputs": [
        {
          "output_type": "stream",
          "name": "stdout",
          "text": [
            "def equals_zero(a):\n",
            "    if a == 0:\n",
            "      return True\n",
            "    return False\n"
          ]
        }
      ]
    },
    {
      "cell_type": "code",
      "source": [
        "tests_generated = CodeModel.input_inference(code_text=code_example)"
      ],
      "metadata": {
        "id": "GArl_RIsufak"
      },
      "execution_count": 7,
      "outputs": []
    },
    {
      "cell_type": "code",
      "source": [
        "print(tests_generated['generated_output'])"
      ],
      "metadata": {
        "id": "6e9VPwwzuhWr",
        "outputId": "cfe45bf0-4c04-4f9b-d613-37eb17350090",
        "colab": {
          "base_uri": "https://localhost:8080/"
        }
      },
      "execution_count": 8,
      "outputs": [
        {
          "output_type": "stream",
          "name": "stdout",
          "text": [
            "def test_equals_zero():\n",
            "    assert equals_zero(0) is True\n",
            "    assert equals_zero(1) is False\n",
            "    assert equals_zero(0) is True\n",
            "    assert equals_zero(1.5) is False\n"
          ]
        }
      ]
    },
    {
      "cell_type": "code",
      "source": [],
      "metadata": {
        "id": "EvyFJlGovje7"
      },
      "execution_count": null,
      "outputs": []
    }
  ]
}